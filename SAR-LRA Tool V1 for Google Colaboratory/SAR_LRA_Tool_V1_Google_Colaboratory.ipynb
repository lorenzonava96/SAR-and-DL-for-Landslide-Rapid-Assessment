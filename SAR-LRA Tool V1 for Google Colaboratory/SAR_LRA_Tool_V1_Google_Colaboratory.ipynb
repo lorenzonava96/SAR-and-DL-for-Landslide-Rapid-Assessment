{
  "cells": [
    {
      "cell_type": "markdown",
      "metadata": {
        "id": "jvSMPPl9qaV4"
      },
      "source": [
        "# SAR-LRA Tool for Google Colaboratory\n",
        "\n",
        "This notebook facilitates the acquisition of Sentinel-1 SAR composite imagery for the VV_VH combination, encompassing both ascending and descending orbits, which can then be utilized to deploy the models.\n",
        "\n",
        "Without modifications the notebook will predict in Taiwan.\n",
        "\n",
        "### IMPORTANT:\n",
        "Select a runtime with large RAM (such as TPU), otherwise the processing will brake.\n",
        "\n",
        "It'll ask you to restart. You do not need to."
      ]
    },
    {
      "cell_type": "code",
      "execution_count": null,
      "metadata": {
        "colab": {
          "base_uri": "https://localhost:8080/",
          "height": 1000
        },
        "collapsed": true,
        "id": "OR8ZUG0CEnJ6",
        "outputId": "9236fe4d-2174-4736-b5b8-aea1e3ccd50d"
      },
      "outputs": [],
      "source": [
        "# install some libraries\n",
        "\n",
        "!pip install geedim\n",
        "!pip install leafmap==0.22.0\n",
        "!pip install geemap==0.24.1\n",
        "!pip install -U geemap\n",
        "!pip install earthengine-api\n",
        "!pip install rasterio\n",
        "!pip install opencv-python-headless\n",
        "!pip install requests\n",
        "!pip install tensorflow==2.12"
      ]
    },
    {
      "cell_type": "code",
      "execution_count": null,
      "metadata": {
        "colab": {
          "base_uri": "https://localhost:8080/",
          "height": 102
        },
        "id": "6DSQampXqaV-",
        "outputId": "c347d7af-26af-4942-924c-e2808c4a26ed"
      },
      "outputs": [],
      "source": [
        "from datetime import timedelta\n",
        "import datetime\n",
        "import leafmap          # Version 0.22.0\n",
        "import geemap           # Version 0.35.1\n",
        "import ee               # Version 1.5.3\n",
        "from glob import glob\n",
        "import numpy as np      # Version 1.26.4\n",
        "import pandas as pd     # Version 2.2.2\n",
        "import os\n",
        "\n",
        "# Print versions\n",
        "print(\"leafmap:\", leafmap.__version__)\n",
        "print(\"geemap:\", geemap.__version__)\n",
        "print(\"Earth Engine API:\", ee.__version__)\n",
        "print(\"numpy:\", np.__version__)\n",
        "print(\"pandas:\", pd.__version__)"
      ]
    },
    {
      "cell_type": "markdown",
      "metadata": {
        "id": "291_nVI3qaWB"
      },
      "source": [
        "## 2. Autenticate and initialize the Google Earth Engine"
      ]
    },
    {
      "cell_type": "code",
      "execution_count": null,
      "metadata": {
        "colab": {
          "base_uri": "https://localhost:8080/",
          "height": 17
        },
        "id": "ATYsQc4sqaWB",
        "outputId": "1fd653cd-01f4-4a71-f980-ec5fba8b4142"
      },
      "outputs": [],
      "source": [
        "ee.Authenticate()\n",
        "ee.Initialize(project='ee-lorenava-learning-sar') # replace with the name of your GEE project"
      ]
    },
    {
      "cell_type": "markdown",
      "metadata": {
        "id": "OwMPVr2EqaWC"
      },
      "source": [
        "## 3. Initialize and Define Area of Interest (AoI)\n",
        "\n",
        "This section initializes a `Map` instance using the `geemap` library and centers it on a global view with a satellite basemap. The map will help define the Area of Interest (AOI).\n",
        "\n",
        "### Instructions:\n",
        "1. Use the map tools on the left to draw a single rectangular box defining your AOI.\n",
        "2. Use the globe icon on the top left to search for specific locations if needed.\n",
        "\n"
      ]
    },
    {
      "cell_type": "code",
      "execution_count": null,
      "metadata": {
        "colab": {
          "base_uri": "https://localhost:8080/",
          "height": 621,
          "referenced_widgets": [
            "140a75809816469e9a0db40bfd343287",
            "8a5c0718d15441c0b5ecf99819a6245e",
            "1a80d7ea9b6f42e8a433c15e4bc283ef",
            "5dc5d40e31d8427dbdcd4b9cf85a88e0",
            "59b7fe2063e643e38f20ed39fa837cb3",
            "b43f583750b44660b1675490aa810918",
            "cc6b2c3d09fe483f875f2497e6bcb8ed",
            "eb0e5ad1a2f245aeb42eadf2bf21c1bf",
            "2c97ad965f6e421b9d6d3cc89b0e0a40",
            "dc96e77493564b64aa322b8954897f0d",
            "f2673c0949924f5b8423bfaa14f2141a",
            "beb69a4cd873402c9704a261d5b5961e",
            "0842595350904c88a15c76f8df670e1d",
            "90855dd6e4774e26b53de5f840d608ab",
            "0c99704772ca49da9bdd2484ad8fe427",
            "539f3c109da047c7938e164337558d18",
            "2fb0fb42451041ddaf40e033798272c8",
            "6402ea69edcd4a96b8e7374bf6896158",
            "ac3c703ada76462cb4a686ce65cea6fa",
            "aced500b166945539ee761fd4e10b96b",
            "9016afcf904d461ebc1b92197cd74619",
            "c70fd3f8861e45a1b2b7c4d1fe4b98fe",
            "90a5e54143e74906ac0de27b961e4221",
            "cdc63bd78d444f0bba05a9a3b662713a",
            "98703787b0974e46891b53c9d405bdb1",
            "9aece966b6514ab9bc1ec9433bdd2841",
            "169a72887d594d2d9029b3dd967a0615",
            "26f9685de5ba4e0883bebf693fda3bf8",
            "7784586aec4445da8a9b02098816845c",
            "2b9eb81e51874efbb7eac4cdf7b4120f",
            "c326e134b99740e9a356f1be7611b8d4",
            "6ef08bcd5f674f1294e2dadb3e137c5a",
            "259e5b7346704de88a1955522cc8153a",
            "178bad88a150449199fe5f60affbfae9",
            "b5bfa27fafc741a993ae4ed7e1ae5523",
            "2297d78384884e52ae3515f9e3121c16",
            "21509bb00b304c16adb0895861b8f1f5",
            "a8e3598d65d24ef9afc26bbd6256789d",
            "14581e28117840ec9ddb5d4ddd9beae4",
            "97b83ea1e7db45f981ab01c8697b00f7",
            "d4514804f7894487b0dba1775afe1652",
            "ed4bccd2705042fbb034d1ba45cb907a",
            "23e6ae2201c6474e98495b7525aa9838",
            "fa757535b9594a3db55268e8e2ceb381",
            "d7803f51c12c456489be28f0feb23604",
            "dc77188a11a64bdf915cd7d583fb9876",
            "57669d1dc36f4134958df0c99289f5a3",
            "4a4dd5a0ba2e4b0f9d40199ce8fe2516",
            "8525397c4a2a4f859b73dcef73268829",
            "e3072a0c7af84809b4b70ee1f1b182f7",
            "13b3449ae45245eda48a825d317ea5ea",
            "a68d9d6e0a624178ba523e846af4f806",
            "6bd6ca046d3b444b8416522a8a4e6fd6",
            "ed1ab0d9431240209cd3b97186aca408",
            "60a7a2039d6147b4be4791b4b8e7604a",
            "37f6b111723742d087e3576ac4d9be8f",
            "be86aa74a5b04886a72542dfe9d2ab37",
            "281bd87818cf41ec915ebacb413be395",
            "3987d0d77873483bbf6907de7192c2c3",
            "b513edf72f11438e8679a225e07b3081",
            "7a87d59c438446799edc37be1156fff7",
            "57de64390c37444bb780d4db56b762c1",
            "79bda74521a54815a42650abe4b6b1b7",
            "aaaf2ecab5204a15b2cfac8e6b84a9e1",
            "725a1515130e4615be162afe3b564ec4",
            "78298d547dc2450f92e3540115831c22",
            "430690f89e184f259becac4868a96ba2",
            "f2521f912c21410f963bcc69505a9339",
            "4f3181fdd20a4554a0fdcb1ad4a7b4ac",
            "ec5bc51a77fa49d689ba2dd8c0f2361e",
            "e701e36e8ff143bca4f7c551ba311afb",
            "12af4407c96d4ad1b10f10aacaf8f6a2",
            "6c0650dba22848baa98b83f4e9d0f478",
            "23590c5944d5434d93b2f58c7bf82287",
            "097630560af84f65bfcfe45a152adda6",
            "f495277852f8442992a00f108a999f9c",
            "f0384f4aca904a50bda1a066b935b918",
            "31a7cf9ca24647bcb233a105cac2d4bb",
            "c9c018ca05d94afb8b3a471908d5f328",
            "e9306e025eea422ab425c87d7c771b77",
            "7aa9714bd68e4daf95b092527c657472",
            "a8bc210ca7fe44db98afaa32b4d81cf6",
            "fd74dad69a414161827170dab97e3c6c",
            "d315e929a9bb4812a4dce4a9d6a7f911",
            "8869f940029f464987100e19c2ccf33c",
            "d8b95c77fc7945439333658b69c8c8ef",
            "a72469a2c94f45779f54a15c1a5edb54",
            "4da9e66833014f95a3d6874a2eaaa113",
            "f203bbd3c2914308a8b49c31792b7872",
            "858b9083bff145bcbaa9c96ccbe0aeed",
            "994c547c7caf470793f9df3006a44e3f",
            "a8ee95a145f04abb8f18c2e9b7745651",
            "2a71cc5ef29c4a918f49194cafdb639e",
            "e27c9b86b47349caaa28f823c8703a3b",
            "fd6312a8ad1b4ca39a795003c873a991",
            "7d08b86a503f4708af683847201dd3c2",
            "7540e2847c834af4810ba1253fc02062",
            "65988850340743818d411ce245fd593d",
            "38873140fcf24f6facc7bd0856526b1a",
            "ce60d533095a488991a8b783a4a11115",
            "cbc177a48ebe4e4bba6b64078edc33aa",
            "c29bedbb10474a18b55c0333f57938e9",
            "728de895121b4cbabf76dfe10989d66f",
            "f88aa2c4164743d3b7927ec0d90e4c50",
            "6b28d556b39d44e787e177c9e895e9bc",
            "981ca19e48da4b30b40ab8c84d3d005e",
            "3cff8e392c6441ae8d8d50ac7040f8eb",
            "a087ecdb144c48db989dacd177612159",
            "a18e8fe9b42546e6bfe3ff4c9157e206",
            "45b57969ba324eebb8c5730134c9ef86",
            "ddbe5c2a429946e1aa9c3f4dd14808a3",
            "e4a5d48232ec4bf4acf8433a9a63e425",
            "2c71517ca6ce4f6bbce93f385ac9067d",
            "6ec6c3675aaf4df08f8dc206dabd75fb",
            "95f36b006f864c499a4669778629c1b8",
            "afccbbd534d94ba6b32b0d39a3e07dcf",
            "ca15f715a6014180be975f3c99dc91ad",
            "579b7b7cbf2a49c499d1d01a96e92fcd",
            "e7c02cfca66f4594b0379b763663f77c",
            "09b263f2686c469f9f144bfb8cf2c6d8",
            "9fb51851412445d99212ecf04ce8c9ad"
          ]
        },
        "id": "3tH76DVOs6LE",
        "outputId": "529385c4-8098-499b-9d40-c26d1a2fc7ce"
      },
      "outputs": [],
      "source": [
        "# Create a Map instance\n",
        "Map = geemap.Map()\n",
        "\n",
        "# Add a satellite basemap for visualization (similar to Google Earth)\n",
        "Map.add_basemap('HYBRID')\n",
        "\n",
        "# Center the map globally\n",
        "Map.setCenter(0, 0, 2)  # Center on the world with zoom level 2\n",
        "\n",
        "# Display the map for user interaction\n",
        "Map"
      ]
    },
    {
      "cell_type": "markdown",
      "metadata": {
        "id": "zabF7fbnqaWD"
      },
      "source": [
        "## 4. Define temporal buffers and temporal stacks\n",
        "Change the dates according to your event.\n",
        "\n",
        "IMPORTANT: The landslides MUST be occurred in between the pre_end and post_start dates."
      ]
    },
    {
      "cell_type": "code",
      "execution_count": null,
      "metadata": {
        "colab": {
          "base_uri": "https://localhost:8080/",
          "height": 17
        },
        "id": "Mhm0LHM4qaWD",
        "outputId": "2592a94f-5469-4db5-bbb4-3a7bed8e6c27"
      },
      "outputs": [],
      "source": [
        "pre_stack_end = '2024-04-02'\n",
        "post_stack_start = '2024-04-02'\n",
        "\n",
        "# Convert the drawn geometry to an Earth Engine Geometry object\n",
        "geometry = ee.FeatureCollection(Map.draw_features) # for this tutorial we will use the box_coordinates defined in the following box."
      ]
    },
    {
      "cell_type": "markdown",
      "metadata": {
        "id": "RFaEoJ6SqaWE"
      },
      "source": [
        "## 5. Process and Download Sentinel-1 SAR composite images\n",
        "In certain areas where VH polarization data is unavailable, the notebook may encounter errors as it is designed to download both VV and VH data. The same applies to the ascending and descending orbits."
      ]
    },
    {
      "cell_type": "code",
      "execution_count": null,
      "metadata": {
        "colab": {
          "base_uri": "https://localhost:8080/",
          "height": 1000,
          "referenced_widgets": [
            "4f7d39f3cc554c13aa79bc36570747e8",
            "e31a3f5826854076af2449314ff508f9",
            "00a0d989bcd34563a627c97b679fa774",
            "c0fc19d908ca400386b35b5789ee0d45",
            "ebf61cfde4974b6ba71967b212d4830d",
            "f5474df2ba9745c0bfe0fdbb2659bfe6",
            "6f0746cfc29f43d9a0442679fcb71c52",
            "11d2eb38f870432faf0afcaa514a4860",
            "3b7c55237d7449fa9199c911a90e5e7d",
            "e676f54615d6487993c892ef681e4e35",
            "ace936c30fc6430a9bec6e5940c1e988",
            "da6b92ca4b1346ae9f478d2453b13b92",
            "914776760a834e11aca8fa4c7a3f1ca6",
            "679fc95da4884db0a78497217d6892c1",
            "d03279c5217c41b3a60e45b8c9d53684",
            "57b3ddfca4424175843b7c61519f4858",
            "12fb9e7c6d854f71b83c0bffec344d0d",
            "881fdea6c9a24c718c87af5b6889a7f0",
            "56f851cee018458aa96b607212e3237b",
            "8f7edf4978374190b25ad509e0aef572",
            "a69ff20532d1494f95617c196569c441",
            "ed4206e01d754408804dda6b52591342"
          ]
        },
        "id": "RPDlP_gUqaWF",
        "outputId": "78424c78-7a6c-44fe-effd-0bad46ba5b07",
        "scrolled": true
      },
      "outputs": [],
      "source": [
        "print('SENTINEL 1 SAR IMAGE PROCESSING AND ACQUISITION !')\n",
        "print('_____________________________________________________________________________________')\n",
        "\n",
        "orbits = ['DESCENDING', 'ASCENDING'] # Orbits to download\n",
        "pre_days = 60 # pre event stack dimensions\n",
        "post_days = 12 # pre event stack dimensions\n",
        "\n",
        "# Define date ranges\n",
        "pre_end = datetime.datetime.strptime(pre_stack_end, \"%Y-%m-%d\")\n",
        "pre_start = pre_end - datetime.timedelta(days=pre_days)\n",
        "print('Pre stack start:', pre_start)\n",
        "print('Pre stack end:',pre_end)\n",
        "pre_end = ee.Date(pre_end)\n",
        "pre_start = ee.Date(pre_start)\n",
        "\n",
        "post_start = datetime.datetime.strptime(post_stack_start, \"%Y-%m-%d\")\n",
        "post_end = post_start + datetime.timedelta(days=post_days)\n",
        "print('Post stack start:',post_start)\n",
        "print('Post stack end:',post_end)\n",
        "post_start = ee.Date(post_start)\n",
        "post_end = ee.Date(post_end)\n",
        "\n",
        "for orbit in orbits:\n",
        "    print('Orbit: ', orbit)\n",
        "    project_path = ''\n",
        "    inputs_path = os.path.join(*[project_path, f'deploy/VV_VH/60_{post_days}'])\n",
        "    outputs_path = os.path.join(*[project_path, 'outputs'])\n",
        "    print('project_path: ', project_path); print('training_path: ', inputs_path); print('outputs_path: ', outputs_path)\n",
        "\n",
        "    print('_____________________________________________________________________________________')\n",
        "\n",
        "    # Make Image Collections\n",
        "    pre_data = ee.ImageCollection('COPERNICUS/S1_GRD') \\\n",
        "        .filterBounds(geometry) \\\n",
        "        .filter(ee.Filter.listContains('transmitterReceiverPolarisation', 'VV')) \\\n",
        "        .filter(ee.Filter.eq('instrumentMode', 'IW')) \\\n",
        "        .filter(ee.Filter.eq('orbitProperties_pass', orbit)) \\\n",
        "        .filterDate(pre_start, pre_end)\n",
        "\n",
        "    pre_count = pre_data.size().getInfo()\n",
        "    print('Pre image count:', pre_count)\n",
        "\n",
        "    # Get a list of images in the collection\n",
        "    pre_list = pre_data.toList(pre_count)\n",
        "\n",
        "    # Iterate through each image in the collection\n",
        "    for i in range(pre_count):\n",
        "        image = ee.Image(pre_list.get(i))\n",
        "        image_id = image.id().getInfo()\n",
        "        date = ee.Date(image.get('system:time_start')).format('YYYY-MM-dd').getInfo()\n",
        "        print('Image ID:', image_id, ' Date:', date)\n",
        "\n",
        "    post_data = ee.ImageCollection('COPERNICUS/S1_GRD') \\\n",
        "        .filterBounds(geometry) \\\n",
        "        .filter(ee.Filter.listContains('transmitterReceiverPolarisation', 'VV')) \\\n",
        "        .filter(ee.Filter.eq('instrumentMode', 'IW')) \\\n",
        "        .filter(ee.Filter.eq('orbitProperties_pass', orbit)) \\\n",
        "        .filterDate(post_start, post_end)\n",
        "\n",
        "    post_count = post_data.size().getInfo()\n",
        "    print('Post image count:', post_count)\n",
        "\n",
        "    # Get a list of images in the collection\n",
        "    post_list = post_data.toList(post_count)\n",
        "\n",
        "    # Iterate through each image in the collection\n",
        "    for i in range(post_count):\n",
        "        image = ee.Image(post_list.get(i))\n",
        "        image_id = image.id().getInfo()\n",
        "        date = ee.Date(image.get('system:time_start')).format('YYYY-MM-dd').getInfo()\n",
        "        print('Image ID:', image_id, ' Date:', date)\n",
        "\n",
        "    ### VV ###\n",
        "    pre_corrected_masked_VV = pre_data.select('VV') # Select VV polarization\n",
        "    pre_median_VV = pre_corrected_masked_VV.reduce(ee.Reducer.median())  # Calculate median\n",
        "    pre_median_VV = pre_median_VV.select(0).rename('preVV')  # Rename bands\n",
        "\n",
        "\n",
        "    post_corrected_masked_VV = post_data.select('VV')  # Select VV polarization\n",
        "    post_median_VV = post_corrected_masked_VV.reduce(ee.Reducer.median())  # Calculate median\n",
        "    post_median_VV = post_median_VV.select(0).rename('postVV')  # Rename bands\n",
        "\n",
        "    diff_VV = post_median_VV.subtract(pre_median_VV).rename('diffVV') # Change detection (post event - pre event)\n",
        "\n",
        "     ### VH ###\n",
        "    pre_corrected_masked_VH = pre_data.select('VH')   # Select VV polarization\n",
        "    pre_median_VH = pre_corrected_masked_VH.reduce(ee.Reducer.median())  # Calculate median\n",
        "    pre_median_VH = pre_median_VH.select(0).rename('preVH')  # Rename bands\n",
        "\n",
        "\n",
        "    post_corrected_masked_VH = post_data.select('VH')  # Select VV polarization\n",
        "    post_median_VH = post_corrected_masked_VH.reduce(ee.Reducer.median())  # Calculate median\n",
        "    post_median_VH = post_median_VH.select(0).rename('postVH')  # Rename bands\n",
        "\n",
        "    diff_VH = post_median_VH.subtract(pre_median_VH).rename('diffVH') # Change detection (post event - pre event)\n",
        "\n",
        "    DS = post_median_VV.addBands(post_median_VH).addBands(diff_VV).addBands(diff_VH) # Create composite SAR image\n",
        "    DS = DS.clip(geometry) # Clip composite SAR image to Area of Interest\n",
        "\n",
        "    ### GEE does not allow big downloads - therefore we dowload grid by grid, and re-merge afterwards.\n",
        "\n",
        "    # create fishnet (sample grid)\n",
        "    fishnet = geemap.fishnet(geometry, h_interval=0.5, v_interval=0.5, delta=1)\n",
        "\n",
        "    # download composite tiles\n",
        "    geemap.download_ee_image_tiles(DS, fishnet, inputs_path+'/'+'/VV_VH_'+orbit+'/', prefix=\"VV_VH_\"+orbit+'_'+'_', scale=10, crs=ee.Projection('EPSG:4326'))\n",
        "\n",
        "    # merge tiles and save\n",
        "    leafmap.merge_rasters(inputs_path+'/'+'/VV_VH_'+orbit, output=inputs_path+'/'+'/SAR_'+orbit+'_'+'.tif', input_pattern='*.tif')\n",
        "\n",
        "    # delete useless rasters inside folders\n",
        "    s2s = glob(inputs_path+'/'+'/VV_VH_'+orbit+'/*.tif')\n",
        "\n",
        "    for s2_file in s2s:\n",
        "        os.remove(s2_file)\n",
        "    os.rmdir(inputs_path+'/'+'/VV_VH_'+orbit)\n",
        "\n",
        "print('DONE !!!')"
      ]
    },
    {
      "cell_type": "markdown",
      "metadata": {
        "id": "UGVq4ofrvR-_"
      },
      "source": [
        "# SAR-LRA VV_VH Models Deployment\n",
        "The following part of the notebook deploys the two models on the composite SAR images previously acquired for ascending and descending orbits, VV_VH combination."
      ]
    },
    {
      "cell_type": "code",
      "execution_count": null,
      "metadata": {
        "colab": {
          "base_uri": "https://localhost:8080/",
          "height": 85
        },
        "id": "u6x9n3-_vWip",
        "outputId": "7b9c21a2-1bf5-4b66-cd8b-038fe82b992b"
      },
      "outputs": [],
      "source": [
        "import requests\n",
        "import rasterio\n",
        "import tensorflow as tf\n",
        "from tensorflow.keras.applications import imagenet_utils\n",
        "from PIL import Image\n",
        "from tensorflow.keras.layers import Input, Conv2D, MaxPooling2D, Activation, Dropout, Flatten, Dense, BatchNormalization\n",
        "from tensorflow.keras.models import Model\n",
        "from tensorflow.keras.preprocessing.image import ImageDataGenerator, img_to_array\n",
        "from tensorflow.keras.optimizers import Adam\n",
        "import numpy as np\n",
        "import time\n",
        "import cv2\n",
        "import os\n",
        "\n",
        "print(\"Rasterio version:\", rasterio.__version__) # Version 1.4.3\n",
        "print(\"TensorFlow version:\", tf.__version__)  # Version 2.12.0\n",
        "print(\"NumPy version:\", np.__version__)       # Version 1.26.4\n",
        "print(\"OpenCV version:\", cv2.__version__)     # Version 4.11.0"
      ]
    },
    {
      "cell_type": "code",
      "execution_count": null,
      "metadata": {
        "colab": {
          "base_uri": "https://localhost:8080/",
          "height": 17
        },
        "id": "_4nm5ae4_gUj",
        "outputId": "7077e6c3-d58a-4071-c440-742580c6c3af"
      },
      "outputs": [],
      "source": [
        "# define some useful functions\n",
        "\n",
        "from tensorflow.keras.layers import Resizing, Concatenate\n",
        "\n",
        "fil_size1 = 3\n",
        "fil_size2 = 3\n",
        "fil_size3 = 3\n",
        "\n",
        "def CNN(lr, loss, filtersFirstLayer, drop, input_size=(64, 64, 4)):\n",
        "    inputs = Input(shape=input_size)\n",
        "    conv1 = Conv2D(filtersFirstLayer, fil_size1, padding='same', activation='relu')(inputs)\n",
        "    conv1 = BatchNormalization()(conv1)\n",
        "    pool1 = MaxPooling2D()(conv1)\n",
        "\n",
        "    conv2 = Conv2D(filtersFirstLayer, fil_size2, padding='same', activation='relu')(pool1)\n",
        "    conv2 = BatchNormalization()(conv2)\n",
        "    pool2 = MaxPooling2D()(conv2)\n",
        "\n",
        "    conv3 = Conv2D(filtersFirstLayer, fil_size3, padding='same', activation='relu')(pool2)\n",
        "    conv3 = BatchNormalization()(conv3)\n",
        "\n",
        "    target_shape = (conv3.shape[1], conv3.shape[2])\n",
        "\n",
        "    resized_tensor_3 = tf.image.resize(conv3, target_shape)\n",
        "    resized_tensor_2 = tf.image.resize(conv2, target_shape)\n",
        "    resized_tensor_1 = tf.image.resize(conv1, target_shape)\n",
        "\n",
        "    concatenated_tensor = tf.concat([resized_tensor_3, resized_tensor_3, resized_tensor_3], axis=-1)\n",
        "\n",
        "    pool3 = MaxPooling2D()(concatenated_tensor)\n",
        "\n",
        "    drop1 = Dropout(drop)(pool3)\n",
        "    flat = Flatten()(drop1)\n",
        "    en = Dense(filtersFirstLayer * 8, activation='relu')(flat)\n",
        "    out = Dense(1, activation='sigmoid')(en)\n",
        "    model = Model(inputs, out)\n",
        "\n",
        "    model.compile(loss=loss, optimizer=Adam(learning_rate=lr), metrics='accuracy')\n",
        "    return model\n",
        "\n",
        "def focal_loss(y_true, y_pred, alpha=0.25, gamma=2.0):\n",
        "    # Compute binary cross-entropy\n",
        "    bce = tf.keras.losses.binary_crossentropy(y_true, y_pred, from_logits=True)\n",
        "\n",
        "    # Compute the predicted probabilities for the true class\n",
        "    p_t = tf.math.exp(-bce)\n",
        "\n",
        "    # Compute the focal loss\n",
        "    focal_loss = alpha * (1 - p_t) ** gamma * bce\n",
        "\n",
        "    return focal_loss\n",
        "\n",
        "def non_max_suppression_fast(boxes, overlapThresh):\n",
        "    if len(boxes) == 0:\n",
        "        return []\n",
        "    if boxes.dtype.kind == \"i\":\n",
        "        boxes = boxes.astype(\"float\")\n",
        "\n",
        "    pick = []\n",
        "    x1 = boxes[:,0]\n",
        "    y1 = boxes[:,1]\n",
        "    x2 = boxes[:,2]\n",
        "    y2 = boxes[:,3]\n",
        "    area = (x2 - x1 + 1) * (y2 - y1 + 1)\n",
        "    idxs = np.argsort(y2)\n",
        "\n",
        "    while len(idxs) > 0:\n",
        "        last = len(idxs) - 1\n",
        "        i = idxs[last]\n",
        "        pick.append(i)\n",
        "        xx1 = np.maximum(x1[i], x1[idxs[:last]])\n",
        "        yy1 = np.maximum(y1[i], y1[idxs[:last]])\n",
        "        xx2 = np.minimum(x2[i], x2[idxs[:last]])\n",
        "        yy2 = np.minimum(y2[i], y2[idxs[:last]])\n",
        "        w = np.maximum(0, xx2 - xx1 + 1)\n",
        "        h = np.maximum(0, yy2 - yy1 + 1)\n",
        "        overlap = (w * h) / area[idxs[:last]]\n",
        "        idxs = np.delete(idxs, np.concatenate(([last], np.where(overlap > overlapThresh)[0])))\n",
        "\n",
        "    return boxes[pick].astype(\"int\")\n",
        "\n",
        "def sliding_window(image, step, ws):\n",
        "    for y in range(0, image.shape[0] - ws[1], step):\n",
        "        for x in range(0, image.shape[1] - ws[0], step):\n",
        "            yield (x, y, image[y:y + ws[1], x:x + ws[0]])"
      ]
    },
    {
      "cell_type": "markdown",
      "metadata": {
        "id": "BCWSyCJ8xHpc"
      },
      "source": [
        "## DESCENDING orbit\n",
        "\n",
        "### 1. Defining useful variables\n",
        "Here we define some variables and paths that will be useful to call model weights, images, and saving the outputs."
      ]
    },
    {
      "cell_type": "code",
      "execution_count": null,
      "metadata": {
        "colab": {
          "base_uri": "https://localhost:8080/",
          "height": 17
        },
        "id": "SjoAtGAhxPT1",
        "outputId": "1e351d48-5a3f-48d2-ca67-402be4d62b27"
      },
      "outputs": [],
      "source": [
        "place = 'Taiwan' # name of the event or location\n",
        "\n",
        "orbit = 'DESCENDING'\n",
        "\n",
        "# directory of the SAR composite image\n",
        "image_path = f'deploy/VV_VH/60_12/SAR_{orbit}_.tif'\n",
        "\n",
        "# ulr of the weights of the model\n",
        "github_url = \"https://github.com/lorenzonava96/SAR-and-DL-for-Landslide-Rapid-Assessment/raw/main/SAR-LRA%20Tool%20V1/model_weights/VV_VH_60_nn_noSlope_DESCENDING_60_12_5_size_64_filters_64_batch_size_512_lr_0.001_dropout_0.7_fil1_3_fil2_3_fil3_3.hdf5\"\n",
        "\n",
        "# size of the image\n",
        "size = 64\n",
        "\n",
        "# number of bands\n",
        "channels = 4"
      ]
    },
    {
      "cell_type": "markdown",
      "metadata": {
        "id": "V3ky068wxS3t"
      },
      "source": [
        "### 2. Import Model and Image\n",
        "Remember to define the model parameters as the one used in the training. We call the model weights from the github directory.\n"
      ]
    },
    {
      "cell_type": "code",
      "execution_count": null,
      "metadata": {
        "colab": {
          "base_uri": "https://localhost:8080/",
          "height": 85
        },
        "id": "bI9w9Xafz3rC",
        "outputId": "65ba7e39-c929-41e8-c4f9-b384be8d1222"
      },
      "outputs": [],
      "source": [
        "# Define model parameters and import model\n",
        "model = CNN(filtersFirstLayer=64, drop=0.7, lr=0.001, input_size=(size, size, channels), loss=focal_loss)\n",
        "print(\"[INFO] loading model weights...\")\n",
        "\n",
        "# Make a GET request to fetch the contents of the HDF5 file\n",
        "response = requests.get(github_url)\n",
        "\n",
        "# Check if the request was successful\n",
        "if response.status_code == 200:\n",
        "    # Write the contents of the HDF5 file to a local file\n",
        "    with open(\"model_weights_desce.hdf5\", \"wb\") as file:\n",
        "        file.write(response.content)\n",
        "    print(\"HDF5 file downloaded successfully.\")\n",
        "else:\n",
        "    print(\"Failed to fetch the HDF5 file from GitHub\")\n",
        "\n",
        "# Load the weights into the model\n",
        "model.load_weights(\"model_weights_desce.hdf5\")\n",
        "\n",
        "# Load and preprocess the image\n",
        "print(\"[INFO] loading image...\")\n",
        "with rasterio.open(image_path) as ori:\n",
        "    tmp = np.moveaxis(ori.read(), 0, 2)\n",
        "orig = np.asarray(tmp)\n",
        "orig = orig[:, :, :(channels)]\n",
        "\n",
        "print('MODEL AND IMAGE ARE READY !')"
      ]
    },
    {
      "cell_type": "markdown",
      "metadata": {
        "id": "QtbJPe2p0cWm"
      },
      "source": [
        "### 3. Run the Sliding Window algorithm\n",
        "Here, we execute the sliding window algorithm to extract 64x64 images from the SAR composite image downloaded in the preceding notebook, 01_SAR-LRA_Sentinel-1_Image_Acquisition, with a specified overlap. Subsequently, we store these images along with their corresponding coordinates relative to the original image in two separate lists."
      ]
    },
    {
      "cell_type": "code",
      "execution_count": null,
      "metadata": {
        "colab": {
          "base_uri": "https://localhost:8080/",
          "height": 68
        },
        "id": "E_Umgx030efv",
        "outputId": "f4614620-6103-42e9-cc18-55a8d7130044"
      },
      "outputs": [],
      "source": [
        "rois = [] # list for images\n",
        "locs = [] # list for coordinates\n",
        "\n",
        "ROI_SIZE = (size, size) # 64x64\n",
        "WIN_STEP = int(size/2)  # 32 to have 50% of overlap - modifiable\n",
        "\n",
        "start = time.time()\n",
        "\n",
        "for (x, y, roiOrig) in sliding_window(orig, WIN_STEP, ROI_SIZE):\n",
        "    w = int(ROI_SIZE[0])\n",
        "    h = int(ROI_SIZE[1])\n",
        "    roi = cv2.resize(roiOrig, ROI_SIZE)\n",
        "    roi = img_to_array(roi)\n",
        "    rois.append(roi)\n",
        "    locs.append((x, y, x + w, y + h))\n",
        "    end = time.time()\n",
        "print(\"[INFO] looping over pyramid/windows took {:.5f} seconds\".format(end - start))\n",
        "\n",
        "# convert the ROIs to a NumPy array\n",
        "rois = np.array(rois)\n",
        "print('[INFO] You extracted ', len(rois), 'patches')\n",
        "\n",
        "print('ROIs ARE READY TO BE CLASSIFIED !')"
      ]
    },
    {
      "cell_type": "markdown",
      "metadata": {
        "id": "Eu38qPIq0jwY"
      },
      "source": [
        "### 4. Classify the extracted images\n",
        "Here, we classify all the images (ROIs) extracted by the sliding window algorithm, saving the predictions as probabilities ranging from 0 to 1, indicating their likelihood of belonging to the landslide class. Subsequently, we will define a probability threshold to determine the class to which they belong."
      ]
    },
    {
      "cell_type": "code",
      "execution_count": null,
      "metadata": {
        "colab": {
          "base_uri": "https://localhost:8080/",
          "height": 384
        },
        "id": "LRUpP_-40lA5",
        "outputId": "fb0a7ad9-2cbc-4a75-fb70-3fd43ec8c83f"
      },
      "outputs": [],
      "source": [
        "print(\"[INFO] classifying ROIs...\")\n",
        "start = time.time()\n",
        "pred_datagen = ImageDataGenerator()\n",
        "batch_size = 512\n",
        "pred_ds = pred_datagen.flow(rois, batch_size = batch_size, seed = 42, shuffle=False)\n",
        "ynew = model.predict(pred_ds) # predict\n",
        "end = time.time()\n",
        "print(\"[INFO] classifying ROIs took {:.5f} seconds\".format(\n",
        "    end - start))\n",
        "\n",
        "print('THE MODEL CLASSIFIED ALL THE ROIs !')"
      ]
    },
    {
      "cell_type": "markdown",
      "metadata": {
        "id": "zH85ouoU1V3r"
      },
      "source": [
        "## 5. Count the number of ROIs predicted as landslide\n"
      ]
    },
    {
      "cell_type": "code",
      "execution_count": null,
      "metadata": {
        "colab": {
          "base_uri": "https://localhost:8080/",
          "height": 34
        },
        "id": "GtLK75xE1ZXf",
        "outputId": "1e94771f-ed48-4c6a-fae3-d3d5590c3e29"
      },
      "outputs": [],
      "source": [
        "n = 1\n",
        "for i, prob in enumerate(ynew):\n",
        "    if prob > 0.6: # probability threshold\n",
        "        n += 1\n",
        "print(n)"
      ]
    },
    {
      "cell_type": "markdown",
      "metadata": {
        "id": "TuNaviXC1bMH"
      },
      "source": [
        "## 6. Append coordinates and probability value of the ROIs predicted as landslide"
      ]
    },
    {
      "cell_type": "code",
      "execution_count": null,
      "metadata": {
        "colab": {
          "base_uri": "https://localhost:8080/",
          "height": 17
        },
        "id": "nTtTDMvT1do6",
        "outputId": "2daac272-3d9a-4a7d-d8c5-57ab012f208f"
      },
      "outputs": [],
      "source": [
        "L = []\n",
        "P = []\n",
        "for i, prob in enumerate(ynew):\n",
        "    if prob > 0.6: # probability threshold\n",
        "        box = locs[i]\n",
        "        L.append(box)"
      ]
    },
    {
      "cell_type": "markdown",
      "metadata": {
        "id": "cSZU33sT1f0B"
      },
      "source": [
        "## 7. Deploy Non-Maximum Suppression\n",
        "The non max suppression used is the one developed by Adrian Rosebrock and it is very well explained here: https://pyimagesearch.com/2015/02/16/faster-non-maximum-suppression-python/"
      ]
    },
    {
      "cell_type": "code",
      "execution_count": null,
      "metadata": {
        "colab": {
          "base_uri": "https://localhost:8080/",
          "height": 17
        },
        "id": "tW7TAWcP1iCK",
        "outputId": "7a5fe124-0f9f-435b-8ca2-90b940599e9a"
      },
      "outputs": [],
      "source": [
        "boxes = np.array(L) # to array\n",
        "boxes = non_max_suppression_fast(boxes, overlapThresh=0.1) # select overlap threshold between bounding boxes"
      ]
    },
    {
      "cell_type": "markdown",
      "metadata": {
        "id": "A5-bOghJ1nCL"
      },
      "source": [
        "## 8. Draw the final bounding boxes and save as TIFF file\n",
        "We delineate the ultimate bounding boxes around the detected landslides by the model, and we generate the final georeferenced raster, marking landslide boxes contours with 1 and non-landslide areas with 0."
      ]
    },
    {
      "cell_type": "code",
      "execution_count": null,
      "metadata": {
        "colab": {
          "base_uri": "https://localhost:8080/",
          "height": 17
        },
        "id": "y9vVwneq1qEH",
        "outputId": "5a28cb78-cec8-4137-f12f-d5be6555ea98"
      },
      "outputs": [],
      "source": [
        "# clone the original image\n",
        "clone = orig.copy()\n",
        "\n",
        "# create an empty image (with zeros)\n",
        "c = np.zeros((clone.shape[0], clone.shape[1]), dtype=np.uint8)\n",
        "\n",
        "# iterate through the boxes and draw them on the image\n",
        "for (startX, startY, endX, endY) in boxes:\n",
        "    # Draw rectangle (bounding box) on the image\n",
        "    cv2.rectangle(c, (startX, startY), (endX, endY), color=1, thickness=1)"
      ]
    },
    {
      "cell_type": "code",
      "execution_count": null,
      "metadata": {
        "colab": {
          "base_uri": "https://localhost:8080/",
          "height": 34
        },
        "id": "JQ_vt8y221xO",
        "outputId": "e70ad33b-adf9-40a0-a37c-9871393a7bdc"
      },
      "outputs": [],
      "source": [
        "# Get the current working directory\n",
        "current_directory = os.getcwd()\n",
        "\n",
        "# Print the current directory\n",
        "print(\"Current directory:\", current_directory)"
      ]
    },
    {
      "cell_type": "code",
      "execution_count": null,
      "metadata": {
        "colab": {
          "base_uri": "https://localhost:8080/",
          "height": 34
        },
        "id": "UtQGN3np1rrc",
        "outputId": "f6366049-2aba-4608-cb5e-83f1d8978077"
      },
      "outputs": [],
      "source": [
        "predictions_folder = \"predictions\"\n",
        "\n",
        "# Create the predictions folder if it doesn't exist\n",
        "if not os.path.exists(predictions_folder):\n",
        "    os.makedirs(predictions_folder)\n",
        "\n",
        "pred_path = f'predictions/{place}_DESCENDING.tif' # directory and name of output TIFF file\n",
        "ori =  rasterio.open(image_path)\n",
        "c = np.squeeze(c)\n",
        "\n",
        "with rasterio.Env():\n",
        "    profile = ori.profile\n",
        "    profile.update(\n",
        "        dtype=rasterio.float32,\n",
        "        count=1,\n",
        "        width= c.shape[-1],\n",
        "        height= c.shape[-2],\n",
        "        compress='lzw')\n",
        "    with rasterio.open(pred_path, 'w', **profile) as dst:\n",
        "        dst.write(c.astype(rasterio.float32), 1)\n",
        "\n",
        "print('PREDICTION SAVED AS TIFF !')"
      ]
    },
    {
      "cell_type": "markdown",
      "metadata": {
        "id": "OQoxRDH02nJW"
      },
      "source": [
        "### 9. Save the predictions as a Shapefile\n",
        "The predictions are saved in the folder: predictions.\n"
      ]
    },
    {
      "cell_type": "code",
      "execution_count": null,
      "metadata": {
        "colab": {
          "base_uri": "https://localhost:8080/",
          "height": 479
        },
        "id": "MWC8flrMEkHT",
        "outputId": "ff596e0a-3f0f-4d52-946e-b0d8dc5095cb"
      },
      "outputs": [],
      "source": [
        "!pip install geopandas"
      ]
    },
    {
      "cell_type": "code",
      "execution_count": null,
      "metadata": {
        "colab": {
          "base_uri": "https://localhost:8080/",
          "height": 17
        },
        "id": "JxBSFzBz2ozS",
        "outputId": "7622b26e-4bcd-4a7f-80d3-cc925abfcd58"
      },
      "outputs": [],
      "source": [
        "import rasterio\n",
        "from rasterio.features import shapes\n",
        "import geopandas as gpd\n",
        "from shapely.geometry import shape\n",
        "\n",
        "# Open the georeferenced TIFF image\n",
        "with rasterio.open(pred_path) as src:\n",
        "    # Read the raster data as a numpy array\n",
        "    image_array = src.read(1)\n",
        "\n",
        "    # Get the transform (georeferencing information)\n",
        "    transform = src.transform\n",
        "    crs = src.crs\n",
        "\n",
        "    # Generate shapes for areas where pixel values are equal to 1\n",
        "    shapes = list(shapes(image_array, transform=transform))\n",
        "\n",
        "# Filter shapes where pixel value is 1\n",
        "valid_shapes = [s for s, v in shapes if v == 1]\n",
        "\n",
        "# Convert valid shapes to GeoDataFrame\n",
        "gdf = gpd.GeoDataFrame(geometry=[shape(s) for s in valid_shapes], crs=crs)\n",
        "shapefile_path = pred_path + \".shp\"\n",
        "# Save the GeoDataFrame as a shapefile\n",
        "gdf.to_file(shapefile_path)"
      ]
    },
    {
      "cell_type": "markdown",
      "metadata": {
        "id": "kIfEetJCFzOv"
      },
      "source": [
        "## ASCENDING\n",
        "We will iterate through the methodology once more. The elements that will vary are the model, with the new one trained on Ascending data, and the composite SAR image, which will now be from the Ascending orbit.\n",
        "\n",
        "### 1. Defining useful variables\n",
        "Here we define some variables and paths that will be useful to call model weights, images, and saving the outputs."
      ]
    },
    {
      "cell_type": "code",
      "execution_count": null,
      "metadata": {
        "colab": {
          "base_uri": "https://localhost:8080/",
          "height": 17
        },
        "id": "nMr_wbi3Frxv",
        "outputId": "75eaa2d3-61f8-4c90-81c2-dc630377ab77"
      },
      "outputs": [],
      "source": [
        "place = 'Taiwan' # name of the event or location\n",
        "\n",
        "orbit = 'ASCENDING'\n",
        "\n",
        "# directory of the SAR composite image\n",
        "image_path = f'deploy/VV_VH/60_12/SAR_{orbit}_.tif'\n",
        "\n",
        "# url of the weights of the model\n",
        "github_url = \"https://github.com/lorenzonava96/SAR-and-DL-for-Landslide-Rapid-Assessment/raw/main/SAR-LRA%20Tool%20V1/model_weights/VV_VH_60_nn_noSlope_ASCENDING_60_12_6_size_64_filters_32_batch_size_512_lr_0.001_dropout_0.7_fil1_3_fil2_3_fil3_3.hdf5\"\n",
        "\n",
        "# size of the image\n",
        "size = 64\n",
        "\n",
        "# number of bands\n",
        "channels = 4"
      ]
    },
    {
      "cell_type": "markdown",
      "metadata": {
        "id": "UVFLWkBpF2cZ"
      },
      "source": [
        "### 2. Import Model and Image\n",
        "Remember to define the model parameters as the one used in the training."
      ]
    },
    {
      "cell_type": "code",
      "execution_count": null,
      "metadata": {
        "colab": {
          "base_uri": "https://localhost:8080/",
          "height": 85
        },
        "id": "ZDNeZm3fFr0B",
        "outputId": "7988e9a3-bd3c-4475-8f1f-9f762f367427"
      },
      "outputs": [],
      "source": [
        "# Define model parameters and import model\n",
        "model = CNN(filtersFirstLayer=32, drop=0.7, lr=0.001, input_size=(size, size, channels), loss=focal_loss)\n",
        "print(\"[INFO] loading model weights...\")\n",
        "\n",
        "# Make a GET request to fetch the contents of the HDF5 file\n",
        "response = requests.get(github_url)\n",
        "\n",
        "# Check if the request was successful\n",
        "if response.status_code == 200:\n",
        "    # Write the contents of the HDF5 file to a local file\n",
        "    with open(\"model_weights_asce.hdf5\", \"wb\") as file:\n",
        "        file.write(response.content)\n",
        "    print(\"HDF5 file downloaded successfully.\")\n",
        "else:\n",
        "    print(\"Failed to fetch the HDF5 file from GitHub\")\n",
        "\n",
        "# Load the weights into the model\n",
        "model.load_weights(\"model_weights_asce.hdf5\")\n",
        "\n",
        "# Load and preprocess the image\n",
        "print(\"[INFO] loading image...\")\n",
        "with rasterio.open(image_path) as ori:\n",
        "    tmp = np.moveaxis(ori.read(), 0, 2)\n",
        "orig = np.asarray(tmp)\n",
        "orig = orig[:, :, :(channels)]\n",
        "\n",
        "print('MODEL AND IMAGE ARE READY !')"
      ]
    },
    {
      "cell_type": "markdown",
      "metadata": {
        "id": "fvf797iaF9YG"
      },
      "source": [
        "### 3. Run the Sliding Window algorithm\n",
        "Here, we execute the sliding window algorithm to extract 64x64 images from the SAR composite image downloaded in the preceding notebook, 01_SAR-LRA_Sentinel-1_Image_Acquisition, with a specified overlap. Subsequently, we store these images along with their corresponding coordinates relative to the original image in two separate lists."
      ]
    },
    {
      "cell_type": "code",
      "execution_count": null,
      "metadata": {
        "colab": {
          "base_uri": "https://localhost:8080/",
          "height": 68
        },
        "id": "OJbLs4s_Fr2K",
        "outputId": "6082f32c-0b4c-4808-f4cb-fe191cd0a5b6"
      },
      "outputs": [],
      "source": [
        "rois = [] # list for images\n",
        "locs = [] # list for coordinates\n",
        "\n",
        "ROI_SIZE = (size, size) # 64x64\n",
        "WIN_STEP = int(size/2)  # 32 to have 50% of overlap - modifiable\n",
        "\n",
        "start = time.time()\n",
        "\n",
        "for (x, y, roiOrig) in sliding_window(orig, WIN_STEP, ROI_SIZE):\n",
        "    w = int(ROI_SIZE[0])\n",
        "    h = int(ROI_SIZE[1])\n",
        "    roi = cv2.resize(roiOrig, ROI_SIZE)\n",
        "    roi = img_to_array(roi)\n",
        "    rois.append(roi)\n",
        "    locs.append((x, y, x + w, y + h))\n",
        "    end = time.time()\n",
        "print(\"[INFO] looping over pyramid/windows took {:.5f} seconds\".format(end - start))\n",
        "\n",
        "# convert the ROIs to a NumPy array\n",
        "rois = np.array(rois)\n",
        "print('[INFO] You extracted ', len(rois), 'patches')\n",
        "\n",
        "print('ROIs ARE READY TO BE CLASSIFIED !')"
      ]
    },
    {
      "cell_type": "markdown",
      "metadata": {
        "id": "mlRNgyuyF_zA"
      },
      "source": [
        "### 4. Classify the extracted images\n",
        "Here, we classify all the images (ROIs) extracted by the sliding window algorithm, saving the predictions as probabilities ranging from 0 to 1, indicating their likelihood of belonging to the landslide class. Subsequently, we will define a probability threshold to determine the class to which they belong."
      ]
    },
    {
      "cell_type": "code",
      "execution_count": null,
      "metadata": {
        "colab": {
          "base_uri": "https://localhost:8080/",
          "height": 85
        },
        "id": "ghd1CNMbFr4j",
        "outputId": "b0875ee1-d95e-4c88-9a6c-61142e945520"
      },
      "outputs": [],
      "source": [
        "print(\"[INFO] classifying ROIs...\")\n",
        "start = time.time()\n",
        "pred_datagen = ImageDataGenerator()\n",
        "batch_size = 512\n",
        "pred_ds = pred_datagen.flow(rois, batch_size = batch_size, seed = 42, shuffle=False)\n",
        "ynew = model.predict(pred_ds) # predict\n",
        "end = time.time()\n",
        "print(\"[INFO] classifying ROIs took {:.5f} seconds\".format(\n",
        "    end - start))\n",
        "\n",
        "print('THE MODEL CLASSIFIED ALL THE ROIs !')"
      ]
    },
    {
      "cell_type": "markdown",
      "metadata": {
        "id": "aeSKhFoMGEfi"
      },
      "source": [
        "### 5. Count the number of ROIs predicted as landslide"
      ]
    },
    {
      "cell_type": "code",
      "execution_count": null,
      "metadata": {
        "colab": {
          "base_uri": "https://localhost:8080/",
          "height": 34
        },
        "id": "ub3B1WpFGECS",
        "outputId": "595457e5-7acc-48a9-d8cd-79ff5344880a"
      },
      "outputs": [],
      "source": [
        "n = 1\n",
        "for i, prob in enumerate(ynew):\n",
        "    if prob > 0.6: # probability threshold\n",
        "        n += 1\n",
        "print(n)"
      ]
    },
    {
      "cell_type": "markdown",
      "metadata": {
        "id": "1Wr9rubiGJgZ"
      },
      "source": [
        "### 6. Append coordinates and probability value of the ROIs predicted as landslide"
      ]
    },
    {
      "cell_type": "code",
      "execution_count": null,
      "metadata": {
        "colab": {
          "base_uri": "https://localhost:8080/",
          "height": 17
        },
        "id": "7G9EioYIGEE5",
        "outputId": "15dec5ae-72e6-41ea-84df-f16601176353"
      },
      "outputs": [],
      "source": [
        "L = []\n",
        "P = []\n",
        "for i, prob in enumerate(ynew):\n",
        "    if prob > 0.6: # probability threshold\n",
        "        box = locs[i]\n",
        "        L.append(box)"
      ]
    },
    {
      "cell_type": "markdown",
      "metadata": {
        "id": "L-k5noZNGOCZ"
      },
      "source": [
        "### 7. Deploy Non-Maximum Suppression\n",
        "The non max suppression used is the one developed by Adrian Rosebrock and it is very well explained here:\n",
        "https://pyimagesearch.com/2015/02/16/faster-non-maximum-suppression-python/"
      ]
    },
    {
      "cell_type": "code",
      "execution_count": null,
      "metadata": {
        "colab": {
          "base_uri": "https://localhost:8080/",
          "height": 17
        },
        "id": "80BtUgl7GEIw",
        "outputId": "d95160a6-1498-44f8-c90f-0c1069e18e64"
      },
      "outputs": [],
      "source": [
        "boxes = np.array(L)\n",
        "boxes = non_max_suppression_fast(boxes, overlapThresh=0.1)"
      ]
    },
    {
      "cell_type": "markdown",
      "metadata": {
        "id": "wi3ZZI-MG_d_"
      },
      "source": [
        "### 8. Draw the final bounding boxes and save as TIFF file\n",
        "We delineate the ultimate bounding boxes around the detected landslides by the model, and we generate the final georeferenced raster, marking landslide boxes contours with 1 and non-landslide areas with 0."
      ]
    },
    {
      "cell_type": "code",
      "execution_count": null,
      "metadata": {
        "colab": {
          "base_uri": "https://localhost:8080/",
          "height": 17
        },
        "id": "ITroBN1HFr6x",
        "outputId": "290ed925-95c3-4bce-e868-26b4d7e99cf8"
      },
      "outputs": [],
      "source": [
        "# clone the original image\n",
        "clone = orig.copy()\n",
        "\n",
        "# Create an empty image (black image with zeros)\n",
        "c = np.zeros((clone.shape[0], clone.shape[1]), dtype=np.uint8)\n",
        "\n",
        "# Iterate through the boxes and draw them on the image\n",
        "for (startX, startY, endX, endY) in boxes:\n",
        "    # Draw rectangle (bounding box) on the image\n",
        "    cv2.rectangle(c, (startX, startY), (endX, endY), color=1, thickness=1)"
      ]
    },
    {
      "cell_type": "code",
      "execution_count": null,
      "metadata": {
        "colab": {
          "base_uri": "https://localhost:8080/",
          "height": 34
        },
        "id": "DZ24AWioHEQu",
        "outputId": "07f1f0d9-831f-40dd-b454-6ef216b5f04a"
      },
      "outputs": [],
      "source": [
        "pred_path = f'predictions/{place}_ASCENDING.tif' # directory and name of output TIFF file\n",
        "ori =  rasterio.open(image_path)\n",
        "c = np.squeeze(c)\n",
        "\n",
        "with rasterio.Env():\n",
        "    profile = ori.profile\n",
        "    profile.update(\n",
        "        dtype=rasterio.float32,\n",
        "        count=1,\n",
        "        width= c.shape[-1],\n",
        "        height= c.shape[-2],\n",
        "        compress='lzw')\n",
        "    with rasterio.open(pred_path, 'w', **profile) as dst:\n",
        "        dst.write(c.astype(rasterio.float32), 1)\n",
        "\n",
        "print('PREDICTION SAVED AS TIFF !')"
      ]
    },
    {
      "cell_type": "markdown",
      "metadata": {
        "id": "GiM1Oxe3HIN3"
      },
      "source": [
        "### 9. Save the predictions as a Shapefile\n",
        "The predictions are saved in the folder: predictions."
      ]
    },
    {
      "cell_type": "code",
      "execution_count": null,
      "metadata": {
        "colab": {
          "base_uri": "https://localhost:8080/",
          "height": 17
        },
        "id": "oLu2UHXsHEaP",
        "outputId": "afafc815-6e8e-4e83-e04b-76f2ae888e1d"
      },
      "outputs": [],
      "source": [
        "import rasterio\n",
        "from rasterio.features import shapes\n",
        "import geopandas as gpd\n",
        "from shapely.geometry import shape\n",
        "\n",
        "# Open the georeferenced TIFF image\n",
        "with rasterio.open(pred_path) as src:\n",
        "    # Read the raster data as a numpy array\n",
        "    image_array = src.read(1)\n",
        "\n",
        "    # Get the transform (georeferencing information)\n",
        "    transform = src.transform\n",
        "    crs = src.crs\n",
        "\n",
        "    # Generate shapes for areas where pixel values are equal to 1\n",
        "    shapes = list(shapes(image_array, transform=transform))\n",
        "\n",
        "# Filter shapes where pixel value is 1\n",
        "valid_shapes = [s for s, v in shapes if v == 1]\n",
        "\n",
        "# Convert valid shapes to GeoDataFrame\n",
        "gdf2 = gpd.GeoDataFrame(geometry=[shape(s) for s in valid_shapes], crs=crs)\n",
        "shapefile_path = pred_path + \".shp\"\n",
        "# Save the GeoDataFrame as a shapefile\n",
        "gdf2.to_file(shapefile_path)"
      ]
    },
    {
      "cell_type": "markdown",
      "metadata": {
        "id": "RO83Ka5l_NRa"
      },
      "source": [
        "## 10. Display the results"
      ]
    },
    {
      "cell_type": "code",
      "execution_count": null,
      "metadata": {
        "colab": {
          "base_uri": "https://localhost:8080/",
          "height": 638,
          "referenced_widgets": [
            "14469ad3a8cc43138191ff7ef82635a1",
            "6721bec153cf45a99bc193c3e9c9e9bc",
            "448ae7548dcd41b58642c94242834c70",
            "0d336f40de134043812e899c7216f662",
            "f1f0792f443149339782d6846fcc6604",
            "e4eea34f43c34b0d992c73c6f77bed43",
            "dff5331f3d5043c3915869c405b84c3a",
            "1403b58eb8854c2da31c51aac0e36740",
            "5821e6aaf5b84e458853219514d9de7e",
            "85a73b543dd447789e9b07126d401587",
            "24b86f2cd9ec46a1a750ab01d7144a7e",
            "2b3e992b74444c1aa98926fc415a7571",
            "c5ff935f1f7c4f57888e5c2ab088a9f5",
            "d94dc72a4647493c8dda4446d0be1624",
            "da338aeb552a452dbe2730d46e56c9f0",
            "cbe401de900540caae60128893c165b3",
            "7c7f5751103d4e6c855267952273aa78",
            "6695734e24254267a0c59563a3796620",
            "44ca72f0d3a547b78f5e6063165d8459",
            "be658c26494c46ab851d959e856e2e41",
            "fb470a73abea4053b20d881d63f4d493",
            "3c4d04663f364bc3a6ec76e2f7793829",
            "8cf3ddf108c24512a68507e002ac30a2",
            "64bdf7703dc34dc99ad75a3df8a0f27b",
            "c1a545d1f5fd4a00b8625553ed90fc03",
            "387bbe797e394b2a8e931efa7a47a263",
            "c2017e10b65d4803990cb8a5f1ccb071",
            "5f2efe8dc78d4bd6a6e1e100facb77bf",
            "53f6ee17e41743adbd2e0f61898977fa",
            "901d43e457eb4442b39ecfc0a083d672",
            "dac34456596145b0a9c69a6e85448ad2",
            "b6f37108c9e4439eba9242f140199bcd",
            "6a8109cf6eec40afbb2167c16d585566",
            "cd77ea5f5f09455eb185c75d8397fa0d",
            "a0eece58edcf4c0197c9fd2f1482b2c3",
            "c19c67f09fba49259d503aa31f979eaa",
            "1d5bee064cc14afbac1b5b821227a12b",
            "316c3ff73f36413ea5200f9ab9162d26",
            "b2fc24a7a0d24930aaca0b131247a878",
            "39a815e697e04f29bb09c8bdb1c84b8f",
            "d1042dd7a9f04d819308cc3d763f6983",
            "3bd3b529801048cd8386f0a071364879",
            "047504c5164a4bcd8c014cdec4f7d6fd",
            "3f93851231cd48568cbe15fdb30d8909",
            "8a86f0b6a98045aeabc40c30e1e794e6",
            "919d61447857455893055bea1770fd9b",
            "e3bc0fa7487044828217ebf24bd7e25b",
            "a2b4184f62db4bfebdd2df323778ad0c",
            "eee32e0a7b644487af7b549f3e324466",
            "883741548f06494aa2cc29d7032a27a4",
            "f1f7ddcdf88044edb6fc434c676069d2",
            "3fc2ab965fe44eca947085f26deda863",
            "429be9db37764debad59c3e80b2041de",
            "58f50766a91f4408afa6b21b261a650b",
            "b4fed274682e48a9856a8aaff6d8e9d9",
            "556f33adbec641dfa393c7c97a27ccae",
            "6c2723db7b4b4711964c0bf931fed6c0",
            "0b21d79efdb24cb386933f1440fb78b7",
            "4109377740054826917f320d838ae342",
            "2125a7096e4e44968d55958ca2c38719",
            "452328d796ff4005ac9baf5d40f7cd52",
            "f04d44f0f41442f7ad8785d8c6c7feee",
            "2c41987fb8694efb90ab21af9c0d60e5",
            "e29a233a6e5b49ff86a49da2e2aa56b0",
            "5e4e0a2662b5414bbf479db8299d7b44",
            "de17895e3fe048169c6763b2411f11a6",
            "8d9e40c84fc340339377e96d7ee29c30",
            "ac76de9c19674c739033386ab8734806",
            "263fab01d63449349610f15e63c29f0d",
            "6affc46ab4b848b498202bafbf2d97e3",
            "7ae0b3a392374d98be42f4920b59447f",
            "3e952897072f40ec81d5afb2a1364297",
            "0dc976f9b1d84a808976c22201c801b6",
            "4bdab11262cd4d9e8a3c7cd79bdafc3d",
            "2836492d2252415795a77f434e79e342",
            "ba5033a4d03d43c392bf91256f2ddfac",
            "8d300113cac04c8ebbd37f5ce1b2efad",
            "4a26c06ec63c41948173b7870be39bea",
            "0dc0a0449a62451a9be0d355e3547833",
            "892cd85b483a4cad842426edb0d609c7",
            "9fccafa5658e404d8b8915245d64844c",
            "60848f7afc304c46b658ab1acba7dbb2",
            "0bebacacc0a6427380c24244fc2642c9",
            "3ca5c68a449c46458d0dc6533338e415",
            "bad51ba63b4a4228ab91efbcd95e79ca",
            "e4ffa6432f354569bc53a737e0855817",
            "c5e407ec9d8240419312e16447bbfb9e",
            "1d26ab47fff34faba3a0844e47966aa1",
            "b598dd30626e41beb50c4815ef25066d",
            "e614a46e2a02447db98c623166760467",
            "eef4392f73534aa49d21a508427e13ca",
            "85df14dd45e94b7394a075074de6b07b",
            "c0d5dcb0cb4d4eaf8729e74b17df9c33",
            "da4798e6375441edb0d6eb1108ba7586",
            "f6e2cb0f6c76497295a631a0ccf6a4a2",
            "ba367d126a184a78bd2c2bf95e1f3dfc",
            "d969985efd2b4c64ba597743faef1b9b",
            "be809e938fc74fa68547a7997b3d791e",
            "f4bbbaded63847d3a6829ce7cd71f932",
            "83f953fc0f2c4683b876a7e12db5ffbc",
            "332af2914142465c8bee4aeb96cafd56",
            "f35049bfb8a44a41a70cfa778ac5123c",
            "e8a8fc8429b747af883f0291f6d31d1b",
            "c5159d0c2f244e31a9c068db3a50fa51",
            "c6ccb290a2bf49038ad5f06f553a7554",
            "34f203c5e98542608f3efda1fb2304d0",
            "f37cccc4ce68402ca088e0934adfa9a0",
            "bd9840dc0d7d41d68d189fd9f309eb1a",
            "028caadfa8234afca33d36ebb62b438a",
            "c84aaa9780d84d7eb59903c89baa07a0",
            "4a9fefd6a7ae4ae0b16cdfccf3d61a18",
            "726daff8bbb14386b83f5e8fcf874a76",
            "14b0f81a967b4c59a3c352d0e320fe1f",
            "701d9abb4e9c4ded8a9aeb36f4ea2958",
            "f0d1a1c6228d432992f7c9f5cb881761",
            "870a5135f6aa4a888c733fab85e1d463",
            "56b601d6c8a140ae808fe7c7d2137b78",
            "8e732c2621a74ae4a78ca4c199b99450",
            "24509470e5ca40849e43101fd1ee737e",
            "8387d923ef4041d0b2ae597e41f77b58",
            "164c047d784a4cb6b9e2110edb81e09d",
            "3b711f85c5534d12ac49b84d8ee41758",
            "c6c8e7a0fa4a4764929a41bec6da96fe",
            "d7c5ce737c3b4e6da0f6e50c946f355a",
            "17e676eca33f4334b76a595ebbc1fc27",
            "68f9b2854655427e994a3ca761f14a53",
            "40467c343ef44b2abf2abd45df9daf15",
            "e846ae5dbfe44712af04b0fc007919b4",
            "f8db916c898c4eab9a8964148cc559b6",
            "c6b461a4c0e54c9798cea0b75425b889",
            "174782e5be1743d2902a3137959b9fb1",
            "9fe135487660472595edd41ca140e3c4",
            "64e98bcc4e224aa1b09fc81df01cda70",
            "a3d29ae1585446d082ff76cacc838295",
            "d5a0c0228695413f85d179d04e8547cb",
            "0a8c0d4c94fa481fa3090397cae13aa4",
            "b92645c9d6fe449e8e0ef08bb8e41283",
            "76101f6008214e5cbdcf30e6e301e5e0",
            "4e2189a636394f3a8ffb88b65952dcfa",
            "667c2e9d2c9f42e798254766974e06f7",
            "c6cbbbb7c290416a83f1d327ec27aaf1",
            "0b9e5e23e7d44a1c9c862836d21ce6fa",
            "b60e24ab64bb46178b070e29cbf71baf",
            "4e07748a87ae42c0809f47cfdb08aeb8",
            "fb6adfa55b744448848e9ca8525b65aa",
            "62d4c03aebf7479ca55dd192acb074a4",
            "3046c70a437d44f49fe6d7752d302861",
            "282d53ca2a4640338422148e6a468f9a",
            "60e6aee7cfa247cda72a39218c02443b",
            "892c0709f4d840b9ad761c8b49863229",
            "0d44192c23874ee3b12707e659f7c9e5",
            "b63431ff30b64a478ace63bc7b643e2f",
            "a247801408c54ae0ac6fd1b4be9a5123",
            "5fb6d5a094384648bf72a0e4f867715f",
            "6df219749cea4b549b14ae9e16ba5780",
            "e69da780ef4c4106b802e6fcc4878d12",
            "6e7c4cc824c1402289fa6e3bd5500da4",
            "24b654bd86504c0da6cf828b102719a2",
            "2f0bf7b2d5d84e1c8d76eaa125c5877d",
            "6007fde89d7b48c0a826db6b04c8ba24",
            "a04a3a25fa4c46ddb4fdd836d02f3075",
            "5913c6db0b864e248ba758a37388b73b",
            "19b6a05cb3d84b48bb132a79e7a6ad97",
            "b27b0e37123e48378501cfb40405a680",
            "084f450d3c61466db0c85eb23c51aec2",
            "fcf5b72ace524f728f94920148a9cd25",
            "6d86f79a55504969b19ebabfef39c42f",
            "001d8a62b32a4c63978aa624563fc99c",
            "61d119bb2ac44ef8a448d191dfe8a43e",
            "0c357b3449234baebb5c4971af50458a",
            "f9aa667dcec64b839f0e8f052860b887",
            "115bcc79e8734e5588129c9242d245ea",
            "53db54cbd1b14ee4b2f81bbe683368da",
            "cfac1182b9134bfda9650fece599f5f6",
            "396bb64581a0477bb1e6162b3aa6e613",
            "8c6971a5e33647fe8703b9218f54563f",
            "5a87207b372d462f83736e72c2ed3e20",
            "211d887b22844d11b74164986daa980d",
            "efc8335911fe4d6a83888d88a3b34609",
            "6058af33c05145f5a01bf45ccf5588ab",
            "694bb1197fa84888a5d349169e0e1c2a",
            "09752f37eceb415cb39cd08974f2ba89",
            "08bf82ffedbe4272b9450eb69e12feca",
            "991a6d9f4d47436798e6059edcbb6d49",
            "b02fa02652ef42119ed7e577450c4721",
            "a9b069d3bba04d0ab984c4e2dc48cf91",
            "7adfc0e2fa2c484e9fba2e5750b89496",
            "cd0bebae69ec4c589dbfdab6886afa4d",
            "28a4ceb6eaee4a85814a25b4b9968d66",
            "2a2c5bbe6ae24653b3293e5ec197cee5",
            "f30674bf528c4ad4b35c1750fc24e6cc",
            "01fc59844ead44f69301894ebdfb6843",
            "37e66666a82744c3b01e02dfbbe5ae24"
          ]
        },
        "id": "dneFsNzz3UYz",
        "outputId": "ea7895eb-7b15-46c9-d0ae-a9c691c2a257"
      },
      "outputs": [],
      "source": [
        "# Close any previously opened map\n",
        "Map.close()\n",
        "\n",
        "# Create a new map instance\n",
        "Map = geemap.Map()\n",
        "\n",
        "# Define the time period and cloud percentage for Sentinel-2 imagery\n",
        "start_date = '2024-04-27'\n",
        "end_date = '2024-05-01'\n",
        "cloud_percentage = 30\n",
        "\n",
        "# Load Sentinel-2 imagery\n",
        "sentinel_2 = ee.ImageCollection('COPERNICUS/S2') \\\n",
        "    .filterDate(start_date, end_date) \\\n",
        "    .filterBounds(geometry) \\\n",
        "    .filter(ee.Filter.lt('CLOUDY_PIXEL_PERCENTAGE', cloud_percentage))\n",
        "\n",
        "print(\"Number of images:\", sentinel_2.size().getInfo())\n",
        "\n",
        "# Calculate median and clip to the geometry\n",
        "sentinel_2 = sentinel_2.median().clip(geometry)\n",
        "# Select bands for true color imagery\n",
        "sentinel_2 = sentinel_2.select(['B2', 'B3', 'B4'])\n",
        "# Define true color visualization parameters\n",
        "trueColor_palette = {\n",
        "    'bands': ['B4', 'B3', 'B2'],\n",
        "    'min': 0,\n",
        "    'max': 3000  # Adjust this value based on the radiometric properties of your image\n",
        "}\n",
        "\n",
        "# Add Sentinel-2 true color imagery to the map\n",
        "Map.addLayer(sentinel_2, trueColor_palette, \"Sentinel-2 RGB\")\n",
        "\n",
        "# Add other layers like DS, if available\n",
        "Map.addLayer(DS, {'bands': ['postVV'], 'min': [-28], 'max': [4], 'gamma': 0.65}, 'postVV', False)\n",
        "Map.addLayer(DS, {'bands': ['postVH'], 'min': [-28], 'max': [4], 'gamma': 0.65}, 'postVH', False)\n",
        "Map.addLayer(DS, {'bands': ['diffVV'], 'min': [-28], 'max': [4], 'gamma': 0.65}, 'diffVV', False)\n",
        "Map.addLayer(DS, {'bands': ['diffVH'], 'min': [-28], 'max': [4], 'gamma': 0.65}, 'diffVH', False)\n",
        "\n",
        "# Convert GeoDataFrames to GeoJSON for visualization\n",
        "geojson = leafmap.gdf_to_geojson(gdf, epsg=\"4326\")\n",
        "geojson2 = leafmap.gdf_to_geojson(gdf2, epsg=\"4326\")\n",
        "\n",
        "# Define styles for GeoJSON layers\n",
        "style1 = {\n",
        "    \"stroke\": True,\n",
        "    \"color\": \"blue\",\n",
        "    \"weight\": 2,\n",
        "    \"opacity\": 1,\n",
        "    \"fill\": True,\n",
        "    \"fillColor\": \"blue\",\n",
        "    \"fillOpacity\": 1,\n",
        "}\n",
        "style2 = {\n",
        "    \"stroke\": True,\n",
        "    \"color\": \"red\",\n",
        "    \"weight\": 2,\n",
        "    \"opacity\": 1,\n",
        "    \"fill\": True,\n",
        "    \"fillColor\": \"red\",\n",
        "    \"fillOpacity\": 1,\n",
        "}\n",
        "hover_style = {\"fillOpacity\": 1}\n",
        "\n",
        "# Add GeoJSON layers to the map\n",
        "Map.add_geojson(geojson, layer_name=\"DESCENDING predictions\", style=style1, hover_style=hover_style)\n",
        "Map.add_geojson(geojson2, layer_name=\"ASCENDING predictions\", style=style2, hover_style=hover_style)\n",
        "\n",
        "# Center the map on the geometry\n",
        "Map.centerObject(geometry)\n",
        "\n",
        "# Display the map\n",
        "Map\n"
      ]
    },
    {
      "cell_type": "code",
      "execution_count": null,
      "metadata": {
        "id": "9oFMHrI0PfDR"
      },
      "outputs": [],
      "source": []
    }
  ],
  "metadata": {
    "accelerator": "TPU",
    "colab": {
      "gpuType": "V28",
      "provenance": []
    },
    "kernelspec": {
      "display_name": "Python 3",
      "name": "python3"
    },
    "language_info": {
      "codemirror_mode": {
        "name": "ipython",
        "version": 3
      },
      "file_extension": ".py",
      "mimetype": "text/x-python",
      "name": "python",
      "nbconvert_exporter": "python",
      "pygments_lexer": "ipython3",
      "version": "3.9.16"
    },
    "widgets": {
      "application/vnd.jupyter.widget-state+json": {
        "001d8a62b32a4c63978aa624563fc99c": {
          "model_module": "@jupyter-widgets/base",
          "model_module_version": "1.2.0",
          "model_name": "LayoutModel",
          "state": {
            "_model_module": "@jupyter-widgets/base",
            "_model_module_version": "1.2.0",
            "_model_name": "LayoutModel",
            "_view_count": null,
            "_view_module": "@jupyter-widgets/base",
            "_view_module_version": "1.2.0",
            "_view_name": "LayoutView",
            "align_content": null,
            "align_items": null,
            "align_self": null,
            "border": null,
            "bottom": null,
            "display": null,
            "flex": null,
            "flex_flow": null,
            "grid_area": null,
            "grid_auto_columns": null,
            "grid_auto_flow": null,
            "grid_auto_rows": null,
            "grid_column": null,
            "grid_gap": null,
            "grid_row": null,
            "grid_template_areas": null,
            "grid_template_columns": null,
            "grid_template_rows": null,
            "height": "25px",
            "justify_content": null,
            "justify_items": null,
            "left": null,
            "margin": null,
            "max_height": null,
            "max_width": null,
            "min_height": null,
            "min_width": null,
            "object_fit": null,
            "object_position": null,
            "order": null,
            "overflow": null,
            "overflow_x": null,
            "overflow_y": null,
            "padding": "0px",
            "right": null,
            "top": null,
            "visibility": null,
            "width": "25px"
          }
        },
        "00a0d989bcd34563a627c97b679fa774": {
          "model_module": "@jupyter-widgets/controls",
          "model_module_version": "1.5.0",
          "model_name": "FloatProgressModel",
          "state": {
            "_dom_classes": [],
            "_model_module": "@jupyter-widgets/controls",
            "_model_module_version": "1.5.0",
            "_model_name": "FloatProgressModel",
            "_view_count": null,
            "_view_module": "@jupyter-widgets/controls",
            "_view_module_version": "1.5.0",
            "_view_name": "ProgressView",
            "bar_style": "success",
            "description": "",
            "description_tooltip": null,
            "layout": "IPY_MODEL_11d2eb38f870432faf0afcaa514a4860",
            "max": 991549504,
            "min": 0,
            "orientation": "horizontal",
            "style": "IPY_MODEL_3b7c55237d7449fa9199c911a90e5e7d",
            "value": 991549504
          }
        },
        "01fc59844ead44f69301894ebdfb6843": {
          "model_module": "@jupyter-widgets/base",
          "model_module_version": "1.2.0",
          "model_name": "LayoutModel",
          "state": {
            "_model_module": "@jupyter-widgets/base",
            "_model_module_version": "1.2.0",
            "_model_name": "LayoutModel",
            "_view_count": null,
            "_view_module": "@jupyter-widgets/base",
            "_view_module_version": "1.2.0",
            "_view_name": "LayoutView",
            "align_content": null,
            "align_items": null,
            "align_self": null,
            "border": null,
            "bottom": null,
            "display": null,
            "flex": null,
            "flex_flow": null,
            "grid_area": null,
            "grid_auto_columns": null,
            "grid_auto_flow": null,
            "grid_auto_rows": null,
            "grid_column": null,
            "grid_gap": null,
            "grid_row": null,
            "grid_template_areas": null,
            "grid_template_columns": null,
            "grid_template_rows": null,
            "height": "25px",
            "justify_content": null,
            "justify_items": null,
            "left": null,
            "margin": null,
            "max_height": null,
            "max_width": null,
            "min_height": null,
            "min_width": null,
            "object_fit": null,
            "object_position": null,
            "order": null,
            "overflow": null,
            "overflow_x": null,
            "overflow_y": null,
            "padding": "0px",
            "right": null,
            "top": null,
            "visibility": null,
            "width": "25px"
          }
        },
        "028caadfa8234afca33d36ebb62b438a": {
          "model_module": "@jupyter-widgets/base",
          "model_module_version": "1.2.0",
          "model_name": "LayoutModel",
          "state": {
            "_model_module": "@jupyter-widgets/base",
            "_model_module_version": "1.2.0",
            "_model_name": "LayoutModel",
            "_view_count": null,
            "_view_module": "@jupyter-widgets/base",
            "_view_module_version": "1.2.0",
            "_view_name": "LayoutView",
            "align_content": null,
            "align_items": null,
            "align_self": null,
            "border": null,
            "bottom": null,
            "display": null,
            "flex": null,
            "flex_flow": null,
            "grid_area": null,
            "grid_auto_columns": null,
            "grid_auto_flow": null,
            "grid_auto_rows": null,
            "grid_column": null,
            "grid_gap": null,
            "grid_row": null,
            "grid_template_areas": null,
            "grid_template_columns": null,
            "grid_template_rows": null,
            "height": null,
            "justify_content": null,
            "justify_items": null,
            "left": null,
            "margin": null,
            "max_height": null,
            "max_width": null,
            "min_height": null,
            "min_width": null,
            "object_fit": null,
            "object_position": null,
            "order": null,
            "overflow": null,
            "overflow_x": null,
            "overflow_y": null,
            "padding": "0px 4px 0px 4px",
            "right": null,
            "top": null,
            "visibility": null,
            "width": null
          }
        },
        "047504c5164a4bcd8c014cdec4f7d6fd": {
          "model_module": "@jupyter-widgets/base",
          "model_module_version": "1.2.0",
          "model_name": "LayoutModel",
          "state": {
            "_model_module": "@jupyter-widgets/base",
            "_model_module_version": "1.2.0",
            "_model_name": "LayoutModel",
            "_view_count": null,
            "_view_module": "@jupyter-widgets/base",
            "_view_module_version": "1.2.0",
            "_view_name": "LayoutView",
            "align_content": null,
            "align_items": "center",
            "align_self": null,
            "border": null,
            "bottom": null,
            "display": "flex",
            "flex": null,
            "flex_flow": null,
            "grid_area": null,
            "grid_auto_columns": null,
            "grid_auto_flow": null,
            "grid_auto_rows": null,
            "grid_column": null,
            "grid_gap": null,
            "grid_row": null,
            "grid_template_areas": null,
            "grid_template_columns": null,
            "grid_template_rows": null,
            "height": null,
            "justify_content": "flex-end",
            "justify_items": null,
            "left": null,
            "margin": null,
            "max_height": null,
            "max_width": null,
            "min_height": null,
            "min_width": null,
            "object_fit": null,
            "object_position": null,
            "order": null,
            "overflow": null,
            "overflow_x": null,
            "overflow_y": null,
            "padding": null,
            "right": null,
            "top": null,
            "visibility": null,
            "width": null
          }
        },
        "0842595350904c88a15c76f8df670e1d": {
          "model_module": "jupyter-leaflet",
          "model_module_version": "^0.19",
          "model_name": "LeafletTileLayerModel",
          "state": {
            "_model_module": "jupyter-leaflet",
            "_model_module_version": "^0.19",
            "_model_name": "LeafletTileLayerModel",
            "_view_count": null,
            "_view_module": "jupyter-leaflet",
            "_view_module_version": "^0.19",
            "_view_name": "LeafletTileLayerView",
            "attribution": "Tiles (C) Esri -- Source: Esri, i-cubed, USDA, USGS, AEX, GeoEye, Getmapping, Aerogrid, IGN, IGP, UPR-EGP, and the GIS User Community",
            "base": false,
            "bottom": true,
            "bounds": null,
            "detect_retina": false,
            "loading": false,
            "max_native_zoom": null,
            "max_zoom": 30,
            "min_native_zoom": null,
            "min_zoom": 0,
            "name": "Esri.WorldImagery",
            "no_wrap": false,
            "opacity": 1,
            "options": [
              "attribution",
              "bounds",
              "detect_retina",
              "max_native_zoom",
              "max_zoom",
              "min_native_zoom",
              "min_zoom",
              "no_wrap",
              "tile_size",
              "tms",
              "zoom_offset"
            ],
            "pane": "",
            "popup": null,
            "popup_max_height": null,
            "popup_max_width": 300,
            "popup_min_width": 50,
            "show_loading": false,
            "subitems": [],
            "tile_size": 256,
            "tms": false,
            "url": "https://server.arcgisonline.com/ArcGIS/rest/services/World_Imagery/MapServer/tile/{z}/{y}/{x}",
            "visible": true,
            "zoom_offset": 0
          }
        },
        "084f450d3c61466db0c85eb23c51aec2": {
          "model_module": "@jupyter-widgets/controls",
          "model_module_version": "1.5.0",
          "model_name": "SliderStyleModel",
          "state": {
            "_model_module": "@jupyter-widgets/controls",
            "_model_module_version": "1.5.0",
            "_model_name": "SliderStyleModel",
            "_view_count": null,
            "_view_module": "@jupyter-widgets/base",
            "_view_module_version": "1.2.0",
            "_view_name": "StyleView",
            "description_width": "",
            "handle_color": null
          }
        },
        "08bf82ffedbe4272b9450eb69e12feca": {
          "model_module": "@jupyter-widgets/controls",
          "model_module_version": "1.5.0",
          "model_name": "ButtonStyleModel",
          "state": {
            "_model_module": "@jupyter-widgets/controls",
            "_model_module_version": "1.5.0",
            "_model_name": "ButtonStyleModel",
            "_view_count": null,
            "_view_module": "@jupyter-widgets/base",
            "_view_module_version": "1.2.0",
            "_view_name": "StyleView",
            "button_color": null,
            "font_weight": ""
          }
        },
        "09752f37eceb415cb39cd08974f2ba89": {
          "model_module": "@jupyter-widgets/base",
          "model_module_version": "1.2.0",
          "model_name": "LayoutModel",
          "state": {
            "_model_module": "@jupyter-widgets/base",
            "_model_module_version": "1.2.0",
            "_model_name": "LayoutModel",
            "_view_count": null,
            "_view_module": "@jupyter-widgets/base",
            "_view_module_version": "1.2.0",
            "_view_name": "LayoutView",
            "align_content": null,
            "align_items": null,
            "align_self": null,
            "border": null,
            "bottom": null,
            "display": null,
            "flex": null,
            "flex_flow": null,
            "grid_area": null,
            "grid_auto_columns": null,
            "grid_auto_flow": null,
            "grid_auto_rows": null,
            "grid_column": null,
            "grid_gap": null,
            "grid_row": null,
            "grid_template_areas": null,
            "grid_template_columns": null,
            "grid_template_rows": null,
            "height": "25px",
            "justify_content": null,
            "justify_items": null,
            "left": null,
            "margin": null,
            "max_height": null,
            "max_width": null,
            "min_height": null,
            "min_width": null,
            "object_fit": null,
            "object_position": null,
            "order": null,
            "overflow": null,
            "overflow_x": null,
            "overflow_y": null,
            "padding": "0px",
            "right": null,
            "top": null,
            "visibility": null,
            "width": "25px"
          }
        },
        "097630560af84f65bfcfe45a152adda6": {
          "model_module": "@jupyter-widgets/controls",
          "model_module_version": "1.5.0",
          "model_name": "ButtonStyleModel",
          "state": {
            "_model_module": "@jupyter-widgets/controls",
            "_model_module_version": "1.5.0",
            "_model_name": "ButtonStyleModel",
            "_view_count": null,
            "_view_module": "@jupyter-widgets/base",
            "_view_module_version": "1.2.0",
            "_view_name": "StyleView",
            "button_color": null,
            "font_weight": ""
          }
        },
        "09b263f2686c469f9f144bfb8cf2c6d8": {
          "model_module": "@jupyter-widgets/controls",
          "model_module_version": "1.5.0",
          "model_name": "HBoxModel",
          "state": {
            "_dom_classes": [],
            "_model_module": "@jupyter-widgets/controls",
            "_model_module_version": "1.5.0",
            "_model_name": "HBoxModel",
            "_view_count": null,
            "_view_module": "@jupyter-widgets/controls",
            "_view_module_version": "1.5.0",
            "_view_name": "HBoxView",
            "box_style": "",
            "children": [
              "IPY_MODEL_ce60d533095a488991a8b783a4a11115",
              "IPY_MODEL_cbc177a48ebe4e4bba6b64078edc33aa",
              "IPY_MODEL_c29bedbb10474a18b55c0333f57938e9",
              "IPY_MODEL_728de895121b4cbabf76dfe10989d66f"
            ],
            "layout": "IPY_MODEL_f88aa2c4164743d3b7927ec0d90e4c50"
          }
        },
        "0a8c0d4c94fa481fa3090397cae13aa4": {
          "model_module": "@jupyter-widgets/base",
          "model_module_version": "1.2.0",
          "model_name": "LayoutModel",
          "state": {
            "_model_module": "@jupyter-widgets/base",
            "_model_module_version": "1.2.0",
            "_model_name": "LayoutModel",
            "_view_count": null,
            "_view_module": "@jupyter-widgets/base",
            "_view_module_version": "1.2.0",
            "_view_name": "LayoutView",
            "align_content": null,
            "align_items": null,
            "align_self": null,
            "border": null,
            "bottom": null,
            "display": null,
            "flex": null,
            "flex_flow": null,
            "grid_area": null,
            "grid_auto_columns": null,
            "grid_auto_flow": null,
            "grid_auto_rows": null,
            "grid_column": null,
            "grid_gap": null,
            "grid_row": null,
            "grid_template_areas": null,
            "grid_template_columns": null,
            "grid_template_rows": null,
            "height": "25px",
            "justify_content": null,
            "justify_items": null,
            "left": null,
            "margin": null,
            "max_height": null,
            "max_width": null,
            "min_height": null,
            "min_width": null,
            "object_fit": null,
            "object_position": null,
            "order": null,
            "overflow": null,
            "overflow_x": null,
            "overflow_y": null,
            "padding": "0px",
            "right": null,
            "top": null,
            "visibility": null,
            "width": "25px"
          }
        },
        "0b21d79efdb24cb386933f1440fb78b7": {
          "model_module": "@jupyter-widgets/base",
          "model_module_version": "1.2.0",
          "model_name": "LayoutModel",
          "state": {
            "_model_module": "@jupyter-widgets/base",
            "_model_module_version": "1.2.0",
            "_model_name": "LayoutModel",
            "_view_count": null,
            "_view_module": "@jupyter-widgets/base",
            "_view_module_version": "1.2.0",
            "_view_name": "LayoutView",
            "align_content": null,
            "align_items": null,
            "align_self": null,
            "border": null,
            "bottom": null,
            "display": null,
            "flex": null,
            "flex_flow": null,
            "grid_area": null,
            "grid_auto_columns": null,
            "grid_auto_flow": null,
            "grid_auto_rows": null,
            "grid_column": null,
            "grid_gap": null,
            "grid_row": null,
            "grid_template_areas": null,
            "grid_template_columns": null,
            "grid_template_rows": null,
            "height": "28px",
            "justify_content": null,
            "justify_items": null,
            "left": null,
            "margin": null,
            "max_height": null,
            "max_width": null,
            "min_height": null,
            "min_width": null,
            "object_fit": null,
            "object_position": null,
            "order": null,
            "overflow": null,
            "overflow_x": null,
            "overflow_y": null,
            "padding": "0px 0px 0px 4px",
            "right": null,
            "top": null,
            "visibility": null,
            "width": "28px"
          }
        },
        "0b9e5e23e7d44a1c9c862836d21ce6fa": {
          "model_module": "@jupyter-widgets/base",
          "model_module_version": "1.2.0",
          "model_name": "LayoutModel",
          "state": {
            "_model_module": "@jupyter-widgets/base",
            "_model_module_version": "1.2.0",
            "_model_name": "LayoutModel",
            "_view_count": null,
            "_view_module": "@jupyter-widgets/base",
            "_view_module_version": "1.2.0",
            "_view_name": "LayoutView",
            "align_content": null,
            "align_items": null,
            "align_self": null,
            "border": null,
            "bottom": null,
            "display": null,
            "flex": null,
            "flex_flow": null,
            "grid_area": null,
            "grid_auto_columns": null,
            "grid_auto_flow": null,
            "grid_auto_rows": null,
            "grid_column": null,
            "grid_gap": null,
            "grid_row": null,
            "grid_template_areas": null,
            "grid_template_columns": null,
            "grid_template_rows": null,
            "height": "25px",
            "justify_content": null,
            "justify_items": null,
            "left": null,
            "margin": null,
            "max_height": null,
            "max_width": null,
            "min_height": null,
            "min_width": null,
            "object_fit": null,
            "object_position": null,
            "order": null,
            "overflow": null,
            "overflow_x": null,
            "overflow_y": null,
            "padding": "0px",
            "right": null,
            "top": null,
            "visibility": null,
            "width": "25px"
          }
        },
        "0bebacacc0a6427380c24244fc2642c9": {
          "model_module": "@jupyter-widgets/base",
          "model_module_version": "1.2.0",
          "model_name": "LayoutModel",
          "state": {
            "_model_module": "@jupyter-widgets/base",
            "_model_module_version": "1.2.0",
            "_model_name": "LayoutModel",
            "_view_count": null,
            "_view_module": "@jupyter-widgets/base",
            "_view_module_version": "1.2.0",
            "_view_name": "LayoutView",
            "align_content": null,
            "align_items": null,
            "align_self": null,
            "border": null,
            "bottom": null,
            "display": null,
            "flex": null,
            "flex_flow": null,
            "grid_area": null,
            "grid_auto_columns": null,
            "grid_auto_flow": null,
            "grid_auto_rows": null,
            "grid_column": null,
            "grid_gap": null,
            "grid_row": null,
            "grid_template_areas": null,
            "grid_template_columns": null,
            "grid_template_rows": null,
            "height": null,
            "justify_content": null,
            "justify_items": null,
            "left": null,
            "margin": null,
            "max_height": null,
            "max_width": null,
            "min_height": null,
            "min_width": null,
            "object_fit": null,
            "object_position": null,
            "order": null,
            "overflow": null,
            "overflow_x": null,
            "overflow_y": null,
            "padding": null,
            "right": null,
            "top": null,
            "visibility": null,
            "width": null
          }
        },
        "0c357b3449234baebb5c4971af50458a": {
          "model_module": "@jupyter-widgets/base",
          "model_module_version": "1.2.0",
          "model_name": "LayoutModel",
          "state": {
            "_model_module": "@jupyter-widgets/base",
            "_model_module_version": "1.2.0",
            "_model_name": "LayoutModel",
            "_view_count": null,
            "_view_module": "@jupyter-widgets/base",
            "_view_module_version": "1.2.0",
            "_view_name": "LayoutView",
            "align_content": null,
            "align_items": null,
            "align_self": null,
            "border": null,
            "bottom": null,
            "display": null,
            "flex": null,
            "flex_flow": null,
            "grid_area": null,
            "grid_auto_columns": null,
            "grid_auto_flow": null,
            "grid_auto_rows": null,
            "grid_column": null,
            "grid_gap": null,
            "grid_row": null,
            "grid_template_areas": null,
            "grid_template_columns": null,
            "grid_template_rows": null,
            "height": "18px",
            "justify_content": null,
            "justify_items": null,
            "left": null,
            "margin": null,
            "max_height": null,
            "max_width": null,
            "min_height": null,
            "min_width": null,
            "object_fit": null,
            "object_position": null,
            "order": null,
            "overflow": null,
            "overflow_x": null,
            "overflow_y": null,
            "padding": null,
            "right": null,
            "top": null,
            "visibility": null,
            "width": "140px"
          }
        },
        "0c99704772ca49da9bdd2484ad8fe427": {
          "model_module": "jupyter-leaflet",
          "model_module_version": "^0.19",
          "model_name": "LeafletMapStyleModel",
          "state": {
            "_model_module": "jupyter-leaflet",
            "_model_module_version": "^0.19",
            "_model_name": "LeafletMapStyleModel",
            "_view_count": null,
            "_view_module": "@jupyter-widgets/base",
            "_view_module_version": "1.2.0",
            "_view_name": "StyleView",
            "cursor": "grab"
          }
        },
        "0d336f40de134043812e899c7216f662": {
          "model_module": "jupyter-leaflet",
          "model_module_version": "^0.19",
          "model_name": "LeafletFullScreenControlModel",
          "state": {
            "_model_module": "jupyter-leaflet",
            "_model_module_version": "^0.19",
            "_model_name": "LeafletFullScreenControlModel",
            "_view_count": null,
            "_view_module": "jupyter-leaflet",
            "_view_module_version": "^0.19",
            "_view_name": "LeafletFullScreenControlView",
            "options": [
              "position"
            ],
            "position": "topleft"
          }
        },
        "0d44192c23874ee3b12707e659f7c9e5": {
          "model_module": "@jupyter-widgets/controls",
          "model_module_version": "1.5.0",
          "model_name": "ButtonStyleModel",
          "state": {
            "_model_module": "@jupyter-widgets/controls",
            "_model_module_version": "1.5.0",
            "_model_name": "ButtonStyleModel",
            "_view_count": null,
            "_view_module": "@jupyter-widgets/base",
            "_view_module_version": "1.2.0",
            "_view_name": "StyleView",
            "button_color": null,
            "font_weight": ""
          }
        },
        "0dc0a0449a62451a9be0d355e3547833": {
          "model_module": "@jupyter-widgets/controls",
          "model_module_version": "1.5.0",
          "model_name": "HBoxModel",
          "state": {
            "_dom_classes": [],
            "_model_module": "@jupyter-widgets/controls",
            "_model_module_version": "1.5.0",
            "_model_name": "HBoxModel",
            "_view_count": null,
            "_view_module": "@jupyter-widgets/controls",
            "_view_module_version": "1.5.0",
            "_view_name": "HBoxView",
            "box_style": "",
            "children": [
              "IPY_MODEL_c84aaa9780d84d7eb59903c89baa07a0",
              "IPY_MODEL_4a9fefd6a7ae4ae0b16cdfccf3d61a18",
              "IPY_MODEL_726daff8bbb14386b83f5e8fcf874a76",
              "IPY_MODEL_14b0f81a967b4c59a3c352d0e320fe1f"
            ],
            "layout": "IPY_MODEL_701d9abb4e9c4ded8a9aeb36f4ea2958"
          }
        },
        "0dc976f9b1d84a808976c22201c801b6": {
          "model_module": "@jupyter-widgets/base",
          "model_module_version": "1.2.0",
          "model_name": "LayoutModel",
          "state": {
            "_model_module": "@jupyter-widgets/base",
            "_model_module_version": "1.2.0",
            "_model_name": "LayoutModel",
            "_view_count": null,
            "_view_module": "@jupyter-widgets/base",
            "_view_module_version": "1.2.0",
            "_view_name": "LayoutView",
            "align_content": null,
            "align_items": null,
            "align_self": null,
            "border": null,
            "bottom": null,
            "display": "none",
            "flex": null,
            "flex_flow": null,
            "grid_area": null,
            "grid_auto_columns": null,
            "grid_auto_flow": null,
            "grid_auto_rows": null,
            "grid_column": null,
            "grid_gap": null,
            "grid_row": null,
            "grid_template_areas": null,
            "grid_template_columns": null,
            "grid_template_rows": null,
            "height": null,
            "justify_content": null,
            "justify_items": null,
            "left": null,
            "margin": null,
            "max_height": null,
            "max_width": null,
            "min_height": null,
            "min_width": null,
            "object_fit": null,
            "object_position": null,
            "order": null,
            "overflow": null,
            "overflow_x": null,
            "overflow_y": null,
            "padding": null,
            "right": null,
            "top": null,
            "visibility": null,
            "width": null
          }
        },
        "115bcc79e8734e5588129c9242d245ea": {
          "model_module": "@jupyter-widgets/base",
          "model_module_version": "1.2.0",
          "model_name": "LayoutModel",
          "state": {
            "_model_module": "@jupyter-widgets/base",
            "_model_module_version": "1.2.0",
            "_model_name": "LayoutModel",
            "_view_count": null,
            "_view_module": "@jupyter-widgets/base",
            "_view_module_version": "1.2.0",
            "_view_name": "LayoutView",
            "align_content": null,
            "align_items": null,
            "align_self": null,
            "border": null,
            "bottom": null,
            "display": null,
            "flex": null,
            "flex_flow": null,
            "grid_area": null,
            "grid_auto_columns": null,
            "grid_auto_flow": null,
            "grid_auto_rows": null,
            "grid_column": null,
            "grid_gap": null,
            "grid_row": null,
            "grid_template_areas": null,
            "grid_template_columns": null,
            "grid_template_rows": null,
            "height": null,
            "justify_content": null,
            "justify_items": null,
            "left": null,
            "margin": null,
            "max_height": null,
            "max_width": null,
            "min_height": null,
            "min_width": null,
            "object_fit": null,
            "object_position": null,
            "order": null,
            "overflow": null,
            "overflow_x": null,
            "overflow_y": null,
            "padding": "0px 3px 0px 0px",
            "right": null,
            "top": null,
            "visibility": null,
            "width": "70px"
          }
        },
        "11d2eb38f870432faf0afcaa514a4860": {
          "model_module": "@jupyter-widgets/base",
          "model_module_version": "1.2.0",
          "model_name": "LayoutModel",
          "state": {
            "_model_module": "@jupyter-widgets/base",
            "_model_module_version": "1.2.0",
            "_model_name": "LayoutModel",
            "_view_count": null,
            "_view_module": "@jupyter-widgets/base",
            "_view_module_version": "1.2.0",
            "_view_name": "LayoutView",
            "align_content": null,
            "align_items": null,
            "align_self": null,
            "border": null,
            "bottom": null,
            "display": null,
            "flex": "2",
            "flex_flow": null,
            "grid_area": null,
            "grid_auto_columns": null,
            "grid_auto_flow": null,
            "grid_auto_rows": null,
            "grid_column": null,
            "grid_gap": null,
            "grid_row": null,
            "grid_template_areas": null,
            "grid_template_columns": null,
            "grid_template_rows": null,
            "height": null,
            "justify_content": null,
            "justify_items": null,
            "left": null,
            "margin": null,
            "max_height": null,
            "max_width": null,
            "min_height": null,
            "min_width": null,
            "object_fit": null,
            "object_position": null,
            "order": null,
            "overflow": null,
            "overflow_x": null,
            "overflow_y": null,
            "padding": null,
            "right": null,
            "top": null,
            "visibility": null,
            "width": null
          }
        },
        "12af4407c96d4ad1b10f10aacaf8f6a2": {
          "model_module": "@jupyter-widgets/base",
          "model_module_version": "1.2.0",
          "model_name": "LayoutModel",
          "state": {
            "_model_module": "@jupyter-widgets/base",
            "_model_module_version": "1.2.0",
            "_model_name": "LayoutModel",
            "_view_count": null,
            "_view_module": "@jupyter-widgets/base",
            "_view_module_version": "1.2.0",
            "_view_name": "LayoutView",
            "align_content": null,
            "align_items": null,
            "align_self": null,
            "border": null,
            "bottom": null,
            "display": null,
            "flex": null,
            "flex_flow": null,
            "grid_area": null,
            "grid_auto_columns": null,
            "grid_auto_flow": null,
            "grid_auto_rows": null,
            "grid_column": null,
            "grid_gap": null,
            "grid_row": null,
            "grid_template_areas": null,
            "grid_template_columns": null,
            "grid_template_rows": null,
            "height": "25px",
            "justify_content": null,
            "justify_items": null,
            "left": null,
            "margin": null,
            "max_height": null,
            "max_width": null,
            "min_height": null,
            "min_width": null,
            "object_fit": null,
            "object_position": null,
            "order": null,
            "overflow": null,
            "overflow_x": null,
            "overflow_y": null,
            "padding": "0px",
            "right": null,
            "top": null,
            "visibility": null,
            "width": "25px"
          }
        },
        "12fb9e7c6d854f71b83c0bffec344d0d": {
          "model_module": "@jupyter-widgets/controls",
          "model_module_version": "1.5.0",
          "model_name": "DescriptionStyleModel",
          "state": {
            "_model_module": "@jupyter-widgets/controls",
            "_model_module_version": "1.5.0",
            "_model_name": "DescriptionStyleModel",
            "_view_count": null,
            "_view_module": "@jupyter-widgets/base",
            "_view_module_version": "1.2.0",
            "_view_name": "StyleView",
            "description_width": ""
          }
        },
        "13b3449ae45245eda48a825d317ea5ea": {
          "model_module": "@jupyter-widgets/controls",
          "model_module_version": "1.5.0",
          "model_name": "FloatSliderModel",
          "state": {
            "_dom_classes": [],
            "_model_module": "@jupyter-widgets/controls",
            "_model_module_version": "1.5.0",
            "_model_name": "FloatSliderModel",
            "_view_count": null,
            "_view_module": "@jupyter-widgets/controls",
            "_view_module_version": "1.5.0",
            "_view_name": "FloatSliderView",
            "continuous_update": true,
            "description": "",
            "description_tooltip": null,
            "disabled": false,
            "layout": "IPY_MODEL_57de64390c37444bb780d4db56b762c1",
            "max": 1,
            "min": 0,
            "orientation": "horizontal",
            "readout": false,
            "readout_format": ".2f",
            "step": 0.01,
            "style": "IPY_MODEL_79bda74521a54815a42650abe4b6b1b7",
            "value": 1
          }
        },
        "1403b58eb8854c2da31c51aac0e36740": {
          "model_module": "jupyter-leaflet",
          "model_module_version": "^0.19",
          "model_name": "LeafletWidgetControlModel",
          "state": {
            "_model_module": "jupyter-leaflet",
            "_model_module_version": "^0.19",
            "_model_name": "LeafletWidgetControlModel",
            "_view_count": null,
            "_view_module": "jupyter-leaflet",
            "_view_module_version": "^0.19",
            "_view_name": "LeafletWidgetControlView",
            "max_height": null,
            "max_width": null,
            "min_height": null,
            "min_width": null,
            "options": [
              "position",
              "transparent_bg"
            ],
            "position": "topright",
            "transparent_bg": false,
            "widget": "IPY_MODEL_c1a545d1f5fd4a00b8625553ed90fc03"
          }
        },
        "140a75809816469e9a0db40bfd343287": {
          "model_module": "jupyter-leaflet",
          "model_module_version": "^0.19",
          "model_name": "LeafletMapModel",
          "state": {
            "_dom_classes": [],
            "_model_module": "jupyter-leaflet",
            "_model_module_version": "^0.19",
            "_model_name": "LeafletMapModel",
            "_view_count": null,
            "_view_module": "jupyter-leaflet",
            "_view_module_version": "^0.19",
            "_view_name": "LeafletMapView",
            "bottom": 902700,
            "bounce_at_zoom_limits": true,
            "box_zoom": true,
            "center": [
              24.32707654001865,
              121.75598144531251
            ],
            "close_popup_on_click": true,
            "controls": [
              "IPY_MODEL_8a5c0718d15441c0b5ecf99819a6245e",
              "IPY_MODEL_1a80d7ea9b6f42e8a433c15e4bc283ef",
              "IPY_MODEL_5dc5d40e31d8427dbdcd4b9cf85a88e0",
              "IPY_MODEL_59b7fe2063e643e38f20ed39fa837cb3",
              "IPY_MODEL_b43f583750b44660b1675490aa810918",
              "IPY_MODEL_cc6b2c3d09fe483f875f2497e6bcb8ed",
              "IPY_MODEL_eb0e5ad1a2f245aeb42eadf2bf21c1bf",
              "IPY_MODEL_2c97ad965f6e421b9d6d3cc89b0e0a40"
            ],
            "crs": {
              "custom": false,
              "name": "EPSG3857"
            },
            "default_style": "IPY_MODEL_dc96e77493564b64aa322b8954897f0d",
            "double_click_zoom": true,
            "dragging": true,
            "dragging_style": "IPY_MODEL_f2673c0949924f5b8423bfaa14f2141a",
            "east": 121.85760498046876,
            "fullscreen": false,
            "inertia": true,
            "inertia_deceleration": 3000,
            "inertia_max_speed": 1500,
            "interpolation": "bilinear",
            "keyboard": true,
            "keyboard_pan_offset": 80,
            "keyboard_zoom_offset": 1,
            "layers": [
              "IPY_MODEL_beb69a4cd873402c9704a261d5b5961e",
              "IPY_MODEL_0842595350904c88a15c76f8df670e1d",
              "IPY_MODEL_f495277852f8442992a00f108a999f9c"
            ],
            "layout": "IPY_MODEL_90855dd6e4774e26b53de5f840d608ab",
            "left": 1757264,
            "max_zoom": 24,
            "min_zoom": null,
            "modisdate": "2025-02-19",
            "north": 24.373993650623653,
            "options": [
              "bounce_at_zoom_limits",
              "box_zoom",
              "center",
              "close_popup_on_click",
              "double_click_zoom",
              "dragging",
              "fullscreen",
              "inertia",
              "inertia_deceleration",
              "inertia_max_speed",
              "interpolation",
              "keyboard",
              "keyboard_pan_offset",
              "keyboard_zoom_offset",
              "max_zoom",
              "min_zoom",
              "prefer_canvas",
              "scroll_wheel_zoom",
              "tap",
              "tap_tolerance",
              "touch_zoom",
              "world_copy_jump",
              "zoom",
              "zoom_animation_threshold",
              "zoom_delta",
              "zoom_snap"
            ],
            "panes": {},
            "prefer_canvas": false,
            "right": 1758448,
            "scroll_wheel_zoom": true,
            "south": 24.28014205452382,
            "style": "IPY_MODEL_dc96e77493564b64aa322b8954897f0d",
            "tap": true,
            "tap_tolerance": 15,
            "top": 902100,
            "touch_zoom": true,
            "west": 121.65435791015626,
            "window_url": "https://1op09n881xk-496ff2e9c6d22116-0-colab.googleusercontent.com/outputframe.html?vrz=colab_20250218-060201_RC00_728126846",
            "world_copy_jump": false,
            "zoom": 13,
            "zoom_animation_threshold": 4,
            "zoom_delta": 1,
            "zoom_snap": 1
          }
        },
        "14469ad3a8cc43138191ff7ef82635a1": {
          "model_module": "jupyter-leaflet",
          "model_module_version": "^0.19",
          "model_name": "LeafletMapModel",
          "state": {
            "_dom_classes": [],
            "_model_module": "jupyter-leaflet",
            "_model_module_version": "^0.19",
            "_model_name": "LeafletMapModel",
            "_view_count": null,
            "_view_module": "jupyter-leaflet",
            "_view_module_version": "^0.19",
            "_view_name": "LeafletMapView",
            "bottom": 903963,
            "bounce_at_zoom_limits": true,
            "box_zoom": true,
            "center": [
              24.129365247654764,
              121.63916587829591
            ],
            "close_popup_on_click": true,
            "controls": [
              "IPY_MODEL_6721bec153cf45a99bc193c3e9c9e9bc",
              "IPY_MODEL_448ae7548dcd41b58642c94242834c70",
              "IPY_MODEL_0d336f40de134043812e899c7216f662",
              "IPY_MODEL_f1f0792f443149339782d6846fcc6604",
              "IPY_MODEL_e4eea34f43c34b0d992c73c6f77bed43",
              "IPY_MODEL_dff5331f3d5043c3915869c405b84c3a",
              "IPY_MODEL_1403b58eb8854c2da31c51aac0e36740",
              "IPY_MODEL_5821e6aaf5b84e458853219514d9de7e",
              "IPY_MODEL_85a73b543dd447789e9b07126d401587",
              "IPY_MODEL_24b86f2cd9ec46a1a750ab01d7144a7e"
            ],
            "crs": {
              "custom": false,
              "name": "EPSG3857"
            },
            "default_style": "IPY_MODEL_2b3e992b74444c1aa98926fc415a7571",
            "double_click_zoom": true,
            "dragging": true,
            "dragging_style": "IPY_MODEL_c5ff935f1f7c4f57888e5c2ab088a9f5",
            "east": 121.82207107543947,
            "fullscreen": false,
            "inertia": true,
            "inertia_deceleration": 3000,
            "inertia_max_speed": 1500,
            "interpolation": "bilinear",
            "keyboard": true,
            "keyboard_pan_offset": 80,
            "keyboard_zoom_offset": 1,
            "layers": [
              "IPY_MODEL_d94dc72a4647493c8dda4446d0be1624",
              "IPY_MODEL_da338aeb552a452dbe2730d46e56c9f0",
              "IPY_MODEL_cbe401de900540caae60128893c165b3",
              "IPY_MODEL_7c7f5751103d4e6c855267952273aa78",
              "IPY_MODEL_6695734e24254267a0c59563a3796620",
              "IPY_MODEL_44ca72f0d3a547b78f5e6063165d8459",
              "IPY_MODEL_be658c26494c46ab851d959e856e2e41",
              "IPY_MODEL_fb470a73abea4053b20d881d63f4d493"
            ],
            "layout": "IPY_MODEL_3c4d04663f364bc3a6ec76e2f7793829",
            "left": 1756110,
            "max_zoom": 24,
            "min_zoom": null,
            "modisdate": "2025-02-19",
            "north": 24.176355336859185,
            "options": [
              "bounce_at_zoom_limits",
              "box_zoom",
              "center",
              "close_popup_on_click",
              "double_click_zoom",
              "dragging",
              "fullscreen",
              "inertia",
              "inertia_deceleration",
              "inertia_max_speed",
              "interpolation",
              "keyboard",
              "keyboard_pan_offset",
              "keyboard_zoom_offset",
              "max_zoom",
              "min_zoom",
              "prefer_canvas",
              "scroll_wheel_zoom",
              "tap",
              "tap_tolerance",
              "touch_zoom",
              "world_copy_jump",
              "zoom",
              "zoom_animation_threshold",
              "zoom_delta",
              "zoom_snap"
            ],
            "panes": {},
            "prefer_canvas": false,
            "right": 1758241,
            "scroll_wheel_zoom": true,
            "south": 24.08235788948846,
            "style": "IPY_MODEL_2b3e992b74444c1aa98926fc415a7571",
            "tap": true,
            "tap_tolerance": 15,
            "top": 903363,
            "touch_zoom": true,
            "west": 121.45626068115236,
            "window_url": "https://1op09n881xk-496ff2e9c6d22116-0-colab.googleusercontent.com/outputframe.html?vrz=colab_20250218-060201_RC00_728126846",
            "world_copy_jump": false,
            "zoom": 13,
            "zoom_animation_threshold": 4,
            "zoom_delta": 1,
            "zoom_snap": 1
          }
        },
        "14581e28117840ec9ddb5d4ddd9beae4": {
          "model_module": "@jupyter-widgets/base",
          "model_module_version": "1.2.0",
          "model_name": "LayoutModel",
          "state": {
            "_model_module": "@jupyter-widgets/base",
            "_model_module_version": "1.2.0",
            "_model_name": "LayoutModel",
            "_view_count": null,
            "_view_module": "@jupyter-widgets/base",
            "_view_module_version": "1.2.0",
            "_view_name": "LayoutView",
            "align_content": null,
            "align_items": null,
            "align_self": null,
            "border": null,
            "bottom": null,
            "display": "none",
            "flex": null,
            "flex_flow": null,
            "grid_area": null,
            "grid_auto_columns": null,
            "grid_auto_flow": null,
            "grid_auto_rows": null,
            "grid_column": null,
            "grid_gap": null,
            "grid_row": null,
            "grid_template_areas": null,
            "grid_template_columns": null,
            "grid_template_rows": null,
            "height": null,
            "justify_content": null,
            "justify_items": null,
            "left": null,
            "margin": null,
            "max_height": null,
            "max_width": null,
            "min_height": null,
            "min_width": null,
            "object_fit": null,
            "object_position": null,
            "order": null,
            "overflow": null,
            "overflow_x": null,
            "overflow_y": null,
            "padding": null,
            "right": null,
            "top": null,
            "visibility": null,
            "width": null
          }
        },
        "14b0f81a967b4c59a3c352d0e320fe1f": {
          "model_module": "@jupyter-widgets/controls",
          "model_module_version": "1.5.0",
          "model_name": "ButtonModel",
          "state": {
            "_dom_classes": [],
            "_model_module": "@jupyter-widgets/controls",
            "_model_module_version": "1.5.0",
            "_model_name": "ButtonModel",
            "_view_count": null,
            "_view_module": "@jupyter-widgets/controls",
            "_view_module_version": "1.5.0",
            "_view_name": "ButtonView",
            "button_style": "",
            "description": "",
            "disabled": false,
            "icon": "times",
            "layout": "IPY_MODEL_001d8a62b32a4c63978aa624563fc99c",
            "style": "IPY_MODEL_61d119bb2ac44ef8a448d191dfe8a43e",
            "tooltip": "Loaded"
          }
        },
        "164c047d784a4cb6b9e2110edb81e09d": {
          "model_module": "@jupyter-widgets/controls",
          "model_module_version": "1.5.0",
          "model_name": "FloatSliderModel",
          "state": {
            "_dom_classes": [],
            "_model_module": "@jupyter-widgets/controls",
            "_model_module_version": "1.5.0",
            "_model_name": "FloatSliderModel",
            "_view_count": null,
            "_view_module": "@jupyter-widgets/controls",
            "_view_module_version": "1.5.0",
            "_view_name": "FloatSliderView",
            "continuous_update": true,
            "description": "",
            "description_tooltip": null,
            "disabled": false,
            "layout": "IPY_MODEL_6058af33c05145f5a01bf45ccf5588ab",
            "max": 1,
            "min": 0,
            "orientation": "horizontal",
            "readout": false,
            "readout_format": ".2f",
            "step": 0.01,
            "style": "IPY_MODEL_694bb1197fa84888a5d349169e0e1c2a",
            "value": 1
          }
        },
        "169a72887d594d2d9029b3dd967a0615": {
          "model_module": "@jupyter-widgets/base",
          "model_module_version": "1.2.0",
          "model_name": "LayoutModel",
          "state": {
            "_model_module": "@jupyter-widgets/base",
            "_model_module_version": "1.2.0",
            "_model_name": "LayoutModel",
            "_view_count": null,
            "_view_module": "@jupyter-widgets/base",
            "_view_module_version": "1.2.0",
            "_view_name": "LayoutView",
            "align_content": null,
            "align_items": "center",
            "align_self": null,
            "border": null,
            "bottom": null,
            "display": "flex",
            "flex": null,
            "flex_flow": null,
            "grid_area": null,
            "grid_auto_columns": null,
            "grid_auto_flow": null,
            "grid_auto_rows": null,
            "grid_column": null,
            "grid_gap": null,
            "grid_row": null,
            "grid_template_areas": null,
            "grid_template_columns": null,
            "grid_template_rows": null,
            "height": null,
            "justify_content": "flex-end",
            "justify_items": null,
            "left": null,
            "margin": null,
            "max_height": null,
            "max_width": null,
            "min_height": null,
            "min_width": null,
            "object_fit": null,
            "object_position": null,
            "order": null,
            "overflow": null,
            "overflow_x": null,
            "overflow_y": null,
            "padding": null,
            "right": null,
            "top": null,
            "visibility": null,
            "width": null
          }
        },
        "174782e5be1743d2902a3137959b9fb1": {
          "model_module": "@jupyter-widgets/controls",
          "model_module_version": "1.5.0",
          "model_name": "DescriptionStyleModel",
          "state": {
            "_model_module": "@jupyter-widgets/controls",
            "_model_module_version": "1.5.0",
            "_model_name": "DescriptionStyleModel",
            "_view_count": null,
            "_view_module": "@jupyter-widgets/base",
            "_view_module_version": "1.2.0",
            "_view_name": "StyleView",
            "description_width": ""
          }
        },
        "178bad88a150449199fe5f60affbfae9": {
          "model_module": "@jupyter-widgets/controls",
          "model_module_version": "1.5.0",
          "model_name": "HBoxModel",
          "state": {
            "_dom_classes": [],
            "_model_module": "@jupyter-widgets/controls",
            "_model_module_version": "1.5.0",
            "_model_name": "HBoxModel",
            "_view_count": null,
            "_view_module": "@jupyter-widgets/controls",
            "_view_module_version": "1.5.0",
            "_view_name": "HBoxView",
            "box_style": "",
            "children": [
              "IPY_MODEL_21509bb00b304c16adb0895861b8f1f5",
              "IPY_MODEL_a8e3598d65d24ef9afc26bbd6256789d"
            ],
            "layout": "IPY_MODEL_14581e28117840ec9ddb5d4ddd9beae4"
          }
        },
        "17e676eca33f4334b76a595ebbc1fc27": {
          "model_module": "@jupyter-widgets/controls",
          "model_module_version": "1.5.0",
          "model_name": "CheckboxModel",
          "state": {
            "_dom_classes": [],
            "_model_module": "@jupyter-widgets/controls",
            "_model_module_version": "1.5.0",
            "_model_name": "CheckboxModel",
            "_view_count": null,
            "_view_module": "@jupyter-widgets/controls",
            "_view_module_version": "1.5.0",
            "_view_name": "CheckboxView",
            "description": "ASCENDING predictions",
            "description_tooltip": null,
            "disabled": false,
            "indent": false,
            "layout": "IPY_MODEL_a9b069d3bba04d0ab984c4e2dc48cf91",
            "style": "IPY_MODEL_7adfc0e2fa2c484e9fba2e5750b89496",
            "value": true
          }
        },
        "19b6a05cb3d84b48bb132a79e7a6ad97": {
          "model_module": "@jupyter-widgets/controls",
          "model_module_version": "1.5.0",
          "model_name": "DescriptionStyleModel",
          "state": {
            "_model_module": "@jupyter-widgets/controls",
            "_model_module_version": "1.5.0",
            "_model_name": "DescriptionStyleModel",
            "_view_count": null,
            "_view_module": "@jupyter-widgets/base",
            "_view_module_version": "1.2.0",
            "_view_name": "StyleView",
            "description_width": ""
          }
        },
        "1a80d7ea9b6f42e8a433c15e4bc283ef": {
          "model_module": "jupyter-leaflet",
          "model_module_version": "^0.19",
          "model_name": "LeafletZoomControlModel",
          "state": {
            "_model_module": "jupyter-leaflet",
            "_model_module_version": "^0.19",
            "_model_name": "LeafletZoomControlModel",
            "_view_count": null,
            "_view_module": "jupyter-leaflet",
            "_view_module_version": "^0.19",
            "_view_name": "LeafletZoomControlView",
            "options": [
              "position",
              "zoom_in_text",
              "zoom_in_title",
              "zoom_out_text",
              "zoom_out_title"
            ],
            "position": "topleft",
            "zoom_in_text": "+",
            "zoom_in_title": "Zoom in",
            "zoom_out_text": "-",
            "zoom_out_title": "Zoom out"
          }
        },
        "1d26ab47fff34faba3a0844e47966aa1": {
          "model_module": "@jupyter-widgets/base",
          "model_module_version": "1.2.0",
          "model_name": "LayoutModel",
          "state": {
            "_model_module": "@jupyter-widgets/base",
            "_model_module_version": "1.2.0",
            "_model_name": "LayoutModel",
            "_view_count": null,
            "_view_module": "@jupyter-widgets/base",
            "_view_module_version": "1.2.0",
            "_view_name": "LayoutView",
            "align_content": null,
            "align_items": null,
            "align_self": null,
            "border": null,
            "bottom": null,
            "display": null,
            "flex": null,
            "flex_flow": null,
            "grid_area": null,
            "grid_auto_columns": null,
            "grid_auto_flow": null,
            "grid_auto_rows": null,
            "grid_column": null,
            "grid_gap": null,
            "grid_row": null,
            "grid_template_areas": null,
            "grid_template_columns": null,
            "grid_template_rows": null,
            "height": "18px",
            "justify_content": null,
            "justify_items": null,
            "left": null,
            "margin": null,
            "max_height": null,
            "max_width": null,
            "min_height": null,
            "min_width": null,
            "object_fit": null,
            "object_position": null,
            "order": null,
            "overflow": null,
            "overflow_x": null,
            "overflow_y": null,
            "padding": "0px 4px 25px 4px",
            "right": null,
            "top": null,
            "visibility": null,
            "width": "30ex"
          }
        },
        "1d5bee064cc14afbac1b5b821227a12b": {
          "model_module": "@jupyter-widgets/controls",
          "model_module_version": "1.5.0",
          "model_name": "HTMLModel",
          "state": {
            "_dom_classes": [],
            "_model_module": "@jupyter-widgets/controls",
            "_model_module_version": "1.5.0",
            "_model_name": "HTMLModel",
            "_view_count": null,
            "_view_module": "@jupyter-widgets/controls",
            "_view_module_version": "1.5.0",
            "_view_name": "HTMLView",
            "description": "",
            "description_tooltip": null,
            "layout": "IPY_MODEL_58f50766a91f4408afa6b21b261a650b",
            "placeholder": "​",
            "style": "IPY_MODEL_b4fed274682e48a9856a8aaff6d8e9d9",
            "value": ""
          }
        },
        "211d887b22844d11b74164986daa980d": {
          "model_module": "@jupyter-widgets/base",
          "model_module_version": "1.2.0",
          "model_name": "LayoutModel",
          "state": {
            "_model_module": "@jupyter-widgets/base",
            "_model_module_version": "1.2.0",
            "_model_name": "LayoutModel",
            "_view_count": null,
            "_view_module": "@jupyter-widgets/base",
            "_view_module_version": "1.2.0",
            "_view_name": "LayoutView",
            "align_content": null,
            "align_items": null,
            "align_self": null,
            "border": null,
            "bottom": null,
            "display": null,
            "flex": null,
            "flex_flow": null,
            "grid_area": null,
            "grid_auto_columns": null,
            "grid_auto_flow": null,
            "grid_auto_rows": null,
            "grid_column": null,
            "grid_gap": null,
            "grid_row": null,
            "grid_template_areas": null,
            "grid_template_columns": null,
            "grid_template_rows": null,
            "height": "18px",
            "justify_content": null,
            "justify_items": null,
            "left": null,
            "margin": null,
            "max_height": null,
            "max_width": null,
            "min_height": null,
            "min_width": null,
            "object_fit": null,
            "object_position": null,
            "order": null,
            "overflow": null,
            "overflow_x": null,
            "overflow_y": null,
            "padding": null,
            "right": null,
            "top": null,
            "visibility": null,
            "width": "140px"
          }
        },
        "2125a7096e4e44968d55958ca2c38719": {
          "model_module": "@jupyter-widgets/controls",
          "model_module_version": "1.5.0",
          "model_name": "HBoxModel",
          "state": {
            "_dom_classes": [],
            "_model_module": "@jupyter-widgets/controls",
            "_model_module_version": "1.5.0",
            "_model_name": "HBoxModel",
            "_view_count": null,
            "_view_module": "@jupyter-widgets/controls",
            "_view_module_version": "1.5.0",
            "_view_name": "HBoxView",
            "box_style": "",
            "children": [
              "IPY_MODEL_7ae0b3a392374d98be42f4920b59447f",
              "IPY_MODEL_3e952897072f40ec81d5afb2a1364297"
            ],
            "layout": "IPY_MODEL_0dc976f9b1d84a808976c22201c801b6"
          }
        },
        "21509bb00b304c16adb0895861b8f1f5": {
          "model_module": "@jupyter-widgets/controls",
          "model_module_version": "1.5.0",
          "model_name": "ButtonModel",
          "state": {
            "_dom_classes": [],
            "_model_module": "@jupyter-widgets/controls",
            "_model_module_version": "1.5.0",
            "_model_name": "ButtonModel",
            "_view_count": null,
            "_view_module": "@jupyter-widgets/controls",
            "_view_module_version": "1.5.0",
            "_view_name": "ButtonView",
            "button_style": "primary",
            "description": "",
            "disabled": false,
            "icon": "times",
            "layout": "IPY_MODEL_fa757535b9594a3db55268e8e2ceb381",
            "style": "IPY_MODEL_d7803f51c12c456489be28f0feb23604",
            "tooltip": "Close the tool"
          }
        },
        "2297d78384884e52ae3515f9e3121c16": {
          "model_module": "@jupyter-widgets/base",
          "model_module_version": "1.2.0",
          "model_name": "LayoutModel",
          "state": {
            "_model_module": "@jupyter-widgets/base",
            "_model_module_version": "1.2.0",
            "_model_name": "LayoutModel",
            "_view_count": null,
            "_view_module": "@jupyter-widgets/base",
            "_view_module_version": "1.2.0",
            "_view_name": "LayoutView",
            "align_content": null,
            "align_items": null,
            "align_self": null,
            "border": null,
            "bottom": null,
            "display": null,
            "flex": null,
            "flex_flow": null,
            "grid_area": null,
            "grid_auto_columns": null,
            "grid_auto_flow": null,
            "grid_auto_rows": null,
            "grid_column": null,
            "grid_gap": null,
            "grid_row": null,
            "grid_template_areas": null,
            "grid_template_columns": null,
            "grid_template_rows": null,
            "height": null,
            "justify_content": null,
            "justify_items": null,
            "left": null,
            "margin": null,
            "max_height": null,
            "max_width": null,
            "min_height": null,
            "min_width": null,
            "object_fit": null,
            "object_position": null,
            "order": null,
            "overflow": null,
            "overflow_x": null,
            "overflow_y": null,
            "padding": null,
            "right": null,
            "top": null,
            "visibility": null,
            "width": null
          }
        },
        "23590c5944d5434d93b2f58c7bf82287": {
          "model_module": "@jupyter-widgets/base",
          "model_module_version": "1.2.0",
          "model_name": "LayoutModel",
          "state": {
            "_model_module": "@jupyter-widgets/base",
            "_model_module_version": "1.2.0",
            "_model_name": "LayoutModel",
            "_view_count": null,
            "_view_module": "@jupyter-widgets/base",
            "_view_module_version": "1.2.0",
            "_view_name": "LayoutView",
            "align_content": null,
            "align_items": null,
            "align_self": null,
            "border": null,
            "bottom": null,
            "display": null,
            "flex": null,
            "flex_flow": null,
            "grid_area": null,
            "grid_auto_columns": null,
            "grid_auto_flow": null,
            "grid_auto_rows": null,
            "grid_column": null,
            "grid_gap": null,
            "grid_row": null,
            "grid_template_areas": null,
            "grid_template_columns": null,
            "grid_template_rows": null,
            "height": "25px",
            "justify_content": null,
            "justify_items": null,
            "left": null,
            "margin": null,
            "max_height": null,
            "max_width": null,
            "min_height": null,
            "min_width": null,
            "object_fit": null,
            "object_position": null,
            "order": null,
            "overflow": null,
            "overflow_x": null,
            "overflow_y": null,
            "padding": "0px",
            "right": null,
            "top": null,
            "visibility": null,
            "width": "25px"
          }
        },
        "23e6ae2201c6474e98495b7525aa9838": {
          "model_module": "@jupyter-widgets/base",
          "model_module_version": "1.2.0",
          "model_name": "LayoutModel",
          "state": {
            "_model_module": "@jupyter-widgets/base",
            "_model_module_version": "1.2.0",
            "_model_name": "LayoutModel",
            "_view_count": null,
            "_view_module": "@jupyter-widgets/base",
            "_view_module_version": "1.2.0",
            "_view_name": "LayoutView",
            "align_content": null,
            "align_items": null,
            "align_self": null,
            "border": null,
            "bottom": null,
            "display": null,
            "flex": null,
            "flex_flow": null,
            "grid_area": null,
            "grid_auto_columns": null,
            "grid_auto_flow": null,
            "grid_auto_rows": null,
            "grid_column": null,
            "grid_gap": null,
            "grid_row": null,
            "grid_template_areas": null,
            "grid_template_columns": null,
            "grid_template_rows": null,
            "height": null,
            "justify_content": null,
            "justify_items": null,
            "left": null,
            "margin": null,
            "max_height": null,
            "max_width": null,
            "min_height": null,
            "min_width": null,
            "object_fit": null,
            "object_position": null,
            "order": null,
            "overflow": null,
            "overflow_x": null,
            "overflow_y": null,
            "padding": null,
            "right": null,
            "top": null,
            "visibility": null,
            "width": null
          }
        },
        "24509470e5ca40849e43101fd1ee737e": {
          "model_module": "@jupyter-widgets/base",
          "model_module_version": "1.2.0",
          "model_name": "LayoutModel",
          "state": {
            "_model_module": "@jupyter-widgets/base",
            "_model_module_version": "1.2.0",
            "_model_name": "LayoutModel",
            "_view_count": null,
            "_view_module": "@jupyter-widgets/base",
            "_view_module_version": "1.2.0",
            "_view_name": "LayoutView",
            "align_content": null,
            "align_items": null,
            "align_self": null,
            "border": null,
            "bottom": null,
            "display": null,
            "flex": null,
            "flex_flow": null,
            "grid_area": null,
            "grid_auto_columns": null,
            "grid_auto_flow": null,
            "grid_auto_rows": null,
            "grid_column": null,
            "grid_gap": null,
            "grid_row": null,
            "grid_template_areas": null,
            "grid_template_columns": null,
            "grid_template_rows": null,
            "height": null,
            "justify_content": null,
            "justify_items": null,
            "left": null,
            "margin": null,
            "max_height": null,
            "max_width": null,
            "min_height": null,
            "min_width": null,
            "object_fit": null,
            "object_position": null,
            "order": null,
            "overflow": null,
            "overflow_x": null,
            "overflow_y": null,
            "padding": "0px 4px 0px 4px",
            "right": null,
            "top": null,
            "visibility": null,
            "width": null
          }
        },
        "24b654bd86504c0da6cf828b102719a2": {
          "model_module": "@jupyter-widgets/base",
          "model_module_version": "1.2.0",
          "model_name": "LayoutModel",
          "state": {
            "_model_module": "@jupyter-widgets/base",
            "_model_module_version": "1.2.0",
            "_model_name": "LayoutModel",
            "_view_count": null,
            "_view_module": "@jupyter-widgets/base",
            "_view_module_version": "1.2.0",
            "_view_name": "LayoutView",
            "align_content": null,
            "align_items": null,
            "align_self": null,
            "border": null,
            "bottom": null,
            "display": null,
            "flex": null,
            "flex_flow": null,
            "grid_area": null,
            "grid_auto_columns": null,
            "grid_auto_flow": null,
            "grid_auto_rows": null,
            "grid_column": null,
            "grid_gap": null,
            "grid_row": null,
            "grid_template_areas": null,
            "grid_template_columns": null,
            "grid_template_rows": null,
            "height": "25px",
            "justify_content": null,
            "justify_items": null,
            "left": null,
            "margin": null,
            "max_height": null,
            "max_width": null,
            "min_height": null,
            "min_width": null,
            "object_fit": null,
            "object_position": null,
            "order": null,
            "overflow": null,
            "overflow_x": null,
            "overflow_y": null,
            "padding": "0px",
            "right": null,
            "top": null,
            "visibility": null,
            "width": "25px"
          }
        },
        "24b86f2cd9ec46a1a750ab01d7144a7e": {
          "model_module": "jupyter-leaflet",
          "model_module_version": "^0.19",
          "model_name": "LeafletWidgetControlModel",
          "state": {
            "_model_module": "jupyter-leaflet",
            "_model_module_version": "^0.19",
            "_model_name": "LeafletWidgetControlModel",
            "_view_count": null,
            "_view_module": "jupyter-leaflet",
            "_view_module_version": "^0.19",
            "_view_name": "LeafletWidgetControlView",
            "max_height": null,
            "max_width": null,
            "min_height": null,
            "min_width": null,
            "options": [
              "position",
              "transparent_bg"
            ],
            "position": "bottomright",
            "transparent_bg": false,
            "widget": "IPY_MODEL_c2017e10b65d4803990cb8a5f1ccb071"
          }
        },
        "259e5b7346704de88a1955522cc8153a": {
          "model_module": "@jupyter-widgets/controls",
          "model_module_version": "1.5.0",
          "model_name": "DescriptionStyleModel",
          "state": {
            "_model_module": "@jupyter-widgets/controls",
            "_model_module_version": "1.5.0",
            "_model_name": "DescriptionStyleModel",
            "_view_count": null,
            "_view_module": "@jupyter-widgets/base",
            "_view_module_version": "1.2.0",
            "_view_name": "StyleView",
            "description_width": ""
          }
        },
        "263fab01d63449349610f15e63c29f0d": {
          "model_module": "@jupyter-widgets/base",
          "model_module_version": "1.2.0",
          "model_name": "LayoutModel",
          "state": {
            "_model_module": "@jupyter-widgets/base",
            "_model_module_version": "1.2.0",
            "_model_name": "LayoutModel",
            "_view_count": null,
            "_view_module": "@jupyter-widgets/base",
            "_view_module_version": "1.2.0",
            "_view_name": "LayoutView",
            "align_content": null,
            "align_items": null,
            "align_self": null,
            "border": null,
            "bottom": null,
            "display": null,
            "flex": null,
            "flex_flow": null,
            "grid_area": null,
            "grid_auto_columns": null,
            "grid_auto_flow": null,
            "grid_auto_rows": null,
            "grid_column": null,
            "grid_gap": null,
            "grid_row": null,
            "grid_template_areas": null,
            "grid_template_columns": null,
            "grid_template_rows": null,
            "height": "28px",
            "justify_content": null,
            "justify_items": null,
            "left": null,
            "margin": null,
            "max_height": null,
            "max_width": null,
            "min_height": null,
            "min_width": null,
            "object_fit": null,
            "object_position": null,
            "order": null,
            "overflow": null,
            "overflow_x": null,
            "overflow_y": null,
            "padding": "0px 0px 0px 4px",
            "right": null,
            "top": null,
            "visibility": null,
            "width": "28px"
          }
        },
        "26f9685de5ba4e0883bebf693fda3bf8": {
          "model_module": "@jupyter-widgets/controls",
          "model_module_version": "1.5.0",
          "model_name": "VBoxModel",
          "state": {
            "_dom_classes": [
              "geemap-colab"
            ],
            "_model_module": "@jupyter-widgets/controls",
            "_model_module_version": "1.5.0",
            "_model_name": "VBoxModel",
            "_view_count": null,
            "_view_module": "@jupyter-widgets/controls",
            "_view_module_version": "1.5.0",
            "_view_name": "VBoxView",
            "box_style": "",
            "children": [
              "IPY_MODEL_178bad88a150449199fe5f60affbfae9",
              "IPY_MODEL_b5bfa27fafc741a993ae4ed7e1ae5523"
            ],
            "layout": "IPY_MODEL_2297d78384884e52ae3515f9e3121c16"
          }
        },
        "281bd87818cf41ec915ebacb413be395": {
          "model_module": "@jupyter-widgets/controls",
          "model_module_version": "1.5.0",
          "model_name": "ButtonModel",
          "state": {
            "_dom_classes": [],
            "_model_module": "@jupyter-widgets/controls",
            "_model_module_version": "1.5.0",
            "_model_name": "ButtonModel",
            "_view_count": null,
            "_view_module": "@jupyter-widgets/controls",
            "_view_module_version": "1.5.0",
            "_view_name": "ButtonView",
            "button_style": "",
            "description": "",
            "disabled": false,
            "icon": "times",
            "layout": "IPY_MODEL_23590c5944d5434d93b2f58c7bf82287",
            "style": "IPY_MODEL_097630560af84f65bfcfe45a152adda6",
            "tooltip": "Loaded"
          }
        },
        "282d53ca2a4640338422148e6a468f9a": {
          "model_module": "@jupyter-widgets/base",
          "model_module_version": "1.2.0",
          "model_name": "LayoutModel",
          "state": {
            "_model_module": "@jupyter-widgets/base",
            "_model_module_version": "1.2.0",
            "_model_name": "LayoutModel",
            "_view_count": null,
            "_view_module": "@jupyter-widgets/base",
            "_view_module_version": "1.2.0",
            "_view_name": "LayoutView",
            "align_content": null,
            "align_items": null,
            "align_self": null,
            "border": null,
            "bottom": null,
            "display": null,
            "flex": null,
            "flex_flow": null,
            "grid_area": null,
            "grid_auto_columns": null,
            "grid_auto_flow": null,
            "grid_auto_rows": null,
            "grid_column": null,
            "grid_gap": null,
            "grid_row": null,
            "grid_template_areas": null,
            "grid_template_columns": null,
            "grid_template_rows": null,
            "height": null,
            "justify_content": null,
            "justify_items": null,
            "left": null,
            "margin": null,
            "max_height": null,
            "max_width": null,
            "min_height": null,
            "min_width": null,
            "object_fit": null,
            "object_position": null,
            "order": null,
            "overflow": null,
            "overflow_x": null,
            "overflow_y": null,
            "padding": "0px 3px 0px 0px",
            "right": null,
            "top": null,
            "visibility": null,
            "width": "70px"
          }
        },
        "2836492d2252415795a77f434e79e342": {
          "model_module": "@jupyter-widgets/controls",
          "model_module_version": "1.5.0",
          "model_name": "HBoxModel",
          "state": {
            "_dom_classes": [],
            "_model_module": "@jupyter-widgets/controls",
            "_model_module_version": "1.5.0",
            "_model_name": "HBoxModel",
            "_view_count": null,
            "_view_module": "@jupyter-widgets/controls",
            "_view_module_version": "1.5.0",
            "_view_name": "HBoxView",
            "box_style": "",
            "children": [
              "IPY_MODEL_e614a46e2a02447db98c623166760467",
              "IPY_MODEL_eef4392f73534aa49d21a508427e13ca",
              "IPY_MODEL_85df14dd45e94b7394a075074de6b07b",
              "IPY_MODEL_c0d5dcb0cb4d4eaf8729e74b17df9c33"
            ],
            "layout": "IPY_MODEL_da4798e6375441edb0d6eb1108ba7586"
          }
        },
        "28a4ceb6eaee4a85814a25b4b9968d66": {
          "model_module": "@jupyter-widgets/controls",
          "model_module_version": "1.5.0",
          "model_name": "SliderStyleModel",
          "state": {
            "_model_module": "@jupyter-widgets/controls",
            "_model_module_version": "1.5.0",
            "_model_name": "SliderStyleModel",
            "_view_count": null,
            "_view_module": "@jupyter-widgets/base",
            "_view_module_version": "1.2.0",
            "_view_name": "StyleView",
            "description_width": "",
            "handle_color": null
          }
        },
        "2a2c5bbe6ae24653b3293e5ec197cee5": {
          "model_module": "@jupyter-widgets/base",
          "model_module_version": "1.2.0",
          "model_name": "LayoutModel",
          "state": {
            "_model_module": "@jupyter-widgets/base",
            "_model_module_version": "1.2.0",
            "_model_name": "LayoutModel",
            "_view_count": null,
            "_view_module": "@jupyter-widgets/base",
            "_view_module_version": "1.2.0",
            "_view_name": "LayoutView",
            "align_content": null,
            "align_items": null,
            "align_self": null,
            "border": null,
            "bottom": null,
            "display": null,
            "flex": null,
            "flex_flow": null,
            "grid_area": null,
            "grid_auto_columns": null,
            "grid_auto_flow": null,
            "grid_auto_rows": null,
            "grid_column": null,
            "grid_gap": null,
            "grid_row": null,
            "grid_template_areas": null,
            "grid_template_columns": null,
            "grid_template_rows": null,
            "height": "25px",
            "justify_content": null,
            "justify_items": null,
            "left": null,
            "margin": null,
            "max_height": null,
            "max_width": null,
            "min_height": null,
            "min_width": null,
            "object_fit": null,
            "object_position": null,
            "order": null,
            "overflow": null,
            "overflow_x": null,
            "overflow_y": null,
            "padding": "0px",
            "right": null,
            "top": null,
            "visibility": null,
            "width": "25px"
          }
        },
        "2a71cc5ef29c4a918f49194cafdb639e": {
          "model_module": "@jupyter-widgets/controls",
          "model_module_version": "1.5.0",
          "model_name": "DescriptionStyleModel",
          "state": {
            "_model_module": "@jupyter-widgets/controls",
            "_model_module_version": "1.5.0",
            "_model_name": "DescriptionStyleModel",
            "_view_count": null,
            "_view_module": "@jupyter-widgets/base",
            "_view_module_version": "1.2.0",
            "_view_name": "StyleView",
            "description_width": ""
          }
        },
        "2b3e992b74444c1aa98926fc415a7571": {
          "model_module": "jupyter-leaflet",
          "model_module_version": "^0.19",
          "model_name": "LeafletMapStyleModel",
          "state": {
            "_model_module": "jupyter-leaflet",
            "_model_module_version": "^0.19",
            "_model_name": "LeafletMapStyleModel",
            "_view_count": null,
            "_view_module": "@jupyter-widgets/base",
            "_view_module_version": "1.2.0",
            "_view_name": "StyleView",
            "cursor": "grab"
          }
        },
        "2b9eb81e51874efbb7eac4cdf7b4120f": {
          "model_module": "@jupyter-widgets/base",
          "model_module_version": "1.2.0",
          "model_name": "LayoutModel",
          "state": {
            "_model_module": "@jupyter-widgets/base",
            "_model_module_version": "1.2.0",
            "_model_name": "LayoutModel",
            "_view_count": null,
            "_view_module": "@jupyter-widgets/base",
            "_view_module_version": "1.2.0",
            "_view_name": "LayoutView",
            "align_content": null,
            "align_items": null,
            "align_self": null,
            "border": null,
            "bottom": null,
            "display": null,
            "flex": null,
            "flex_flow": null,
            "grid_area": null,
            "grid_auto_columns": null,
            "grid_auto_flow": null,
            "grid_auto_rows": null,
            "grid_column": null,
            "grid_gap": null,
            "grid_row": null,
            "grid_template_areas": null,
            "grid_template_columns": null,
            "grid_template_rows": null,
            "height": "28px",
            "justify_content": null,
            "justify_items": null,
            "left": null,
            "margin": null,
            "max_height": null,
            "max_width": null,
            "min_height": null,
            "min_width": null,
            "object_fit": null,
            "object_position": null,
            "order": null,
            "overflow": null,
            "overflow_x": null,
            "overflow_y": null,
            "padding": null,
            "right": null,
            "top": null,
            "visibility": null,
            "width": "72px"
          }
        },
        "2c41987fb8694efb90ab21af9c0d60e5": {
          "model_module": "@jupyter-widgets/base",
          "model_module_version": "1.2.0",
          "model_name": "LayoutModel",
          "state": {
            "_model_module": "@jupyter-widgets/base",
            "_model_module_version": "1.2.0",
            "_model_name": "LayoutModel",
            "_view_count": null,
            "_view_module": "@jupyter-widgets/base",
            "_view_module_version": "1.2.0",
            "_view_name": "LayoutView",
            "align_content": null,
            "align_items": null,
            "align_self": null,
            "border": null,
            "bottom": null,
            "display": null,
            "flex": null,
            "flex_flow": null,
            "grid_area": null,
            "grid_auto_columns": null,
            "grid_auto_flow": null,
            "grid_auto_rows": null,
            "grid_column": null,
            "grid_gap": null,
            "grid_row": null,
            "grid_template_areas": null,
            "grid_template_columns": null,
            "grid_template_rows": null,
            "height": "28px",
            "justify_content": null,
            "justify_items": null,
            "left": null,
            "margin": null,
            "max_height": null,
            "max_width": null,
            "min_height": null,
            "min_width": null,
            "object_fit": null,
            "object_position": null,
            "order": null,
            "overflow": null,
            "overflow_x": null,
            "overflow_y": null,
            "padding": "0px 0px 0px 4px",
            "right": null,
            "top": null,
            "visibility": null,
            "width": "28px"
          }
        },
        "2c71517ca6ce4f6bbce93f385ac9067d": {
          "model_module": "@jupyter-widgets/controls",
          "model_module_version": "1.5.0",
          "model_name": "CheckboxModel",
          "state": {
            "_dom_classes": [],
            "_model_module": "@jupyter-widgets/controls",
            "_model_module_version": "1.5.0",
            "_model_name": "CheckboxModel",
            "_view_count": null,
            "_view_module": "@jupyter-widgets/controls",
            "_view_module_version": "1.5.0",
            "_view_name": "CheckboxView",
            "description": "Drawn Features",
            "description_tooltip": null,
            "disabled": false,
            "indent": false,
            "layout": "IPY_MODEL_6b28d556b39d44e787e177c9e895e9bc",
            "style": "IPY_MODEL_981ca19e48da4b30b40ab8c84d3d005e",
            "value": false
          }
        },
        "2c97ad965f6e421b9d6d3cc89b0e0a40": {
          "model_module": "jupyter-leaflet",
          "model_module_version": "^0.19",
          "model_name": "LeafletAttributionControlModel",
          "state": {
            "_model_module": "jupyter-leaflet",
            "_model_module_version": "^0.19",
            "_model_name": "LeafletAttributionControlModel",
            "_view_count": null,
            "_view_module": "jupyter-leaflet",
            "_view_module_version": "^0.19",
            "_view_name": "LeafletAttributionControlView",
            "options": [
              "position",
              "prefix"
            ],
            "position": "bottomright",
            "prefix": "ipyleaflet"
          }
        },
        "2f0bf7b2d5d84e1c8d76eaa125c5877d": {
          "model_module": "@jupyter-widgets/controls",
          "model_module_version": "1.5.0",
          "model_name": "ButtonStyleModel",
          "state": {
            "_model_module": "@jupyter-widgets/controls",
            "_model_module_version": "1.5.0",
            "_model_name": "ButtonStyleModel",
            "_view_count": null,
            "_view_module": "@jupyter-widgets/base",
            "_view_module_version": "1.2.0",
            "_view_name": "StyleView",
            "button_color": null,
            "font_weight": ""
          }
        },
        "2fb0fb42451041ddaf40e033798272c8": {
          "model_module": "@jupyter-widgets/controls",
          "model_module_version": "1.5.0",
          "model_name": "VBoxModel",
          "state": {
            "_dom_classes": [
              "geemap-colab"
            ],
            "_model_module": "@jupyter-widgets/controls",
            "_model_module_version": "1.5.0",
            "_model_name": "VBoxModel",
            "_view_count": null,
            "_view_module": "@jupyter-widgets/controls",
            "_view_module_version": "1.5.0",
            "_view_name": "VBoxView",
            "box_style": "",
            "children": [
              "IPY_MODEL_aced500b166945539ee761fd4e10b96b",
              "IPY_MODEL_9016afcf904d461ebc1b92197cd74619"
            ],
            "layout": "IPY_MODEL_c70fd3f8861e45a1b2b7c4d1fe4b98fe"
          }
        },
        "3046c70a437d44f49fe6d7752d302861": {
          "model_module": "@jupyter-widgets/controls",
          "model_module_version": "1.5.0",
          "model_name": "DescriptionStyleModel",
          "state": {
            "_model_module": "@jupyter-widgets/controls",
            "_model_module_version": "1.5.0",
            "_model_name": "DescriptionStyleModel",
            "_view_count": null,
            "_view_module": "@jupyter-widgets/base",
            "_view_module_version": "1.2.0",
            "_view_name": "StyleView",
            "description_width": ""
          }
        },
        "316c3ff73f36413ea5200f9ab9162d26": {
          "model_module": "@jupyter-widgets/base",
          "model_module_version": "1.2.0",
          "model_name": "LayoutModel",
          "state": {
            "_model_module": "@jupyter-widgets/base",
            "_model_module_version": "1.2.0",
            "_model_name": "LayoutModel",
            "_view_count": null,
            "_view_module": "@jupyter-widgets/base",
            "_view_module_version": "1.2.0",
            "_view_name": "LayoutView",
            "align_content": null,
            "align_items": null,
            "align_self": null,
            "border": null,
            "bottom": null,
            "display": null,
            "flex": null,
            "flex_flow": null,
            "grid_area": null,
            "grid_auto_columns": null,
            "grid_auto_flow": null,
            "grid_auto_rows": null,
            "grid_column": null,
            "grid_gap": null,
            "grid_row": null,
            "grid_template_areas": null,
            "grid_template_columns": null,
            "grid_template_rows": null,
            "height": null,
            "justify_content": null,
            "justify_items": null,
            "left": null,
            "margin": null,
            "max_height": null,
            "max_width": null,
            "min_height": null,
            "min_width": null,
            "object_fit": null,
            "object_position": null,
            "order": null,
            "overflow": null,
            "overflow_x": null,
            "overflow_y": null,
            "padding": null,
            "right": null,
            "top": null,
            "visibility": null,
            "width": null
          }
        },
        "31a7cf9ca24647bcb233a105cac2d4bb": {
          "model_module": "@jupyter-widgets/controls",
          "model_module_version": "1.5.0",
          "model_name": "DescriptionStyleModel",
          "state": {
            "_model_module": "@jupyter-widgets/controls",
            "_model_module_version": "1.5.0",
            "_model_name": "DescriptionStyleModel",
            "_view_count": null,
            "_view_module": "@jupyter-widgets/base",
            "_view_module_version": "1.2.0",
            "_view_name": "StyleView",
            "description_width": ""
          }
        },
        "332af2914142465c8bee4aeb96cafd56": {
          "model_module": "@jupyter-widgets/controls",
          "model_module_version": "1.5.0",
          "model_name": "FloatSliderModel",
          "state": {
            "_dom_classes": [],
            "_model_module": "@jupyter-widgets/controls",
            "_model_module_version": "1.5.0",
            "_model_name": "FloatSliderModel",
            "_view_count": null,
            "_view_module": "@jupyter-widgets/controls",
            "_view_module_version": "1.5.0",
            "_view_name": "FloatSliderView",
            "continuous_update": true,
            "description": "",
            "description_tooltip": null,
            "disabled": false,
            "layout": "IPY_MODEL_282d53ca2a4640338422148e6a468f9a",
            "max": 1,
            "min": 0,
            "orientation": "horizontal",
            "readout": false,
            "readout_format": ".2f",
            "step": 0.01,
            "style": "IPY_MODEL_60e6aee7cfa247cda72a39218c02443b",
            "value": 1
          }
        },
        "34f203c5e98542608f3efda1fb2304d0": {
          "model_module": "@jupyter-widgets/controls",
          "model_module_version": "1.5.0",
          "model_name": "FloatSliderModel",
          "state": {
            "_dom_classes": [],
            "_model_module": "@jupyter-widgets/controls",
            "_model_module_version": "1.5.0",
            "_model_name": "FloatSliderModel",
            "_view_count": null,
            "_view_module": "@jupyter-widgets/controls",
            "_view_module_version": "1.5.0",
            "_view_name": "FloatSliderView",
            "continuous_update": true,
            "description": "",
            "description_tooltip": null,
            "disabled": false,
            "layout": "IPY_MODEL_e69da780ef4c4106b802e6fcc4878d12",
            "max": 1,
            "min": 0,
            "orientation": "horizontal",
            "readout": false,
            "readout_format": ".2f",
            "step": 0.01,
            "style": "IPY_MODEL_6e7c4cc824c1402289fa6e3bd5500da4",
            "value": 1
          }
        },
        "37e66666a82744c3b01e02dfbbe5ae24": {
          "model_module": "@jupyter-widgets/controls",
          "model_module_version": "1.5.0",
          "model_name": "ButtonStyleModel",
          "state": {
            "_model_module": "@jupyter-widgets/controls",
            "_model_module_version": "1.5.0",
            "_model_name": "ButtonStyleModel",
            "_view_count": null,
            "_view_module": "@jupyter-widgets/base",
            "_view_module_version": "1.2.0",
            "_view_name": "StyleView",
            "button_color": null,
            "font_weight": ""
          }
        },
        "37f6b111723742d087e3576ac4d9be8f": {
          "model_module": "@jupyter-widgets/controls",
          "model_module_version": "1.5.0",
          "model_name": "FloatSliderModel",
          "state": {
            "_dom_classes": [],
            "_model_module": "@jupyter-widgets/controls",
            "_model_module_version": "1.5.0",
            "_model_name": "FloatSliderModel",
            "_view_count": null,
            "_view_module": "@jupyter-widgets/controls",
            "_view_module_version": "1.5.0",
            "_view_name": "FloatSliderView",
            "continuous_update": true,
            "description": "",
            "description_tooltip": null,
            "disabled": false,
            "layout": "IPY_MODEL_ec5bc51a77fa49d689ba2dd8c0f2361e",
            "max": 1,
            "min": 0,
            "orientation": "horizontal",
            "readout": false,
            "readout_format": ".2f",
            "step": 0.01,
            "style": "IPY_MODEL_e701e36e8ff143bca4f7c551ba311afb",
            "value": 1
          }
        },
        "387bbe797e394b2a8e931efa7a47a263": {
          "model_module": "@jupyter-widgets/controls",
          "model_module_version": "1.5.0",
          "model_name": "VBoxModel",
          "state": {
            "_dom_classes": [],
            "_model_module": "@jupyter-widgets/controls",
            "_model_module_version": "1.5.0",
            "_model_name": "VBoxModel",
            "_view_count": null,
            "_view_module": "@jupyter-widgets/controls",
            "_view_module_version": "1.5.0",
            "_view_name": "VBoxView",
            "box_style": "",
            "children": [
              "IPY_MODEL_6a8109cf6eec40afbb2167c16d585566",
              "IPY_MODEL_cd77ea5f5f09455eb185c75d8397fa0d"
            ],
            "layout": "IPY_MODEL_a0eece58edcf4c0197c9fd2f1482b2c3"
          }
        },
        "38873140fcf24f6facc7bd0856526b1a": {
          "model_module": "@jupyter-widgets/controls",
          "model_module_version": "1.5.0",
          "model_name": "ButtonStyleModel",
          "state": {
            "_model_module": "@jupyter-widgets/controls",
            "_model_module_version": "1.5.0",
            "_model_name": "ButtonStyleModel",
            "_view_count": null,
            "_view_module": "@jupyter-widgets/base",
            "_view_module_version": "1.2.0",
            "_view_name": "StyleView",
            "button_color": null,
            "font_weight": ""
          }
        },
        "396bb64581a0477bb1e6162b3aa6e613": {
          "model_module": "@jupyter-widgets/controls",
          "model_module_version": "1.5.0",
          "model_name": "ButtonStyleModel",
          "state": {
            "_model_module": "@jupyter-widgets/controls",
            "_model_module_version": "1.5.0",
            "_model_name": "ButtonStyleModel",
            "_view_count": null,
            "_view_module": "@jupyter-widgets/base",
            "_view_module_version": "1.2.0",
            "_view_name": "StyleView",
            "button_color": null,
            "font_weight": ""
          }
        },
        "3987d0d77873483bbf6907de7192c2c3": {
          "model_module": "@jupyter-widgets/base",
          "model_module_version": "1.2.0",
          "model_name": "LayoutModel",
          "state": {
            "_model_module": "@jupyter-widgets/base",
            "_model_module_version": "1.2.0",
            "_model_name": "LayoutModel",
            "_view_count": null,
            "_view_module": "@jupyter-widgets/base",
            "_view_module_version": "1.2.0",
            "_view_name": "LayoutView",
            "align_content": null,
            "align_items": null,
            "align_self": null,
            "border": null,
            "bottom": null,
            "display": null,
            "flex": null,
            "flex_flow": null,
            "grid_area": null,
            "grid_auto_columns": null,
            "grid_auto_flow": null,
            "grid_auto_rows": null,
            "grid_column": null,
            "grid_gap": null,
            "grid_row": null,
            "grid_template_areas": null,
            "grid_template_columns": null,
            "grid_template_rows": null,
            "height": null,
            "justify_content": null,
            "justify_items": null,
            "left": null,
            "margin": null,
            "max_height": null,
            "max_width": null,
            "min_height": null,
            "min_width": null,
            "object_fit": null,
            "object_position": null,
            "order": null,
            "overflow": null,
            "overflow_x": null,
            "overflow_y": null,
            "padding": "0px 4px 0px 4px",
            "right": null,
            "top": null,
            "visibility": null,
            "width": null
          }
        },
        "39a815e697e04f29bb09c8bdb1c84b8f": {
          "model_module": "@jupyter-widgets/controls",
          "model_module_version": "1.5.0",
          "model_name": "DescriptionStyleModel",
          "state": {
            "_model_module": "@jupyter-widgets/controls",
            "_model_module_version": "1.5.0",
            "_model_name": "DescriptionStyleModel",
            "_view_count": null,
            "_view_module": "@jupyter-widgets/base",
            "_view_module_version": "1.2.0",
            "_view_name": "StyleView",
            "description_width": ""
          }
        },
        "3b711f85c5534d12ac49b84d8ee41758": {
          "model_module": "@jupyter-widgets/controls",
          "model_module_version": "1.5.0",
          "model_name": "ButtonModel",
          "state": {
            "_dom_classes": [],
            "_model_module": "@jupyter-widgets/controls",
            "_model_module_version": "1.5.0",
            "_model_name": "ButtonModel",
            "_view_count": null,
            "_view_module": "@jupyter-widgets/controls",
            "_view_module_version": "1.5.0",
            "_view_name": "ButtonView",
            "button_style": "",
            "description": "",
            "disabled": false,
            "icon": "gear",
            "layout": "IPY_MODEL_09752f37eceb415cb39cd08974f2ba89",
            "style": "IPY_MODEL_08bf82ffedbe4272b9450eb69e12feca",
            "tooltip": "DESCENDING predictions"
          }
        },
        "3b7c55237d7449fa9199c911a90e5e7d": {
          "model_module": "@jupyter-widgets/controls",
          "model_module_version": "1.5.0",
          "model_name": "ProgressStyleModel",
          "state": {
            "_model_module": "@jupyter-widgets/controls",
            "_model_module_version": "1.5.0",
            "_model_name": "ProgressStyleModel",
            "_view_count": null,
            "_view_module": "@jupyter-widgets/base",
            "_view_module_version": "1.2.0",
            "_view_name": "StyleView",
            "bar_color": null,
            "description_width": ""
          }
        },
        "3bd3b529801048cd8386f0a071364879": {
          "model_module": "@jupyter-widgets/controls",
          "model_module_version": "1.5.0",
          "model_name": "ToggleButtonModel",
          "state": {
            "_dom_classes": [],
            "_model_module": "@jupyter-widgets/controls",
            "_model_module_version": "1.5.0",
            "_model_name": "ToggleButtonModel",
            "_view_count": null,
            "_view_module": "@jupyter-widgets/controls",
            "_view_module_version": "1.5.0",
            "_view_name": "ToggleButtonView",
            "button_style": "",
            "description": "",
            "description_tooltip": null,
            "disabled": false,
            "icon": "wrench",
            "layout": "IPY_MODEL_0b21d79efdb24cb386933f1440fb78b7",
            "style": "IPY_MODEL_4109377740054826917f320d838ae342",
            "tooltip": "Toolbar",
            "value": false
          }
        },
        "3c4d04663f364bc3a6ec76e2f7793829": {
          "model_module": "@jupyter-widgets/base",
          "model_module_version": "1.2.0",
          "model_name": "LayoutModel",
          "state": {
            "_model_module": "@jupyter-widgets/base",
            "_model_module_version": "1.2.0",
            "_model_name": "LayoutModel",
            "_view_count": null,
            "_view_module": "@jupyter-widgets/base",
            "_view_module_version": "1.2.0",
            "_view_name": "LayoutView",
            "align_content": null,
            "align_items": null,
            "align_self": null,
            "border": null,
            "bottom": null,
            "display": null,
            "flex": null,
            "flex_flow": null,
            "grid_area": null,
            "grid_auto_columns": null,
            "grid_auto_flow": null,
            "grid_auto_rows": null,
            "grid_column": null,
            "grid_gap": null,
            "grid_row": null,
            "grid_template_areas": null,
            "grid_template_columns": null,
            "grid_template_rows": null,
            "height": "600px",
            "justify_content": null,
            "justify_items": null,
            "left": null,
            "margin": null,
            "max_height": null,
            "max_width": null,
            "min_height": null,
            "min_width": null,
            "object_fit": null,
            "object_position": null,
            "order": null,
            "overflow": null,
            "overflow_x": null,
            "overflow_y": null,
            "padding": null,
            "right": null,
            "top": null,
            "visibility": null,
            "width": null
          }
        },
        "3ca5c68a449c46458d0dc6533338e415": {
          "model_module": "@jupyter-widgets/base",
          "model_module_version": "1.2.0",
          "model_name": "LayoutModel",
          "state": {
            "_model_module": "@jupyter-widgets/base",
            "_model_module_version": "1.2.0",
            "_model_name": "LayoutModel",
            "_view_count": null,
            "_view_module": "@jupyter-widgets/base",
            "_view_module_version": "1.2.0",
            "_view_name": "LayoutView",
            "align_content": null,
            "align_items": null,
            "align_self": null,
            "border": null,
            "bottom": null,
            "display": null,
            "flex": null,
            "flex_flow": null,
            "grid_area": null,
            "grid_auto_columns": null,
            "grid_auto_flow": null,
            "grid_auto_rows": null,
            "grid_column": null,
            "grid_gap": null,
            "grid_row": null,
            "grid_template_areas": null,
            "grid_template_columns": null,
            "grid_template_rows": null,
            "height": "28px",
            "justify_content": null,
            "justify_items": null,
            "left": null,
            "margin": null,
            "max_height": null,
            "max_width": null,
            "min_height": null,
            "min_width": null,
            "object_fit": null,
            "object_position": null,
            "order": null,
            "overflow": null,
            "overflow_x": null,
            "overflow_y": null,
            "padding": "0px",
            "right": null,
            "top": null,
            "visibility": null,
            "width": "28px"
          }
        },
        "3cff8e392c6441ae8d8d50ac7040f8eb": {
          "model_module": "@jupyter-widgets/base",
          "model_module_version": "1.2.0",
          "model_name": "LayoutModel",
          "state": {
            "_model_module": "@jupyter-widgets/base",
            "_model_module_version": "1.2.0",
            "_model_name": "LayoutModel",
            "_view_count": null,
            "_view_module": "@jupyter-widgets/base",
            "_view_module_version": "1.2.0",
            "_view_name": "LayoutView",
            "align_content": null,
            "align_items": null,
            "align_self": null,
            "border": null,
            "bottom": null,
            "display": null,
            "flex": null,
            "flex_flow": null,
            "grid_area": null,
            "grid_auto_columns": null,
            "grid_auto_flow": null,
            "grid_auto_rows": null,
            "grid_column": null,
            "grid_gap": null,
            "grid_row": null,
            "grid_template_areas": null,
            "grid_template_columns": null,
            "grid_template_rows": null,
            "height": null,
            "justify_content": null,
            "justify_items": null,
            "left": null,
            "margin": null,
            "max_height": null,
            "max_width": null,
            "min_height": null,
            "min_width": null,
            "object_fit": null,
            "object_position": null,
            "order": null,
            "overflow": null,
            "overflow_x": null,
            "overflow_y": null,
            "padding": "0px 3px 0px 0px",
            "right": null,
            "top": null,
            "visibility": null,
            "width": "70px"
          }
        },
        "3e952897072f40ec81d5afb2a1364297": {
          "model_module": "@jupyter-widgets/controls",
          "model_module_version": "1.5.0",
          "model_name": "ToggleButtonModel",
          "state": {
            "_dom_classes": [],
            "_model_module": "@jupyter-widgets/controls",
            "_model_module_version": "1.5.0",
            "_model_name": "ToggleButtonModel",
            "_view_count": null,
            "_view_module": "@jupyter-widgets/controls",
            "_view_module_version": "1.5.0",
            "_view_name": "ToggleButtonView",
            "button_style": "",
            "description": "",
            "description_tooltip": null,
            "disabled": false,
            "icon": "server",
            "layout": "IPY_MODEL_e4ffa6432f354569bc53a737e0855817",
            "style": "IPY_MODEL_c5e407ec9d8240419312e16447bbfb9e",
            "tooltip": "Layer Manager",
            "value": true
          }
        },
        "3f93851231cd48568cbe15fdb30d8909": {
          "model_module": "@jupyter-widgets/controls",
          "model_module_version": "1.5.0",
          "model_name": "VBoxModel",
          "state": {
            "_dom_classes": [
              "geemap-colab"
            ],
            "_model_module": "@jupyter-widgets/controls",
            "_model_module_version": "1.5.0",
            "_model_name": "VBoxModel",
            "_view_count": null,
            "_view_module": "@jupyter-widgets/controls",
            "_view_module_version": "1.5.0",
            "_view_name": "VBoxView",
            "box_style": "",
            "children": [
              "IPY_MODEL_2125a7096e4e44968d55958ca2c38719",
              "IPY_MODEL_452328d796ff4005ac9baf5d40f7cd52"
            ],
            "layout": "IPY_MODEL_f04d44f0f41442f7ad8785d8c6c7feee"
          }
        },
        "3fc2ab965fe44eca947085f26deda863": {
          "model_module": "@jupyter-widgets/controls",
          "model_module_version": "1.5.0",
          "model_name": "ToggleButtonModel",
          "state": {
            "_dom_classes": [],
            "_model_module": "@jupyter-widgets/controls",
            "_model_module_version": "1.5.0",
            "_model_name": "ToggleButtonModel",
            "_view_count": null,
            "_view_module": "@jupyter-widgets/controls",
            "_view_module_version": "1.5.0",
            "_view_name": "ToggleButtonView",
            "button_style": "",
            "description": "",
            "description_tooltip": null,
            "disabled": false,
            "icon": "times",
            "layout": "IPY_MODEL_263fab01d63449349610f15e63c29f0d",
            "style": "IPY_MODEL_6affc46ab4b848b498202bafbf2d97e3",
            "tooltip": "Close the tool",
            "value": false
          }
        },
        "40467c343ef44b2abf2abd45df9daf15": {
          "model_module": "@jupyter-widgets/controls",
          "model_module_version": "1.5.0",
          "model_name": "ButtonModel",
          "state": {
            "_dom_classes": [],
            "_model_module": "@jupyter-widgets/controls",
            "_model_module_version": "1.5.0",
            "_model_name": "ButtonModel",
            "_view_count": null,
            "_view_module": "@jupyter-widgets/controls",
            "_view_module_version": "1.5.0",
            "_view_name": "ButtonView",
            "button_style": "",
            "description": "",
            "disabled": false,
            "icon": "gear",
            "layout": "IPY_MODEL_2a2c5bbe6ae24653b3293e5ec197cee5",
            "style": "IPY_MODEL_f30674bf528c4ad4b35c1750fc24e6cc",
            "tooltip": "ASCENDING predictions"
          }
        },
        "4109377740054826917f320d838ae342": {
          "model_module": "@jupyter-widgets/controls",
          "model_module_version": "1.5.0",
          "model_name": "DescriptionStyleModel",
          "state": {
            "_model_module": "@jupyter-widgets/controls",
            "_model_module_version": "1.5.0",
            "_model_name": "DescriptionStyleModel",
            "_view_count": null,
            "_view_module": "@jupyter-widgets/base",
            "_view_module_version": "1.2.0",
            "_view_name": "StyleView",
            "description_width": ""
          }
        },
        "429be9db37764debad59c3e80b2041de": {
          "model_module": "@jupyter-widgets/base",
          "model_module_version": "1.2.0",
          "model_name": "LayoutModel",
          "state": {
            "_model_module": "@jupyter-widgets/base",
            "_model_module_version": "1.2.0",
            "_model_name": "LayoutModel",
            "_view_count": null,
            "_view_module": "@jupyter-widgets/base",
            "_view_module_version": "1.2.0",
            "_view_name": "LayoutView",
            "align_content": null,
            "align_items": null,
            "align_self": null,
            "border": null,
            "bottom": null,
            "display": null,
            "flex": null,
            "flex_flow": null,
            "grid_area": null,
            "grid_auto_columns": null,
            "grid_auto_flow": null,
            "grid_auto_rows": null,
            "grid_column": null,
            "grid_gap": null,
            "grid_row": null,
            "grid_template_areas": null,
            "grid_template_columns": null,
            "grid_template_rows": null,
            "height": null,
            "justify_content": null,
            "justify_items": null,
            "left": null,
            "margin": null,
            "max_height": null,
            "max_width": null,
            "min_height": null,
            "min_width": null,
            "object_fit": null,
            "object_position": null,
            "order": null,
            "overflow": null,
            "overflow_x": null,
            "overflow_y": null,
            "padding": null,
            "right": null,
            "top": null,
            "visibility": null,
            "width": null
          }
        },
        "430690f89e184f259becac4868a96ba2": {
          "model_module": "@jupyter-widgets/controls",
          "model_module_version": "1.5.0",
          "model_name": "ButtonStyleModel",
          "state": {
            "_model_module": "@jupyter-widgets/controls",
            "_model_module_version": "1.5.0",
            "_model_name": "ButtonStyleModel",
            "_view_count": null,
            "_view_module": "@jupyter-widgets/base",
            "_view_module_version": "1.2.0",
            "_view_name": "StyleView",
            "button_color": null,
            "font_weight": ""
          }
        },
        "448ae7548dcd41b58642c94242834c70": {
          "model_module": "jupyter-leaflet",
          "model_module_version": "^0.19",
          "model_name": "LeafletZoomControlModel",
          "state": {
            "_model_module": "jupyter-leaflet",
            "_model_module_version": "^0.19",
            "_model_name": "LeafletZoomControlModel",
            "_view_count": null,
            "_view_module": "jupyter-leaflet",
            "_view_module_version": "^0.19",
            "_view_name": "LeafletZoomControlView",
            "options": [
              "position",
              "zoom_in_text",
              "zoom_in_title",
              "zoom_out_text",
              "zoom_out_title"
            ],
            "position": "topleft",
            "zoom_in_text": "+",
            "zoom_in_title": "Zoom in",
            "zoom_out_text": "-",
            "zoom_out_title": "Zoom out"
          }
        },
        "44ca72f0d3a547b78f5e6063165d8459": {
          "model_module": "jupyter-leaflet",
          "model_module_version": "^0.19",
          "model_name": "LeafletTileLayerModel",
          "state": {
            "_model_module": "jupyter-leaflet",
            "_model_module_version": "^0.19",
            "_model_name": "LeafletTileLayerModel",
            "_view_count": null,
            "_view_module": "jupyter-leaflet",
            "_view_module_version": "^0.19",
            "_view_name": "LeafletTileLayerView",
            "attribution": "Google Earth Engine",
            "base": false,
            "bottom": true,
            "bounds": null,
            "detect_retina": false,
            "loading": false,
            "max_native_zoom": null,
            "max_zoom": 24,
            "min_native_zoom": null,
            "min_zoom": 0,
            "name": "diffVH",
            "no_wrap": false,
            "opacity": 1,
            "options": [
              "attribution",
              "bounds",
              "detect_retina",
              "max_native_zoom",
              "max_zoom",
              "min_native_zoom",
              "min_zoom",
              "no_wrap",
              "tile_size",
              "tms",
              "zoom_offset"
            ],
            "pane": "",
            "popup": null,
            "popup_max_height": null,
            "popup_max_width": 300,
            "popup_min_width": 50,
            "show_loading": false,
            "subitems": [],
            "tile_size": 256,
            "tms": false,
            "url": "https://earthengine.googleapis.com/v1/projects/ee-lorenava-learning-sar/maps/75f0492c8c45d561f7322e90bd7957b7-6204544e24004e31c6ee44fe4848f855/tiles/{z}/{x}/{y}",
            "visible": false,
            "zoom_offset": 0
          }
        },
        "452328d796ff4005ac9baf5d40f7cd52": {
          "model_module": "@jupyter-widgets/controls",
          "model_module_version": "1.5.0",
          "model_name": "VBoxModel",
          "state": {
            "_dom_classes": [],
            "_model_module": "@jupyter-widgets/controls",
            "_model_module_version": "1.5.0",
            "_model_name": "VBoxModel",
            "_view_count": null,
            "_view_module": "@jupyter-widgets/controls",
            "_view_module_version": "1.5.0",
            "_view_name": "VBoxView",
            "box_style": "",
            "children": [
              "IPY_MODEL_4bdab11262cd4d9e8a3c7cd79bdafc3d",
              "IPY_MODEL_2836492d2252415795a77f434e79e342",
              "IPY_MODEL_ba5033a4d03d43c392bf91256f2ddfac",
              "IPY_MODEL_8d300113cac04c8ebbd37f5ce1b2efad",
              "IPY_MODEL_4a26c06ec63c41948173b7870be39bea",
              "IPY_MODEL_0dc0a0449a62451a9be0d355e3547833",
              "IPY_MODEL_892cd85b483a4cad842426edb0d609c7",
              "IPY_MODEL_9fccafa5658e404d8b8915245d64844c",
              "IPY_MODEL_60848f7afc304c46b658ab1acba7dbb2"
            ],
            "layout": "IPY_MODEL_0bebacacc0a6427380c24244fc2642c9"
          }
        },
        "45b57969ba324eebb8c5730134c9ef86": {
          "model_module": "@jupyter-widgets/controls",
          "model_module_version": "1.5.0",
          "model_name": "ButtonStyleModel",
          "state": {
            "_model_module": "@jupyter-widgets/controls",
            "_model_module_version": "1.5.0",
            "_model_name": "ButtonStyleModel",
            "_view_count": null,
            "_view_module": "@jupyter-widgets/base",
            "_view_module_version": "1.2.0",
            "_view_name": "StyleView",
            "button_color": null,
            "font_weight": ""
          }
        },
        "4a26c06ec63c41948173b7870be39bea": {
          "model_module": "@jupyter-widgets/controls",
          "model_module_version": "1.5.0",
          "model_name": "HBoxModel",
          "state": {
            "_dom_classes": [],
            "_model_module": "@jupyter-widgets/controls",
            "_model_module_version": "1.5.0",
            "_model_name": "HBoxModel",
            "_view_count": null,
            "_view_module": "@jupyter-widgets/controls",
            "_view_module_version": "1.5.0",
            "_view_name": "HBoxView",
            "box_style": "",
            "children": [
              "IPY_MODEL_c6ccb290a2bf49038ad5f06f553a7554",
              "IPY_MODEL_34f203c5e98542608f3efda1fb2304d0",
              "IPY_MODEL_f37cccc4ce68402ca088e0934adfa9a0",
              "IPY_MODEL_bd9840dc0d7d41d68d189fd9f309eb1a"
            ],
            "layout": "IPY_MODEL_028caadfa8234afca33d36ebb62b438a"
          }
        },
        "4a4dd5a0ba2e4b0f9d40199ce8fe2516": {
          "model_module": "@jupyter-widgets/base",
          "model_module_version": "1.2.0",
          "model_name": "LayoutModel",
          "state": {
            "_model_module": "@jupyter-widgets/base",
            "_model_module_version": "1.2.0",
            "_model_name": "LayoutModel",
            "_view_count": null,
            "_view_module": "@jupyter-widgets/base",
            "_view_module_version": "1.2.0",
            "_view_name": "LayoutView",
            "align_content": null,
            "align_items": null,
            "align_self": null,
            "border": null,
            "bottom": null,
            "display": null,
            "flex": null,
            "flex_flow": null,
            "grid_area": null,
            "grid_auto_columns": null,
            "grid_auto_flow": null,
            "grid_auto_rows": null,
            "grid_column": null,
            "grid_gap": null,
            "grid_row": null,
            "grid_template_areas": null,
            "grid_template_columns": null,
            "grid_template_rows": null,
            "height": "18px",
            "justify_content": null,
            "justify_items": null,
            "left": null,
            "margin": null,
            "max_height": null,
            "max_width": null,
            "min_height": null,
            "min_width": null,
            "object_fit": null,
            "object_position": null,
            "order": null,
            "overflow": null,
            "overflow_x": null,
            "overflow_y": null,
            "padding": "0px 4px 25px 4px",
            "right": null,
            "top": null,
            "visibility": null,
            "width": "30ex"
          }
        },
        "4a9fefd6a7ae4ae0b16cdfccf3d61a18": {
          "model_module": "@jupyter-widgets/controls",
          "model_module_version": "1.5.0",
          "model_name": "FloatSliderModel",
          "state": {
            "_dom_classes": [],
            "_model_module": "@jupyter-widgets/controls",
            "_model_module_version": "1.5.0",
            "_model_name": "FloatSliderModel",
            "_view_count": null,
            "_view_module": "@jupyter-widgets/controls",
            "_view_module_version": "1.5.0",
            "_view_name": "FloatSliderView",
            "continuous_update": true,
            "description": "",
            "description_tooltip": null,
            "disabled": false,
            "layout": "IPY_MODEL_b27b0e37123e48378501cfb40405a680",
            "max": 1,
            "min": 0,
            "orientation": "horizontal",
            "readout": false,
            "readout_format": ".2f",
            "step": 0.01,
            "style": "IPY_MODEL_084f450d3c61466db0c85eb23c51aec2",
            "value": 1
          }
        },
        "4bdab11262cd4d9e8a3c7cd79bdafc3d": {
          "model_module": "@jupyter-widgets/controls",
          "model_module_version": "1.5.0",
          "model_name": "CheckboxModel",
          "state": {
            "_dom_classes": [],
            "_model_module": "@jupyter-widgets/controls",
            "_model_module_version": "1.5.0",
            "_model_name": "CheckboxModel",
            "_view_count": null,
            "_view_module": "@jupyter-widgets/controls",
            "_view_module_version": "1.5.0",
            "_view_name": "CheckboxView",
            "description": "All layers on/off",
            "description_tooltip": null,
            "disabled": false,
            "indent": false,
            "layout": "IPY_MODEL_1d26ab47fff34faba3a0844e47966aa1",
            "style": "IPY_MODEL_b598dd30626e41beb50c4815ef25066d",
            "value": false
          }
        },
        "4da9e66833014f95a3d6874a2eaaa113": {
          "model_module": "@jupyter-widgets/controls",
          "model_module_version": "1.5.0",
          "model_name": "FloatSliderModel",
          "state": {
            "_dom_classes": [],
            "_model_module": "@jupyter-widgets/controls",
            "_model_module_version": "1.5.0",
            "_model_name": "FloatSliderModel",
            "_view_count": null,
            "_view_module": "@jupyter-widgets/controls",
            "_view_module_version": "1.5.0",
            "_view_name": "FloatSliderView",
            "continuous_update": true,
            "description": "",
            "description_tooltip": null,
            "disabled": false,
            "layout": "IPY_MODEL_7aa9714bd68e4daf95b092527c657472",
            "max": 1,
            "min": 0,
            "orientation": "horizontal",
            "readout": false,
            "readout_format": ".2f",
            "step": 0.01,
            "style": "IPY_MODEL_a8bc210ca7fe44db98afaa32b4d81cf6",
            "value": 1
          }
        },
        "4e07748a87ae42c0809f47cfdb08aeb8": {
          "model_module": "@jupyter-widgets/base",
          "model_module_version": "1.2.0",
          "model_name": "LayoutModel",
          "state": {
            "_model_module": "@jupyter-widgets/base",
            "_model_module_version": "1.2.0",
            "_model_name": "LayoutModel",
            "_view_count": null,
            "_view_module": "@jupyter-widgets/base",
            "_view_module_version": "1.2.0",
            "_view_name": "LayoutView",
            "align_content": null,
            "align_items": null,
            "align_self": null,
            "border": null,
            "bottom": null,
            "display": null,
            "flex": null,
            "flex_flow": null,
            "grid_area": null,
            "grid_auto_columns": null,
            "grid_auto_flow": null,
            "grid_auto_rows": null,
            "grid_column": null,
            "grid_gap": null,
            "grid_row": null,
            "grid_template_areas": null,
            "grid_template_columns": null,
            "grid_template_rows": null,
            "height": "25px",
            "justify_content": null,
            "justify_items": null,
            "left": null,
            "margin": null,
            "max_height": null,
            "max_width": null,
            "min_height": null,
            "min_width": null,
            "object_fit": null,
            "object_position": null,
            "order": null,
            "overflow": null,
            "overflow_x": null,
            "overflow_y": null,
            "padding": "0px",
            "right": null,
            "top": null,
            "visibility": null,
            "width": "25px"
          }
        },
        "4e2189a636394f3a8ffb88b65952dcfa": {
          "model_module": "@jupyter-widgets/controls",
          "model_module_version": "1.5.0",
          "model_name": "DescriptionStyleModel",
          "state": {
            "_model_module": "@jupyter-widgets/controls",
            "_model_module_version": "1.5.0",
            "_model_name": "DescriptionStyleModel",
            "_view_count": null,
            "_view_module": "@jupyter-widgets/base",
            "_view_module_version": "1.2.0",
            "_view_name": "StyleView",
            "description_width": ""
          }
        },
        "4f3181fdd20a4554a0fdcb1ad4a7b4ac": {
          "model_module": "@jupyter-widgets/controls",
          "model_module_version": "1.5.0",
          "model_name": "DescriptionStyleModel",
          "state": {
            "_model_module": "@jupyter-widgets/controls",
            "_model_module_version": "1.5.0",
            "_model_name": "DescriptionStyleModel",
            "_view_count": null,
            "_view_module": "@jupyter-widgets/base",
            "_view_module_version": "1.2.0",
            "_view_name": "StyleView",
            "description_width": ""
          }
        },
        "4f7d39f3cc554c13aa79bc36570747e8": {
          "model_module": "@jupyter-widgets/controls",
          "model_module_version": "1.5.0",
          "model_name": "HBoxModel",
          "state": {
            "_dom_classes": [],
            "_model_module": "@jupyter-widgets/controls",
            "_model_module_version": "1.5.0",
            "_model_name": "HBoxModel",
            "_view_count": null,
            "_view_module": "@jupyter-widgets/controls",
            "_view_module_version": "1.5.0",
            "_view_name": "HBoxView",
            "box_style": "",
            "children": [
              "IPY_MODEL_e31a3f5826854076af2449314ff508f9",
              "IPY_MODEL_00a0d989bcd34563a627c97b679fa774",
              "IPY_MODEL_c0fc19d908ca400386b35b5789ee0d45"
            ],
            "layout": "IPY_MODEL_ebf61cfde4974b6ba71967b212d4830d"
          }
        },
        "539f3c109da047c7938e164337558d18": {
          "model_module": "@jupyter-widgets/controls",
          "model_module_version": "1.5.0",
          "model_name": "HBoxModel",
          "state": {
            "_dom_classes": [
              "geemap-colab"
            ],
            "_model_module": "@jupyter-widgets/controls",
            "_model_module_version": "1.5.0",
            "_model_name": "HBoxModel",
            "_view_count": null,
            "_view_module": "@jupyter-widgets/controls",
            "_view_module_version": "1.5.0",
            "_view_name": "HBoxView",
            "box_style": "",
            "children": [
              "IPY_MODEL_6402ea69edcd4a96b8e7374bf6896158"
            ],
            "layout": "IPY_MODEL_ac3c703ada76462cb4a686ce65cea6fa"
          }
        },
        "53db54cbd1b14ee4b2f81bbe683368da": {
          "model_module": "@jupyter-widgets/controls",
          "model_module_version": "1.5.0",
          "model_name": "SliderStyleModel",
          "state": {
            "_model_module": "@jupyter-widgets/controls",
            "_model_module_version": "1.5.0",
            "_model_name": "SliderStyleModel",
            "_view_count": null,
            "_view_module": "@jupyter-widgets/base",
            "_view_module_version": "1.2.0",
            "_view_name": "StyleView",
            "description_width": "",
            "handle_color": null
          }
        },
        "53f6ee17e41743adbd2e0f61898977fa": {
          "model_module": "@jupyter-widgets/base",
          "model_module_version": "1.2.0",
          "model_name": "LayoutModel",
          "state": {
            "_model_module": "@jupyter-widgets/base",
            "_model_module_version": "1.2.0",
            "_model_name": "LayoutModel",
            "_view_count": null,
            "_view_module": "@jupyter-widgets/base",
            "_view_module_version": "1.2.0",
            "_view_name": "LayoutView",
            "align_content": null,
            "align_items": null,
            "align_self": null,
            "border": null,
            "bottom": null,
            "display": null,
            "flex": null,
            "flex_flow": null,
            "grid_area": null,
            "grid_auto_columns": null,
            "grid_auto_flow": null,
            "grid_auto_rows": null,
            "grid_column": null,
            "grid_gap": null,
            "grid_row": null,
            "grid_template_areas": null,
            "grid_template_columns": null,
            "grid_template_rows": null,
            "height": null,
            "justify_content": null,
            "justify_items": null,
            "left": null,
            "margin": null,
            "max_height": null,
            "max_width": null,
            "min_height": null,
            "min_width": null,
            "object_fit": null,
            "object_position": null,
            "order": null,
            "overflow": null,
            "overflow_x": null,
            "overflow_y": null,
            "padding": null,
            "right": null,
            "top": null,
            "visibility": null,
            "width": null
          }
        },
        "556f33adbec641dfa393c7c97a27ccae": {
          "model_module": "@jupyter-widgets/base",
          "model_module_version": "1.2.0",
          "model_name": "LayoutModel",
          "state": {
            "_model_module": "@jupyter-widgets/base",
            "_model_module_version": "1.2.0",
            "_model_name": "LayoutModel",
            "_view_count": null,
            "_view_module": "@jupyter-widgets/base",
            "_view_module_version": "1.2.0",
            "_view_name": "LayoutView",
            "align_content": null,
            "align_items": null,
            "align_self": null,
            "border": null,
            "bottom": null,
            "display": null,
            "flex": null,
            "flex_flow": null,
            "grid_area": null,
            "grid_auto_columns": null,
            "grid_auto_flow": null,
            "grid_auto_rows": null,
            "grid_column": null,
            "grid_gap": null,
            "grid_row": null,
            "grid_template_areas": null,
            "grid_template_columns": null,
            "grid_template_rows": null,
            "height": "28px",
            "justify_content": null,
            "justify_items": null,
            "left": null,
            "margin": null,
            "max_height": null,
            "max_width": null,
            "min_height": null,
            "min_width": null,
            "object_fit": null,
            "object_position": null,
            "order": null,
            "overflow": null,
            "overflow_x": null,
            "overflow_y": null,
            "padding": null,
            "right": null,
            "top": null,
            "visibility": null,
            "width": "72px"
          }
        },
        "56b601d6c8a140ae808fe7c7d2137b78": {
          "model_module": "@jupyter-widgets/controls",
          "model_module_version": "1.5.0",
          "model_name": "ButtonModel",
          "state": {
            "_dom_classes": [],
            "_model_module": "@jupyter-widgets/controls",
            "_model_module_version": "1.5.0",
            "_model_name": "ButtonModel",
            "_view_count": null,
            "_view_module": "@jupyter-widgets/controls",
            "_view_module_version": "1.5.0",
            "_view_name": "ButtonView",
            "button_style": "",
            "description": "",
            "disabled": false,
            "icon": "gear",
            "layout": "IPY_MODEL_cfac1182b9134bfda9650fece599f5f6",
            "style": "IPY_MODEL_396bb64581a0477bb1e6162b3aa6e613",
            "tooltip": "diffVH"
          }
        },
        "56f851cee018458aa96b607212e3237b": {
          "model_module": "@jupyter-widgets/controls",
          "model_module_version": "1.5.0",
          "model_name": "FloatProgressModel",
          "state": {
            "_dom_classes": [],
            "_model_module": "@jupyter-widgets/controls",
            "_model_module_version": "1.5.0",
            "_model_name": "FloatProgressModel",
            "_view_count": null,
            "_view_module": "@jupyter-widgets/controls",
            "_view_module_version": "1.5.0",
            "_view_name": "ProgressView",
            "bar_style": "success",
            "description": "",
            "description_tooltip": null,
            "layout": "IPY_MODEL_da6b92ca4b1346ae9f478d2453b13b92",
            "max": 991549504,
            "min": 0,
            "orientation": "horizontal",
            "style": "IPY_MODEL_914776760a834e11aca8fa4c7a3f1ca6",
            "value": 991549504
          }
        },
        "57669d1dc36f4134958df0c99289f5a3": {
          "model_module": "@jupyter-widgets/controls",
          "model_module_version": "1.5.0",
          "model_name": "DescriptionStyleModel",
          "state": {
            "_model_module": "@jupyter-widgets/controls",
            "_model_module_version": "1.5.0",
            "_model_name": "DescriptionStyleModel",
            "_view_count": null,
            "_view_module": "@jupyter-widgets/base",
            "_view_module_version": "1.2.0",
            "_view_name": "StyleView",
            "description_width": ""
          }
        },
        "579b7b7cbf2a49c499d1d01a96e92fcd": {
          "model_module": "@jupyter-widgets/controls",
          "model_module_version": "1.5.0",
          "model_name": "CheckboxModel",
          "state": {
            "_dom_classes": [],
            "_model_module": "@jupyter-widgets/controls",
            "_model_module_version": "1.5.0",
            "_model_name": "CheckboxModel",
            "_view_count": null,
            "_view_module": "@jupyter-widgets/controls",
            "_view_module_version": "1.5.0",
            "_view_name": "CheckboxView",
            "description": "All layers on/off",
            "description_tooltip": null,
            "disabled": false,
            "indent": false,
            "layout": "IPY_MODEL_f0384f4aca904a50bda1a066b935b918",
            "style": "IPY_MODEL_31a7cf9ca24647bcb233a105cac2d4bb",
            "value": false
          }
        },
        "57b3ddfca4424175843b7c61519f4858": {
          "model_module": "@jupyter-widgets/base",
          "model_module_version": "1.2.0",
          "model_name": "LayoutModel",
          "state": {
            "_model_module": "@jupyter-widgets/base",
            "_model_module_version": "1.2.0",
            "_model_name": "LayoutModel",
            "_view_count": null,
            "_view_module": "@jupyter-widgets/base",
            "_view_module_version": "1.2.0",
            "_view_name": "LayoutView",
            "align_content": null,
            "align_items": null,
            "align_self": null,
            "border": null,
            "bottom": null,
            "display": null,
            "flex": null,
            "flex_flow": null,
            "grid_area": null,
            "grid_auto_columns": null,
            "grid_auto_flow": null,
            "grid_auto_rows": null,
            "grid_column": null,
            "grid_gap": null,
            "grid_row": null,
            "grid_template_areas": null,
            "grid_template_columns": null,
            "grid_template_rows": null,
            "height": null,
            "justify_content": null,
            "justify_items": null,
            "left": null,
            "margin": null,
            "max_height": null,
            "max_width": null,
            "min_height": null,
            "min_width": null,
            "object_fit": null,
            "object_position": null,
            "order": null,
            "overflow": null,
            "overflow_x": null,
            "overflow_y": null,
            "padding": null,
            "right": null,
            "top": null,
            "visibility": null,
            "width": null
          }
        },
        "57de64390c37444bb780d4db56b762c1": {
          "model_module": "@jupyter-widgets/base",
          "model_module_version": "1.2.0",
          "model_name": "LayoutModel",
          "state": {
            "_model_module": "@jupyter-widgets/base",
            "_model_module_version": "1.2.0",
            "_model_name": "LayoutModel",
            "_view_count": null,
            "_view_module": "@jupyter-widgets/base",
            "_view_module_version": "1.2.0",
            "_view_name": "LayoutView",
            "align_content": null,
            "align_items": null,
            "align_self": null,
            "border": null,
            "bottom": null,
            "display": null,
            "flex": null,
            "flex_flow": null,
            "grid_area": null,
            "grid_auto_columns": null,
            "grid_auto_flow": null,
            "grid_auto_rows": null,
            "grid_column": null,
            "grid_gap": null,
            "grid_row": null,
            "grid_template_areas": null,
            "grid_template_columns": null,
            "grid_template_rows": null,
            "height": null,
            "justify_content": null,
            "justify_items": null,
            "left": null,
            "margin": null,
            "max_height": null,
            "max_width": null,
            "min_height": null,
            "min_width": null,
            "object_fit": null,
            "object_position": null,
            "order": null,
            "overflow": null,
            "overflow_x": null,
            "overflow_y": null,
            "padding": "0px 3px 0px 0px",
            "right": null,
            "top": null,
            "visibility": null,
            "width": "70px"
          }
        },
        "5821e6aaf5b84e458853219514d9de7e": {
          "model_module": "jupyter-leaflet",
          "model_module_version": "^0.19",
          "model_name": "LeafletAttributionControlModel",
          "state": {
            "_model_module": "jupyter-leaflet",
            "_model_module_version": "^0.19",
            "_model_name": "LeafletAttributionControlModel",
            "_view_count": null,
            "_view_module": "jupyter-leaflet",
            "_view_module_version": "^0.19",
            "_view_name": "LeafletAttributionControlView",
            "options": [
              "position",
              "prefix"
            ],
            "position": "bottomright",
            "prefix": "ipyleaflet"
          }
        },
        "58f50766a91f4408afa6b21b261a650b": {
          "model_module": "@jupyter-widgets/base",
          "model_module_version": "1.2.0",
          "model_name": "LayoutModel",
          "state": {
            "_model_module": "@jupyter-widgets/base",
            "_model_module_version": "1.2.0",
            "_model_name": "LayoutModel",
            "_view_count": null,
            "_view_module": "@jupyter-widgets/base",
            "_view_module_version": "1.2.0",
            "_view_name": "LayoutView",
            "align_content": null,
            "align_items": null,
            "align_self": null,
            "border": null,
            "bottom": null,
            "display": null,
            "flex": null,
            "flex_flow": null,
            "grid_area": null,
            "grid_auto_columns": null,
            "grid_auto_flow": null,
            "grid_auto_rows": null,
            "grid_column": null,
            "grid_gap": null,
            "grid_row": null,
            "grid_template_areas": null,
            "grid_template_columns": null,
            "grid_template_rows": null,
            "height": null,
            "justify_content": null,
            "justify_items": null,
            "left": null,
            "margin": "0px 10px 0px 10px",
            "max_height": "250px",
            "max_width": "250px",
            "min_height": null,
            "min_width": null,
            "object_fit": null,
            "object_position": null,
            "order": null,
            "overflow": null,
            "overflow_x": null,
            "overflow_y": null,
            "padding": null,
            "right": null,
            "top": null,
            "visibility": null,
            "width": null
          }
        },
        "5913c6db0b864e248ba758a37388b73b": {
          "model_module": "@jupyter-widgets/base",
          "model_module_version": "1.2.0",
          "model_name": "LayoutModel",
          "state": {
            "_model_module": "@jupyter-widgets/base",
            "_model_module_version": "1.2.0",
            "_model_name": "LayoutModel",
            "_view_count": null,
            "_view_module": "@jupyter-widgets/base",
            "_view_module_version": "1.2.0",
            "_view_name": "LayoutView",
            "align_content": null,
            "align_items": null,
            "align_self": null,
            "border": null,
            "bottom": null,
            "display": null,
            "flex": null,
            "flex_flow": null,
            "grid_area": null,
            "grid_auto_columns": null,
            "grid_auto_flow": null,
            "grid_auto_rows": null,
            "grid_column": null,
            "grid_gap": null,
            "grid_row": null,
            "grid_template_areas": null,
            "grid_template_columns": null,
            "grid_template_rows": null,
            "height": "18px",
            "justify_content": null,
            "justify_items": null,
            "left": null,
            "margin": null,
            "max_height": null,
            "max_width": null,
            "min_height": null,
            "min_width": null,
            "object_fit": null,
            "object_position": null,
            "order": null,
            "overflow": null,
            "overflow_x": null,
            "overflow_y": null,
            "padding": null,
            "right": null,
            "top": null,
            "visibility": null,
            "width": "140px"
          }
        },
        "59b7fe2063e643e38f20ed39fa837cb3": {
          "model_module": "jupyter-leaflet",
          "model_module_version": "^0.19",
          "model_name": "LeafletDrawControlModel",
          "state": {
            "_model_module": "jupyter-leaflet",
            "_model_module_version": "^0.19",
            "_model_name": "LeafletDrawControlModel",
            "_view_count": null,
            "_view_module": "jupyter-leaflet",
            "_view_module_version": "^0.19",
            "_view_name": "LeafletDrawControlView",
            "circle": {},
            "circlemarker": {},
            "data": [
              {
                "geometry": {
                  "coordinates": [
                    [
                      [
                        121.712379,
                        24.299387
                      ],
                      [
                        121.712379,
                        24.355854
                      ],
                      [
                        121.774521,
                        24.355854
                      ],
                      [
                        121.774521,
                        24.299387
                      ],
                      [
                        121.712379,
                        24.299387
                      ]
                    ]
                  ],
                  "type": "Polygon"
                },
                "properties": {
                  "style": {
                    "clickable": true,
                    "color": "#3388ff",
                    "fill": true,
                    "fillColor": null,
                    "fillOpacity": 0.2,
                    "opacity": 0.5,
                    "stroke": true,
                    "weight": 4
                  }
                },
                "type": "Feature"
              }
            ],
            "edit": true,
            "marker": {
              "shapeOptions": {
                "color": "#3388ff"
              }
            },
            "options": [
              "position"
            ],
            "polygon": {
              "shapeOptions": {}
            },
            "polyline": {
              "shapeOptions": {}
            },
            "position": "topleft",
            "rectangle": {
              "shapeOptions": {
                "color": "#3388ff"
              }
            },
            "remove": true
          }
        },
        "5a87207b372d462f83736e72c2ed3e20": {
          "model_module": "@jupyter-widgets/controls",
          "model_module_version": "1.5.0",
          "model_name": "ButtonStyleModel",
          "state": {
            "_model_module": "@jupyter-widgets/controls",
            "_model_module_version": "1.5.0",
            "_model_name": "ButtonStyleModel",
            "_view_count": null,
            "_view_module": "@jupyter-widgets/base",
            "_view_module_version": "1.2.0",
            "_view_name": "StyleView",
            "button_color": null,
            "font_weight": ""
          }
        },
        "5dc5d40e31d8427dbdcd4b9cf85a88e0": {
          "model_module": "jupyter-leaflet",
          "model_module_version": "^0.19",
          "model_name": "LeafletFullScreenControlModel",
          "state": {
            "_model_module": "jupyter-leaflet",
            "_model_module_version": "^0.19",
            "_model_name": "LeafletFullScreenControlModel",
            "_view_count": null,
            "_view_module": "jupyter-leaflet",
            "_view_module_version": "^0.19",
            "_view_name": "LeafletFullScreenControlView",
            "options": [
              "position"
            ],
            "position": "topleft"
          }
        },
        "5e4e0a2662b5414bbf479db8299d7b44": {
          "model_module": "@jupyter-widgets/base",
          "model_module_version": "1.2.0",
          "model_name": "LayoutModel",
          "state": {
            "_model_module": "@jupyter-widgets/base",
            "_model_module_version": "1.2.0",
            "_model_name": "LayoutModel",
            "_view_count": null,
            "_view_module": "@jupyter-widgets/base",
            "_view_module_version": "1.2.0",
            "_view_name": "LayoutView",
            "align_content": null,
            "align_items": null,
            "align_self": null,
            "border": null,
            "bottom": null,
            "display": null,
            "flex": null,
            "flex_flow": null,
            "grid_area": null,
            "grid_auto_columns": null,
            "grid_auto_flow": null,
            "grid_auto_rows": null,
            "grid_column": null,
            "grid_gap": null,
            "grid_row": null,
            "grid_template_areas": null,
            "grid_template_columns": null,
            "grid_template_rows": null,
            "height": "28px",
            "justify_content": null,
            "justify_items": null,
            "left": null,
            "margin": null,
            "max_height": null,
            "max_width": null,
            "min_height": null,
            "min_width": null,
            "object_fit": null,
            "object_position": null,
            "order": null,
            "overflow": null,
            "overflow_x": null,
            "overflow_y": null,
            "padding": "0px 0px 0px 4px",
            "right": null,
            "top": null,
            "visibility": null,
            "width": "28px"
          }
        },
        "5f2efe8dc78d4bd6a6e1e100facb77bf": {
          "model_module": "@jupyter-widgets/controls",
          "model_module_version": "1.5.0",
          "model_name": "ToggleButtonModel",
          "state": {
            "_dom_classes": [],
            "_model_module": "@jupyter-widgets/controls",
            "_model_module_version": "1.5.0",
            "_model_name": "ToggleButtonModel",
            "_view_count": null,
            "_view_module": "@jupyter-widgets/controls",
            "_view_module_version": "1.5.0",
            "_view_name": "ToggleButtonView",
            "button_style": "",
            "description": "",
            "description_tooltip": null,
            "disabled": false,
            "icon": "globe",
            "layout": "IPY_MODEL_b2fc24a7a0d24930aaca0b131247a878",
            "style": "IPY_MODEL_39a815e697e04f29bb09c8bdb1c84b8f",
            "tooltip": "Search location/data",
            "value": false
          }
        },
        "5fb6d5a094384648bf72a0e4f867715f": {
          "model_module": "@jupyter-widgets/base",
          "model_module_version": "1.2.0",
          "model_name": "LayoutModel",
          "state": {
            "_model_module": "@jupyter-widgets/base",
            "_model_module_version": "1.2.0",
            "_model_name": "LayoutModel",
            "_view_count": null,
            "_view_module": "@jupyter-widgets/base",
            "_view_module_version": "1.2.0",
            "_view_name": "LayoutView",
            "align_content": null,
            "align_items": null,
            "align_self": null,
            "border": null,
            "bottom": null,
            "display": null,
            "flex": null,
            "flex_flow": null,
            "grid_area": null,
            "grid_auto_columns": null,
            "grid_auto_flow": null,
            "grid_auto_rows": null,
            "grid_column": null,
            "grid_gap": null,
            "grid_row": null,
            "grid_template_areas": null,
            "grid_template_columns": null,
            "grid_template_rows": null,
            "height": "18px",
            "justify_content": null,
            "justify_items": null,
            "left": null,
            "margin": null,
            "max_height": null,
            "max_width": null,
            "min_height": null,
            "min_width": null,
            "object_fit": null,
            "object_position": null,
            "order": null,
            "overflow": null,
            "overflow_x": null,
            "overflow_y": null,
            "padding": null,
            "right": null,
            "top": null,
            "visibility": null,
            "width": "140px"
          }
        },
        "6007fde89d7b48c0a826db6b04c8ba24": {
          "model_module": "@jupyter-widgets/base",
          "model_module_version": "1.2.0",
          "model_name": "LayoutModel",
          "state": {
            "_model_module": "@jupyter-widgets/base",
            "_model_module_version": "1.2.0",
            "_model_name": "LayoutModel",
            "_view_count": null,
            "_view_module": "@jupyter-widgets/base",
            "_view_module_version": "1.2.0",
            "_view_name": "LayoutView",
            "align_content": null,
            "align_items": null,
            "align_self": null,
            "border": null,
            "bottom": null,
            "display": null,
            "flex": null,
            "flex_flow": null,
            "grid_area": null,
            "grid_auto_columns": null,
            "grid_auto_flow": null,
            "grid_auto_rows": null,
            "grid_column": null,
            "grid_gap": null,
            "grid_row": null,
            "grid_template_areas": null,
            "grid_template_columns": null,
            "grid_template_rows": null,
            "height": "25px",
            "justify_content": null,
            "justify_items": null,
            "left": null,
            "margin": null,
            "max_height": null,
            "max_width": null,
            "min_height": null,
            "min_width": null,
            "object_fit": null,
            "object_position": null,
            "order": null,
            "overflow": null,
            "overflow_x": null,
            "overflow_y": null,
            "padding": "0px",
            "right": null,
            "top": null,
            "visibility": null,
            "width": "25px"
          }
        },
        "6058af33c05145f5a01bf45ccf5588ab": {
          "model_module": "@jupyter-widgets/base",
          "model_module_version": "1.2.0",
          "model_name": "LayoutModel",
          "state": {
            "_model_module": "@jupyter-widgets/base",
            "_model_module_version": "1.2.0",
            "_model_name": "LayoutModel",
            "_view_count": null,
            "_view_module": "@jupyter-widgets/base",
            "_view_module_version": "1.2.0",
            "_view_name": "LayoutView",
            "align_content": null,
            "align_items": null,
            "align_self": null,
            "border": null,
            "bottom": null,
            "display": null,
            "flex": null,
            "flex_flow": null,
            "grid_area": null,
            "grid_auto_columns": null,
            "grid_auto_flow": null,
            "grid_auto_rows": null,
            "grid_column": null,
            "grid_gap": null,
            "grid_row": null,
            "grid_template_areas": null,
            "grid_template_columns": null,
            "grid_template_rows": null,
            "height": null,
            "justify_content": null,
            "justify_items": null,
            "left": null,
            "margin": null,
            "max_height": null,
            "max_width": null,
            "min_height": null,
            "min_width": null,
            "object_fit": null,
            "object_position": null,
            "order": null,
            "overflow": null,
            "overflow_x": null,
            "overflow_y": null,
            "padding": "0px 3px 0px 0px",
            "right": null,
            "top": null,
            "visibility": null,
            "width": "70px"
          }
        },
        "60848f7afc304c46b658ab1acba7dbb2": {
          "model_module": "@jupyter-widgets/controls",
          "model_module_version": "1.5.0",
          "model_name": "HBoxModel",
          "state": {
            "_dom_classes": [],
            "_model_module": "@jupyter-widgets/controls",
            "_model_module_version": "1.5.0",
            "_model_name": "HBoxModel",
            "_view_count": null,
            "_view_module": "@jupyter-widgets/controls",
            "_view_module_version": "1.5.0",
            "_view_name": "HBoxView",
            "box_style": "",
            "children": [
              "IPY_MODEL_17e676eca33f4334b76a595ebbc1fc27",
              "IPY_MODEL_68f9b2854655427e994a3ca761f14a53",
              "IPY_MODEL_40467c343ef44b2abf2abd45df9daf15",
              "IPY_MODEL_e846ae5dbfe44712af04b0fc007919b4"
            ],
            "layout": "IPY_MODEL_f8db916c898c4eab9a8964148cc559b6"
          }
        },
        "60a7a2039d6147b4be4791b4b8e7604a": {
          "model_module": "@jupyter-widgets/controls",
          "model_module_version": "1.5.0",
          "model_name": "CheckboxModel",
          "state": {
            "_dom_classes": [],
            "_model_module": "@jupyter-widgets/controls",
            "_model_module_version": "1.5.0",
            "_model_name": "CheckboxModel",
            "_view_count": null,
            "_view_module": "@jupyter-widgets/controls",
            "_view_module_version": "1.5.0",
            "_view_name": "CheckboxView",
            "description": "Esri.WorldImagery",
            "description_tooltip": null,
            "disabled": false,
            "indent": false,
            "layout": "IPY_MODEL_f2521f912c21410f963bcc69505a9339",
            "style": "IPY_MODEL_4f3181fdd20a4554a0fdcb1ad4a7b4ac",
            "value": true
          }
        },
        "60e6aee7cfa247cda72a39218c02443b": {
          "model_module": "@jupyter-widgets/controls",
          "model_module_version": "1.5.0",
          "model_name": "SliderStyleModel",
          "state": {
            "_model_module": "@jupyter-widgets/controls",
            "_model_module_version": "1.5.0",
            "_model_name": "SliderStyleModel",
            "_view_count": null,
            "_view_module": "@jupyter-widgets/base",
            "_view_module_version": "1.2.0",
            "_view_name": "StyleView",
            "description_width": "",
            "handle_color": null
          }
        },
        "61d119bb2ac44ef8a448d191dfe8a43e": {
          "model_module": "@jupyter-widgets/controls",
          "model_module_version": "1.5.0",
          "model_name": "ButtonStyleModel",
          "state": {
            "_model_module": "@jupyter-widgets/controls",
            "_model_module_version": "1.5.0",
            "_model_name": "ButtonStyleModel",
            "_view_count": null,
            "_view_module": "@jupyter-widgets/base",
            "_view_module_version": "1.2.0",
            "_view_name": "StyleView",
            "button_color": null,
            "font_weight": ""
          }
        },
        "62d4c03aebf7479ca55dd192acb074a4": {
          "model_module": "@jupyter-widgets/base",
          "model_module_version": "1.2.0",
          "model_name": "LayoutModel",
          "state": {
            "_model_module": "@jupyter-widgets/base",
            "_model_module_version": "1.2.0",
            "_model_name": "LayoutModel",
            "_view_count": null,
            "_view_module": "@jupyter-widgets/base",
            "_view_module_version": "1.2.0",
            "_view_name": "LayoutView",
            "align_content": null,
            "align_items": null,
            "align_self": null,
            "border": null,
            "bottom": null,
            "display": null,
            "flex": null,
            "flex_flow": null,
            "grid_area": null,
            "grid_auto_columns": null,
            "grid_auto_flow": null,
            "grid_auto_rows": null,
            "grid_column": null,
            "grid_gap": null,
            "grid_row": null,
            "grid_template_areas": null,
            "grid_template_columns": null,
            "grid_template_rows": null,
            "height": "18px",
            "justify_content": null,
            "justify_items": null,
            "left": null,
            "margin": null,
            "max_height": null,
            "max_width": null,
            "min_height": null,
            "min_width": null,
            "object_fit": null,
            "object_position": null,
            "order": null,
            "overflow": null,
            "overflow_x": null,
            "overflow_y": null,
            "padding": null,
            "right": null,
            "top": null,
            "visibility": null,
            "width": "140px"
          }
        },
        "6402ea69edcd4a96b8e7374bf6896158": {
          "model_module": "@jupyter-widgets/controls",
          "model_module_version": "1.5.0",
          "model_name": "ToggleButtonModel",
          "state": {
            "_dom_classes": [],
            "_model_module": "@jupyter-widgets/controls",
            "_model_module_version": "1.5.0",
            "_model_name": "ToggleButtonModel",
            "_view_count": null,
            "_view_module": "@jupyter-widgets/controls",
            "_view_module_version": "1.5.0",
            "_view_name": "ToggleButtonView",
            "button_style": "",
            "description": "",
            "description_tooltip": null,
            "disabled": false,
            "icon": "globe",
            "layout": "IPY_MODEL_90a5e54143e74906ac0de27b961e4221",
            "style": "IPY_MODEL_cdc63bd78d444f0bba05a9a3b662713a",
            "tooltip": "Search location/data",
            "value": false
          }
        },
        "64bdf7703dc34dc99ad75a3df8a0f27b": {
          "model_module": "@jupyter-widgets/controls",
          "model_module_version": "1.5.0",
          "model_name": "HBoxModel",
          "state": {
            "_dom_classes": [
              "geemap-colab"
            ],
            "_model_module": "@jupyter-widgets/controls",
            "_model_module_version": "1.5.0",
            "_model_name": "HBoxModel",
            "_view_count": null,
            "_view_module": "@jupyter-widgets/controls",
            "_view_module_version": "1.5.0",
            "_view_name": "HBoxView",
            "box_style": "",
            "children": [
              "IPY_MODEL_5f2efe8dc78d4bd6a6e1e100facb77bf"
            ],
            "layout": "IPY_MODEL_53f6ee17e41743adbd2e0f61898977fa"
          }
        },
        "64e98bcc4e224aa1b09fc81df01cda70": {
          "model_module": "@jupyter-widgets/controls",
          "model_module_version": "1.5.0",
          "model_name": "SliderStyleModel",
          "state": {
            "_model_module": "@jupyter-widgets/controls",
            "_model_module_version": "1.5.0",
            "_model_name": "SliderStyleModel",
            "_view_count": null,
            "_view_module": "@jupyter-widgets/base",
            "_view_module_version": "1.2.0",
            "_view_name": "StyleView",
            "description_width": "",
            "handle_color": null
          }
        },
        "65988850340743818d411ce245fd593d": {
          "model_module": "@jupyter-widgets/base",
          "model_module_version": "1.2.0",
          "model_name": "LayoutModel",
          "state": {
            "_model_module": "@jupyter-widgets/base",
            "_model_module_version": "1.2.0",
            "_model_name": "LayoutModel",
            "_view_count": null,
            "_view_module": "@jupyter-widgets/base",
            "_view_module_version": "1.2.0",
            "_view_name": "LayoutView",
            "align_content": null,
            "align_items": null,
            "align_self": null,
            "border": null,
            "bottom": null,
            "display": null,
            "flex": null,
            "flex_flow": null,
            "grid_area": null,
            "grid_auto_columns": null,
            "grid_auto_flow": null,
            "grid_auto_rows": null,
            "grid_column": null,
            "grid_gap": null,
            "grid_row": null,
            "grid_template_areas": null,
            "grid_template_columns": null,
            "grid_template_rows": null,
            "height": "25px",
            "justify_content": null,
            "justify_items": null,
            "left": null,
            "margin": null,
            "max_height": null,
            "max_width": null,
            "min_height": null,
            "min_width": null,
            "object_fit": null,
            "object_position": null,
            "order": null,
            "overflow": null,
            "overflow_x": null,
            "overflow_y": null,
            "padding": "0px",
            "right": null,
            "top": null,
            "visibility": null,
            "width": "25px"
          }
        },
        "667c2e9d2c9f42e798254766974e06f7": {
          "model_module": "@jupyter-widgets/base",
          "model_module_version": "1.2.0",
          "model_name": "LayoutModel",
          "state": {
            "_model_module": "@jupyter-widgets/base",
            "_model_module_version": "1.2.0",
            "_model_name": "LayoutModel",
            "_view_count": null,
            "_view_module": "@jupyter-widgets/base",
            "_view_module_version": "1.2.0",
            "_view_name": "LayoutView",
            "align_content": null,
            "align_items": null,
            "align_self": null,
            "border": null,
            "bottom": null,
            "display": null,
            "flex": null,
            "flex_flow": null,
            "grid_area": null,
            "grid_auto_columns": null,
            "grid_auto_flow": null,
            "grid_auto_rows": null,
            "grid_column": null,
            "grid_gap": null,
            "grid_row": null,
            "grid_template_areas": null,
            "grid_template_columns": null,
            "grid_template_rows": null,
            "height": null,
            "justify_content": null,
            "justify_items": null,
            "left": null,
            "margin": null,
            "max_height": null,
            "max_width": null,
            "min_height": null,
            "min_width": null,
            "object_fit": null,
            "object_position": null,
            "order": null,
            "overflow": null,
            "overflow_x": null,
            "overflow_y": null,
            "padding": "0px 3px 0px 0px",
            "right": null,
            "top": null,
            "visibility": null,
            "width": "70px"
          }
        },
        "6695734e24254267a0c59563a3796620": {
          "model_module": "jupyter-leaflet",
          "model_module_version": "^0.19",
          "model_name": "LeafletTileLayerModel",
          "state": {
            "_model_module": "jupyter-leaflet",
            "_model_module_version": "^0.19",
            "_model_name": "LeafletTileLayerModel",
            "_view_count": null,
            "_view_module": "jupyter-leaflet",
            "_view_module_version": "^0.19",
            "_view_name": "LeafletTileLayerView",
            "attribution": "Google Earth Engine",
            "base": false,
            "bottom": true,
            "bounds": null,
            "detect_retina": false,
            "loading": false,
            "max_native_zoom": null,
            "max_zoom": 24,
            "min_native_zoom": null,
            "min_zoom": 0,
            "name": "diffVV",
            "no_wrap": false,
            "opacity": 1,
            "options": [
              "attribution",
              "bounds",
              "detect_retina",
              "max_native_zoom",
              "max_zoom",
              "min_native_zoom",
              "min_zoom",
              "no_wrap",
              "tile_size",
              "tms",
              "zoom_offset"
            ],
            "pane": "",
            "popup": null,
            "popup_max_height": null,
            "popup_max_width": 300,
            "popup_min_width": 50,
            "show_loading": false,
            "subitems": [],
            "tile_size": 256,
            "tms": false,
            "url": "https://earthengine.googleapis.com/v1/projects/ee-lorenava-learning-sar/maps/4482074995eb0a47cbe25c4db12a503c-98d5a064ca9e371a75d626a991e500e6/tiles/{z}/{x}/{y}",
            "visible": false,
            "zoom_offset": 0
          }
        },
        "6721bec153cf45a99bc193c3e9c9e9bc": {
          "model_module": "jupyter-leaflet",
          "model_module_version": "^0.19",
          "model_name": "LeafletWidgetControlModel",
          "state": {
            "_model_module": "jupyter-leaflet",
            "_model_module_version": "^0.19",
            "_model_name": "LeafletWidgetControlModel",
            "_view_count": null,
            "_view_module": "jupyter-leaflet",
            "_view_module_version": "^0.19",
            "_view_name": "LeafletWidgetControlView",
            "max_height": null,
            "max_width": null,
            "min_height": null,
            "min_width": null,
            "options": [
              "position",
              "transparent_bg"
            ],
            "position": "topleft",
            "transparent_bg": false,
            "widget": "IPY_MODEL_64bdf7703dc34dc99ad75a3df8a0f27b"
          }
        },
        "679fc95da4884db0a78497217d6892c1": {
          "model_module": "@jupyter-widgets/base",
          "model_module_version": "1.2.0",
          "model_name": "LayoutModel",
          "state": {
            "_model_module": "@jupyter-widgets/base",
            "_model_module_version": "1.2.0",
            "_model_name": "LayoutModel",
            "_view_count": null,
            "_view_module": "@jupyter-widgets/base",
            "_view_module_version": "1.2.0",
            "_view_name": "LayoutView",
            "align_content": null,
            "align_items": null,
            "align_self": null,
            "border": null,
            "bottom": null,
            "display": null,
            "flex": null,
            "flex_flow": null,
            "grid_area": null,
            "grid_auto_columns": null,
            "grid_auto_flow": null,
            "grid_auto_rows": null,
            "grid_column": null,
            "grid_gap": null,
            "grid_row": null,
            "grid_template_areas": null,
            "grid_template_columns": null,
            "grid_template_rows": null,
            "height": null,
            "justify_content": null,
            "justify_items": null,
            "left": null,
            "margin": null,
            "max_height": null,
            "max_width": null,
            "min_height": null,
            "min_width": null,
            "object_fit": null,
            "object_position": null,
            "order": null,
            "overflow": null,
            "overflow_x": null,
            "overflow_y": null,
            "padding": null,
            "right": null,
            "top": null,
            "visibility": null,
            "width": null
          }
        },
        "68f9b2854655427e994a3ca761f14a53": {
          "model_module": "@jupyter-widgets/controls",
          "model_module_version": "1.5.0",
          "model_name": "FloatSliderModel",
          "state": {
            "_dom_classes": [],
            "_model_module": "@jupyter-widgets/controls",
            "_model_module_version": "1.5.0",
            "_model_name": "FloatSliderModel",
            "_view_count": null,
            "_view_module": "@jupyter-widgets/controls",
            "_view_module_version": "1.5.0",
            "_view_name": "FloatSliderView",
            "continuous_update": true,
            "description": "",
            "description_tooltip": null,
            "disabled": false,
            "layout": "IPY_MODEL_cd0bebae69ec4c589dbfdab6886afa4d",
            "max": 1,
            "min": 0,
            "orientation": "horizontal",
            "readout": false,
            "readout_format": ".2f",
            "step": 0.01,
            "style": "IPY_MODEL_28a4ceb6eaee4a85814a25b4b9968d66",
            "value": 1
          }
        },
        "694bb1197fa84888a5d349169e0e1c2a": {
          "model_module": "@jupyter-widgets/controls",
          "model_module_version": "1.5.0",
          "model_name": "SliderStyleModel",
          "state": {
            "_model_module": "@jupyter-widgets/controls",
            "_model_module_version": "1.5.0",
            "_model_name": "SliderStyleModel",
            "_view_count": null,
            "_view_module": "@jupyter-widgets/base",
            "_view_module_version": "1.2.0",
            "_view_name": "StyleView",
            "description_width": "",
            "handle_color": null
          }
        },
        "6a8109cf6eec40afbb2167c16d585566": {
          "model_module": "@jupyter-widgets/controls",
          "model_module_version": "1.5.0",
          "model_name": "HBoxModel",
          "state": {
            "_dom_classes": [],
            "_model_module": "@jupyter-widgets/controls",
            "_model_module_version": "1.5.0",
            "_model_name": "HBoxModel",
            "_view_count": null,
            "_view_module": "@jupyter-widgets/controls",
            "_view_module_version": "1.5.0",
            "_view_name": "HBoxView",
            "box_style": "",
            "children": [
              "IPY_MODEL_919d61447857455893055bea1770fd9b",
              "IPY_MODEL_e3bc0fa7487044828217ebf24bd7e25b"
            ],
            "layout": "IPY_MODEL_a2b4184f62db4bfebdd2df323778ad0c"
          }
        },
        "6affc46ab4b848b498202bafbf2d97e3": {
          "model_module": "@jupyter-widgets/controls",
          "model_module_version": "1.5.0",
          "model_name": "DescriptionStyleModel",
          "state": {
            "_model_module": "@jupyter-widgets/controls",
            "_model_module_version": "1.5.0",
            "_model_name": "DescriptionStyleModel",
            "_view_count": null,
            "_view_module": "@jupyter-widgets/base",
            "_view_module_version": "1.2.0",
            "_view_name": "StyleView",
            "description_width": ""
          }
        },
        "6b28d556b39d44e787e177c9e895e9bc": {
          "model_module": "@jupyter-widgets/base",
          "model_module_version": "1.2.0",
          "model_name": "LayoutModel",
          "state": {
            "_model_module": "@jupyter-widgets/base",
            "_model_module_version": "1.2.0",
            "_model_name": "LayoutModel",
            "_view_count": null,
            "_view_module": "@jupyter-widgets/base",
            "_view_module_version": "1.2.0",
            "_view_name": "LayoutView",
            "align_content": null,
            "align_items": null,
            "align_self": null,
            "border": null,
            "bottom": null,
            "display": null,
            "flex": null,
            "flex_flow": null,
            "grid_area": null,
            "grid_auto_columns": null,
            "grid_auto_flow": null,
            "grid_auto_rows": null,
            "grid_column": null,
            "grid_gap": null,
            "grid_row": null,
            "grid_template_areas": null,
            "grid_template_columns": null,
            "grid_template_rows": null,
            "height": "18px",
            "justify_content": null,
            "justify_items": null,
            "left": null,
            "margin": null,
            "max_height": null,
            "max_width": null,
            "min_height": null,
            "min_width": null,
            "object_fit": null,
            "object_position": null,
            "order": null,
            "overflow": null,
            "overflow_x": null,
            "overflow_y": null,
            "padding": null,
            "right": null,
            "top": null,
            "visibility": null,
            "width": "140px"
          }
        },
        "6bd6ca046d3b444b8416522a8a4e6fd6": {
          "model_module": "@jupyter-widgets/controls",
          "model_module_version": "1.5.0",
          "model_name": "ButtonModel",
          "state": {
            "_dom_classes": [],
            "_model_module": "@jupyter-widgets/controls",
            "_model_module_version": "1.5.0",
            "_model_name": "ButtonModel",
            "_view_count": null,
            "_view_module": "@jupyter-widgets/controls",
            "_view_module_version": "1.5.0",
            "_view_name": "ButtonView",
            "button_style": "",
            "description": "",
            "disabled": false,
            "icon": "times",
            "layout": "IPY_MODEL_78298d547dc2450f92e3540115831c22",
            "style": "IPY_MODEL_430690f89e184f259becac4868a96ba2",
            "tooltip": "Loaded"
          }
        },
        "6c0650dba22848baa98b83f4e9d0f478": {
          "model_module": "@jupyter-widgets/controls",
          "model_module_version": "1.5.0",
          "model_name": "ButtonStyleModel",
          "state": {
            "_model_module": "@jupyter-widgets/controls",
            "_model_module_version": "1.5.0",
            "_model_name": "ButtonStyleModel",
            "_view_count": null,
            "_view_module": "@jupyter-widgets/base",
            "_view_module_version": "1.2.0",
            "_view_name": "StyleView",
            "button_color": null,
            "font_weight": ""
          }
        },
        "6c2723db7b4b4711964c0bf931fed6c0": {
          "model_module": "@jupyter-widgets/controls",
          "model_module_version": "1.5.0",
          "model_name": "DescriptionStyleModel",
          "state": {
            "_model_module": "@jupyter-widgets/controls",
            "_model_module_version": "1.5.0",
            "_model_name": "DescriptionStyleModel",
            "_view_count": null,
            "_view_module": "@jupyter-widgets/base",
            "_view_module_version": "1.2.0",
            "_view_name": "StyleView",
            "description_width": ""
          }
        },
        "6d86f79a55504969b19ebabfef39c42f": {
          "model_module": "@jupyter-widgets/controls",
          "model_module_version": "1.5.0",
          "model_name": "ButtonStyleModel",
          "state": {
            "_model_module": "@jupyter-widgets/controls",
            "_model_module_version": "1.5.0",
            "_model_name": "ButtonStyleModel",
            "_view_count": null,
            "_view_module": "@jupyter-widgets/base",
            "_view_module_version": "1.2.0",
            "_view_name": "StyleView",
            "button_color": null,
            "font_weight": ""
          }
        },
        "6df219749cea4b549b14ae9e16ba5780": {
          "model_module": "@jupyter-widgets/controls",
          "model_module_version": "1.5.0",
          "model_name": "DescriptionStyleModel",
          "state": {
            "_model_module": "@jupyter-widgets/controls",
            "_model_module_version": "1.5.0",
            "_model_name": "DescriptionStyleModel",
            "_view_count": null,
            "_view_module": "@jupyter-widgets/base",
            "_view_module_version": "1.2.0",
            "_view_name": "StyleView",
            "description_width": ""
          }
        },
        "6e7c4cc824c1402289fa6e3bd5500da4": {
          "model_module": "@jupyter-widgets/controls",
          "model_module_version": "1.5.0",
          "model_name": "SliderStyleModel",
          "state": {
            "_model_module": "@jupyter-widgets/controls",
            "_model_module_version": "1.5.0",
            "_model_name": "SliderStyleModel",
            "_view_count": null,
            "_view_module": "@jupyter-widgets/base",
            "_view_module_version": "1.2.0",
            "_view_name": "StyleView",
            "description_width": "",
            "handle_color": null
          }
        },
        "6ec6c3675aaf4df08f8dc206dabd75fb": {
          "model_module": "@jupyter-widgets/controls",
          "model_module_version": "1.5.0",
          "model_name": "FloatSliderModel",
          "state": {
            "_dom_classes": [],
            "_model_module": "@jupyter-widgets/controls",
            "_model_module_version": "1.5.0",
            "_model_name": "FloatSliderModel",
            "_view_count": null,
            "_view_module": "@jupyter-widgets/controls",
            "_view_module_version": "1.5.0",
            "_view_name": "FloatSliderView",
            "continuous_update": true,
            "description": "",
            "description_tooltip": null,
            "disabled": false,
            "layout": "IPY_MODEL_3cff8e392c6441ae8d8d50ac7040f8eb",
            "max": 1,
            "min": 0,
            "orientation": "horizontal",
            "readout": false,
            "readout_format": ".2f",
            "step": 0.01,
            "style": "IPY_MODEL_a087ecdb144c48db989dacd177612159",
            "value": 0.5
          }
        },
        "6ef08bcd5f674f1294e2dadb3e137c5a": {
          "model_module": "@jupyter-widgets/base",
          "model_module_version": "1.2.0",
          "model_name": "LayoutModel",
          "state": {
            "_model_module": "@jupyter-widgets/base",
            "_model_module_version": "1.2.0",
            "_model_name": "LayoutModel",
            "_view_count": null,
            "_view_module": "@jupyter-widgets/base",
            "_view_module_version": "1.2.0",
            "_view_name": "LayoutView",
            "align_content": null,
            "align_items": null,
            "align_self": null,
            "border": null,
            "bottom": null,
            "display": null,
            "flex": null,
            "flex_flow": null,
            "grid_area": null,
            "grid_auto_columns": null,
            "grid_auto_flow": null,
            "grid_auto_rows": null,
            "grid_column": null,
            "grid_gap": null,
            "grid_row": null,
            "grid_template_areas": null,
            "grid_template_columns": null,
            "grid_template_rows": null,
            "height": "28px",
            "justify_content": null,
            "justify_items": null,
            "left": null,
            "margin": null,
            "max_height": null,
            "max_width": null,
            "min_height": null,
            "min_width": null,
            "object_fit": null,
            "object_position": null,
            "order": null,
            "overflow": null,
            "overflow_x": null,
            "overflow_y": null,
            "padding": "0px 0px 0px 4px",
            "right": null,
            "top": null,
            "visibility": null,
            "width": "28px"
          }
        },
        "6f0746cfc29f43d9a0442679fcb71c52": {
          "model_module": "@jupyter-widgets/controls",
          "model_module_version": "1.5.0",
          "model_name": "DescriptionStyleModel",
          "state": {
            "_model_module": "@jupyter-widgets/controls",
            "_model_module_version": "1.5.0",
            "_model_name": "DescriptionStyleModel",
            "_view_count": null,
            "_view_module": "@jupyter-widgets/base",
            "_view_module_version": "1.2.0",
            "_view_name": "StyleView",
            "description_width": ""
          }
        },
        "701d9abb4e9c4ded8a9aeb36f4ea2958": {
          "model_module": "@jupyter-widgets/base",
          "model_module_version": "1.2.0",
          "model_name": "LayoutModel",
          "state": {
            "_model_module": "@jupyter-widgets/base",
            "_model_module_version": "1.2.0",
            "_model_name": "LayoutModel",
            "_view_count": null,
            "_view_module": "@jupyter-widgets/base",
            "_view_module_version": "1.2.0",
            "_view_name": "LayoutView",
            "align_content": null,
            "align_items": null,
            "align_self": null,
            "border": null,
            "bottom": null,
            "display": null,
            "flex": null,
            "flex_flow": null,
            "grid_area": null,
            "grid_auto_columns": null,
            "grid_auto_flow": null,
            "grid_auto_rows": null,
            "grid_column": null,
            "grid_gap": null,
            "grid_row": null,
            "grid_template_areas": null,
            "grid_template_columns": null,
            "grid_template_rows": null,
            "height": null,
            "justify_content": null,
            "justify_items": null,
            "left": null,
            "margin": null,
            "max_height": null,
            "max_width": null,
            "min_height": null,
            "min_width": null,
            "object_fit": null,
            "object_position": null,
            "order": null,
            "overflow": null,
            "overflow_x": null,
            "overflow_y": null,
            "padding": "0px 4px 0px 4px",
            "right": null,
            "top": null,
            "visibility": null,
            "width": null
          }
        },
        "725a1515130e4615be162afe3b564ec4": {
          "model_module": "@jupyter-widgets/controls",
          "model_module_version": "1.5.0",
          "model_name": "ButtonStyleModel",
          "state": {
            "_model_module": "@jupyter-widgets/controls",
            "_model_module_version": "1.5.0",
            "_model_name": "ButtonStyleModel",
            "_view_count": null,
            "_view_module": "@jupyter-widgets/base",
            "_view_module_version": "1.2.0",
            "_view_name": "StyleView",
            "button_color": null,
            "font_weight": ""
          }
        },
        "726daff8bbb14386b83f5e8fcf874a76": {
          "model_module": "@jupyter-widgets/controls",
          "model_module_version": "1.5.0",
          "model_name": "ButtonModel",
          "state": {
            "_dom_classes": [],
            "_model_module": "@jupyter-widgets/controls",
            "_model_module_version": "1.5.0",
            "_model_name": "ButtonModel",
            "_view_count": null,
            "_view_module": "@jupyter-widgets/controls",
            "_view_module_version": "1.5.0",
            "_view_name": "ButtonView",
            "button_style": "",
            "description": "",
            "disabled": false,
            "icon": "gear",
            "layout": "IPY_MODEL_fcf5b72ace524f728f94920148a9cd25",
            "style": "IPY_MODEL_6d86f79a55504969b19ebabfef39c42f",
            "tooltip": "diffVV"
          }
        },
        "728de895121b4cbabf76dfe10989d66f": {
          "model_module": "@jupyter-widgets/controls",
          "model_module_version": "1.5.0",
          "model_name": "ButtonModel",
          "state": {
            "_dom_classes": [],
            "_model_module": "@jupyter-widgets/controls",
            "_model_module_version": "1.5.0",
            "_model_name": "ButtonModel",
            "_view_count": null,
            "_view_module": "@jupyter-widgets/controls",
            "_view_module_version": "1.5.0",
            "_view_name": "ButtonView",
            "button_style": "",
            "description": "",
            "disabled": false,
            "icon": "times",
            "layout": "IPY_MODEL_65988850340743818d411ce245fd593d",
            "style": "IPY_MODEL_38873140fcf24f6facc7bd0856526b1a",
            "tooltip": "Loaded"
          }
        },
        "7540e2847c834af4810ba1253fc02062": {
          "model_module": "@jupyter-widgets/controls",
          "model_module_version": "1.5.0",
          "model_name": "ButtonStyleModel",
          "state": {
            "_model_module": "@jupyter-widgets/controls",
            "_model_module_version": "1.5.0",
            "_model_name": "ButtonStyleModel",
            "_view_count": null,
            "_view_module": "@jupyter-widgets/base",
            "_view_module_version": "1.2.0",
            "_view_name": "StyleView",
            "button_color": null,
            "font_weight": ""
          }
        },
        "76101f6008214e5cbdcf30e6e301e5e0": {
          "model_module": "@jupyter-widgets/base",
          "model_module_version": "1.2.0",
          "model_name": "LayoutModel",
          "state": {
            "_model_module": "@jupyter-widgets/base",
            "_model_module_version": "1.2.0",
            "_model_name": "LayoutModel",
            "_view_count": null,
            "_view_module": "@jupyter-widgets/base",
            "_view_module_version": "1.2.0",
            "_view_name": "LayoutView",
            "align_content": null,
            "align_items": null,
            "align_self": null,
            "border": null,
            "bottom": null,
            "display": null,
            "flex": null,
            "flex_flow": null,
            "grid_area": null,
            "grid_auto_columns": null,
            "grid_auto_flow": null,
            "grid_auto_rows": null,
            "grid_column": null,
            "grid_gap": null,
            "grid_row": null,
            "grid_template_areas": null,
            "grid_template_columns": null,
            "grid_template_rows": null,
            "height": "18px",
            "justify_content": null,
            "justify_items": null,
            "left": null,
            "margin": null,
            "max_height": null,
            "max_width": null,
            "min_height": null,
            "min_width": null,
            "object_fit": null,
            "object_position": null,
            "order": null,
            "overflow": null,
            "overflow_x": null,
            "overflow_y": null,
            "padding": null,
            "right": null,
            "top": null,
            "visibility": null,
            "width": "140px"
          }
        },
        "7784586aec4445da8a9b02098816845c": {
          "model_module": "@jupyter-widgets/base",
          "model_module_version": "1.2.0",
          "model_name": "LayoutModel",
          "state": {
            "_model_module": "@jupyter-widgets/base",
            "_model_module_version": "1.2.0",
            "_model_name": "LayoutModel",
            "_view_count": null,
            "_view_module": "@jupyter-widgets/base",
            "_view_module_version": "1.2.0",
            "_view_name": "LayoutView",
            "align_content": null,
            "align_items": null,
            "align_self": null,
            "border": null,
            "bottom": null,
            "display": null,
            "flex": null,
            "flex_flow": null,
            "grid_area": null,
            "grid_auto_columns": null,
            "grid_auto_flow": null,
            "grid_auto_rows": null,
            "grid_column": null,
            "grid_gap": null,
            "grid_row": null,
            "grid_template_areas": null,
            "grid_template_columns": null,
            "grid_template_rows": null,
            "height": null,
            "justify_content": null,
            "justify_items": null,
            "left": null,
            "margin": null,
            "max_height": null,
            "max_width": null,
            "min_height": null,
            "min_width": null,
            "object_fit": null,
            "object_position": null,
            "order": null,
            "overflow": null,
            "overflow_x": null,
            "overflow_y": null,
            "padding": null,
            "right": null,
            "top": null,
            "visibility": null,
            "width": null
          }
        },
        "78298d547dc2450f92e3540115831c22": {
          "model_module": "@jupyter-widgets/base",
          "model_module_version": "1.2.0",
          "model_name": "LayoutModel",
          "state": {
            "_model_module": "@jupyter-widgets/base",
            "_model_module_version": "1.2.0",
            "_model_name": "LayoutModel",
            "_view_count": null,
            "_view_module": "@jupyter-widgets/base",
            "_view_module_version": "1.2.0",
            "_view_name": "LayoutView",
            "align_content": null,
            "align_items": null,
            "align_self": null,
            "border": null,
            "bottom": null,
            "display": null,
            "flex": null,
            "flex_flow": null,
            "grid_area": null,
            "grid_auto_columns": null,
            "grid_auto_flow": null,
            "grid_auto_rows": null,
            "grid_column": null,
            "grid_gap": null,
            "grid_row": null,
            "grid_template_areas": null,
            "grid_template_columns": null,
            "grid_template_rows": null,
            "height": "25px",
            "justify_content": null,
            "justify_items": null,
            "left": null,
            "margin": null,
            "max_height": null,
            "max_width": null,
            "min_height": null,
            "min_width": null,
            "object_fit": null,
            "object_position": null,
            "order": null,
            "overflow": null,
            "overflow_x": null,
            "overflow_y": null,
            "padding": "0px",
            "right": null,
            "top": null,
            "visibility": null,
            "width": "25px"
          }
        },
        "79bda74521a54815a42650abe4b6b1b7": {
          "model_module": "@jupyter-widgets/controls",
          "model_module_version": "1.5.0",
          "model_name": "SliderStyleModel",
          "state": {
            "_model_module": "@jupyter-widgets/controls",
            "_model_module_version": "1.5.0",
            "_model_name": "SliderStyleModel",
            "_view_count": null,
            "_view_module": "@jupyter-widgets/base",
            "_view_module_version": "1.2.0",
            "_view_name": "StyleView",
            "description_width": "",
            "handle_color": null
          }
        },
        "7a87d59c438446799edc37be1156fff7": {
          "model_module": "@jupyter-widgets/controls",
          "model_module_version": "1.5.0",
          "model_name": "DescriptionStyleModel",
          "state": {
            "_model_module": "@jupyter-widgets/controls",
            "_model_module_version": "1.5.0",
            "_model_name": "DescriptionStyleModel",
            "_view_count": null,
            "_view_module": "@jupyter-widgets/base",
            "_view_module_version": "1.2.0",
            "_view_name": "StyleView",
            "description_width": ""
          }
        },
        "7aa9714bd68e4daf95b092527c657472": {
          "model_module": "@jupyter-widgets/base",
          "model_module_version": "1.2.0",
          "model_name": "LayoutModel",
          "state": {
            "_model_module": "@jupyter-widgets/base",
            "_model_module_version": "1.2.0",
            "_model_name": "LayoutModel",
            "_view_count": null,
            "_view_module": "@jupyter-widgets/base",
            "_view_module_version": "1.2.0",
            "_view_name": "LayoutView",
            "align_content": null,
            "align_items": null,
            "align_self": null,
            "border": null,
            "bottom": null,
            "display": null,
            "flex": null,
            "flex_flow": null,
            "grid_area": null,
            "grid_auto_columns": null,
            "grid_auto_flow": null,
            "grid_auto_rows": null,
            "grid_column": null,
            "grid_gap": null,
            "grid_row": null,
            "grid_template_areas": null,
            "grid_template_columns": null,
            "grid_template_rows": null,
            "height": null,
            "justify_content": null,
            "justify_items": null,
            "left": null,
            "margin": null,
            "max_height": null,
            "max_width": null,
            "min_height": null,
            "min_width": null,
            "object_fit": null,
            "object_position": null,
            "order": null,
            "overflow": null,
            "overflow_x": null,
            "overflow_y": null,
            "padding": "0px 3px 0px 0px",
            "right": null,
            "top": null,
            "visibility": null,
            "width": "70px"
          }
        },
        "7adfc0e2fa2c484e9fba2e5750b89496": {
          "model_module": "@jupyter-widgets/controls",
          "model_module_version": "1.5.0",
          "model_name": "DescriptionStyleModel",
          "state": {
            "_model_module": "@jupyter-widgets/controls",
            "_model_module_version": "1.5.0",
            "_model_name": "DescriptionStyleModel",
            "_view_count": null,
            "_view_module": "@jupyter-widgets/base",
            "_view_module_version": "1.2.0",
            "_view_name": "StyleView",
            "description_width": ""
          }
        },
        "7ae0b3a392374d98be42f4920b59447f": {
          "model_module": "@jupyter-widgets/controls",
          "model_module_version": "1.5.0",
          "model_name": "ButtonModel",
          "state": {
            "_dom_classes": [],
            "_model_module": "@jupyter-widgets/controls",
            "_model_module_version": "1.5.0",
            "_model_name": "ButtonModel",
            "_view_count": null,
            "_view_module": "@jupyter-widgets/controls",
            "_view_module_version": "1.5.0",
            "_view_name": "ButtonView",
            "button_style": "primary",
            "description": "",
            "disabled": false,
            "icon": "times",
            "layout": "IPY_MODEL_3ca5c68a449c46458d0dc6533338e415",
            "style": "IPY_MODEL_bad51ba63b4a4228ab91efbcd95e79ca",
            "tooltip": "Close the tool"
          }
        },
        "7c7f5751103d4e6c855267952273aa78": {
          "model_module": "jupyter-leaflet",
          "model_module_version": "^0.19",
          "model_name": "LeafletTileLayerModel",
          "state": {
            "_model_module": "jupyter-leaflet",
            "_model_module_version": "^0.19",
            "_model_name": "LeafletTileLayerModel",
            "_view_count": null,
            "_view_module": "jupyter-leaflet",
            "_view_module_version": "^0.19",
            "_view_name": "LeafletTileLayerView",
            "attribution": "Google Earth Engine",
            "base": false,
            "bottom": true,
            "bounds": null,
            "detect_retina": false,
            "loading": false,
            "max_native_zoom": null,
            "max_zoom": 24,
            "min_native_zoom": null,
            "min_zoom": 0,
            "name": "postVH",
            "no_wrap": false,
            "opacity": 1,
            "options": [
              "attribution",
              "bounds",
              "detect_retina",
              "max_native_zoom",
              "max_zoom",
              "min_native_zoom",
              "min_zoom",
              "no_wrap",
              "tile_size",
              "tms",
              "zoom_offset"
            ],
            "pane": "",
            "popup": null,
            "popup_max_height": null,
            "popup_max_width": 300,
            "popup_min_width": 50,
            "show_loading": false,
            "subitems": [],
            "tile_size": 256,
            "tms": false,
            "url": "https://earthengine.googleapis.com/v1/projects/ee-lorenava-learning-sar/maps/60174b957450fc86b86003f9fa7f4a8c-46711b7c1db225279d8e3347adf32428/tiles/{z}/{x}/{y}",
            "visible": false,
            "zoom_offset": 0
          }
        },
        "7d08b86a503f4708af683847201dd3c2": {
          "model_module": "@jupyter-widgets/base",
          "model_module_version": "1.2.0",
          "model_name": "LayoutModel",
          "state": {
            "_model_module": "@jupyter-widgets/base",
            "_model_module_version": "1.2.0",
            "_model_name": "LayoutModel",
            "_view_count": null,
            "_view_module": "@jupyter-widgets/base",
            "_view_module_version": "1.2.0",
            "_view_name": "LayoutView",
            "align_content": null,
            "align_items": null,
            "align_self": null,
            "border": null,
            "bottom": null,
            "display": null,
            "flex": null,
            "flex_flow": null,
            "grid_area": null,
            "grid_auto_columns": null,
            "grid_auto_flow": null,
            "grid_auto_rows": null,
            "grid_column": null,
            "grid_gap": null,
            "grid_row": null,
            "grid_template_areas": null,
            "grid_template_columns": null,
            "grid_template_rows": null,
            "height": "25px",
            "justify_content": null,
            "justify_items": null,
            "left": null,
            "margin": null,
            "max_height": null,
            "max_width": null,
            "min_height": null,
            "min_width": null,
            "object_fit": null,
            "object_position": null,
            "order": null,
            "overflow": null,
            "overflow_x": null,
            "overflow_y": null,
            "padding": "0px",
            "right": null,
            "top": null,
            "visibility": null,
            "width": "25px"
          }
        },
        "8387d923ef4041d0b2ae597e41f77b58": {
          "model_module": "@jupyter-widgets/controls",
          "model_module_version": "1.5.0",
          "model_name": "CheckboxModel",
          "state": {
            "_dom_classes": [],
            "_model_module": "@jupyter-widgets/controls",
            "_model_module_version": "1.5.0",
            "_model_name": "CheckboxModel",
            "_view_count": null,
            "_view_module": "@jupyter-widgets/controls",
            "_view_module_version": "1.5.0",
            "_view_name": "CheckboxView",
            "description": "DESCENDING predictions",
            "description_tooltip": null,
            "disabled": false,
            "indent": false,
            "layout": "IPY_MODEL_211d887b22844d11b74164986daa980d",
            "style": "IPY_MODEL_efc8335911fe4d6a83888d88a3b34609",
            "value": true
          }
        },
        "83f953fc0f2c4683b876a7e12db5ffbc": {
          "model_module": "@jupyter-widgets/controls",
          "model_module_version": "1.5.0",
          "model_name": "CheckboxModel",
          "state": {
            "_dom_classes": [],
            "_model_module": "@jupyter-widgets/controls",
            "_model_module_version": "1.5.0",
            "_model_name": "CheckboxModel",
            "_view_count": null,
            "_view_module": "@jupyter-widgets/controls",
            "_view_module_version": "1.5.0",
            "_view_name": "CheckboxView",
            "description": "postVV",
            "description_tooltip": null,
            "disabled": false,
            "indent": false,
            "layout": "IPY_MODEL_62d4c03aebf7479ca55dd192acb074a4",
            "style": "IPY_MODEL_3046c70a437d44f49fe6d7752d302861",
            "value": false
          }
        },
        "8525397c4a2a4f859b73dcef73268829": {
          "model_module": "@jupyter-widgets/controls",
          "model_module_version": "1.5.0",
          "model_name": "DescriptionStyleModel",
          "state": {
            "_model_module": "@jupyter-widgets/controls",
            "_model_module_version": "1.5.0",
            "_model_name": "DescriptionStyleModel",
            "_view_count": null,
            "_view_module": "@jupyter-widgets/base",
            "_view_module_version": "1.2.0",
            "_view_name": "StyleView",
            "description_width": ""
          }
        },
        "858b9083bff145bcbaa9c96ccbe0aeed": {
          "model_module": "@jupyter-widgets/controls",
          "model_module_version": "1.5.0",
          "model_name": "ButtonModel",
          "state": {
            "_dom_classes": [],
            "_model_module": "@jupyter-widgets/controls",
            "_model_module_version": "1.5.0",
            "_model_name": "ButtonModel",
            "_view_count": null,
            "_view_module": "@jupyter-widgets/controls",
            "_view_module_version": "1.5.0",
            "_view_name": "ButtonView",
            "button_style": "",
            "description": "",
            "disabled": false,
            "icon": "times",
            "layout": "IPY_MODEL_8869f940029f464987100e19c2ccf33c",
            "style": "IPY_MODEL_d8b95c77fc7945439333658b69c8c8ef",
            "tooltip": "Loaded"
          }
        },
        "85a73b543dd447789e9b07126d401587": {
          "model_module": "jupyter-leaflet",
          "model_module_version": "^0.19",
          "model_name": "LeafletWidgetControlModel",
          "state": {
            "_model_module": "jupyter-leaflet",
            "_model_module_version": "^0.19",
            "_model_name": "LeafletWidgetControlModel",
            "_view_count": null,
            "_view_module": "jupyter-leaflet",
            "_view_module_version": "^0.19",
            "_view_name": "LeafletWidgetControlView",
            "max_height": null,
            "max_width": null,
            "min_height": null,
            "min_width": null,
            "options": [
              "position",
              "transparent_bg"
            ],
            "position": "bottomright",
            "transparent_bg": false,
            "widget": "IPY_MODEL_387bbe797e394b2a8e931efa7a47a263"
          }
        },
        "85df14dd45e94b7394a075074de6b07b": {
          "model_module": "@jupyter-widgets/controls",
          "model_module_version": "1.5.0",
          "model_name": "ButtonModel",
          "state": {
            "_dom_classes": [],
            "_model_module": "@jupyter-widgets/controls",
            "_model_module_version": "1.5.0",
            "_model_name": "ButtonModel",
            "_view_count": null,
            "_view_module": "@jupyter-widgets/controls",
            "_view_module_version": "1.5.0",
            "_view_name": "ButtonView",
            "button_style": "",
            "description": "",
            "disabled": false,
            "icon": "gear",
            "layout": "IPY_MODEL_a3d29ae1585446d082ff76cacc838295",
            "style": "IPY_MODEL_d5a0c0228695413f85d179d04e8547cb",
            "tooltip": "OpenStreetMap.Mapnik"
          }
        },
        "870a5135f6aa4a888c733fab85e1d463": {
          "model_module": "@jupyter-widgets/controls",
          "model_module_version": "1.5.0",
          "model_name": "FloatSliderModel",
          "state": {
            "_dom_classes": [],
            "_model_module": "@jupyter-widgets/controls",
            "_model_module_version": "1.5.0",
            "_model_name": "FloatSliderModel",
            "_view_count": null,
            "_view_module": "@jupyter-widgets/controls",
            "_view_module_version": "1.5.0",
            "_view_name": "FloatSliderView",
            "continuous_update": true,
            "description": "",
            "description_tooltip": null,
            "disabled": false,
            "layout": "IPY_MODEL_115bcc79e8734e5588129c9242d245ea",
            "max": 1,
            "min": 0,
            "orientation": "horizontal",
            "readout": false,
            "readout_format": ".2f",
            "step": 0.01,
            "style": "IPY_MODEL_53db54cbd1b14ee4b2f81bbe683368da",
            "value": 1
          }
        },
        "881fdea6c9a24c718c87af5b6889a7f0": {
          "model_module": "@jupyter-widgets/controls",
          "model_module_version": "1.5.0",
          "model_name": "HTMLModel",
          "state": {
            "_dom_classes": [],
            "_model_module": "@jupyter-widgets/controls",
            "_model_module_version": "1.5.0",
            "_model_name": "HTMLModel",
            "_view_count": null,
            "_view_module": "@jupyter-widgets/controls",
            "_view_module_version": "1.5.0",
            "_view_name": "HTMLView",
            "description": "",
            "description_tooltip": null,
            "layout": "IPY_MODEL_679fc95da4884db0a78497217d6892c1",
            "placeholder": "​",
            "style": "IPY_MODEL_d03279c5217c41b3a60e45b8c9d53684",
            "value": "VV_VH_ASCENDING__1.tif: "
          }
        },
        "883741548f06494aa2cc29d7032a27a4": {
          "model_module": "@jupyter-widgets/controls",
          "model_module_version": "1.5.0",
          "model_name": "DescriptionStyleModel",
          "state": {
            "_model_module": "@jupyter-widgets/controls",
            "_model_module_version": "1.5.0",
            "_model_name": "DescriptionStyleModel",
            "_view_count": null,
            "_view_module": "@jupyter-widgets/base",
            "_view_module_version": "1.2.0",
            "_view_name": "StyleView",
            "description_width": ""
          }
        },
        "8869f940029f464987100e19c2ccf33c": {
          "model_module": "@jupyter-widgets/base",
          "model_module_version": "1.2.0",
          "model_name": "LayoutModel",
          "state": {
            "_model_module": "@jupyter-widgets/base",
            "_model_module_version": "1.2.0",
            "_model_name": "LayoutModel",
            "_view_count": null,
            "_view_module": "@jupyter-widgets/base",
            "_view_module_version": "1.2.0",
            "_view_name": "LayoutView",
            "align_content": null,
            "align_items": null,
            "align_self": null,
            "border": null,
            "bottom": null,
            "display": null,
            "flex": null,
            "flex_flow": null,
            "grid_area": null,
            "grid_auto_columns": null,
            "grid_auto_flow": null,
            "grid_auto_rows": null,
            "grid_column": null,
            "grid_gap": null,
            "grid_row": null,
            "grid_template_areas": null,
            "grid_template_columns": null,
            "grid_template_rows": null,
            "height": "25px",
            "justify_content": null,
            "justify_items": null,
            "left": null,
            "margin": null,
            "max_height": null,
            "max_width": null,
            "min_height": null,
            "min_width": null,
            "object_fit": null,
            "object_position": null,
            "order": null,
            "overflow": null,
            "overflow_x": null,
            "overflow_y": null,
            "padding": "0px",
            "right": null,
            "top": null,
            "visibility": null,
            "width": "25px"
          }
        },
        "892c0709f4d840b9ad761c8b49863229": {
          "model_module": "@jupyter-widgets/base",
          "model_module_version": "1.2.0",
          "model_name": "LayoutModel",
          "state": {
            "_model_module": "@jupyter-widgets/base",
            "_model_module_version": "1.2.0",
            "_model_name": "LayoutModel",
            "_view_count": null,
            "_view_module": "@jupyter-widgets/base",
            "_view_module_version": "1.2.0",
            "_view_name": "LayoutView",
            "align_content": null,
            "align_items": null,
            "align_self": null,
            "border": null,
            "bottom": null,
            "display": null,
            "flex": null,
            "flex_flow": null,
            "grid_area": null,
            "grid_auto_columns": null,
            "grid_auto_flow": null,
            "grid_auto_rows": null,
            "grid_column": null,
            "grid_gap": null,
            "grid_row": null,
            "grid_template_areas": null,
            "grid_template_columns": null,
            "grid_template_rows": null,
            "height": "25px",
            "justify_content": null,
            "justify_items": null,
            "left": null,
            "margin": null,
            "max_height": null,
            "max_width": null,
            "min_height": null,
            "min_width": null,
            "object_fit": null,
            "object_position": null,
            "order": null,
            "overflow": null,
            "overflow_x": null,
            "overflow_y": null,
            "padding": "0px",
            "right": null,
            "top": null,
            "visibility": null,
            "width": "25px"
          }
        },
        "892cd85b483a4cad842426edb0d609c7": {
          "model_module": "@jupyter-widgets/controls",
          "model_module_version": "1.5.0",
          "model_name": "HBoxModel",
          "state": {
            "_dom_classes": [],
            "_model_module": "@jupyter-widgets/controls",
            "_model_module_version": "1.5.0",
            "_model_name": "HBoxModel",
            "_view_count": null,
            "_view_module": "@jupyter-widgets/controls",
            "_view_module_version": "1.5.0",
            "_view_name": "HBoxView",
            "box_style": "",
            "children": [
              "IPY_MODEL_f0d1a1c6228d432992f7c9f5cb881761",
              "IPY_MODEL_870a5135f6aa4a888c733fab85e1d463",
              "IPY_MODEL_56b601d6c8a140ae808fe7c7d2137b78",
              "IPY_MODEL_8e732c2621a74ae4a78ca4c199b99450"
            ],
            "layout": "IPY_MODEL_24509470e5ca40849e43101fd1ee737e"
          }
        },
        "8a5c0718d15441c0b5ecf99819a6245e": {
          "model_module": "jupyter-leaflet",
          "model_module_version": "^0.19",
          "model_name": "LeafletWidgetControlModel",
          "state": {
            "_model_module": "jupyter-leaflet",
            "_model_module_version": "^0.19",
            "_model_name": "LeafletWidgetControlModel",
            "_view_count": null,
            "_view_module": "jupyter-leaflet",
            "_view_module_version": "^0.19",
            "_view_name": "LeafletWidgetControlView",
            "max_height": null,
            "max_width": null,
            "min_height": null,
            "min_width": null,
            "options": [
              "position",
              "transparent_bg"
            ],
            "position": "topleft",
            "transparent_bg": false,
            "widget": "IPY_MODEL_539f3c109da047c7938e164337558d18"
          }
        },
        "8a86f0b6a98045aeabc40c30e1e794e6": {
          "model_module": "@jupyter-widgets/base",
          "model_module_version": "1.2.0",
          "model_name": "LayoutModel",
          "state": {
            "_model_module": "@jupyter-widgets/base",
            "_model_module_version": "1.2.0",
            "_model_name": "LayoutModel",
            "_view_count": null,
            "_view_module": "@jupyter-widgets/base",
            "_view_module_version": "1.2.0",
            "_view_name": "LayoutView",
            "align_content": null,
            "align_items": null,
            "align_self": null,
            "border": null,
            "bottom": null,
            "display": null,
            "flex": null,
            "flex_flow": null,
            "grid_area": null,
            "grid_auto_columns": null,
            "grid_auto_flow": null,
            "grid_auto_rows": null,
            "grid_column": null,
            "grid_gap": null,
            "grid_row": null,
            "grid_template_areas": null,
            "grid_template_columns": null,
            "grid_template_rows": null,
            "height": null,
            "justify_content": null,
            "justify_items": null,
            "left": null,
            "margin": null,
            "max_height": null,
            "max_width": null,
            "min_height": null,
            "min_width": null,
            "object_fit": null,
            "object_position": null,
            "order": null,
            "overflow": null,
            "overflow_x": null,
            "overflow_y": null,
            "padding": null,
            "right": null,
            "top": null,
            "visibility": null,
            "width": null
          }
        },
        "8c6971a5e33647fe8703b9218f54563f": {
          "model_module": "@jupyter-widgets/base",
          "model_module_version": "1.2.0",
          "model_name": "LayoutModel",
          "state": {
            "_model_module": "@jupyter-widgets/base",
            "_model_module_version": "1.2.0",
            "_model_name": "LayoutModel",
            "_view_count": null,
            "_view_module": "@jupyter-widgets/base",
            "_view_module_version": "1.2.0",
            "_view_name": "LayoutView",
            "align_content": null,
            "align_items": null,
            "align_self": null,
            "border": null,
            "bottom": null,
            "display": null,
            "flex": null,
            "flex_flow": null,
            "grid_area": null,
            "grid_auto_columns": null,
            "grid_auto_flow": null,
            "grid_auto_rows": null,
            "grid_column": null,
            "grid_gap": null,
            "grid_row": null,
            "grid_template_areas": null,
            "grid_template_columns": null,
            "grid_template_rows": null,
            "height": "25px",
            "justify_content": null,
            "justify_items": null,
            "left": null,
            "margin": null,
            "max_height": null,
            "max_width": null,
            "min_height": null,
            "min_width": null,
            "object_fit": null,
            "object_position": null,
            "order": null,
            "overflow": null,
            "overflow_x": null,
            "overflow_y": null,
            "padding": "0px",
            "right": null,
            "top": null,
            "visibility": null,
            "width": "25px"
          }
        },
        "8cf3ddf108c24512a68507e002ac30a2": {
          "model_module": "jupyter-leaflet",
          "model_module_version": "^0.19",
          "model_name": "LeafletMapStyleModel",
          "state": {
            "_model_module": "jupyter-leaflet",
            "_model_module_version": "^0.19",
            "_model_name": "LeafletMapStyleModel",
            "_view_count": null,
            "_view_module": "@jupyter-widgets/base",
            "_view_module_version": "1.2.0",
            "_view_name": "StyleView",
            "cursor": "grab"
          }
        },
        "8d300113cac04c8ebbd37f5ce1b2efad": {
          "model_module": "@jupyter-widgets/controls",
          "model_module_version": "1.5.0",
          "model_name": "HBoxModel",
          "state": {
            "_dom_classes": [],
            "_model_module": "@jupyter-widgets/controls",
            "_model_module_version": "1.5.0",
            "_model_name": "HBoxModel",
            "_view_count": null,
            "_view_module": "@jupyter-widgets/controls",
            "_view_module_version": "1.5.0",
            "_view_name": "HBoxView",
            "box_style": "",
            "children": [
              "IPY_MODEL_83f953fc0f2c4683b876a7e12db5ffbc",
              "IPY_MODEL_332af2914142465c8bee4aeb96cafd56",
              "IPY_MODEL_f35049bfb8a44a41a70cfa778ac5123c",
              "IPY_MODEL_e8a8fc8429b747af883f0291f6d31d1b"
            ],
            "layout": "IPY_MODEL_c5159d0c2f244e31a9c068db3a50fa51"
          }
        },
        "8d9e40c84fc340339377e96d7ee29c30": {
          "model_module": "@jupyter-widgets/base",
          "model_module_version": "1.2.0",
          "model_name": "LayoutModel",
          "state": {
            "_model_module": "@jupyter-widgets/base",
            "_model_module_version": "1.2.0",
            "_model_name": "LayoutModel",
            "_view_count": null,
            "_view_module": "@jupyter-widgets/base",
            "_view_module_version": "1.2.0",
            "_view_name": "LayoutView",
            "align_content": null,
            "align_items": null,
            "align_self": null,
            "border": null,
            "bottom": null,
            "display": null,
            "flex": null,
            "flex_flow": null,
            "grid_area": null,
            "grid_auto_columns": null,
            "grid_auto_flow": null,
            "grid_auto_rows": null,
            "grid_column": null,
            "grid_gap": null,
            "grid_row": null,
            "grid_template_areas": null,
            "grid_template_columns": null,
            "grid_template_rows": null,
            "height": "28px",
            "justify_content": null,
            "justify_items": null,
            "left": null,
            "margin": null,
            "max_height": null,
            "max_width": null,
            "min_height": null,
            "min_width": null,
            "object_fit": null,
            "object_position": null,
            "order": null,
            "overflow": null,
            "overflow_x": null,
            "overflow_y": null,
            "padding": "0px 0px 0px 4px",
            "right": null,
            "top": null,
            "visibility": null,
            "width": "28px"
          }
        },
        "8e732c2621a74ae4a78ca4c199b99450": {
          "model_module": "@jupyter-widgets/controls",
          "model_module_version": "1.5.0",
          "model_name": "ButtonModel",
          "state": {
            "_dom_classes": [],
            "_model_module": "@jupyter-widgets/controls",
            "_model_module_version": "1.5.0",
            "_model_name": "ButtonModel",
            "_view_count": null,
            "_view_module": "@jupyter-widgets/controls",
            "_view_module_version": "1.5.0",
            "_view_name": "ButtonView",
            "button_style": "",
            "description": "",
            "disabled": false,
            "icon": "times",
            "layout": "IPY_MODEL_8c6971a5e33647fe8703b9218f54563f",
            "style": "IPY_MODEL_5a87207b372d462f83736e72c2ed3e20",
            "tooltip": "Loaded"
          }
        },
        "8f7edf4978374190b25ad509e0aef572": {
          "model_module": "@jupyter-widgets/controls",
          "model_module_version": "1.5.0",
          "model_name": "HTMLModel",
          "state": {
            "_dom_classes": [],
            "_model_module": "@jupyter-widgets/controls",
            "_model_module_version": "1.5.0",
            "_model_name": "HTMLModel",
            "_view_count": null,
            "_view_module": "@jupyter-widgets/controls",
            "_view_module_version": "1.5.0",
            "_view_name": "HTMLView",
            "description": "",
            "description_tooltip": null,
            "layout": "IPY_MODEL_57b3ddfca4424175843b7c61519f4858",
            "placeholder": "​",
            "style": "IPY_MODEL_12fb9e7c6d854f71b83c0bffec344d0d",
            "value": " 992M/992M (raw) [100.0%] in 00:05 (eta: 00:00)"
          }
        },
        "9016afcf904d461ebc1b92197cd74619": {
          "model_module": "@jupyter-widgets/controls",
          "model_module_version": "1.5.0",
          "model_name": "VBoxModel",
          "state": {
            "_dom_classes": [],
            "_model_module": "@jupyter-widgets/controls",
            "_model_module_version": "1.5.0",
            "_model_name": "VBoxModel",
            "_view_count": null,
            "_view_module": "@jupyter-widgets/controls",
            "_view_module_version": "1.5.0",
            "_view_name": "VBoxView",
            "box_style": "",
            "children": [
              "IPY_MODEL_26f9685de5ba4e0883bebf693fda3bf8"
            ],
            "layout": "IPY_MODEL_7784586aec4445da8a9b02098816845c"
          }
        },
        "901d43e457eb4442b39ecfc0a083d672": {
          "model_module": "@jupyter-widgets/controls",
          "model_module_version": "1.5.0",
          "model_name": "HBoxModel",
          "state": {
            "_dom_classes": [],
            "_model_module": "@jupyter-widgets/controls",
            "_model_module_version": "1.5.0",
            "_model_name": "HBoxModel",
            "_view_count": null,
            "_view_module": "@jupyter-widgets/controls",
            "_view_module_version": "1.5.0",
            "_view_name": "HBoxView",
            "box_style": "",
            "children": [
              "IPY_MODEL_d1042dd7a9f04d819308cc3d763f6983",
              "IPY_MODEL_3bd3b529801048cd8386f0a071364879"
            ],
            "layout": "IPY_MODEL_047504c5164a4bcd8c014cdec4f7d6fd"
          }
        },
        "90855dd6e4774e26b53de5f840d608ab": {
          "model_module": "@jupyter-widgets/base",
          "model_module_version": "1.2.0",
          "model_name": "LayoutModel",
          "state": {
            "_model_module": "@jupyter-widgets/base",
            "_model_module_version": "1.2.0",
            "_model_name": "LayoutModel",
            "_view_count": null,
            "_view_module": "@jupyter-widgets/base",
            "_view_module_version": "1.2.0",
            "_view_name": "LayoutView",
            "align_content": null,
            "align_items": null,
            "align_self": null,
            "border": null,
            "bottom": null,
            "display": null,
            "flex": null,
            "flex_flow": null,
            "grid_area": null,
            "grid_auto_columns": null,
            "grid_auto_flow": null,
            "grid_auto_rows": null,
            "grid_column": null,
            "grid_gap": null,
            "grid_row": null,
            "grid_template_areas": null,
            "grid_template_columns": null,
            "grid_template_rows": null,
            "height": "600px",
            "justify_content": null,
            "justify_items": null,
            "left": null,
            "margin": null,
            "max_height": null,
            "max_width": null,
            "min_height": null,
            "min_width": null,
            "object_fit": null,
            "object_position": null,
            "order": null,
            "overflow": null,
            "overflow_x": null,
            "overflow_y": null,
            "padding": null,
            "right": null,
            "top": null,
            "visibility": null,
            "width": null
          }
        },
        "90a5e54143e74906ac0de27b961e4221": {
          "model_module": "@jupyter-widgets/base",
          "model_module_version": "1.2.0",
          "model_name": "LayoutModel",
          "state": {
            "_model_module": "@jupyter-widgets/base",
            "_model_module_version": "1.2.0",
            "_model_name": "LayoutModel",
            "_view_count": null,
            "_view_module": "@jupyter-widgets/base",
            "_view_module_version": "1.2.0",
            "_view_name": "LayoutView",
            "align_content": null,
            "align_items": null,
            "align_self": null,
            "border": null,
            "bottom": null,
            "display": null,
            "flex": null,
            "flex_flow": null,
            "grid_area": null,
            "grid_auto_columns": null,
            "grid_auto_flow": null,
            "grid_auto_rows": null,
            "grid_column": null,
            "grid_gap": null,
            "grid_row": null,
            "grid_template_areas": null,
            "grid_template_columns": null,
            "grid_template_rows": null,
            "height": "28px",
            "justify_content": null,
            "justify_items": null,
            "left": null,
            "margin": null,
            "max_height": null,
            "max_width": null,
            "min_height": null,
            "min_width": null,
            "object_fit": null,
            "object_position": null,
            "order": null,
            "overflow": null,
            "overflow_x": null,
            "overflow_y": null,
            "padding": "0px 0px 0px 4px",
            "right": null,
            "top": null,
            "visibility": null,
            "width": "28px"
          }
        },
        "914776760a834e11aca8fa4c7a3f1ca6": {
          "model_module": "@jupyter-widgets/controls",
          "model_module_version": "1.5.0",
          "model_name": "ProgressStyleModel",
          "state": {
            "_model_module": "@jupyter-widgets/controls",
            "_model_module_version": "1.5.0",
            "_model_name": "ProgressStyleModel",
            "_view_count": null,
            "_view_module": "@jupyter-widgets/base",
            "_view_module_version": "1.2.0",
            "_view_name": "StyleView",
            "bar_color": null,
            "description_width": ""
          }
        },
        "919d61447857455893055bea1770fd9b": {
          "model_module": "@jupyter-widgets/controls",
          "model_module_version": "1.5.0",
          "model_name": "ToggleButtonModel",
          "state": {
            "_dom_classes": [],
            "_model_module": "@jupyter-widgets/controls",
            "_model_module_version": "1.5.0",
            "_model_name": "ToggleButtonModel",
            "_view_count": null,
            "_view_module": "@jupyter-widgets/controls",
            "_view_module_version": "1.5.0",
            "_view_name": "ToggleButtonView",
            "button_style": "",
            "description": "",
            "description_tooltip": null,
            "disabled": false,
            "icon": "info",
            "layout": "IPY_MODEL_2c41987fb8694efb90ab21af9c0d60e5",
            "style": "IPY_MODEL_e29a233a6e5b49ff86a49da2e2aa56b0",
            "tooltip": "Toolbar",
            "value": true
          }
        },
        "95f36b006f864c499a4669778629c1b8": {
          "model_module": "@jupyter-widgets/controls",
          "model_module_version": "1.5.0",
          "model_name": "ButtonModel",
          "state": {
            "_dom_classes": [],
            "_model_module": "@jupyter-widgets/controls",
            "_model_module_version": "1.5.0",
            "_model_name": "ButtonModel",
            "_view_count": null,
            "_view_module": "@jupyter-widgets/controls",
            "_view_module_version": "1.5.0",
            "_view_name": "ButtonView",
            "button_style": "",
            "description": "",
            "disabled": false,
            "icon": "gear",
            "layout": "IPY_MODEL_a18e8fe9b42546e6bfe3ff4c9157e206",
            "style": "IPY_MODEL_45b57969ba324eebb8c5730134c9ef86",
            "tooltip": "Drawn Features"
          }
        },
        "97b83ea1e7db45f981ab01c8697b00f7": {
          "model_module": "@jupyter-widgets/controls",
          "model_module_version": "1.5.0",
          "model_name": "CheckboxModel",
          "state": {
            "_dom_classes": [],
            "_model_module": "@jupyter-widgets/controls",
            "_model_module_version": "1.5.0",
            "_model_name": "CheckboxModel",
            "_view_count": null,
            "_view_module": "@jupyter-widgets/controls",
            "_view_module_version": "1.5.0",
            "_view_name": "CheckboxView",
            "description": "All layers on/off",
            "description_tooltip": null,
            "disabled": false,
            "indent": false,
            "layout": "IPY_MODEL_4a4dd5a0ba2e4b0f9d40199ce8fe2516",
            "style": "IPY_MODEL_8525397c4a2a4f859b73dcef73268829",
            "value": false
          }
        },
        "981ca19e48da4b30b40ab8c84d3d005e": {
          "model_module": "@jupyter-widgets/controls",
          "model_module_version": "1.5.0",
          "model_name": "DescriptionStyleModel",
          "state": {
            "_model_module": "@jupyter-widgets/controls",
            "_model_module_version": "1.5.0",
            "_model_name": "DescriptionStyleModel",
            "_view_count": null,
            "_view_module": "@jupyter-widgets/base",
            "_view_module_version": "1.2.0",
            "_view_name": "StyleView",
            "description_width": ""
          }
        },
        "98703787b0974e46891b53c9d405bdb1": {
          "model_module": "@jupyter-widgets/controls",
          "model_module_version": "1.5.0",
          "model_name": "ToggleButtonModel",
          "state": {
            "_dom_classes": [],
            "_model_module": "@jupyter-widgets/controls",
            "_model_module_version": "1.5.0",
            "_model_name": "ToggleButtonModel",
            "_view_count": null,
            "_view_module": "@jupyter-widgets/controls",
            "_view_module_version": "1.5.0",
            "_view_name": "ToggleButtonView",
            "button_style": "",
            "description": "",
            "description_tooltip": null,
            "disabled": false,
            "icon": "server",
            "layout": "IPY_MODEL_2b9eb81e51874efbb7eac4cdf7b4120f",
            "style": "IPY_MODEL_c326e134b99740e9a356f1be7611b8d4",
            "tooltip": "Layers",
            "value": true
          }
        },
        "991a6d9f4d47436798e6059edcbb6d49": {
          "model_module": "@jupyter-widgets/base",
          "model_module_version": "1.2.0",
          "model_name": "LayoutModel",
          "state": {
            "_model_module": "@jupyter-widgets/base",
            "_model_module_version": "1.2.0",
            "_model_name": "LayoutModel",
            "_view_count": null,
            "_view_module": "@jupyter-widgets/base",
            "_view_module_version": "1.2.0",
            "_view_name": "LayoutView",
            "align_content": null,
            "align_items": null,
            "align_self": null,
            "border": null,
            "bottom": null,
            "display": null,
            "flex": null,
            "flex_flow": null,
            "grid_area": null,
            "grid_auto_columns": null,
            "grid_auto_flow": null,
            "grid_auto_rows": null,
            "grid_column": null,
            "grid_gap": null,
            "grid_row": null,
            "grid_template_areas": null,
            "grid_template_columns": null,
            "grid_template_rows": null,
            "height": "25px",
            "justify_content": null,
            "justify_items": null,
            "left": null,
            "margin": null,
            "max_height": null,
            "max_width": null,
            "min_height": null,
            "min_width": null,
            "object_fit": null,
            "object_position": null,
            "order": null,
            "overflow": null,
            "overflow_x": null,
            "overflow_y": null,
            "padding": "0px",
            "right": null,
            "top": null,
            "visibility": null,
            "width": "25px"
          }
        },
        "994c547c7caf470793f9df3006a44e3f": {
          "model_module": "@jupyter-widgets/base",
          "model_module_version": "1.2.0",
          "model_name": "LayoutModel",
          "state": {
            "_model_module": "@jupyter-widgets/base",
            "_model_module_version": "1.2.0",
            "_model_name": "LayoutModel",
            "_view_count": null,
            "_view_module": "@jupyter-widgets/base",
            "_view_module_version": "1.2.0",
            "_view_name": "LayoutView",
            "align_content": null,
            "align_items": null,
            "align_self": null,
            "border": null,
            "bottom": null,
            "display": null,
            "flex": null,
            "flex_flow": null,
            "grid_area": null,
            "grid_auto_columns": null,
            "grid_auto_flow": null,
            "grid_auto_rows": null,
            "grid_column": null,
            "grid_gap": null,
            "grid_row": null,
            "grid_template_areas": null,
            "grid_template_columns": null,
            "grid_template_rows": null,
            "height": null,
            "justify_content": null,
            "justify_items": null,
            "left": null,
            "margin": null,
            "max_height": null,
            "max_width": null,
            "min_height": null,
            "min_width": null,
            "object_fit": null,
            "object_position": null,
            "order": null,
            "overflow": null,
            "overflow_x": null,
            "overflow_y": null,
            "padding": "0px 4px 0px 4px",
            "right": null,
            "top": null,
            "visibility": null,
            "width": null
          }
        },
        "9aece966b6514ab9bc1ec9433bdd2841": {
          "model_module": "@jupyter-widgets/controls",
          "model_module_version": "1.5.0",
          "model_name": "ToggleButtonModel",
          "state": {
            "_dom_classes": [],
            "_model_module": "@jupyter-widgets/controls",
            "_model_module_version": "1.5.0",
            "_model_name": "ToggleButtonModel",
            "_view_count": null,
            "_view_module": "@jupyter-widgets/controls",
            "_view_module_version": "1.5.0",
            "_view_name": "ToggleButtonView",
            "button_style": "",
            "description": "",
            "description_tooltip": null,
            "disabled": false,
            "icon": "wrench",
            "layout": "IPY_MODEL_6ef08bcd5f674f1294e2dadb3e137c5a",
            "style": "IPY_MODEL_259e5b7346704de88a1955522cc8153a",
            "tooltip": "Toolbar",
            "value": false
          }
        },
        "9fb51851412445d99212ecf04ce8c9ad": {
          "model_module": "@jupyter-widgets/controls",
          "model_module_version": "1.5.0",
          "model_name": "HBoxModel",
          "state": {
            "_dom_classes": [],
            "_model_module": "@jupyter-widgets/controls",
            "_model_module_version": "1.5.0",
            "_model_name": "HBoxModel",
            "_view_count": null,
            "_view_module": "@jupyter-widgets/controls",
            "_view_module_version": "1.5.0",
            "_view_name": "HBoxView",
            "box_style": "",
            "children": [
              "IPY_MODEL_2c71517ca6ce4f6bbce93f385ac9067d",
              "IPY_MODEL_6ec6c3675aaf4df08f8dc206dabd75fb",
              "IPY_MODEL_95f36b006f864c499a4669778629c1b8",
              "IPY_MODEL_afccbbd534d94ba6b32b0d39a3e07dcf"
            ],
            "layout": "IPY_MODEL_ca15f715a6014180be975f3c99dc91ad"
          }
        },
        "9fccafa5658e404d8b8915245d64844c": {
          "model_module": "@jupyter-widgets/controls",
          "model_module_version": "1.5.0",
          "model_name": "HBoxModel",
          "state": {
            "_dom_classes": [],
            "_model_module": "@jupyter-widgets/controls",
            "_model_module_version": "1.5.0",
            "_model_name": "HBoxModel",
            "_view_count": null,
            "_view_module": "@jupyter-widgets/controls",
            "_view_module_version": "1.5.0",
            "_view_name": "HBoxView",
            "box_style": "",
            "children": [
              "IPY_MODEL_8387d923ef4041d0b2ae597e41f77b58",
              "IPY_MODEL_164c047d784a4cb6b9e2110edb81e09d",
              "IPY_MODEL_3b711f85c5534d12ac49b84d8ee41758",
              "IPY_MODEL_c6c8e7a0fa4a4764929a41bec6da96fe"
            ],
            "layout": "IPY_MODEL_d7c5ce737c3b4e6da0f6e50c946f355a"
          }
        },
        "9fe135487660472595edd41ca140e3c4": {
          "model_module": "@jupyter-widgets/base",
          "model_module_version": "1.2.0",
          "model_name": "LayoutModel",
          "state": {
            "_model_module": "@jupyter-widgets/base",
            "_model_module_version": "1.2.0",
            "_model_name": "LayoutModel",
            "_view_count": null,
            "_view_module": "@jupyter-widgets/base",
            "_view_module_version": "1.2.0",
            "_view_name": "LayoutView",
            "align_content": null,
            "align_items": null,
            "align_self": null,
            "border": null,
            "bottom": null,
            "display": null,
            "flex": null,
            "flex_flow": null,
            "grid_area": null,
            "grid_auto_columns": null,
            "grid_auto_flow": null,
            "grid_auto_rows": null,
            "grid_column": null,
            "grid_gap": null,
            "grid_row": null,
            "grid_template_areas": null,
            "grid_template_columns": null,
            "grid_template_rows": null,
            "height": null,
            "justify_content": null,
            "justify_items": null,
            "left": null,
            "margin": null,
            "max_height": null,
            "max_width": null,
            "min_height": null,
            "min_width": null,
            "object_fit": null,
            "object_position": null,
            "order": null,
            "overflow": null,
            "overflow_x": null,
            "overflow_y": null,
            "padding": "0px 3px 0px 0px",
            "right": null,
            "top": null,
            "visibility": null,
            "width": "70px"
          }
        },
        "a04a3a25fa4c46ddb4fdd836d02f3075": {
          "model_module": "@jupyter-widgets/controls",
          "model_module_version": "1.5.0",
          "model_name": "ButtonStyleModel",
          "state": {
            "_model_module": "@jupyter-widgets/controls",
            "_model_module_version": "1.5.0",
            "_model_name": "ButtonStyleModel",
            "_view_count": null,
            "_view_module": "@jupyter-widgets/base",
            "_view_module_version": "1.2.0",
            "_view_name": "StyleView",
            "button_color": null,
            "font_weight": ""
          }
        },
        "a087ecdb144c48db989dacd177612159": {
          "model_module": "@jupyter-widgets/controls",
          "model_module_version": "1.5.0",
          "model_name": "SliderStyleModel",
          "state": {
            "_model_module": "@jupyter-widgets/controls",
            "_model_module_version": "1.5.0",
            "_model_name": "SliderStyleModel",
            "_view_count": null,
            "_view_module": "@jupyter-widgets/base",
            "_view_module_version": "1.2.0",
            "_view_name": "StyleView",
            "description_width": "",
            "handle_color": null
          }
        },
        "a0eece58edcf4c0197c9fd2f1482b2c3": {
          "model_module": "@jupyter-widgets/base",
          "model_module_version": "1.2.0",
          "model_name": "LayoutModel",
          "state": {
            "_model_module": "@jupyter-widgets/base",
            "_model_module_version": "1.2.0",
            "_model_name": "LayoutModel",
            "_view_count": null,
            "_view_module": "@jupyter-widgets/base",
            "_view_module_version": "1.2.0",
            "_view_name": "LayoutView",
            "align_content": null,
            "align_items": null,
            "align_self": null,
            "border": null,
            "bottom": null,
            "display": null,
            "flex": null,
            "flex_flow": null,
            "grid_area": null,
            "grid_auto_columns": null,
            "grid_auto_flow": null,
            "grid_auto_rows": null,
            "grid_column": null,
            "grid_gap": null,
            "grid_row": null,
            "grid_template_areas": null,
            "grid_template_columns": null,
            "grid_template_rows": null,
            "height": null,
            "justify_content": null,
            "justify_items": null,
            "left": null,
            "margin": null,
            "max_height": null,
            "max_width": null,
            "min_height": null,
            "min_width": null,
            "object_fit": null,
            "object_position": null,
            "order": null,
            "overflow": null,
            "overflow_x": null,
            "overflow_y": null,
            "padding": null,
            "right": null,
            "top": null,
            "visibility": null,
            "width": null
          }
        },
        "a18e8fe9b42546e6bfe3ff4c9157e206": {
          "model_module": "@jupyter-widgets/base",
          "model_module_version": "1.2.0",
          "model_name": "LayoutModel",
          "state": {
            "_model_module": "@jupyter-widgets/base",
            "_model_module_version": "1.2.0",
            "_model_name": "LayoutModel",
            "_view_count": null,
            "_view_module": "@jupyter-widgets/base",
            "_view_module_version": "1.2.0",
            "_view_name": "LayoutView",
            "align_content": null,
            "align_items": null,
            "align_self": null,
            "border": null,
            "bottom": null,
            "display": null,
            "flex": null,
            "flex_flow": null,
            "grid_area": null,
            "grid_auto_columns": null,
            "grid_auto_flow": null,
            "grid_auto_rows": null,
            "grid_column": null,
            "grid_gap": null,
            "grid_row": null,
            "grid_template_areas": null,
            "grid_template_columns": null,
            "grid_template_rows": null,
            "height": "25px",
            "justify_content": null,
            "justify_items": null,
            "left": null,
            "margin": null,
            "max_height": null,
            "max_width": null,
            "min_height": null,
            "min_width": null,
            "object_fit": null,
            "object_position": null,
            "order": null,
            "overflow": null,
            "overflow_x": null,
            "overflow_y": null,
            "padding": "0px",
            "right": null,
            "top": null,
            "visibility": null,
            "width": "25px"
          }
        },
        "a247801408c54ae0ac6fd1b4be9a5123": {
          "model_module": "@jupyter-widgets/controls",
          "model_module_version": "1.5.0",
          "model_name": "ButtonStyleModel",
          "state": {
            "_model_module": "@jupyter-widgets/controls",
            "_model_module_version": "1.5.0",
            "_model_name": "ButtonStyleModel",
            "_view_count": null,
            "_view_module": "@jupyter-widgets/base",
            "_view_module_version": "1.2.0",
            "_view_name": "StyleView",
            "button_color": null,
            "font_weight": ""
          }
        },
        "a2b4184f62db4bfebdd2df323778ad0c": {
          "model_module": "@jupyter-widgets/base",
          "model_module_version": "1.2.0",
          "model_name": "LayoutModel",
          "state": {
            "_model_module": "@jupyter-widgets/base",
            "_model_module_version": "1.2.0",
            "_model_name": "LayoutModel",
            "_view_count": null,
            "_view_module": "@jupyter-widgets/base",
            "_view_module_version": "1.2.0",
            "_view_name": "LayoutView",
            "align_content": null,
            "align_items": null,
            "align_self": null,
            "border": null,
            "bottom": null,
            "display": null,
            "flex": null,
            "flex_flow": null,
            "grid_area": null,
            "grid_auto_columns": null,
            "grid_auto_flow": null,
            "grid_auto_rows": null,
            "grid_column": null,
            "grid_gap": null,
            "grid_row": null,
            "grid_template_areas": null,
            "grid_template_columns": null,
            "grid_template_rows": null,
            "height": null,
            "justify_content": null,
            "justify_items": null,
            "left": null,
            "margin": null,
            "max_height": null,
            "max_width": null,
            "min_height": null,
            "min_width": null,
            "object_fit": null,
            "object_position": null,
            "order": null,
            "overflow": null,
            "overflow_x": null,
            "overflow_y": null,
            "padding": null,
            "right": null,
            "top": null,
            "visibility": null,
            "width": null
          }
        },
        "a3d29ae1585446d082ff76cacc838295": {
          "model_module": "@jupyter-widgets/base",
          "model_module_version": "1.2.0",
          "model_name": "LayoutModel",
          "state": {
            "_model_module": "@jupyter-widgets/base",
            "_model_module_version": "1.2.0",
            "_model_name": "LayoutModel",
            "_view_count": null,
            "_view_module": "@jupyter-widgets/base",
            "_view_module_version": "1.2.0",
            "_view_name": "LayoutView",
            "align_content": null,
            "align_items": null,
            "align_self": null,
            "border": null,
            "bottom": null,
            "display": null,
            "flex": null,
            "flex_flow": null,
            "grid_area": null,
            "grid_auto_columns": null,
            "grid_auto_flow": null,
            "grid_auto_rows": null,
            "grid_column": null,
            "grid_gap": null,
            "grid_row": null,
            "grid_template_areas": null,
            "grid_template_columns": null,
            "grid_template_rows": null,
            "height": "25px",
            "justify_content": null,
            "justify_items": null,
            "left": null,
            "margin": null,
            "max_height": null,
            "max_width": null,
            "min_height": null,
            "min_width": null,
            "object_fit": null,
            "object_position": null,
            "order": null,
            "overflow": null,
            "overflow_x": null,
            "overflow_y": null,
            "padding": "0px",
            "right": null,
            "top": null,
            "visibility": null,
            "width": "25px"
          }
        },
        "a68d9d6e0a624178ba523e846af4f806": {
          "model_module": "@jupyter-widgets/controls",
          "model_module_version": "1.5.0",
          "model_name": "ButtonModel",
          "state": {
            "_dom_classes": [],
            "_model_module": "@jupyter-widgets/controls",
            "_model_module_version": "1.5.0",
            "_model_name": "ButtonModel",
            "_view_count": null,
            "_view_module": "@jupyter-widgets/controls",
            "_view_module_version": "1.5.0",
            "_view_name": "ButtonView",
            "button_style": "",
            "description": "",
            "disabled": false,
            "icon": "gear",
            "layout": "IPY_MODEL_aaaf2ecab5204a15b2cfac8e6b84a9e1",
            "style": "IPY_MODEL_725a1515130e4615be162afe3b564ec4",
            "tooltip": "OpenStreetMap.Mapnik"
          }
        },
        "a69ff20532d1494f95617c196569c441": {
          "model_module": "@jupyter-widgets/base",
          "model_module_version": "1.2.0",
          "model_name": "LayoutModel",
          "state": {
            "_model_module": "@jupyter-widgets/base",
            "_model_module_version": "1.2.0",
            "_model_name": "LayoutModel",
            "_view_count": null,
            "_view_module": "@jupyter-widgets/base",
            "_view_module_version": "1.2.0",
            "_view_name": "LayoutView",
            "align_content": null,
            "align_items": null,
            "align_self": null,
            "border": null,
            "bottom": null,
            "display": "inline-flex",
            "flex": null,
            "flex_flow": "row wrap",
            "grid_area": null,
            "grid_auto_columns": null,
            "grid_auto_flow": null,
            "grid_auto_rows": null,
            "grid_column": null,
            "grid_gap": null,
            "grid_row": null,
            "grid_template_areas": null,
            "grid_template_columns": null,
            "grid_template_rows": null,
            "height": null,
            "justify_content": null,
            "justify_items": null,
            "left": null,
            "margin": null,
            "max_height": null,
            "max_width": null,
            "min_height": null,
            "min_width": null,
            "object_fit": null,
            "object_position": null,
            "order": null,
            "overflow": null,
            "overflow_x": null,
            "overflow_y": null,
            "padding": null,
            "right": null,
            "top": null,
            "visibility": null,
            "width": "100%"
          }
        },
        "a72469a2c94f45779f54a15c1a5edb54": {
          "model_module": "@jupyter-widgets/controls",
          "model_module_version": "1.5.0",
          "model_name": "CheckboxModel",
          "state": {
            "_dom_classes": [],
            "_model_module": "@jupyter-widgets/controls",
            "_model_module_version": "1.5.0",
            "_model_name": "CheckboxModel",
            "_view_count": null,
            "_view_module": "@jupyter-widgets/controls",
            "_view_module_version": "1.5.0",
            "_view_name": "CheckboxView",
            "description": "OpenStreetMap.Mapnik",
            "description_tooltip": null,
            "disabled": false,
            "indent": false,
            "layout": "IPY_MODEL_c9c018ca05d94afb8b3a471908d5f328",
            "style": "IPY_MODEL_e9306e025eea422ab425c87d7c771b77",
            "value": true
          }
        },
        "a8bc210ca7fe44db98afaa32b4d81cf6": {
          "model_module": "@jupyter-widgets/controls",
          "model_module_version": "1.5.0",
          "model_name": "SliderStyleModel",
          "state": {
            "_model_module": "@jupyter-widgets/controls",
            "_model_module_version": "1.5.0",
            "_model_name": "SliderStyleModel",
            "_view_count": null,
            "_view_module": "@jupyter-widgets/base",
            "_view_module_version": "1.2.0",
            "_view_name": "StyleView",
            "description_width": "",
            "handle_color": null
          }
        },
        "a8e3598d65d24ef9afc26bbd6256789d": {
          "model_module": "@jupyter-widgets/controls",
          "model_module_version": "1.5.0",
          "model_name": "ToggleButtonModel",
          "state": {
            "_dom_classes": [],
            "_model_module": "@jupyter-widgets/controls",
            "_model_module_version": "1.5.0",
            "_model_name": "ToggleButtonModel",
            "_view_count": null,
            "_view_module": "@jupyter-widgets/controls",
            "_view_module_version": "1.5.0",
            "_view_name": "ToggleButtonView",
            "button_style": "",
            "description": "",
            "description_tooltip": null,
            "disabled": false,
            "icon": "server",
            "layout": "IPY_MODEL_dc77188a11a64bdf915cd7d583fb9876",
            "style": "IPY_MODEL_57669d1dc36f4134958df0c99289f5a3",
            "tooltip": "Layer Manager",
            "value": true
          }
        },
        "a8ee95a145f04abb8f18c2e9b7745651": {
          "model_module": "@jupyter-widgets/base",
          "model_module_version": "1.2.0",
          "model_name": "LayoutModel",
          "state": {
            "_model_module": "@jupyter-widgets/base",
            "_model_module_version": "1.2.0",
            "_model_name": "LayoutModel",
            "_view_count": null,
            "_view_module": "@jupyter-widgets/base",
            "_view_module_version": "1.2.0",
            "_view_name": "LayoutView",
            "align_content": null,
            "align_items": null,
            "align_self": null,
            "border": null,
            "bottom": null,
            "display": null,
            "flex": null,
            "flex_flow": null,
            "grid_area": null,
            "grid_auto_columns": null,
            "grid_auto_flow": null,
            "grid_auto_rows": null,
            "grid_column": null,
            "grid_gap": null,
            "grid_row": null,
            "grid_template_areas": null,
            "grid_template_columns": null,
            "grid_template_rows": null,
            "height": "18px",
            "justify_content": null,
            "justify_items": null,
            "left": null,
            "margin": null,
            "max_height": null,
            "max_width": null,
            "min_height": null,
            "min_width": null,
            "object_fit": null,
            "object_position": null,
            "order": null,
            "overflow": null,
            "overflow_x": null,
            "overflow_y": null,
            "padding": null,
            "right": null,
            "top": null,
            "visibility": null,
            "width": "140px"
          }
        },
        "a9b069d3bba04d0ab984c4e2dc48cf91": {
          "model_module": "@jupyter-widgets/base",
          "model_module_version": "1.2.0",
          "model_name": "LayoutModel",
          "state": {
            "_model_module": "@jupyter-widgets/base",
            "_model_module_version": "1.2.0",
            "_model_name": "LayoutModel",
            "_view_count": null,
            "_view_module": "@jupyter-widgets/base",
            "_view_module_version": "1.2.0",
            "_view_name": "LayoutView",
            "align_content": null,
            "align_items": null,
            "align_self": null,
            "border": null,
            "bottom": null,
            "display": null,
            "flex": null,
            "flex_flow": null,
            "grid_area": null,
            "grid_auto_columns": null,
            "grid_auto_flow": null,
            "grid_auto_rows": null,
            "grid_column": null,
            "grid_gap": null,
            "grid_row": null,
            "grid_template_areas": null,
            "grid_template_columns": null,
            "grid_template_rows": null,
            "height": "18px",
            "justify_content": null,
            "justify_items": null,
            "left": null,
            "margin": null,
            "max_height": null,
            "max_width": null,
            "min_height": null,
            "min_width": null,
            "object_fit": null,
            "object_position": null,
            "order": null,
            "overflow": null,
            "overflow_x": null,
            "overflow_y": null,
            "padding": null,
            "right": null,
            "top": null,
            "visibility": null,
            "width": "140px"
          }
        },
        "aaaf2ecab5204a15b2cfac8e6b84a9e1": {
          "model_module": "@jupyter-widgets/base",
          "model_module_version": "1.2.0",
          "model_name": "LayoutModel",
          "state": {
            "_model_module": "@jupyter-widgets/base",
            "_model_module_version": "1.2.0",
            "_model_name": "LayoutModel",
            "_view_count": null,
            "_view_module": "@jupyter-widgets/base",
            "_view_module_version": "1.2.0",
            "_view_name": "LayoutView",
            "align_content": null,
            "align_items": null,
            "align_self": null,
            "border": null,
            "bottom": null,
            "display": null,
            "flex": null,
            "flex_flow": null,
            "grid_area": null,
            "grid_auto_columns": null,
            "grid_auto_flow": null,
            "grid_auto_rows": null,
            "grid_column": null,
            "grid_gap": null,
            "grid_row": null,
            "grid_template_areas": null,
            "grid_template_columns": null,
            "grid_template_rows": null,
            "height": "25px",
            "justify_content": null,
            "justify_items": null,
            "left": null,
            "margin": null,
            "max_height": null,
            "max_width": null,
            "min_height": null,
            "min_width": null,
            "object_fit": null,
            "object_position": null,
            "order": null,
            "overflow": null,
            "overflow_x": null,
            "overflow_y": null,
            "padding": "0px",
            "right": null,
            "top": null,
            "visibility": null,
            "width": "25px"
          }
        },
        "ac3c703ada76462cb4a686ce65cea6fa": {
          "model_module": "@jupyter-widgets/base",
          "model_module_version": "1.2.0",
          "model_name": "LayoutModel",
          "state": {
            "_model_module": "@jupyter-widgets/base",
            "_model_module_version": "1.2.0",
            "_model_name": "LayoutModel",
            "_view_count": null,
            "_view_module": "@jupyter-widgets/base",
            "_view_module_version": "1.2.0",
            "_view_name": "LayoutView",
            "align_content": null,
            "align_items": null,
            "align_self": null,
            "border": null,
            "bottom": null,
            "display": null,
            "flex": null,
            "flex_flow": null,
            "grid_area": null,
            "grid_auto_columns": null,
            "grid_auto_flow": null,
            "grid_auto_rows": null,
            "grid_column": null,
            "grid_gap": null,
            "grid_row": null,
            "grid_template_areas": null,
            "grid_template_columns": null,
            "grid_template_rows": null,
            "height": null,
            "justify_content": null,
            "justify_items": null,
            "left": null,
            "margin": null,
            "max_height": null,
            "max_width": null,
            "min_height": null,
            "min_width": null,
            "object_fit": null,
            "object_position": null,
            "order": null,
            "overflow": null,
            "overflow_x": null,
            "overflow_y": null,
            "padding": null,
            "right": null,
            "top": null,
            "visibility": null,
            "width": null
          }
        },
        "ac76de9c19674c739033386ab8734806": {
          "model_module": "@jupyter-widgets/controls",
          "model_module_version": "1.5.0",
          "model_name": "DescriptionStyleModel",
          "state": {
            "_model_module": "@jupyter-widgets/controls",
            "_model_module_version": "1.5.0",
            "_model_name": "DescriptionStyleModel",
            "_view_count": null,
            "_view_module": "@jupyter-widgets/base",
            "_view_module_version": "1.2.0",
            "_view_name": "StyleView",
            "description_width": ""
          }
        },
        "ace936c30fc6430a9bec6e5940c1e988": {
          "model_module": "@jupyter-widgets/controls",
          "model_module_version": "1.5.0",
          "model_name": "DescriptionStyleModel",
          "state": {
            "_model_module": "@jupyter-widgets/controls",
            "_model_module_version": "1.5.0",
            "_model_name": "DescriptionStyleModel",
            "_view_count": null,
            "_view_module": "@jupyter-widgets/base",
            "_view_module_version": "1.2.0",
            "_view_name": "StyleView",
            "description_width": ""
          }
        },
        "aced500b166945539ee761fd4e10b96b": {
          "model_module": "@jupyter-widgets/controls",
          "model_module_version": "1.5.0",
          "model_name": "HBoxModel",
          "state": {
            "_dom_classes": [],
            "_model_module": "@jupyter-widgets/controls",
            "_model_module_version": "1.5.0",
            "_model_name": "HBoxModel",
            "_view_count": null,
            "_view_module": "@jupyter-widgets/controls",
            "_view_module_version": "1.5.0",
            "_view_name": "HBoxView",
            "box_style": "",
            "children": [
              "IPY_MODEL_98703787b0974e46891b53c9d405bdb1",
              "IPY_MODEL_9aece966b6514ab9bc1ec9433bdd2841"
            ],
            "layout": "IPY_MODEL_169a72887d594d2d9029b3dd967a0615"
          }
        },
        "afccbbd534d94ba6b32b0d39a3e07dcf": {
          "model_module": "@jupyter-widgets/controls",
          "model_module_version": "1.5.0",
          "model_name": "ButtonModel",
          "state": {
            "_dom_classes": [],
            "_model_module": "@jupyter-widgets/controls",
            "_model_module_version": "1.5.0",
            "_model_name": "ButtonModel",
            "_view_count": null,
            "_view_module": "@jupyter-widgets/controls",
            "_view_module_version": "1.5.0",
            "_view_name": "ButtonView",
            "button_style": "",
            "description": "",
            "disabled": false,
            "icon": "times",
            "layout": "IPY_MODEL_ddbe5c2a429946e1aa9c3f4dd14808a3",
            "style": "IPY_MODEL_e4a5d48232ec4bf4acf8433a9a63e425",
            "tooltip": "Loaded"
          }
        },
        "b02fa02652ef42119ed7e577450c4721": {
          "model_module": "@jupyter-widgets/controls",
          "model_module_version": "1.5.0",
          "model_name": "ButtonStyleModel",
          "state": {
            "_model_module": "@jupyter-widgets/controls",
            "_model_module_version": "1.5.0",
            "_model_name": "ButtonStyleModel",
            "_view_count": null,
            "_view_module": "@jupyter-widgets/base",
            "_view_module_version": "1.2.0",
            "_view_name": "StyleView",
            "button_color": null,
            "font_weight": ""
          }
        },
        "b27b0e37123e48378501cfb40405a680": {
          "model_module": "@jupyter-widgets/base",
          "model_module_version": "1.2.0",
          "model_name": "LayoutModel",
          "state": {
            "_model_module": "@jupyter-widgets/base",
            "_model_module_version": "1.2.0",
            "_model_name": "LayoutModel",
            "_view_count": null,
            "_view_module": "@jupyter-widgets/base",
            "_view_module_version": "1.2.0",
            "_view_name": "LayoutView",
            "align_content": null,
            "align_items": null,
            "align_self": null,
            "border": null,
            "bottom": null,
            "display": null,
            "flex": null,
            "flex_flow": null,
            "grid_area": null,
            "grid_auto_columns": null,
            "grid_auto_flow": null,
            "grid_auto_rows": null,
            "grid_column": null,
            "grid_gap": null,
            "grid_row": null,
            "grid_template_areas": null,
            "grid_template_columns": null,
            "grid_template_rows": null,
            "height": null,
            "justify_content": null,
            "justify_items": null,
            "left": null,
            "margin": null,
            "max_height": null,
            "max_width": null,
            "min_height": null,
            "min_width": null,
            "object_fit": null,
            "object_position": null,
            "order": null,
            "overflow": null,
            "overflow_x": null,
            "overflow_y": null,
            "padding": "0px 3px 0px 0px",
            "right": null,
            "top": null,
            "visibility": null,
            "width": "70px"
          }
        },
        "b2fc24a7a0d24930aaca0b131247a878": {
          "model_module": "@jupyter-widgets/base",
          "model_module_version": "1.2.0",
          "model_name": "LayoutModel",
          "state": {
            "_model_module": "@jupyter-widgets/base",
            "_model_module_version": "1.2.0",
            "_model_name": "LayoutModel",
            "_view_count": null,
            "_view_module": "@jupyter-widgets/base",
            "_view_module_version": "1.2.0",
            "_view_name": "LayoutView",
            "align_content": null,
            "align_items": null,
            "align_self": null,
            "border": null,
            "bottom": null,
            "display": null,
            "flex": null,
            "flex_flow": null,
            "grid_area": null,
            "grid_auto_columns": null,
            "grid_auto_flow": null,
            "grid_auto_rows": null,
            "grid_column": null,
            "grid_gap": null,
            "grid_row": null,
            "grid_template_areas": null,
            "grid_template_columns": null,
            "grid_template_rows": null,
            "height": "28px",
            "justify_content": null,
            "justify_items": null,
            "left": null,
            "margin": null,
            "max_height": null,
            "max_width": null,
            "min_height": null,
            "min_width": null,
            "object_fit": null,
            "object_position": null,
            "order": null,
            "overflow": null,
            "overflow_x": null,
            "overflow_y": null,
            "padding": "0px 0px 0px 4px",
            "right": null,
            "top": null,
            "visibility": null,
            "width": "28px"
          }
        },
        "b43f583750b44660b1675490aa810918": {
          "model_module": "jupyter-leaflet",
          "model_module_version": "^0.19",
          "model_name": "LeafletScaleControlModel",
          "state": {
            "_model_module": "jupyter-leaflet",
            "_model_module_version": "^0.19",
            "_model_name": "LeafletScaleControlModel",
            "_view_count": null,
            "_view_module": "jupyter-leaflet",
            "_view_module_version": "^0.19",
            "_view_name": "LeafletScaleControlView",
            "imperial": true,
            "max_width": 100,
            "metric": true,
            "options": [
              "imperial",
              "max_width",
              "metric",
              "position",
              "update_when_idle"
            ],
            "position": "bottomleft",
            "update_when_idle": false
          }
        },
        "b4fed274682e48a9856a8aaff6d8e9d9": {
          "model_module": "@jupyter-widgets/controls",
          "model_module_version": "1.5.0",
          "model_name": "DescriptionStyleModel",
          "state": {
            "_model_module": "@jupyter-widgets/controls",
            "_model_module_version": "1.5.0",
            "_model_name": "DescriptionStyleModel",
            "_view_count": null,
            "_view_module": "@jupyter-widgets/base",
            "_view_module_version": "1.2.0",
            "_view_name": "StyleView",
            "description_width": ""
          }
        },
        "b513edf72f11438e8679a225e07b3081": {
          "model_module": "@jupyter-widgets/base",
          "model_module_version": "1.2.0",
          "model_name": "LayoutModel",
          "state": {
            "_model_module": "@jupyter-widgets/base",
            "_model_module_version": "1.2.0",
            "_model_name": "LayoutModel",
            "_view_count": null,
            "_view_module": "@jupyter-widgets/base",
            "_view_module_version": "1.2.0",
            "_view_name": "LayoutView",
            "align_content": null,
            "align_items": null,
            "align_self": null,
            "border": null,
            "bottom": null,
            "display": null,
            "flex": null,
            "flex_flow": null,
            "grid_area": null,
            "grid_auto_columns": null,
            "grid_auto_flow": null,
            "grid_auto_rows": null,
            "grid_column": null,
            "grid_gap": null,
            "grid_row": null,
            "grid_template_areas": null,
            "grid_template_columns": null,
            "grid_template_rows": null,
            "height": "18px",
            "justify_content": null,
            "justify_items": null,
            "left": null,
            "margin": null,
            "max_height": null,
            "max_width": null,
            "min_height": null,
            "min_width": null,
            "object_fit": null,
            "object_position": null,
            "order": null,
            "overflow": null,
            "overflow_x": null,
            "overflow_y": null,
            "padding": null,
            "right": null,
            "top": null,
            "visibility": null,
            "width": "140px"
          }
        },
        "b598dd30626e41beb50c4815ef25066d": {
          "model_module": "@jupyter-widgets/controls",
          "model_module_version": "1.5.0",
          "model_name": "DescriptionStyleModel",
          "state": {
            "_model_module": "@jupyter-widgets/controls",
            "_model_module_version": "1.5.0",
            "_model_name": "DescriptionStyleModel",
            "_view_count": null,
            "_view_module": "@jupyter-widgets/base",
            "_view_module_version": "1.2.0",
            "_view_name": "StyleView",
            "description_width": ""
          }
        },
        "b5bfa27fafc741a993ae4ed7e1ae5523": {
          "model_module": "@jupyter-widgets/controls",
          "model_module_version": "1.5.0",
          "model_name": "VBoxModel",
          "state": {
            "_dom_classes": [],
            "_model_module": "@jupyter-widgets/controls",
            "_model_module_version": "1.5.0",
            "_model_name": "VBoxModel",
            "_view_count": null,
            "_view_module": "@jupyter-widgets/controls",
            "_view_module_version": "1.5.0",
            "_view_name": "VBoxView",
            "box_style": "",
            "children": [
              "IPY_MODEL_579b7b7cbf2a49c499d1d01a96e92fcd",
              "IPY_MODEL_e7c02cfca66f4594b0379b763663f77c",
              "IPY_MODEL_09b263f2686c469f9f144bfb8cf2c6d8",
              "IPY_MODEL_9fb51851412445d99212ecf04ce8c9ad"
            ],
            "layout": "IPY_MODEL_23e6ae2201c6474e98495b7525aa9838"
          }
        },
        "b60e24ab64bb46178b070e29cbf71baf": {
          "model_module": "@jupyter-widgets/controls",
          "model_module_version": "1.5.0",
          "model_name": "ButtonStyleModel",
          "state": {
            "_model_module": "@jupyter-widgets/controls",
            "_model_module_version": "1.5.0",
            "_model_name": "ButtonStyleModel",
            "_view_count": null,
            "_view_module": "@jupyter-widgets/base",
            "_view_module_version": "1.2.0",
            "_view_name": "StyleView",
            "button_color": null,
            "font_weight": ""
          }
        },
        "b63431ff30b64a478ace63bc7b643e2f": {
          "model_module": "@jupyter-widgets/base",
          "model_module_version": "1.2.0",
          "model_name": "LayoutModel",
          "state": {
            "_model_module": "@jupyter-widgets/base",
            "_model_module_version": "1.2.0",
            "_model_name": "LayoutModel",
            "_view_count": null,
            "_view_module": "@jupyter-widgets/base",
            "_view_module_version": "1.2.0",
            "_view_name": "LayoutView",
            "align_content": null,
            "align_items": null,
            "align_self": null,
            "border": null,
            "bottom": null,
            "display": null,
            "flex": null,
            "flex_flow": null,
            "grid_area": null,
            "grid_auto_columns": null,
            "grid_auto_flow": null,
            "grid_auto_rows": null,
            "grid_column": null,
            "grid_gap": null,
            "grid_row": null,
            "grid_template_areas": null,
            "grid_template_columns": null,
            "grid_template_rows": null,
            "height": "25px",
            "justify_content": null,
            "justify_items": null,
            "left": null,
            "margin": null,
            "max_height": null,
            "max_width": null,
            "min_height": null,
            "min_width": null,
            "object_fit": null,
            "object_position": null,
            "order": null,
            "overflow": null,
            "overflow_x": null,
            "overflow_y": null,
            "padding": "0px",
            "right": null,
            "top": null,
            "visibility": null,
            "width": "25px"
          }
        },
        "b6f37108c9e4439eba9242f140199bcd": {
          "model_module": "@jupyter-widgets/base",
          "model_module_version": "1.2.0",
          "model_name": "LayoutModel",
          "state": {
            "_model_module": "@jupyter-widgets/base",
            "_model_module_version": "1.2.0",
            "_model_name": "LayoutModel",
            "_view_count": null,
            "_view_module": "@jupyter-widgets/base",
            "_view_module_version": "1.2.0",
            "_view_name": "LayoutView",
            "align_content": null,
            "align_items": null,
            "align_self": null,
            "border": null,
            "bottom": null,
            "display": null,
            "flex": null,
            "flex_flow": null,
            "grid_area": null,
            "grid_auto_columns": null,
            "grid_auto_flow": null,
            "grid_auto_rows": null,
            "grid_column": null,
            "grid_gap": null,
            "grid_row": null,
            "grid_template_areas": null,
            "grid_template_columns": null,
            "grid_template_rows": null,
            "height": null,
            "justify_content": null,
            "justify_items": null,
            "left": null,
            "margin": null,
            "max_height": null,
            "max_width": null,
            "min_height": null,
            "min_width": null,
            "object_fit": null,
            "object_position": null,
            "order": null,
            "overflow": null,
            "overflow_x": null,
            "overflow_y": null,
            "padding": null,
            "right": null,
            "top": null,
            "visibility": null,
            "width": null
          }
        },
        "b92645c9d6fe449e8e0ef08bb8e41283": {
          "model_module": "@jupyter-widgets/controls",
          "model_module_version": "1.5.0",
          "model_name": "ButtonStyleModel",
          "state": {
            "_model_module": "@jupyter-widgets/controls",
            "_model_module_version": "1.5.0",
            "_model_name": "ButtonStyleModel",
            "_view_count": null,
            "_view_module": "@jupyter-widgets/base",
            "_view_module_version": "1.2.0",
            "_view_name": "StyleView",
            "button_color": null,
            "font_weight": ""
          }
        },
        "ba367d126a184a78bd2c2bf95e1f3dfc": {
          "model_module": "@jupyter-widgets/controls",
          "model_module_version": "1.5.0",
          "model_name": "FloatSliderModel",
          "state": {
            "_dom_classes": [],
            "_model_module": "@jupyter-widgets/controls",
            "_model_module_version": "1.5.0",
            "_model_name": "FloatSliderModel",
            "_view_count": null,
            "_view_module": "@jupyter-widgets/controls",
            "_view_module_version": "1.5.0",
            "_view_name": "FloatSliderView",
            "continuous_update": true,
            "description": "",
            "description_tooltip": null,
            "disabled": false,
            "layout": "IPY_MODEL_667c2e9d2c9f42e798254766974e06f7",
            "max": 1,
            "min": 0,
            "orientation": "horizontal",
            "readout": false,
            "readout_format": ".2f",
            "step": 0.01,
            "style": "IPY_MODEL_c6cbbbb7c290416a83f1d327ec27aaf1",
            "value": 1
          }
        },
        "ba5033a4d03d43c392bf91256f2ddfac": {
          "model_module": "@jupyter-widgets/controls",
          "model_module_version": "1.5.0",
          "model_name": "HBoxModel",
          "state": {
            "_dom_classes": [],
            "_model_module": "@jupyter-widgets/controls",
            "_model_module_version": "1.5.0",
            "_model_name": "HBoxModel",
            "_view_count": null,
            "_view_module": "@jupyter-widgets/controls",
            "_view_module_version": "1.5.0",
            "_view_name": "HBoxView",
            "box_style": "",
            "children": [
              "IPY_MODEL_f6e2cb0f6c76497295a631a0ccf6a4a2",
              "IPY_MODEL_ba367d126a184a78bd2c2bf95e1f3dfc",
              "IPY_MODEL_d969985efd2b4c64ba597743faef1b9b",
              "IPY_MODEL_be809e938fc74fa68547a7997b3d791e"
            ],
            "layout": "IPY_MODEL_f4bbbaded63847d3a6829ce7cd71f932"
          }
        },
        "bad51ba63b4a4228ab91efbcd95e79ca": {
          "model_module": "@jupyter-widgets/controls",
          "model_module_version": "1.5.0",
          "model_name": "ButtonStyleModel",
          "state": {
            "_model_module": "@jupyter-widgets/controls",
            "_model_module_version": "1.5.0",
            "_model_name": "ButtonStyleModel",
            "_view_count": null,
            "_view_module": "@jupyter-widgets/base",
            "_view_module_version": "1.2.0",
            "_view_name": "StyleView",
            "button_color": null,
            "font_weight": ""
          }
        },
        "bd9840dc0d7d41d68d189fd9f309eb1a": {
          "model_module": "@jupyter-widgets/controls",
          "model_module_version": "1.5.0",
          "model_name": "ButtonModel",
          "state": {
            "_dom_classes": [],
            "_model_module": "@jupyter-widgets/controls",
            "_model_module_version": "1.5.0",
            "_model_name": "ButtonModel",
            "_view_count": null,
            "_view_module": "@jupyter-widgets/controls",
            "_view_module_version": "1.5.0",
            "_view_name": "ButtonView",
            "button_style": "",
            "description": "",
            "disabled": false,
            "icon": "times",
            "layout": "IPY_MODEL_6007fde89d7b48c0a826db6b04c8ba24",
            "style": "IPY_MODEL_a04a3a25fa4c46ddb4fdd836d02f3075",
            "tooltip": "Loaded"
          }
        },
        "be658c26494c46ab851d959e856e2e41": {
          "model_module": "jupyter-leaflet",
          "model_module_version": "^0.19",
          "model_name": "LeafletGeoJSONModel",
          "state": {
            "_model_module": "jupyter-leaflet",
            "_model_module_version": "^0.19",
            "_model_name": "LeafletGeoJSONModel",
            "_view_count": null,
            "_view_module": "jupyter-leaflet",
            "_view_module_version": "^0.19",
            "_view_name": "LeafletGeoJSONView",
            "base": false,
            "bottom": false,
            "data": {
              "bbox": [
                121.49983712301764,
                24.094253224540154,
                121.68677653364291,
                24.235198892618506
              ],
              "features": [
                {
                  "bbox": [
                    121.65219139520431,
                    24.220736016544183,
                    121.66665427127863,
                    24.235198892618506
                  ],
                  "geometry": {
                    "coordinates": [
                      [
                        [
                          121.65219139520431,
                          24.235198892618506
                        ],
                        [
                          121.65219139520431,
                          24.22935984327173
                        ],
                        [
                          121.65794061302267,
                          24.22935984327173
                        ],
                        [
                          121.65794061302267,
                          24.22648523436255
                        ],
                        [
                          121.66081522193186,
                          24.22648523436255
                        ],
                        [
                          121.66081522193186,
                          24.220736016544183
                        ],
                        [
                          121.66665427127863,
                          24.220736016544183
                        ],
                        [
                          121.66665427127863,
                          24.22657506589096
                        ],
                        [
                          121.66377966236945,
                          24.22657506589096
                        ],
                        [
                          121.66377966236945,
                          24.232324283709325
                        ],
                        [
                          121.65803044455109,
                          24.232324283709325
                        ],
                        [
                          121.65803044455109,
                          24.235198892618506
                        ],
                        [
                          121.65219139520431,
                          24.235198892618506
                        ]
                      ],
                      [
                        [
                          121.65228122673273,
                          24.235109061090096
                        ],
                        [
                          121.65794061302267,
                          24.235109061090096
                        ],
                        [
                          121.65794061302267,
                          24.229449674800144
                        ],
                        [
                          121.65228122673273,
                          24.229449674800144
                        ],
                        [
                          121.65228122673273,
                          24.235109061090096
                        ]
                      ],
                      [
                        [
                          121.65803044455109,
                          24.23223445218091
                        ],
                        [
                          121.66368983084104,
                          24.23223445218091
                        ],
                        [
                          121.66368983084104,
                          24.22657506589096
                        ],
                        [
                          121.65803044455109,
                          24.22657506589096
                        ],
                        [
                          121.65803044455109,
                          24.23223445218091
                        ]
                      ],
                      [
                        [
                          121.66090505346027,
                          24.22648523436255
                        ],
                        [
                          121.66656443975023,
                          24.22648523436255
                        ],
                        [
                          121.66656443975023,
                          24.220825848072597
                        ],
                        [
                          121.66090505346027,
                          24.220825848072597
                        ],
                        [
                          121.66090505346027,
                          24.22648523436255
                        ]
                      ]
                    ],
                    "type": "Polygon"
                  },
                  "id": "0",
                  "properties": {
                    "style": {
                      "color": "black",
                      "fillColor": "black"
                    }
                  },
                  "type": "Feature"
                },
                {
                  "bbox": [
                    121.6033230437482,
                    24.220736016544183,
                    121.609162093095,
                    24.22657506589096
                  ],
                  "geometry": {
                    "coordinates": [
                      [
                        [
                          121.6033230437482,
                          24.22657506589096
                        ],
                        [
                          121.6033230437482,
                          24.220736016544183
                        ],
                        [
                          121.609162093095,
                          24.220736016544183
                        ],
                        [
                          121.609162093095,
                          24.22657506589096
                        ],
                        [
                          121.6033230437482,
                          24.22657506589096
                        ]
                      ],
                      [
                        [
                          121.60341287527662,
                          24.22648523436255
                        ],
                        [
                          121.60907226156658,
                          24.22648523436255
                        ],
                        [
                          121.60907226156658,
                          24.220825848072597
                        ],
                        [
                          121.60341287527662,
                          24.220825848072597
                        ],
                        [
                          121.60341287527662,
                          24.22648523436255
                        ]
                      ]
                    ],
                    "type": "Polygon"
                  },
                  "id": "1",
                  "properties": {
                    "style": {
                      "color": "black",
                      "fillColor": "black"
                    }
                  },
                  "type": "Feature"
                },
                {
                  "bbox": [
                    121.61194687047576,
                    24.220736016544183,
                    121.61778591982254,
                    24.22657506589096
                  ],
                  "geometry": {
                    "coordinates": [
                      [
                        [
                          121.61194687047576,
                          24.22657506589096
                        ],
                        [
                          121.61194687047576,
                          24.220736016544183
                        ],
                        [
                          121.61778591982254,
                          24.220736016544183
                        ],
                        [
                          121.61778591982254,
                          24.22657506589096
                        ],
                        [
                          121.61194687047576,
                          24.22657506589096
                        ]
                      ],
                      [
                        [
                          121.61203670200418,
                          24.22648523436255
                        ],
                        [
                          121.61769608829412,
                          24.22648523436255
                        ],
                        [
                          121.61769608829412,
                          24.220825848072597
                        ],
                        [
                          121.61203670200418,
                          24.220825848072597
                        ],
                        [
                          121.61203670200418,
                          24.22648523436255
                        ]
                      ]
                    ],
                    "type": "Polygon"
                  },
                  "id": "2",
                  "properties": {
                    "style": {
                      "color": "black",
                      "fillColor": "black"
                    }
                  },
                  "type": "Feature"
                },
                {
                  "bbox": [
                    121.60907226156658,
                    24.209237580907452,
                    121.61491131091336,
                    24.21507663025423
                  ],
                  "geometry": {
                    "coordinates": [
                      [
                        [
                          121.60907226156658,
                          24.21507663025423
                        ],
                        [
                          121.60907226156658,
                          24.209237580907452
                        ],
                        [
                          121.61491131091336,
                          24.209237580907452
                        ],
                        [
                          121.61491131091336,
                          24.21507663025423
                        ],
                        [
                          121.60907226156658,
                          24.21507663025423
                        ]
                      ],
                      [
                        [
                          121.609162093095,
                          24.214986798725818
                        ],
                        [
                          121.61482147938494,
                          24.214986798725818
                        ],
                        [
                          121.61482147938494,
                          24.209327412435865
                        ],
                        [
                          121.609162093095,
                          24.209327412435865
                        ],
                        [
                          121.609162093095,
                          24.214986798725818
                        ]
                      ]
                    ],
                    "type": "Polygon"
                  },
                  "id": "3",
                  "properties": {
                    "style": {
                      "color": "black",
                      "fillColor": "black"
                    }
                  },
                  "type": "Feature"
                },
                {
                  "bbox": [
                    121.62344530611249,
                    24.209237580907452,
                    121.62928435545926,
                    24.21507663025423
                  ],
                  "geometry": {
                    "coordinates": [
                      [
                        [
                          121.62344530611249,
                          24.21507663025423
                        ],
                        [
                          121.62344530611249,
                          24.209237580907452
                        ],
                        [
                          121.62928435545926,
                          24.209237580907452
                        ],
                        [
                          121.62928435545926,
                          24.21507663025423
                        ],
                        [
                          121.62344530611249,
                          24.21507663025423
                        ]
                      ],
                      [
                        [
                          121.6235351376409,
                          24.214986798725818
                        ],
                        [
                          121.62919452393085,
                          24.214986798725818
                        ],
                        [
                          121.62919452393085,
                          24.209327412435865
                        ],
                        [
                          121.6235351376409,
                          24.209327412435865
                        ],
                        [
                          121.6235351376409,
                          24.214986798725818
                        ]
                      ]
                    ],
                    "type": "Polygon"
                  },
                  "id": "4",
                  "properties": {
                    "style": {
                      "color": "black",
                      "fillColor": "black"
                    }
                  },
                  "type": "Feature"
                },
                {
                  "bbox": [
                    121.55445469229211,
                    24.197739145270724,
                    121.56029374163889,
                    24.2035781946175
                  ],
                  "geometry": {
                    "coordinates": [
                      [
                        [
                          121.55445469229211,
                          24.2035781946175
                        ],
                        [
                          121.55445469229211,
                          24.197739145270724
                        ],
                        [
                          121.56029374163889,
                          24.197739145270724
                        ],
                        [
                          121.56029374163889,
                          24.2035781946175
                        ],
                        [
                          121.55445469229211,
                          24.2035781946175
                        ]
                      ],
                      [
                        [
                          121.55454452382052,
                          24.20348836308909
                        ],
                        [
                          121.56020391011047,
                          24.20348836308909
                        ],
                        [
                          121.56020391011047,
                          24.197828976799137
                        ],
                        [
                          121.55454452382052,
                          24.197828976799137
                        ],
                        [
                          121.55454452382052,
                          24.20348836308909
                        ]
                      ]
                    ],
                    "type": "Polygon"
                  },
                  "id": "5",
                  "properties": {
                    "style": {
                      "color": "black",
                      "fillColor": "black"
                    }
                  },
                  "type": "Feature"
                },
                {
                  "bbox": [
                    121.57457695465638,
                    24.197739145270724,
                    121.58041600400317,
                    24.2035781946175
                  ],
                  "geometry": {
                    "coordinates": [
                      [
                        [
                          121.57457695465638,
                          24.2035781946175
                        ],
                        [
                          121.57457695465638,
                          24.197739145270724
                        ],
                        [
                          121.58041600400317,
                          24.197739145270724
                        ],
                        [
                          121.58041600400317,
                          24.2035781946175
                        ],
                        [
                          121.57457695465638,
                          24.2035781946175
                        ]
                      ],
                      [
                        [
                          121.57466678618479,
                          24.20348836308909
                        ],
                        [
                          121.58032617247476,
                          24.20348836308909
                        ],
                        [
                          121.58032617247476,
                          24.197828976799137
                        ],
                        [
                          121.57466678618479,
                          24.197828976799137
                        ],
                        [
                          121.57466678618479,
                          24.20348836308909
                        ]
                      ]
                    ],
                    "type": "Polygon"
                  },
                  "id": "6",
                  "properties": {
                    "style": {
                      "color": "black",
                      "fillColor": "black"
                    }
                  },
                  "type": "Feature"
                },
                {
                  "bbox": [
                    121.53433242992783,
                    24.191989927452358,
                    121.5401714792746,
                    24.197828976799137
                  ],
                  "geometry": {
                    "coordinates": [
                      [
                        [
                          121.53433242992783,
                          24.197828976799137
                        ],
                        [
                          121.53433242992783,
                          24.191989927452358
                        ],
                        [
                          121.5401714792746,
                          24.191989927452358
                        ],
                        [
                          121.5401714792746,
                          24.197828976799137
                        ],
                        [
                          121.53433242992783,
                          24.197828976799137
                        ]
                      ],
                      [
                        [
                          121.53442226145624,
                          24.197739145270724
                        ],
                        [
                          121.54008164774619,
                          24.197739145270724
                        ],
                        [
                          121.54008164774619,
                          24.19207975898077
                        ],
                        [
                          121.53442226145624,
                          24.19207975898077
                        ],
                        [
                          121.53442226145624,
                          24.197739145270724
                        ]
                      ]
                    ],
                    "type": "Polygon"
                  },
                  "id": "7",
                  "properties": {
                    "style": {
                      "color": "black",
                      "fillColor": "black"
                    }
                  },
                  "type": "Feature"
                },
                {
                  "bbox": [
                    121.56307851901965,
                    24.189115318543177,
                    121.58041600400317,
                    24.194954367889952
                  ],
                  "geometry": {
                    "coordinates": [
                      [
                        [
                          121.56307851901965,
                          24.194954367889952
                        ],
                        [
                          121.56307851901965,
                          24.189115318543177
                        ],
                        [
                          121.58041600400317,
                          24.189115318543177
                        ],
                        [
                          121.58041600400317,
                          24.194954367889952
                        ],
                        [
                          121.56307851901965,
                          24.194954367889952
                        ]
                      ],
                      [
                        [
                          121.56316835054807,
                          24.194864536361543
                        ],
                        [
                          121.56882773683802,
                          24.194864536361543
                        ],
                        [
                          121.56882773683802,
                          24.189205150071587
                        ],
                        [
                          121.56316835054807,
                          24.189205150071587
                        ],
                        [
                          121.56316835054807,
                          24.194864536361543
                        ]
                      ],
                      [
                        [
                          121.56891756836643,
                          24.194864536361543
                        ],
                        [
                          121.57457695465638,
                          24.194864536361543
                        ],
                        [
                          121.57457695465638,
                          24.189205150071587
                        ],
                        [
                          121.56891756836643,
                          24.189205150071587
                        ],
                        [
                          121.56891756836643,
                          24.194864536361543
                        ]
                      ],
                      [
                        [
                          121.57466678618479,
                          24.194864536361543
                        ],
                        [
                          121.58032617247476,
                          24.194864536361543
                        ],
                        [
                          121.58032617247476,
                          24.189205150071587
                        ],
                        [
                          121.57466678618479,
                          24.189205150071587
                        ],
                        [
                          121.57466678618479,
                          24.194864536361543
                        ]
                      ]
                    ],
                    "type": "Polygon"
                  },
                  "id": "8",
                  "properties": {
                    "style": {
                      "color": "black",
                      "fillColor": "black"
                    }
                  },
                  "type": "Feature"
                },
                {
                  "bbox": [
                    121.58320078138394,
                    24.18336610072481,
                    121.58903983073071,
                    24.189205150071587
                  ],
                  "geometry": {
                    "coordinates": [
                      [
                        [
                          121.58320078138394,
                          24.189205150071587
                        ],
                        [
                          121.58320078138394,
                          24.18336610072481
                        ],
                        [
                          121.58903983073071,
                          24.18336610072481
                        ],
                        [
                          121.58903983073071,
                          24.189205150071587
                        ],
                        [
                          121.58320078138394,
                          24.189205150071587
                        ]
                      ],
                      [
                        [
                          121.58329061291235,
                          24.189115318543177
                        ],
                        [
                          121.5889499992023,
                          24.189115318543177
                        ],
                        [
                          121.5889499992023,
                          24.183455932253224
                        ],
                        [
                          121.58329061291235,
                          24.183455932253224
                        ],
                        [
                          121.58329061291235,
                          24.189115318543177
                        ]
                      ]
                    ],
                    "type": "Polygon"
                  },
                  "id": "9",
                  "properties": {
                    "style": {
                      "color": "black",
                      "fillColor": "black"
                    }
                  },
                  "type": "Feature"
                },
                {
                  "bbox": [
                    121.55445469229211,
                    24.18049149181563,
                    121.56029374163889,
                    24.19207975898077
                  ],
                  "geometry": {
                    "coordinates": [
                      [
                        [
                          121.55445469229211,
                          24.19207975898077
                        ],
                        [
                          121.55445469229211,
                          24.18049149181563
                        ],
                        [
                          121.56029374163889,
                          24.18049149181563
                        ],
                        [
                          121.56029374163889,
                          24.19207975898077
                        ],
                        [
                          121.55445469229211,
                          24.19207975898077
                        ]
                      ],
                      [
                        [
                          121.55454452382052,
                          24.191989927452358
                        ],
                        [
                          121.56020391011047,
                          24.191989927452358
                        ],
                        [
                          121.56020391011047,
                          24.186330541162405
                        ],
                        [
                          121.55454452382052,
                          24.186330541162405
                        ],
                        [
                          121.55454452382052,
                          24.191989927452358
                        ]
                      ],
                      [
                        [
                          121.55454452382052,
                          24.186240709633992
                        ],
                        [
                          121.56020391011047,
                          24.186240709633992
                        ],
                        [
                          121.56020391011047,
                          24.18058132334404
                        ],
                        [
                          121.55454452382052,
                          24.18058132334404
                        ],
                        [
                          121.55454452382052,
                          24.186240709633992
                        ]
                      ]
                    ],
                    "type": "Polygon"
                  },
                  "id": "10",
                  "properties": {
                    "style": {
                      "color": "black",
                      "fillColor": "black"
                    }
                  },
                  "type": "Feature"
                },
                {
                  "bbox": [
                    121.60044843483902,
                    24.174742273997264,
                    121.62928435545926,
                    24.200703585708318
                  ],
                  "geometry": {
                    "coordinates": [
                      [
                        [
                          121.60044843483902,
                          24.200703585708318
                        ],
                        [
                          121.60044843483902,
                          24.194864536361543
                        ],
                        [
                          121.6061976526574,
                          24.194864536361543
                        ],
                        [
                          121.6061976526574,
                          24.189115318543177
                        ],
                        [
                          121.61194687047576,
                          24.189115318543177
                        ],
                        [
                          121.61194687047576,
                          24.18336610072481
                        ],
                        [
                          121.61482147938494,
                          24.18336610072481
                        ],
                        [
                          121.61482147938494,
                          24.177616882906445
                        ],
                        [
                          121.6205706972033,
                          24.177616882906445
                        ],
                        [
                          121.6205706972033,
                          24.174742273997264
                        ],
                        [
                          121.62640974655008,
                          24.174742273997264
                        ],
                        [
                          121.62640974655008,
                          24.186330541162405
                        ],
                        [
                          121.6235351376409,
                          24.186330541162405
                        ],
                        [
                          121.6235351376409,
                          24.189115318543177
                        ],
                        [
                          121.62928435545926,
                          24.189115318543177
                        ],
                        [
                          121.62928435545926,
                          24.194954367889952
                        ],
                        [
                          121.6235351376409,
                          24.194954367889952
                        ],
                        [
                          121.6235351376409,
                          24.200703585708318
                        ],
                        [
                          121.61769608829412,
                          24.200703585708318
                        ],
                        [
                          121.61769608829412,
                          24.194954367889952
                        ],
                        [
                          121.6062874841858,
                          24.194954367889952
                        ],
                        [
                          121.6062874841858,
                          24.200703585708318
                        ],
                        [
                          121.60044843483902,
                          24.200703585708318
                        ]
                      ],
                      [
                        [
                          121.60053826636744,
                          24.200613754179905
                        ],
                        [
                          121.6061976526574,
                          24.200613754179905
                        ],
                        [
                          121.6061976526574,
                          24.194954367889952
                        ],
                        [
                          121.60053826636744,
                          24.194954367889952
                        ],
                        [
                          121.60053826636744,
                          24.200613754179905
                        ]
                      ],
                      [
                        [
                          121.61778591982254,
                          24.200613754179905
                        ],
                        [
                          121.62344530611249,
                          24.200613754179905
                        ],
                        [
                          121.62344530611249,
                          24.194954367889952
                        ],
                        [
                          121.61778591982254,
                          24.194954367889952
                        ],
                        [
                          121.61778591982254,
                          24.200613754179905
                        ]
                      ],
                      [
                        [
                          121.6062874841858,
                          24.194864536361543
                        ],
                        [
                          121.61194687047576,
                          24.194864536361543
                        ],
                        [
                          121.61194687047576,
                          24.189205150071587
                        ],
                        [
                          121.6062874841858,
                          24.189205150071587
                        ],
                        [
                          121.6062874841858,
                          24.194864536361543
                        ]
                      ],
                      [
                        [
                          121.61203670200418,
                          24.194864536361543
                        ],
                        [
                          121.61769608829412,
                          24.194864536361543
                        ],
                        [
                          121.61769608829412,
                          24.189205150071587
                        ],
                        [
                          121.61203670200418,
                          24.189205150071587
                        ],
                        [
                          121.61203670200418,
                          24.194864536361543
                        ]
                      ],
                      [
                        [
                          121.61778591982254,
                          24.194864536361543
                        ],
                        [
                          121.62344530611249,
                          24.194864536361543
                        ],
                        [
                          121.62344530611249,
                          24.19207975898077
                        ],
                        [
                          121.61778591982254,
                          24.19207975898077
                        ],
                        [
                          121.61778591982254,
                          24.194864536361543
                        ]
                      ],
                      [
                        [
                          121.6235351376409,
                          24.194864536361543
                        ],
                        [
                          121.62919452393085,
                          24.194864536361543
                        ],
                        [
                          121.62919452393085,
                          24.189205150071587
                        ],
                        [
                          121.6235351376409,
                          24.189205150071587
                        ],
                        [
                          121.6235351376409,
                          24.194864536361543
                        ]
                      ],
                      [
                        [
                          121.61778591982254,
                          24.191989927452358
                        ],
                        [
                          121.62344530611249,
                          24.191989927452358
                        ],
                        [
                          121.62344530611249,
                          24.186330541162405
                        ],
                        [
                          121.61778591982254,
                          24.186330541162405
                        ],
                        [
                          121.61778591982254,
                          24.191989927452358
                        ]
                      ],
                      [
                        [
                          121.61203670200418,
                          24.189115318543177
                        ],
                        [
                          121.61769608829412,
                          24.189115318543177
                        ],
                        [
                          121.61769608829412,
                          24.183455932253224
                        ],
                        [
                          121.61203670200418,
                          24.183455932253224
                        ],
                        [
                          121.61203670200418,
                          24.189115318543177
                        ]
                      ],
                      [
                        [
                          121.61778591982254,
                          24.186240709633992
                        ],
                        [
                          121.6205706972033,
                          24.186240709633992
                        ],
                        [
                          121.6205706972033,
                          24.183455932253224
                        ],
                        [
                          121.61778591982254,
                          24.183455932253224
                        ],
                        [
                          121.61778591982254,
                          24.186240709633992
                        ]
                      ],
                      [
                        [
                          121.62066052873172,
                          24.186240709633992
                        ],
                        [
                          121.62631991502167,
                          24.186240709633992
                        ],
                        [
                          121.62631991502167,
                          24.18058132334404
                        ],
                        [
                          121.62066052873172,
                          24.18058132334404
                        ],
                        [
                          121.62066052873172,
                          24.186240709633992
                        ]
                      ],
                      [
                        [
                          121.61491131091336,
                          24.18336610072481
                        ],
                        [
                          121.6205706972033,
                          24.18336610072481
                        ],
                        [
                          121.6205706972033,
                          24.17770671443486
                        ],
                        [
                          121.61491131091336,
                          24.17770671443486
                        ],
                        [
                          121.61491131091336,
                          24.18336610072481
                        ]
                      ],
                      [
                        [
                          121.62066052873172,
                          24.18049149181563
                        ],
                        [
                          121.62631991502167,
                          24.18049149181563
                        ],
                        [
                          121.62631991502167,
                          24.174832105525674
                        ],
                        [
                          121.62066052873172,
                          24.174832105525674
                        ],
                        [
                          121.62066052873172,
                          24.18049149181563
                        ]
                      ]
                    ],
                    "type": "Polygon"
                  },
                  "id": "11",
                  "properties": {
                    "style": {
                      "color": "black",
                      "fillColor": "black"
                    }
                  },
                  "type": "Feature"
                },
                {
                  "bbox": [
                    121.53145782101865,
                    24.17186766508808,
                    121.54879530600216,
                    24.18058132334404
                  ],
                  "geometry": {
                    "coordinates": [
                      [
                        [
                          121.53720703883701,
                          24.18058132334404
                        ],
                        [
                          121.53720703883701,
                          24.17770671443486
                        ],
                        [
                          121.53145782101865,
                          24.17770671443486
                        ],
                        [
                          121.53145782101865,
                          24.17186766508808
                        ],
                        [
                          121.53729687036542,
                          24.17186766508808
                        ],
                        [
                          121.53729687036542,
                          24.174742273997264
                        ],
                        [
                          121.54879530600216,
                          24.174742273997264
                        ],
                        [
                          121.54879530600216,
                          24.18058132334404
                        ],
                        [
                          121.53720703883701,
                          24.18058132334404
                        ]
                      ],
                      [
                        [
                          121.53729687036542,
                          24.18049149181563
                        ],
                        [
                          121.54295625665537,
                          24.18049149181563
                        ],
                        [
                          121.54295625665537,
                          24.174832105525674
                        ],
                        [
                          121.53729687036542,
                          24.174832105525674
                        ],
                        [
                          121.53729687036542,
                          24.18049149181563
                        ]
                      ],
                      [
                        [
                          121.54304608818379,
                          24.18049149181563
                        ],
                        [
                          121.54870547447375,
                          24.18049149181563
                        ],
                        [
                          121.54870547447375,
                          24.174832105525674
                        ],
                        [
                          121.54304608818379,
                          24.174832105525674
                        ],
                        [
                          121.54304608818379,
                          24.18049149181563
                        ]
                      ],
                      [
                        [
                          121.53154765254706,
                          24.177616882906445
                        ],
                        [
                          121.53720703883701,
                          24.177616882906445
                        ],
                        [
                          121.53720703883701,
                          24.171957496616493
                        ],
                        [
                          121.53154765254706,
                          24.171957496616493
                        ],
                        [
                          121.53154765254706,
                          24.177616882906445
                        ]
                      ]
                    ],
                    "type": "Polygon"
                  },
                  "id": "12",
                  "properties": {
                    "style": {
                      "color": "black",
                      "fillColor": "black"
                    }
                  },
                  "type": "Feature"
                },
                {
                  "bbox": [
                    121.55732930120129,
                    24.17186766508808,
                    121.56316835054807,
                    24.17770671443486
                  ],
                  "geometry": {
                    "coordinates": [
                      [
                        [
                          121.55732930120129,
                          24.17770671443486
                        ],
                        [
                          121.55732930120129,
                          24.17186766508808
                        ],
                        [
                          121.56316835054807,
                          24.17186766508808
                        ],
                        [
                          121.56316835054807,
                          24.17770671443486
                        ],
                        [
                          121.55732930120129,
                          24.17770671443486
                        ]
                      ],
                      [
                        [
                          121.5574191327297,
                          24.177616882906445
                        ],
                        [
                          121.56307851901965,
                          24.177616882906445
                        ],
                        [
                          121.56307851901965,
                          24.171957496616493
                        ],
                        [
                          121.5574191327297,
                          24.171957496616493
                        ],
                        [
                          121.5574191327297,
                          24.177616882906445
                        ]
                      ]
                    ],
                    "type": "Polygon"
                  },
                  "id": "13",
                  "properties": {
                    "style": {
                      "color": "black",
                      "fillColor": "black"
                    }
                  },
                  "type": "Feature"
                },
                {
                  "bbox": [
                    121.64069295956759,
                    24.1689930561789,
                    121.68677653364291,
                    24.223700456981778
                  ],
                  "geometry": {
                    "coordinates": [
                      [
                        [
                          121.64644217738595,
                          24.223700456981778
                        ],
                        [
                          121.64644217738595,
                          24.212202021345046
                        ],
                        [
                          121.64356756847677,
                          24.212202021345046
                        ],
                        [
                          121.64356756847677,
                          24.200613754179905
                        ],
                        [
                          121.64931678629513,
                          24.200613754179905
                        ],
                        [
                          121.64931678629513,
                          24.197828976799137
                        ],
                        [
                          121.64356756847677,
                          24.197828976799137
                        ],
                        [
                          121.64356756847677,
                          24.19207975898077
                        ],
                        [
                          121.64069295956759,
                          24.19207975898077
                        ],
                        [
                          121.64069295956759,
                          24.186240709633992
                        ],
                        [
                          121.64644217738595,
                          24.186240709633992
                        ],
                        [
                          121.64644217738595,
                          24.18049149181563
                        ],
                        [
                          121.64931678629513,
                          24.18049149181563
                        ],
                        [
                          121.64931678629513,
                          24.1689930561789
                        ],
                        [
                          121.6551558356419,
                          24.1689930561789
                        ],
                        [
                          121.6551558356419,
                          24.17186766508808
                        ],
                        [
                          121.66090505346027,
                          24.17186766508808
                        ],
                        [
                          121.66090505346027,
                          24.18336610072481
                        ],
                        [
                          121.66377966236945,
                          24.18336610072481
                        ],
                        [
                          121.66377966236945,
                          24.189115318543177
                        ],
                        [
                          121.66952888018783,
                          24.189115318543177
                        ],
                        [
                          121.66952888018783,
                          24.194954367889952
                        ],
                        [
                          121.6551558356419,
                          24.194954367889952
                        ],
                        [
                          121.6551558356419,
                          24.197739145270724
                        ],
                        [
                          121.67240348909701,
                          24.197739145270724
                        ],
                        [
                          121.67240348909701,
                          24.209237580907452
                        ],
                        [
                          121.68102731582455,
                          24.209237580907452
                        ],
                        [
                          121.68102731582455,
                          24.212112189816636
                        ],
                        [
                          121.68677653364291,
                          24.212112189816636
                        ],
                        [
                          121.68677653364291,
                          24.223700456981778
                        ],
                        [
                          121.68093748429614,
                          24.223700456981778
                        ],
                        [
                          121.68093748429614,
                          24.220825848072597
                        ],
                        [
                          121.67518826647778,
                          24.220825848072597
                        ],
                        [
                          121.67518826647778,
                          24.21507663025423
                        ],
                        [
                          121.65803044455109,
                          24.21507663025423
                        ],
                        [
                          121.65803044455109,
                          24.223700456981778
                        ],
                        [
                          121.64644217738595,
                          24.223700456981778
                        ]
                      ],
                      [
                        [
                          121.64653200891436,
                          24.223610625453365
                        ],
                        [
                          121.65219139520431,
                          24.223610625453365
                        ],
                        [
                          121.65219139520431,
                          24.217951239163412
                        ],
                        [
                          121.64653200891436,
                          24.217951239163412
                        ],
                        [
                          121.64653200891436,
                          24.223610625453365
                        ]
                      ],
                      [
                        [
                          121.65228122673273,
                          24.223610625453365
                        ],
                        [
                          121.65794061302267,
                          24.223610625453365
                        ],
                        [
                          121.65794061302267,
                          24.217951239163412
                        ],
                        [
                          121.65228122673273,
                          24.217951239163412
                        ],
                        [
                          121.65228122673273,
                          24.223610625453365
                        ]
                      ],
                      [
                        [
                          121.68102731582455,
                          24.223610625453365
                        ],
                        [
                          121.6866867021145,
                          24.223610625453365
                        ],
                        [
                          121.6866867021145,
                          24.217951239163412
                        ],
                        [
                          121.68102731582455,
                          24.217951239163412
                        ],
                        [
                          121.68102731582455,
                          24.223610625453365
                        ]
                      ],
                      [
                        [
                          121.67527809800619,
                          24.220736016544183
                        ],
                        [
                          121.68093748429614,
                          24.220736016544183
                        ],
                        [
                          121.68093748429614,
                          24.21507663025423
                        ],
                        [
                          121.67527809800619,
                          24.21507663025423
                        ],
                        [
                          121.67527809800619,
                          24.220736016544183
                        ]
                      ],
                      [
                        [
                          121.64653200891436,
                          24.217861407635002
                        ],
                        [
                          121.65219139520431,
                          24.217861407635002
                        ],
                        [
                          121.65219139520431,
                          24.212202021345046
                        ],
                        [
                          121.64653200891436,
                          24.212202021345046
                        ],
                        [
                          121.64653200891436,
                          24.217861407635002
                        ]
                      ],
                      [
                        [
                          121.65228122673273,
                          24.217861407635002
                        ],
                        [
                          121.65794061302267,
                          24.217861407635002
                        ],
                        [
                          121.65794061302267,
                          24.212202021345046
                        ],
                        [
                          121.65228122673273,
                          24.212202021345046
                        ],
                        [
                          121.65228122673273,
                          24.217861407635002
                        ]
                      ],
                      [
                        [
                          121.68102731582455,
                          24.217861407635002
                        ],
                        [
                          121.6866867021145,
                          24.217861407635002
                        ],
                        [
                          121.6866867021145,
                          24.212202021345046
                        ],
                        [
                          121.68102731582455,
                          24.212202021345046
                        ],
                        [
                          121.68102731582455,
                          24.217861407635002
                        ]
                      ],
                      [
                        [
                          121.65803044455109,
                          24.214986798725818
                        ],
                        [
                          121.66368983084104,
                          24.214986798725818
                        ],
                        [
                          121.66368983084104,
                          24.209327412435865
                        ],
                        [
                          121.65803044455109,
                          24.209327412435865
                        ],
                        [
                          121.65803044455109,
                          24.214986798725818
                        ]
                      ],
                      [
                        [
                          121.66377966236945,
                          24.214986798725818
                        ],
                        [
                          121.66943904865941,
                          24.214986798725818
                        ],
                        [
                          121.66943904865941,
                          24.209327412435865
                        ],
                        [
                          121.66377966236945,
                          24.209327412435865
                        ],
                        [
                          121.66377966236945,
                          24.214986798725818
                        ]
                      ],
                      [
                        [
                          121.66952888018783,
                          24.214986798725818
                        ],
                        [
                          121.67518826647778,
                          24.214986798725818
                        ],
                        [
                          121.67518826647778,
                          24.209327412435865
                        ],
                        [
                          121.66952888018783,
                          24.209327412435865
                        ],
                        [
                          121.66952888018783,
                          24.214986798725818
                        ]
                      ],
                      [
                        [
                          121.67527809800619,
                          24.214986798725818
                        ],
                        [
                          121.68093748429614,
                          24.214986798725818
                        ],
                        [
                          121.68093748429614,
                          24.209327412435865
                        ],
                        [
                          121.67527809800619,
                          24.209327412435865
                        ],
                        [
                          121.67527809800619,
                          24.214986798725818
                        ]
                      ],
                      [
                        [
                          121.64365740000518,
                          24.212112189816636
                        ],
                        [
                          121.64931678629513,
                          24.212112189816636
                        ],
                        [
                          121.64931678629513,
                          24.206452803526684
                        ],
                        [
                          121.64365740000518,
                          24.206452803526684
                        ],
                        [
                          121.64365740000518,
                          24.212112189816636
                        ]
                      ],
                      [
                        [
                          121.64940661782354,
                          24.212112189816636
                        ],
                        [
                          121.6550660041135,
                          24.212112189816636
                        ],
                        [
                          121.6550660041135,
                          24.206452803526684
                        ],
                        [
                          121.64940661782354,
                          24.206452803526684
                        ],
                        [
                          121.64940661782354,
                          24.212112189816636
                        ]
                      ],
                      [
                        [
                          121.6551558356419,
                          24.212112189816636
                        ],
                        [
                          121.65794061302267,
                          24.212112189816636
                        ],
                        [
                          121.65794061302267,
                          24.209327412435865
                        ],
                        [
                          121.6551558356419,
                          24.209327412435865
                        ],
                        [
                          121.6551558356419,
                          24.212112189816636
                        ]
                      ],
                      [
                        [
                          121.6551558356419,
                          24.209237580907452
                        ],
                        [
                          121.66081522193186,
                          24.209237580907452
                        ],
                        [
                          121.66081522193186,
                          24.2035781946175
                        ],
                        [
                          121.6551558356419,
                          24.2035781946175
                        ],
                        [
                          121.6551558356419,
                          24.209237580907452
                        ]
                      ],
                      [
                        [
                          121.66090505346027,
                          24.209237580907452
                        ],
                        [
                          121.66656443975023,
                          24.209237580907452
                        ],
                        [
                          121.66656443975023,
                          24.2035781946175
                        ],
                        [
                          121.66090505346027,
                          24.2035781946175
                        ],
                        [
                          121.66090505346027,
                          24.209237580907452
                        ]
                      ],
                      [
                        [
                          121.66665427127863,
                          24.209237580907452
                        ],
                        [
                          121.6723136575686,
                          24.209237580907452
                        ],
                        [
                          121.6723136575686,
                          24.2035781946175
                        ],
                        [
                          121.66665427127863,
                          24.2035781946175
                        ],
                        [
                          121.66665427127863,
                          24.209237580907452
                        ]
                      ],
                      [
                        [
                          121.64365740000518,
                          24.20636297199827
                        ],
                        [
                          121.64931678629513,
                          24.20636297199827
                        ],
                        [
                          121.64931678629513,
                          24.200703585708318
                        ],
                        [
                          121.64365740000518,
                          24.200703585708318
                        ],
                        [
                          121.64365740000518,
                          24.20636297199827
                        ]
                      ],
                      [
                        [
                          121.64940661782354,
                          24.20636297199827
                        ],
                        [
                          121.6550660041135,
                          24.20636297199827
                        ],
                        [
                          121.6550660041135,
                          24.200703585708318
                        ],
                        [
                          121.64940661782354,
                          24.200703585708318
                        ],
                        [
                          121.64940661782354,
                          24.20636297199827
                        ]
                      ],
                      [
                        [
                          121.6551558356419,
                          24.20348836308909
                        ],
                        [
                          121.66081522193186,
                          24.20348836308909
                        ],
                        [
                          121.66081522193186,
                          24.197828976799137
                        ],
                        [
                          121.6551558356419,
                          24.197828976799137
                        ],
                        [
                          121.6551558356419,
                          24.20348836308909
                        ]
                      ],
                      [
                        [
                          121.66090505346027,
                          24.20348836308909
                        ],
                        [
                          121.66656443975023,
                          24.20348836308909
                        ],
                        [
                          121.66656443975023,
                          24.197828976799137
                        ],
                        [
                          121.66090505346027,
                          24.197828976799137
                        ],
                        [
                          121.66090505346027,
                          24.20348836308909
                        ]
                      ],
                      [
                        [
                          121.66665427127863,
                          24.20348836308909
                        ],
                        [
                          121.6723136575686,
                          24.20348836308909
                        ],
                        [
                          121.6723136575686,
                          24.197828976799137
                        ],
                        [
                          121.66665427127863,
                          24.197828976799137
                        ],
                        [
                          121.66665427127863,
                          24.20348836308909
                        ]
                      ],
                      [
                        [
                          121.64940661782354,
                          24.200613754179905
                        ],
                        [
                          121.6550660041135,
                          24.200613754179905
                        ],
                        [
                          121.6550660041135,
                          24.194954367889952
                        ],
                        [
                          121.64940661782354,
                          24.194954367889952
                        ],
                        [
                          121.64940661782354,
                          24.200613754179905
                        ]
                      ],
                      [
                        [
                          121.64365740000518,
                          24.197739145270724
                        ],
                        [
                          121.64931678629513,
                          24.197739145270724
                        ],
                        [
                          121.64931678629513,
                          24.19207975898077
                        ],
                        [
                          121.64365740000518,
                          24.19207975898077
                        ],
                        [
                          121.64365740000518,
                          24.197739145270724
                        ]
                      ],
                      [
                        [
                          121.64940661782354,
                          24.194864536361543
                        ],
                        [
                          121.65219139520431,
                          24.194864536361543
                        ],
                        [
                          121.65219139520431,
                          24.19207975898077
                        ],
                        [
                          121.64940661782354,
                          24.19207975898077
                        ],
                        [
                          121.64940661782354,
                          24.194864536361543
                        ]
                      ],
                      [
                        [
                          121.65228122673273,
                          24.194864536361543
                        ],
                        [
                          121.65794061302267,
                          24.194864536361543
                        ],
                        [
                          121.65794061302267,
                          24.189205150071587
                        ],
                        [
                          121.65228122673273,
                          24.189205150071587
                        ],
                        [
                          121.65228122673273,
                          24.194864536361543
                        ]
                      ],
                      [
                        [
                          121.65803044455109,
                          24.194864536361543
                        ],
                        [
                          121.66368983084104,
                          24.194864536361543
                        ],
                        [
                          121.66368983084104,
                          24.189205150071587
                        ],
                        [
                          121.65803044455109,
                          24.189205150071587
                        ],
                        [
                          121.65803044455109,
                          24.194864536361543
                        ]
                      ],
                      [
                        [
                          121.66377966236945,
                          24.194864536361543
                        ],
                        [
                          121.66943904865941,
                          24.194864536361543
                        ],
                        [
                          121.66943904865941,
                          24.189205150071587
                        ],
                        [
                          121.66377966236945,
                          24.189205150071587
                        ],
                        [
                          121.66377966236945,
                          24.194864536361543
                        ]
                      ],
                      [
                        [
                          121.640782791096,
                          24.191989927452358
                        ],
                        [
                          121.64644217738595,
                          24.191989927452358
                        ],
                        [
                          121.64644217738595,
                          24.186330541162405
                        ],
                        [
                          121.640782791096,
                          24.186330541162405
                        ],
                        [
                          121.640782791096,
                          24.191989927452358
                        ]
                      ],
                      [
                        [
                          121.64653200891436,
                          24.191989927452358
                        ],
                        [
                          121.65219139520431,
                          24.191989927452358
                        ],
                        [
                          121.65219139520431,
                          24.186330541162405
                        ],
                        [
                          121.64653200891436,
                          24.186330541162405
                        ],
                        [
                          121.64653200891436,
                          24.191989927452358
                        ]
                      ],
                      [
                        [
                          121.65228122673273,
                          24.189115318543177
                        ],
                        [
                          121.65794061302267,
                          24.189115318543177
                        ],
                        [
                          121.65794061302267,
                          24.183455932253224
                        ],
                        [
                          121.65228122673273,
                          24.183455932253224
                        ],
                        [
                          121.65228122673273,
                          24.189115318543177
                        ]
                      ],
                      [
                        [
                          121.65803044455109,
                          24.189115318543177
                        ],
                        [
                          121.66368983084104,
                          24.189115318543177
                        ],
                        [
                          121.66368983084104,
                          24.183455932253224
                        ],
                        [
                          121.65803044455109,
                          24.183455932253224
                        ],
                        [
                          121.65803044455109,
                          24.189115318543177
                        ]
                      ],
                      [
                        [
                          121.64653200891436,
                          24.186240709633992
                        ],
                        [
                          121.65219139520431,
                          24.186240709633992
                        ],
                        [
                          121.65219139520431,
                          24.18058132334404
                        ],
                        [
                          121.64653200891436,
                          24.18058132334404
                        ],
                        [
                          121.64653200891436,
                          24.186240709633992
                        ]
                      ],
                      [
                        [
                          121.65228122673273,
                          24.18336610072481
                        ],
                        [
                          121.6550660041135,
                          24.18336610072481
                        ],
                        [
                          121.6550660041135,
                          24.18058132334404
                        ],
                        [
                          121.65228122673273,
                          24.18058132334404
                        ],
                        [
                          121.65228122673273,
                          24.18336610072481
                        ]
                      ],
                      [
                        [
                          121.6551558356419,
                          24.18336610072481
                        ],
                        [
                          121.66081522193186,
                          24.18336610072481
                        ],
                        [
                          121.66081522193186,
                          24.17770671443486
                        ],
                        [
                          121.6551558356419,
                          24.17770671443486
                        ],
                        [
                          121.6551558356419,
                          24.18336610072481
                        ]
                      ],
                      [
                        [
                          121.64940661782354,
                          24.18049149181563
                        ],
                        [
                          121.6550660041135,
                          24.18049149181563
                        ],
                        [
                          121.6550660041135,
                          24.174832105525674
                        ],
                        [
                          121.64940661782354,
                          24.174832105525674
                        ],
                        [
                          121.64940661782354,
                          24.18049149181563
                        ]
                      ],
                      [
                        [
                          121.6551558356419,
                          24.177616882906445
                        ],
                        [
                          121.66081522193186,
                          24.177616882906445
                        ],
                        [
                          121.66081522193186,
                          24.171957496616493
                        ],
                        [
                          121.6551558356419,
                          24.171957496616493
                        ],
                        [
                          121.6551558356419,
                          24.177616882906445
                        ]
                      ],
                      [
                        [
                          121.64940661782354,
                          24.174742273997264
                        ],
                        [
                          121.6550660041135,
                          24.174742273997264
                        ],
                        [
                          121.6550660041135,
                          24.16908288770731
                        ],
                        [
                          121.64940661782354,
                          24.16908288770731
                        ],
                        [
                          121.64940661782354,
                          24.174742273997264
                        ]
                      ]
                    ],
                    "type": "Polygon"
                  },
                  "id": "14",
                  "properties": {
                    "style": {
                      "color": "black",
                      "fillColor": "black"
                    }
                  },
                  "type": "Feature"
                },
                {
                  "bbox": [
                    121.51133555865437,
                    24.166118447269717,
                    121.51717460800114,
                    24.171957496616493
                  ],
                  "geometry": {
                    "coordinates": [
                      [
                        [
                          121.51133555865437,
                          24.171957496616493
                        ],
                        [
                          121.51133555865437,
                          24.166118447269717
                        ],
                        [
                          121.51717460800114,
                          24.166118447269717
                        ],
                        [
                          121.51717460800114,
                          24.171957496616493
                        ],
                        [
                          121.51133555865437,
                          24.171957496616493
                        ]
                      ],
                      [
                        [
                          121.51142539018278,
                          24.17186766508808
                        ],
                        [
                          121.51708477647274,
                          24.17186766508808
                        ],
                        [
                          121.51708477647274,
                          24.166208278798127
                        ],
                        [
                          121.51142539018278,
                          24.166208278798127
                        ],
                        [
                          121.51142539018278,
                          24.17186766508808
                        ]
                      ]
                    ],
                    "type": "Polygon"
                  },
                  "id": "15",
                  "properties": {
                    "style": {
                      "color": "black",
                      "fillColor": "black"
                    }
                  },
                  "type": "Feature"
                },
                {
                  "bbox": [
                    121.54583086556457,
                    24.166118447269717,
                    121.55166991491134,
                    24.171957496616493
                  ],
                  "geometry": {
                    "coordinates": [
                      [
                        [
                          121.54583086556457,
                          24.171957496616493
                        ],
                        [
                          121.54583086556457,
                          24.166118447269717
                        ],
                        [
                          121.55166991491134,
                          24.166118447269717
                        ],
                        [
                          121.55166991491134,
                          24.171957496616493
                        ],
                        [
                          121.54583086556457,
                          24.171957496616493
                        ]
                      ],
                      [
                        [
                          121.54592069709297,
                          24.17186766508808
                        ],
                        [
                          121.55158008338293,
                          24.17186766508808
                        ],
                        [
                          121.55158008338293,
                          24.166208278798127
                        ],
                        [
                          121.54592069709297,
                          24.166208278798127
                        ],
                        [
                          121.54592069709297,
                          24.17186766508808
                        ]
                      ]
                    ],
                    "type": "Polygon"
                  },
                  "id": "16",
                  "properties": {
                    "style": {
                      "color": "black",
                      "fillColor": "black"
                    }
                  },
                  "type": "Feature"
                },
                {
                  "bbox": [
                    121.6061976526574,
                    24.166118447269717,
                    121.61203670200418,
                    24.171957496616493
                  ],
                  "geometry": {
                    "coordinates": [
                      [
                        [
                          121.6061976526574,
                          24.171957496616493
                        ],
                        [
                          121.6061976526574,
                          24.166118447269717
                        ],
                        [
                          121.61203670200418,
                          24.166118447269717
                        ],
                        [
                          121.61203670200418,
                          24.171957496616493
                        ],
                        [
                          121.6061976526574,
                          24.171957496616493
                        ]
                      ],
                      [
                        [
                          121.6062874841858,
                          24.17186766508808
                        ],
                        [
                          121.61194687047576,
                          24.17186766508808
                        ],
                        [
                          121.61194687047576,
                          24.166208278798127
                        ],
                        [
                          121.6062874841858,
                          24.166208278798127
                        ],
                        [
                          121.6062874841858,
                          24.17186766508808
                        ]
                      ]
                    ],
                    "type": "Polygon"
                  },
                  "id": "17",
                  "properties": {
                    "style": {
                      "color": "black",
                      "fillColor": "black"
                    }
                  },
                  "type": "Feature"
                },
                {
                  "bbox": [
                    121.57745156356557,
                    24.16036922945135,
                    121.59766365745826,
                    24.17770671443486
                  ],
                  "geometry": {
                    "coordinates": [
                      [
                        [
                          121.59182460811148,
                          24.17770671443486
                        ],
                        [
                          121.59182460811148,
                          24.174832105525674
                        ],
                        [
                          121.58032617247476,
                          24.174832105525674
                        ],
                        [
                          121.58032617247476,
                          24.1689930561789
                        ],
                        [
                          121.58320078138394,
                          24.1689930561789
                        ],
                        [
                          121.58320078138394,
                          24.166208278798127
                        ],
                        [
                          121.57745156356557,
                          24.166208278798127
                        ],
                        [
                          121.57745156356557,
                          24.16036922945135
                        ],
                        [
                          121.58329061291235,
                          24.16036922945135
                        ],
                        [
                          121.58329061291235,
                          24.163243838360533
                        ],
                        [
                          121.58903983073071,
                          24.163243838360533
                        ],
                        [
                          121.58903983073071,
                          24.1689930561789
                        ],
                        [
                          121.5919144396399,
                          24.1689930561789
                        ],
                        [
                          121.5919144396399,
                          24.17186766508808
                        ],
                        [
                          121.59766365745826,
                          24.17186766508808
                        ],
                        [
                          121.59766365745826,
                          24.17770671443486
                        ],
                        [
                          121.59182460811148,
                          24.17770671443486
                        ]
                      ],
                      [
                        [
                          121.5919144396399,
                          24.177616882906445
                        ],
                        [
                          121.59757382592984,
                          24.177616882906445
                        ],
                        [
                          121.59757382592984,
                          24.171957496616493
                        ],
                        [
                          121.5919144396399,
                          24.171957496616493
                        ],
                        [
                          121.5919144396399,
                          24.177616882906445
                        ]
                      ],
                      [
                        [
                          121.58041600400317,
                          24.174742273997264
                        ],
                        [
                          121.58607539029312,
                          24.174742273997264
                        ],
                        [
                          121.58607539029312,
                          24.16908288770731
                        ],
                        [
                          121.58041600400317,
                          24.16908288770731
                        ],
                        [
                          121.58041600400317,
                          24.174742273997264
                        ]
                      ],
                      [
                        [
                          121.58616522182153,
                          24.174742273997264
                        ],
                        [
                          121.59182460811148,
                          24.174742273997264
                        ],
                        [
                          121.59182460811148,
                          24.16908288770731
                        ],
                        [
                          121.58616522182153,
                          24.16908288770731
                        ],
                        [
                          121.58616522182153,
                          24.174742273997264
                        ]
                      ],
                      [
                        [
                          121.58329061291235,
                          24.1689930561789
                        ],
                        [
                          121.5889499992023,
                          24.1689930561789
                        ],
                        [
                          121.5889499992023,
                          24.163333669888946
                        ],
                        [
                          121.58329061291235,
                          24.163333669888946
                        ],
                        [
                          121.58329061291235,
                          24.1689930561789
                        ]
                      ],
                      [
                        [
                          121.57754139509397,
                          24.166118447269717
                        ],
                        [
                          121.58320078138394,
                          24.166118447269717
                        ],
                        [
                          121.58320078138394,
                          24.160459060979765
                        ],
                        [
                          121.57754139509397,
                          24.160459060979765
                        ],
                        [
                          121.57754139509397,
                          24.166118447269717
                        ]
                      ]
                    ],
                    "type": "Polygon"
                  },
                  "id": "18",
                  "properties": {
                    "style": {
                      "color": "black",
                      "fillColor": "black"
                    }
                  },
                  "type": "Feature"
                },
                {
                  "bbox": [
                    121.54870547447375,
                    24.15749462054217,
                    121.55454452382052,
                    24.163333669888946
                  ],
                  "geometry": {
                    "coordinates": [
                      [
                        [
                          121.54870547447375,
                          24.163333669888946
                        ],
                        [
                          121.54870547447375,
                          24.15749462054217
                        ],
                        [
                          121.55454452382052,
                          24.15749462054217
                        ],
                        [
                          121.55454452382052,
                          24.163333669888946
                        ],
                        [
                          121.54870547447375,
                          24.163333669888946
                        ]
                      ],
                      [
                        [
                          121.54879530600216,
                          24.163243838360533
                        ],
                        [
                          121.55445469229211,
                          24.163243838360533
                        ],
                        [
                          121.55445469229211,
                          24.15758445207058
                        ],
                        [
                          121.54879530600216,
                          24.15758445207058
                        ],
                        [
                          121.54879530600216,
                          24.163243838360533
                        ]
                      ]
                    ],
                    "type": "Polygon"
                  },
                  "id": "19",
                  "properties": {
                    "style": {
                      "color": "black",
                      "fillColor": "black"
                    }
                  },
                  "type": "Feature"
                },
                {
                  "bbox": [
                    121.6378183506584,
                    24.15749462054217,
                    121.64365740000518,
                    24.163333669888946
                  ],
                  "geometry": {
                    "coordinates": [
                      [
                        [
                          121.6378183506584,
                          24.163333669888946
                        ],
                        [
                          121.6378183506584,
                          24.15749462054217
                        ],
                        [
                          121.64365740000518,
                          24.15749462054217
                        ],
                        [
                          121.64365740000518,
                          24.163333669888946
                        ],
                        [
                          121.6378183506584,
                          24.163333669888946
                        ]
                      ],
                      [
                        [
                          121.63790818218682,
                          24.163243838360533
                        ],
                        [
                          121.64356756847677,
                          24.163243838360533
                        ],
                        [
                          121.64356756847677,
                          24.15758445207058
                        ],
                        [
                          121.63790818218682,
                          24.15758445207058
                        ],
                        [
                          121.63790818218682,
                          24.163243838360533
                        ]
                      ]
                    ],
                    "type": "Polygon"
                  },
                  "id": "20",
                  "properties": {
                    "style": {
                      "color": "black",
                      "fillColor": "black"
                    }
                  },
                  "type": "Feature"
                },
                {
                  "bbox": [
                    121.54295625665537,
                    24.143121575996258,
                    121.55166991491134,
                    24.1547098431614
                  ],
                  "geometry": {
                    "coordinates": [
                      [
                        [
                          121.54583086556457,
                          24.1547098431614
                        ],
                        [
                          121.54583086556457,
                          24.148960625343033
                        ],
                        [
                          121.54295625665537,
                          24.148960625343033
                        ],
                        [
                          121.54295625665537,
                          24.143121575996258
                        ],
                        [
                          121.54879530600216,
                          24.143121575996258
                        ],
                        [
                          121.54879530600216,
                          24.14887079381462
                        ],
                        [
                          121.55166991491134,
                          24.14887079381462
                        ],
                        [
                          121.55166991491134,
                          24.1547098431614
                        ],
                        [
                          121.54583086556457,
                          24.1547098431614
                        ]
                      ],
                      [
                        [
                          121.54592069709297,
                          24.154620011632986
                        ],
                        [
                          121.55158008338293,
                          24.154620011632986
                        ],
                        [
                          121.55158008338293,
                          24.148960625343033
                        ],
                        [
                          121.54592069709297,
                          24.148960625343033
                        ],
                        [
                          121.54592069709297,
                          24.154620011632986
                        ]
                      ],
                      [
                        [
                          121.54304608818379,
                          24.14887079381462
                        ],
                        [
                          121.54870547447375,
                          24.14887079381462
                        ],
                        [
                          121.54870547447375,
                          24.143211407524667
                        ],
                        [
                          121.54304608818379,
                          24.143211407524667
                        ],
                        [
                          121.54304608818379,
                          24.14887079381462
                        ]
                      ]
                    ],
                    "type": "Polygon"
                  },
                  "id": "21",
                  "properties": {
                    "style": {
                      "color": "black",
                      "fillColor": "black"
                    }
                  },
                  "type": "Feature"
                },
                {
                  "bbox": [
                    121.54295625665537,
                    24.134497749268707,
                    121.54879530600216,
                    24.140336798615486
                  ],
                  "geometry": {
                    "coordinates": [
                      [
                        [
                          121.54295625665537,
                          24.140336798615486
                        ],
                        [
                          121.54295625665537,
                          24.134497749268707
                        ],
                        [
                          121.54879530600216,
                          24.134497749268707
                        ],
                        [
                          121.54879530600216,
                          24.140336798615486
                        ],
                        [
                          121.54295625665537,
                          24.140336798615486
                        ]
                      ],
                      [
                        [
                          121.54304608818379,
                          24.140246967087073
                        ],
                        [
                          121.54870547447375,
                          24.140246967087073
                        ],
                        [
                          121.54870547447375,
                          24.13458758079712
                        ],
                        [
                          121.54304608818379,
                          24.13458758079712
                        ],
                        [
                          121.54304608818379,
                          24.140246967087073
                        ]
                      ]
                    ],
                    "type": "Polygon"
                  },
                  "id": "22",
                  "properties": {
                    "style": {
                      "color": "black",
                      "fillColor": "black"
                    }
                  },
                  "type": "Feature"
                },
                {
                  "bbox": [
                    121.49983712301764,
                    24.128748531450345,
                    121.50567617236442,
                    24.13458758079712
                  ],
                  "geometry": {
                    "coordinates": [
                      [
                        [
                          121.49983712301764,
                          24.13458758079712
                        ],
                        [
                          121.49983712301764,
                          24.128748531450345
                        ],
                        [
                          121.50567617236442,
                          24.128748531450345
                        ],
                        [
                          121.50567617236442,
                          24.13458758079712
                        ],
                        [
                          121.49983712301764,
                          24.13458758079712
                        ]
                      ],
                      [
                        [
                          121.49992695454605,
                          24.134497749268707
                        ],
                        [
                          121.505586340836,
                          24.134497749268707
                        ],
                        [
                          121.505586340836,
                          24.128838362978755
                        ],
                        [
                          121.49992695454605,
                          24.128838362978755
                        ],
                        [
                          121.49992695454605,
                          24.134497749268707
                        ]
                      ]
                    ],
                    "type": "Polygon"
                  },
                  "id": "23",
                  "properties": {
                    "style": {
                      "color": "black",
                      "fillColor": "black"
                    }
                  },
                  "type": "Feature"
                },
                {
                  "bbox": [
                    121.60044843483902,
                    24.12587392254116,
                    121.61203670200418,
                    24.13458758079712
                  ],
                  "geometry": {
                    "coordinates": [
                      [
                        [
                          121.60044843483902,
                          24.13458758079712
                        ],
                        [
                          121.60044843483902,
                          24.128748531450345
                        ],
                        [
                          121.6061976526574,
                          24.128748531450345
                        ],
                        [
                          121.6061976526574,
                          24.12587392254116
                        ],
                        [
                          121.61203670200418,
                          24.12587392254116
                        ],
                        [
                          121.61203670200418,
                          24.13171297188794
                        ],
                        [
                          121.6062874841858,
                          24.13171297188794
                        ],
                        [
                          121.6062874841858,
                          24.13458758079712
                        ],
                        [
                          121.60044843483902,
                          24.13458758079712
                        ]
                      ],
                      [
                        [
                          121.60053826636744,
                          24.134497749268707
                        ],
                        [
                          121.6061976526574,
                          24.134497749268707
                        ],
                        [
                          121.6061976526574,
                          24.128838362978755
                        ],
                        [
                          121.60053826636744,
                          24.128838362978755
                        ],
                        [
                          121.60053826636744,
                          24.134497749268707
                        ]
                      ],
                      [
                        [
                          121.6062874841858,
                          24.131623140359526
                        ],
                        [
                          121.61194687047576,
                          24.131623140359526
                        ],
                        [
                          121.61194687047576,
                          24.125963754069573
                        ],
                        [
                          121.6062874841858,
                          24.125963754069573
                        ],
                        [
                          121.6062874841858,
                          24.131623140359526
                        ]
                      ]
                    ],
                    "type": "Polygon"
                  },
                  "id": "24",
                  "properties": {
                    "style": {
                      "color": "black",
                      "fillColor": "black"
                    }
                  },
                  "type": "Feature"
                },
                {
                  "bbox": [
                    121.61482147938494,
                    24.111500877995248,
                    121.62066052873172,
                    24.117339927342027
                  ],
                  "geometry": {
                    "coordinates": [
                      [
                        [
                          121.61482147938494,
                          24.117339927342027
                        ],
                        [
                          121.61482147938494,
                          24.111500877995248
                        ],
                        [
                          121.62066052873172,
                          24.111500877995248
                        ],
                        [
                          121.62066052873172,
                          24.117339927342027
                        ],
                        [
                          121.61482147938494,
                          24.117339927342027
                        ]
                      ],
                      [
                        [
                          121.61491131091336,
                          24.117250095813613
                        ],
                        [
                          121.6205706972033,
                          24.117250095813613
                        ],
                        [
                          121.6205706972033,
                          24.11159070952366
                        ],
                        [
                          121.61491131091336,
                          24.11159070952366
                        ],
                        [
                          121.61491131091336,
                          24.117250095813613
                        ]
                      ]
                    ],
                    "type": "Polygon"
                  },
                  "id": "25",
                  "properties": {
                    "style": {
                      "color": "black",
                      "fillColor": "black"
                    }
                  },
                  "type": "Feature"
                },
                {
                  "bbox": [
                    121.56307851901965,
                    24.105751660176885,
                    121.56891756836643,
                    24.11159070952366
                  ],
                  "geometry": {
                    "coordinates": [
                      [
                        [
                          121.56307851901965,
                          24.11159070952366
                        ],
                        [
                          121.56307851901965,
                          24.105751660176885
                        ],
                        [
                          121.56891756836643,
                          24.105751660176885
                        ],
                        [
                          121.56891756836643,
                          24.11159070952366
                        ],
                        [
                          121.56307851901965,
                          24.11159070952366
                        ]
                      ],
                      [
                        [
                          121.56316835054807,
                          24.111500877995248
                        ],
                        [
                          121.56882773683802,
                          24.111500877995248
                        ],
                        [
                          121.56882773683802,
                          24.105841491705295
                        ],
                        [
                          121.56316835054807,
                          24.105841491705295
                        ],
                        [
                          121.56316835054807,
                          24.111500877995248
                        ]
                      ]
                    ],
                    "type": "Polygon"
                  },
                  "id": "26",
                  "properties": {
                    "style": {
                      "color": "black",
                      "fillColor": "black"
                    }
                  },
                  "type": "Feature"
                },
                {
                  "bbox": [
                    121.5889499992023,
                    24.105751660176885,
                    121.59478904854907,
                    24.11159070952366
                  ],
                  "geometry": {
                    "coordinates": [
                      [
                        [
                          121.5889499992023,
                          24.11159070952366
                        ],
                        [
                          121.5889499992023,
                          24.105751660176885
                        ],
                        [
                          121.59478904854907,
                          24.105751660176885
                        ],
                        [
                          121.59478904854907,
                          24.11159070952366
                        ],
                        [
                          121.5889499992023,
                          24.11159070952366
                        ]
                      ],
                      [
                        [
                          121.58903983073071,
                          24.111500877995248
                        ],
                        [
                          121.59469921702066,
                          24.111500877995248
                        ],
                        [
                          121.59469921702066,
                          24.105841491705295
                        ],
                        [
                          121.58903983073071,
                          24.105841491705295
                        ],
                        [
                          121.58903983073071,
                          24.111500877995248
                        ]
                      ]
                    ],
                    "type": "Polygon"
                  },
                  "id": "27",
                  "properties": {
                    "style": {
                      "color": "black",
                      "fillColor": "black"
                    }
                  },
                  "type": "Feature"
                },
                {
                  "bbox": [
                    121.61194687047576,
                    24.10000244235852,
                    121.61778591982254,
                    24.105841491705295
                  ],
                  "geometry": {
                    "coordinates": [
                      [
                        [
                          121.61194687047576,
                          24.105841491705295
                        ],
                        [
                          121.61194687047576,
                          24.10000244235852
                        ],
                        [
                          121.61778591982254,
                          24.10000244235852
                        ],
                        [
                          121.61778591982254,
                          24.105841491705295
                        ],
                        [
                          121.61194687047576,
                          24.105841491705295
                        ]
                      ],
                      [
                        [
                          121.61203670200418,
                          24.105751660176885
                        ],
                        [
                          121.61769608829412,
                          24.105751660176885
                        ],
                        [
                          121.61769608829412,
                          24.10009227388693
                        ],
                        [
                          121.61203670200418,
                          24.10009227388693
                        ],
                        [
                          121.61203670200418,
                          24.105751660176885
                        ]
                      ]
                    ],
                    "type": "Polygon"
                  },
                  "id": "28",
                  "properties": {
                    "style": {
                      "color": "black",
                      "fillColor": "black"
                    }
                  },
                  "type": "Feature"
                },
                {
                  "bbox": [
                    121.49983712301764,
                    24.094253224540154,
                    121.50567617236442,
                    24.10009227388693
                  ],
                  "geometry": {
                    "coordinates": [
                      [
                        [
                          121.49983712301764,
                          24.10009227388693
                        ],
                        [
                          121.49983712301764,
                          24.094253224540154
                        ],
                        [
                          121.50567617236442,
                          24.094253224540154
                        ],
                        [
                          121.50567617236442,
                          24.10009227388693
                        ],
                        [
                          121.49983712301764,
                          24.10009227388693
                        ]
                      ],
                      [
                        [
                          121.49992695454605,
                          24.10000244235852
                        ],
                        [
                          121.505586340836,
                          24.10000244235852
                        ],
                        [
                          121.505586340836,
                          24.094343056068567
                        ],
                        [
                          121.49992695454605,
                          24.094343056068567
                        ],
                        [
                          121.49992695454605,
                          24.10000244235852
                        ]
                      ]
                    ],
                    "type": "Polygon"
                  },
                  "id": "29",
                  "properties": {
                    "style": {
                      "color": "black",
                      "fillColor": "black"
                    }
                  },
                  "type": "Feature"
                },
                {
                  "bbox": [
                    121.50846094974519,
                    24.094253224540154,
                    121.52867304363788,
                    24.11159070952366
                  ],
                  "geometry": {
                    "coordinates": [
                      [
                        [
                          121.51708477647274,
                          24.11159070952366
                        ],
                        [
                          121.51708477647274,
                          24.10009227388693
                        ],
                        [
                          121.50846094974519,
                          24.10009227388693
                        ],
                        [
                          121.50846094974519,
                          24.094253224540154
                        ],
                        [
                          121.52004921691034,
                          24.094253224540154
                        ],
                        [
                          121.52004921691034,
                          24.10000244235852
                        ],
                        [
                          121.52292382581952,
                          24.10000244235852
                        ],
                        [
                          121.52292382581952,
                          24.1028770512677
                        ],
                        [
                          121.52867304363788,
                          24.1028770512677
                        ],
                        [
                          121.52867304363788,
                          24.10871610061448
                        ],
                        [
                          121.52292382581952,
                          24.10871610061448
                        ],
                        [
                          121.52292382581952,
                          24.11159070952366
                        ],
                        [
                          121.51708477647274,
                          24.11159070952366
                        ]
                      ],
                      [
                        [
                          121.51717460800114,
                          24.111500877995248
                        ],
                        [
                          121.5228339942911,
                          24.111500877995248
                        ],
                        [
                          121.5228339942911,
                          24.105841491705295
                        ],
                        [
                          121.51717460800114,
                          24.105841491705295
                        ],
                        [
                          121.51717460800114,
                          24.111500877995248
                        ]
                      ],
                      [
                        [
                          121.52292382581952,
                          24.108626269086066
                        ],
                        [
                          121.52858321210947,
                          24.108626269086066
                        ],
                        [
                          121.52858321210947,
                          24.102966882796114
                        ],
                        [
                          121.52292382581952,
                          24.102966882796114
                        ],
                        [
                          121.52292382581952,
                          24.108626269086066
                        ]
                      ],
                      [
                        [
                          121.51717460800114,
                          24.105751660176885
                        ],
                        [
                          121.5228339942911,
                          24.105751660176885
                        ],
                        [
                          121.5228339942911,
                          24.10009227388693
                        ],
                        [
                          121.51717460800114,
                          24.10009227388693
                        ],
                        [
                          121.51717460800114,
                          24.105751660176885
                        ]
                      ],
                      [
                        [
                          121.5085507812736,
                          24.10000244235852
                        ],
                        [
                          121.51421016756355,
                          24.10000244235852
                        ],
                        [
                          121.51421016756355,
                          24.094343056068567
                        ],
                        [
                          121.5085507812736,
                          24.094343056068567
                        ],
                        [
                          121.5085507812736,
                          24.10000244235852
                        ]
                      ],
                      [
                        [
                          121.51429999909196,
                          24.10000244235852
                        ],
                        [
                          121.51995938538192,
                          24.10000244235852
                        ],
                        [
                          121.51995938538192,
                          24.094343056068567
                        ],
                        [
                          121.51429999909196,
                          24.094343056068567
                        ],
                        [
                          121.51429999909196,
                          24.10000244235852
                        ]
                      ]
                    ],
                    "type": "Polygon"
                  },
                  "id": "30",
                  "properties": {
                    "style": {
                      "color": "black",
                      "fillColor": "black"
                    }
                  },
                  "type": "Feature"
                },
                {
                  "bbox": [
                    121.6033230437482,
                    24.094253224540154,
                    121.609162093095,
                    24.10009227388693
                  ],
                  "geometry": {
                    "coordinates": [
                      [
                        [
                          121.6033230437482,
                          24.10009227388693
                        ],
                        [
                          121.6033230437482,
                          24.094253224540154
                        ],
                        [
                          121.609162093095,
                          24.094253224540154
                        ],
                        [
                          121.609162093095,
                          24.10009227388693
                        ],
                        [
                          121.6033230437482,
                          24.10009227388693
                        ]
                      ],
                      [
                        [
                          121.60341287527662,
                          24.10000244235852
                        ],
                        [
                          121.60907226156658,
                          24.10000244235852
                        ],
                        [
                          121.60907226156658,
                          24.094343056068567
                        ],
                        [
                          121.60341287527662,
                          24.094343056068567
                        ],
                        [
                          121.60341287527662,
                          24.10000244235852
                        ]
                      ]
                    ],
                    "type": "Polygon"
                  },
                  "id": "31",
                  "properties": {
                    "style": {
                      "color": "black",
                      "fillColor": "black"
                    }
                  },
                  "type": "Feature"
                }
              ],
              "type": "FeatureCollection"
            },
            "hover_style": {
              "fillOpacity": 1
            },
            "layers": [],
            "name": "DESCENDING predictions",
            "options": [],
            "pane": "",
            "point_style": {},
            "popup": null,
            "popup_max_height": null,
            "popup_max_width": 300,
            "popup_min_width": 50,
            "style": {
              "color": "blue",
              "fill": true,
              "fillColor": "blue",
              "fillOpacity": 1,
              "opacity": 1,
              "stroke": true,
              "weight": 2
            },
            "subitems": [],
            "visible": true
          }
        },
        "be809e938fc74fa68547a7997b3d791e": {
          "model_module": "@jupyter-widgets/controls",
          "model_module_version": "1.5.0",
          "model_name": "ButtonModel",
          "state": {
            "_dom_classes": [],
            "_model_module": "@jupyter-widgets/controls",
            "_model_module_version": "1.5.0",
            "_model_name": "ButtonModel",
            "_view_count": null,
            "_view_module": "@jupyter-widgets/controls",
            "_view_module_version": "1.5.0",
            "_view_name": "ButtonView",
            "button_style": "",
            "description": "",
            "disabled": false,
            "icon": "times",
            "layout": "IPY_MODEL_4e07748a87ae42c0809f47cfdb08aeb8",
            "style": "IPY_MODEL_fb6adfa55b744448848e9ca8525b65aa",
            "tooltip": "Loaded"
          }
        },
        "be86aa74a5b04886a72542dfe9d2ab37": {
          "model_module": "@jupyter-widgets/controls",
          "model_module_version": "1.5.0",
          "model_name": "ButtonModel",
          "state": {
            "_dom_classes": [],
            "_model_module": "@jupyter-widgets/controls",
            "_model_module_version": "1.5.0",
            "_model_name": "ButtonModel",
            "_view_count": null,
            "_view_module": "@jupyter-widgets/controls",
            "_view_module_version": "1.5.0",
            "_view_name": "ButtonView",
            "button_style": "",
            "description": "",
            "disabled": false,
            "icon": "gear",
            "layout": "IPY_MODEL_12af4407c96d4ad1b10f10aacaf8f6a2",
            "style": "IPY_MODEL_6c0650dba22848baa98b83f4e9d0f478",
            "tooltip": "Esri.WorldImagery"
          }
        },
        "beb69a4cd873402c9704a261d5b5961e": {
          "model_module": "jupyter-leaflet",
          "model_module_version": "^0.19",
          "model_name": "LeafletTileLayerModel",
          "state": {
            "_model_module": "jupyter-leaflet",
            "_model_module_version": "^0.19",
            "_model_name": "LeafletTileLayerModel",
            "_view_count": null,
            "_view_module": "jupyter-leaflet",
            "_view_module_version": "^0.19",
            "_view_name": "LeafletTileLayerView",
            "attribution": "&copy; <a href=\"https://www.openstreetmap.org/copyright\">OpenStreetMap</a> contributors",
            "base": true,
            "bottom": true,
            "bounds": null,
            "detect_retina": false,
            "loading": false,
            "max_native_zoom": null,
            "max_zoom": 30,
            "min_native_zoom": null,
            "min_zoom": 1,
            "name": "OpenStreetMap.Mapnik",
            "no_wrap": false,
            "opacity": 1,
            "options": [
              "attribution",
              "bounds",
              "detect_retina",
              "max_native_zoom",
              "max_zoom",
              "min_native_zoom",
              "min_zoom",
              "no_wrap",
              "tile_size",
              "tms",
              "zoom_offset"
            ],
            "pane": "",
            "popup": null,
            "popup_max_height": null,
            "popup_max_width": 300,
            "popup_min_width": 50,
            "show_loading": false,
            "subitems": [],
            "tile_size": 256,
            "tms": false,
            "url": "https://tile.openstreetmap.org/{z}/{x}/{y}.png",
            "visible": true,
            "zoom_offset": 0
          }
        },
        "c0d5dcb0cb4d4eaf8729e74b17df9c33": {
          "model_module": "@jupyter-widgets/controls",
          "model_module_version": "1.5.0",
          "model_name": "ButtonModel",
          "state": {
            "_dom_classes": [],
            "_model_module": "@jupyter-widgets/controls",
            "_model_module_version": "1.5.0",
            "_model_name": "ButtonModel",
            "_view_count": null,
            "_view_module": "@jupyter-widgets/controls",
            "_view_module_version": "1.5.0",
            "_view_name": "ButtonView",
            "button_style": "",
            "description": "",
            "disabled": false,
            "icon": "times",
            "layout": "IPY_MODEL_0a8c0d4c94fa481fa3090397cae13aa4",
            "style": "IPY_MODEL_b92645c9d6fe449e8e0ef08bb8e41283",
            "tooltip": "Loaded"
          }
        },
        "c0fc19d908ca400386b35b5789ee0d45": {
          "model_module": "@jupyter-widgets/controls",
          "model_module_version": "1.5.0",
          "model_name": "HTMLModel",
          "state": {
            "_dom_classes": [],
            "_model_module": "@jupyter-widgets/controls",
            "_model_module_version": "1.5.0",
            "_model_name": "HTMLModel",
            "_view_count": null,
            "_view_module": "@jupyter-widgets/controls",
            "_view_module_version": "1.5.0",
            "_view_name": "HTMLView",
            "description": "",
            "description_tooltip": null,
            "layout": "IPY_MODEL_e676f54615d6487993c892ef681e4e35",
            "placeholder": "​",
            "style": "IPY_MODEL_ace936c30fc6430a9bec6e5940c1e988",
            "value": " 992M/992M (raw) [100.0%] in 00:05 (eta: 00:00)"
          }
        },
        "c19c67f09fba49259d503aa31f979eaa": {
          "model_module": "@jupyter-widgets/controls",
          "model_module_version": "1.5.0",
          "model_name": "HBoxModel",
          "state": {
            "_dom_classes": [],
            "_model_module": "@jupyter-widgets/controls",
            "_model_module_version": "1.5.0",
            "_model_name": "HBoxModel",
            "_view_count": null,
            "_view_module": "@jupyter-widgets/controls",
            "_view_module_version": "1.5.0",
            "_view_name": "HBoxView",
            "box_style": "",
            "children": [
              "IPY_MODEL_f1f7ddcdf88044edb6fc434c676069d2",
              "IPY_MODEL_3fc2ab965fe44eca947085f26deda863"
            ],
            "layout": "IPY_MODEL_429be9db37764debad59c3e80b2041de"
          }
        },
        "c1a545d1f5fd4a00b8625553ed90fc03": {
          "model_module": "@jupyter-widgets/controls",
          "model_module_version": "1.5.0",
          "model_name": "VBoxModel",
          "state": {
            "_dom_classes": [
              "geemap-colab"
            ],
            "_model_module": "@jupyter-widgets/controls",
            "_model_module_version": "1.5.0",
            "_model_name": "VBoxModel",
            "_view_count": null,
            "_view_module": "@jupyter-widgets/controls",
            "_view_module_version": "1.5.0",
            "_view_name": "VBoxView",
            "box_style": "",
            "children": [
              "IPY_MODEL_901d43e457eb4442b39ecfc0a083d672",
              "IPY_MODEL_dac34456596145b0a9c69a6e85448ad2"
            ],
            "layout": "IPY_MODEL_b6f37108c9e4439eba9242f140199bcd"
          }
        },
        "c2017e10b65d4803990cb8a5f1ccb071": {
          "model_module": "@jupyter-widgets/controls",
          "model_module_version": "1.5.0",
          "model_name": "VBoxModel",
          "state": {
            "_dom_classes": [],
            "_model_module": "@jupyter-widgets/controls",
            "_model_module_version": "1.5.0",
            "_model_name": "VBoxModel",
            "_view_count": null,
            "_view_module": "@jupyter-widgets/controls",
            "_view_module_version": "1.5.0",
            "_view_name": "VBoxView",
            "box_style": "",
            "children": [
              "IPY_MODEL_c19c67f09fba49259d503aa31f979eaa",
              "IPY_MODEL_1d5bee064cc14afbac1b5b821227a12b"
            ],
            "layout": "IPY_MODEL_316c3ff73f36413ea5200f9ab9162d26"
          }
        },
        "c29bedbb10474a18b55c0333f57938e9": {
          "model_module": "@jupyter-widgets/controls",
          "model_module_version": "1.5.0",
          "model_name": "ButtonModel",
          "state": {
            "_dom_classes": [],
            "_model_module": "@jupyter-widgets/controls",
            "_model_module_version": "1.5.0",
            "_model_name": "ButtonModel",
            "_view_count": null,
            "_view_module": "@jupyter-widgets/controls",
            "_view_module_version": "1.5.0",
            "_view_name": "ButtonView",
            "button_style": "",
            "description": "",
            "disabled": false,
            "icon": "gear",
            "layout": "IPY_MODEL_7d08b86a503f4708af683847201dd3c2",
            "style": "IPY_MODEL_7540e2847c834af4810ba1253fc02062",
            "tooltip": "Esri.WorldImagery"
          }
        },
        "c326e134b99740e9a356f1be7611b8d4": {
          "model_module": "@jupyter-widgets/controls",
          "model_module_version": "1.5.0",
          "model_name": "DescriptionStyleModel",
          "state": {
            "_model_module": "@jupyter-widgets/controls",
            "_model_module_version": "1.5.0",
            "_model_name": "DescriptionStyleModel",
            "_view_count": null,
            "_view_module": "@jupyter-widgets/base",
            "_view_module_version": "1.2.0",
            "_view_name": "StyleView",
            "description_width": ""
          }
        },
        "c5159d0c2f244e31a9c068db3a50fa51": {
          "model_module": "@jupyter-widgets/base",
          "model_module_version": "1.2.0",
          "model_name": "LayoutModel",
          "state": {
            "_model_module": "@jupyter-widgets/base",
            "_model_module_version": "1.2.0",
            "_model_name": "LayoutModel",
            "_view_count": null,
            "_view_module": "@jupyter-widgets/base",
            "_view_module_version": "1.2.0",
            "_view_name": "LayoutView",
            "align_content": null,
            "align_items": null,
            "align_self": null,
            "border": null,
            "bottom": null,
            "display": null,
            "flex": null,
            "flex_flow": null,
            "grid_area": null,
            "grid_auto_columns": null,
            "grid_auto_flow": null,
            "grid_auto_rows": null,
            "grid_column": null,
            "grid_gap": null,
            "grid_row": null,
            "grid_template_areas": null,
            "grid_template_columns": null,
            "grid_template_rows": null,
            "height": null,
            "justify_content": null,
            "justify_items": null,
            "left": null,
            "margin": null,
            "max_height": null,
            "max_width": null,
            "min_height": null,
            "min_width": null,
            "object_fit": null,
            "object_position": null,
            "order": null,
            "overflow": null,
            "overflow_x": null,
            "overflow_y": null,
            "padding": "0px 4px 0px 4px",
            "right": null,
            "top": null,
            "visibility": null,
            "width": null
          }
        },
        "c5e407ec9d8240419312e16447bbfb9e": {
          "model_module": "@jupyter-widgets/controls",
          "model_module_version": "1.5.0",
          "model_name": "DescriptionStyleModel",
          "state": {
            "_model_module": "@jupyter-widgets/controls",
            "_model_module_version": "1.5.0",
            "_model_name": "DescriptionStyleModel",
            "_view_count": null,
            "_view_module": "@jupyter-widgets/base",
            "_view_module_version": "1.2.0",
            "_view_name": "StyleView",
            "description_width": ""
          }
        },
        "c5ff935f1f7c4f57888e5c2ab088a9f5": {
          "model_module": "jupyter-leaflet",
          "model_module_version": "^0.19",
          "model_name": "LeafletMapStyleModel",
          "state": {
            "_model_module": "jupyter-leaflet",
            "_model_module_version": "^0.19",
            "_model_name": "LeafletMapStyleModel",
            "_view_count": null,
            "_view_module": "@jupyter-widgets/base",
            "_view_module_version": "1.2.0",
            "_view_name": "StyleView",
            "cursor": "move"
          }
        },
        "c6b461a4c0e54c9798cea0b75425b889": {
          "model_module": "@jupyter-widgets/base",
          "model_module_version": "1.2.0",
          "model_name": "LayoutModel",
          "state": {
            "_model_module": "@jupyter-widgets/base",
            "_model_module_version": "1.2.0",
            "_model_name": "LayoutModel",
            "_view_count": null,
            "_view_module": "@jupyter-widgets/base",
            "_view_module_version": "1.2.0",
            "_view_name": "LayoutView",
            "align_content": null,
            "align_items": null,
            "align_self": null,
            "border": null,
            "bottom": null,
            "display": null,
            "flex": null,
            "flex_flow": null,
            "grid_area": null,
            "grid_auto_columns": null,
            "grid_auto_flow": null,
            "grid_auto_rows": null,
            "grid_column": null,
            "grid_gap": null,
            "grid_row": null,
            "grid_template_areas": null,
            "grid_template_columns": null,
            "grid_template_rows": null,
            "height": "18px",
            "justify_content": null,
            "justify_items": null,
            "left": null,
            "margin": null,
            "max_height": null,
            "max_width": null,
            "min_height": null,
            "min_width": null,
            "object_fit": null,
            "object_position": null,
            "order": null,
            "overflow": null,
            "overflow_x": null,
            "overflow_y": null,
            "padding": null,
            "right": null,
            "top": null,
            "visibility": null,
            "width": "140px"
          }
        },
        "c6c8e7a0fa4a4764929a41bec6da96fe": {
          "model_module": "@jupyter-widgets/controls",
          "model_module_version": "1.5.0",
          "model_name": "ButtonModel",
          "state": {
            "_dom_classes": [],
            "_model_module": "@jupyter-widgets/controls",
            "_model_module_version": "1.5.0",
            "_model_name": "ButtonModel",
            "_view_count": null,
            "_view_module": "@jupyter-widgets/controls",
            "_view_module_version": "1.5.0",
            "_view_name": "ButtonView",
            "button_style": "",
            "description": "",
            "disabled": false,
            "icon": "times",
            "layout": "IPY_MODEL_991a6d9f4d47436798e6059edcbb6d49",
            "style": "IPY_MODEL_b02fa02652ef42119ed7e577450c4721",
            "tooltip": "Loaded"
          }
        },
        "c6cbbbb7c290416a83f1d327ec27aaf1": {
          "model_module": "@jupyter-widgets/controls",
          "model_module_version": "1.5.0",
          "model_name": "SliderStyleModel",
          "state": {
            "_model_module": "@jupyter-widgets/controls",
            "_model_module_version": "1.5.0",
            "_model_name": "SliderStyleModel",
            "_view_count": null,
            "_view_module": "@jupyter-widgets/base",
            "_view_module_version": "1.2.0",
            "_view_name": "StyleView",
            "description_width": "",
            "handle_color": null
          }
        },
        "c6ccb290a2bf49038ad5f06f553a7554": {
          "model_module": "@jupyter-widgets/controls",
          "model_module_version": "1.5.0",
          "model_name": "CheckboxModel",
          "state": {
            "_dom_classes": [],
            "_model_module": "@jupyter-widgets/controls",
            "_model_module_version": "1.5.0",
            "_model_name": "CheckboxModel",
            "_view_count": null,
            "_view_module": "@jupyter-widgets/controls",
            "_view_module_version": "1.5.0",
            "_view_name": "CheckboxView",
            "description": "postVH",
            "description_tooltip": null,
            "disabled": false,
            "indent": false,
            "layout": "IPY_MODEL_5fb6d5a094384648bf72a0e4f867715f",
            "style": "IPY_MODEL_6df219749cea4b549b14ae9e16ba5780",
            "value": false
          }
        },
        "c70fd3f8861e45a1b2b7c4d1fe4b98fe": {
          "model_module": "@jupyter-widgets/base",
          "model_module_version": "1.2.0",
          "model_name": "LayoutModel",
          "state": {
            "_model_module": "@jupyter-widgets/base",
            "_model_module_version": "1.2.0",
            "_model_name": "LayoutModel",
            "_view_count": null,
            "_view_module": "@jupyter-widgets/base",
            "_view_module_version": "1.2.0",
            "_view_name": "LayoutView",
            "align_content": null,
            "align_items": null,
            "align_self": null,
            "border": null,
            "bottom": null,
            "display": null,
            "flex": null,
            "flex_flow": null,
            "grid_area": null,
            "grid_auto_columns": null,
            "grid_auto_flow": null,
            "grid_auto_rows": null,
            "grid_column": null,
            "grid_gap": null,
            "grid_row": null,
            "grid_template_areas": null,
            "grid_template_columns": null,
            "grid_template_rows": null,
            "height": null,
            "justify_content": null,
            "justify_items": null,
            "left": null,
            "margin": null,
            "max_height": null,
            "max_width": null,
            "min_height": null,
            "min_width": null,
            "object_fit": null,
            "object_position": null,
            "order": null,
            "overflow": null,
            "overflow_x": null,
            "overflow_y": null,
            "padding": null,
            "right": null,
            "top": null,
            "visibility": null,
            "width": null
          }
        },
        "c84aaa9780d84d7eb59903c89baa07a0": {
          "model_module": "@jupyter-widgets/controls",
          "model_module_version": "1.5.0",
          "model_name": "CheckboxModel",
          "state": {
            "_dom_classes": [],
            "_model_module": "@jupyter-widgets/controls",
            "_model_module_version": "1.5.0",
            "_model_name": "CheckboxModel",
            "_view_count": null,
            "_view_module": "@jupyter-widgets/controls",
            "_view_module_version": "1.5.0",
            "_view_name": "CheckboxView",
            "description": "diffVV",
            "description_tooltip": null,
            "disabled": false,
            "indent": false,
            "layout": "IPY_MODEL_5913c6db0b864e248ba758a37388b73b",
            "style": "IPY_MODEL_19b6a05cb3d84b48bb132a79e7a6ad97",
            "value": false
          }
        },
        "c9c018ca05d94afb8b3a471908d5f328": {
          "model_module": "@jupyter-widgets/base",
          "model_module_version": "1.2.0",
          "model_name": "LayoutModel",
          "state": {
            "_model_module": "@jupyter-widgets/base",
            "_model_module_version": "1.2.0",
            "_model_name": "LayoutModel",
            "_view_count": null,
            "_view_module": "@jupyter-widgets/base",
            "_view_module_version": "1.2.0",
            "_view_name": "LayoutView",
            "align_content": null,
            "align_items": null,
            "align_self": null,
            "border": null,
            "bottom": null,
            "display": null,
            "flex": null,
            "flex_flow": null,
            "grid_area": null,
            "grid_auto_columns": null,
            "grid_auto_flow": null,
            "grid_auto_rows": null,
            "grid_column": null,
            "grid_gap": null,
            "grid_row": null,
            "grid_template_areas": null,
            "grid_template_columns": null,
            "grid_template_rows": null,
            "height": "18px",
            "justify_content": null,
            "justify_items": null,
            "left": null,
            "margin": null,
            "max_height": null,
            "max_width": null,
            "min_height": null,
            "min_width": null,
            "object_fit": null,
            "object_position": null,
            "order": null,
            "overflow": null,
            "overflow_x": null,
            "overflow_y": null,
            "padding": null,
            "right": null,
            "top": null,
            "visibility": null,
            "width": "140px"
          }
        },
        "ca15f715a6014180be975f3c99dc91ad": {
          "model_module": "@jupyter-widgets/base",
          "model_module_version": "1.2.0",
          "model_name": "LayoutModel",
          "state": {
            "_model_module": "@jupyter-widgets/base",
            "_model_module_version": "1.2.0",
            "_model_name": "LayoutModel",
            "_view_count": null,
            "_view_module": "@jupyter-widgets/base",
            "_view_module_version": "1.2.0",
            "_view_name": "LayoutView",
            "align_content": null,
            "align_items": null,
            "align_self": null,
            "border": null,
            "bottom": null,
            "display": null,
            "flex": null,
            "flex_flow": null,
            "grid_area": null,
            "grid_auto_columns": null,
            "grid_auto_flow": null,
            "grid_auto_rows": null,
            "grid_column": null,
            "grid_gap": null,
            "grid_row": null,
            "grid_template_areas": null,
            "grid_template_columns": null,
            "grid_template_rows": null,
            "height": null,
            "justify_content": null,
            "justify_items": null,
            "left": null,
            "margin": null,
            "max_height": null,
            "max_width": null,
            "min_height": null,
            "min_width": null,
            "object_fit": null,
            "object_position": null,
            "order": null,
            "overflow": null,
            "overflow_x": null,
            "overflow_y": null,
            "padding": "0px 4px 0px 4px",
            "right": null,
            "top": null,
            "visibility": null,
            "width": null
          }
        },
        "cbc177a48ebe4e4bba6b64078edc33aa": {
          "model_module": "@jupyter-widgets/controls",
          "model_module_version": "1.5.0",
          "model_name": "FloatSliderModel",
          "state": {
            "_dom_classes": [],
            "_model_module": "@jupyter-widgets/controls",
            "_model_module_version": "1.5.0",
            "_model_name": "FloatSliderModel",
            "_view_count": null,
            "_view_module": "@jupyter-widgets/controls",
            "_view_module_version": "1.5.0",
            "_view_name": "FloatSliderView",
            "continuous_update": true,
            "description": "",
            "description_tooltip": null,
            "disabled": false,
            "layout": "IPY_MODEL_e27c9b86b47349caaa28f823c8703a3b",
            "max": 1,
            "min": 0,
            "orientation": "horizontal",
            "readout": false,
            "readout_format": ".2f",
            "step": 0.01,
            "style": "IPY_MODEL_fd6312a8ad1b4ca39a795003c873a991",
            "value": 1
          }
        },
        "cbe401de900540caae60128893c165b3": {
          "model_module": "jupyter-leaflet",
          "model_module_version": "^0.19",
          "model_name": "LeafletTileLayerModel",
          "state": {
            "_model_module": "jupyter-leaflet",
            "_model_module_version": "^0.19",
            "_model_name": "LeafletTileLayerModel",
            "_view_count": null,
            "_view_module": "jupyter-leaflet",
            "_view_module_version": "^0.19",
            "_view_name": "LeafletTileLayerView",
            "attribution": "Google Earth Engine",
            "base": false,
            "bottom": true,
            "bounds": null,
            "detect_retina": false,
            "loading": false,
            "max_native_zoom": null,
            "max_zoom": 24,
            "min_native_zoom": null,
            "min_zoom": 0,
            "name": "postVV",
            "no_wrap": false,
            "opacity": 1,
            "options": [
              "attribution",
              "bounds",
              "detect_retina",
              "max_native_zoom",
              "max_zoom",
              "min_native_zoom",
              "min_zoom",
              "no_wrap",
              "tile_size",
              "tms",
              "zoom_offset"
            ],
            "pane": "",
            "popup": null,
            "popup_max_height": null,
            "popup_max_width": 300,
            "popup_min_width": 50,
            "show_loading": false,
            "subitems": [],
            "tile_size": 256,
            "tms": false,
            "url": "https://earthengine.googleapis.com/v1/projects/ee-lorenava-learning-sar/maps/ea821726ae2e5157ebe6195c6f5ba79b-4857aa2666a23a0dd76d8e5cb5999e51/tiles/{z}/{x}/{y}",
            "visible": false,
            "zoom_offset": 0
          }
        },
        "cc6b2c3d09fe483f875f2497e6bcb8ed": {
          "model_module": "jupyter-leaflet",
          "model_module_version": "^0.19",
          "model_name": "LeafletMeasureControlModel",
          "state": {
            "_custom_units": {},
            "_model_module": "jupyter-leaflet",
            "_model_module_version": "^0.19",
            "_model_name": "LeafletMeasureControlModel",
            "_view_count": null,
            "_view_module": "jupyter-leaflet",
            "_view_module_version": "^0.19",
            "_view_name": "LeafletMeasureControlView",
            "active_color": "orange",
            "capture_z_index": 10000,
            "completed_color": "#C8F2BE",
            "options": [
              "active_color",
              "capture_z_index",
              "completed_color",
              "popup_options",
              "position",
              "primary_area_unit",
              "primary_length_unit",
              "secondary_area_unit",
              "secondary_length_unit"
            ],
            "popup_options": {
              "autoPanPadding": [
                10,
                10
              ],
              "className": "leaflet-measure-resultpopup"
            },
            "position": "bottomleft",
            "primary_area_unit": "acres",
            "primary_length_unit": "kilometers",
            "secondary_area_unit": null,
            "secondary_length_unit": null
          }
        },
        "cd0bebae69ec4c589dbfdab6886afa4d": {
          "model_module": "@jupyter-widgets/base",
          "model_module_version": "1.2.0",
          "model_name": "LayoutModel",
          "state": {
            "_model_module": "@jupyter-widgets/base",
            "_model_module_version": "1.2.0",
            "_model_name": "LayoutModel",
            "_view_count": null,
            "_view_module": "@jupyter-widgets/base",
            "_view_module_version": "1.2.0",
            "_view_name": "LayoutView",
            "align_content": null,
            "align_items": null,
            "align_self": null,
            "border": null,
            "bottom": null,
            "display": null,
            "flex": null,
            "flex_flow": null,
            "grid_area": null,
            "grid_auto_columns": null,
            "grid_auto_flow": null,
            "grid_auto_rows": null,
            "grid_column": null,
            "grid_gap": null,
            "grid_row": null,
            "grid_template_areas": null,
            "grid_template_columns": null,
            "grid_template_rows": null,
            "height": null,
            "justify_content": null,
            "justify_items": null,
            "left": null,
            "margin": null,
            "max_height": null,
            "max_width": null,
            "min_height": null,
            "min_width": null,
            "object_fit": null,
            "object_position": null,
            "order": null,
            "overflow": null,
            "overflow_x": null,
            "overflow_y": null,
            "padding": "0px 3px 0px 0px",
            "right": null,
            "top": null,
            "visibility": null,
            "width": "70px"
          }
        },
        "cd77ea5f5f09455eb185c75d8397fa0d": {
          "model_module": "@jupyter-widgets/controls",
          "model_module_version": "1.5.0",
          "model_name": "HTMLModel",
          "state": {
            "_dom_classes": [],
            "_model_module": "@jupyter-widgets/controls",
            "_model_module_version": "1.5.0",
            "_model_name": "HTMLModel",
            "_view_count": null,
            "_view_module": "@jupyter-widgets/controls",
            "_view_module_version": "1.5.0",
            "_view_name": "HTMLView",
            "description": "",
            "description_tooltip": null,
            "layout": "IPY_MODEL_eee32e0a7b644487af7b549f3e324466",
            "placeholder": "​",
            "style": "IPY_MODEL_883741548f06494aa2cc29d7032a27a4",
            "value": ""
          }
        },
        "cdc63bd78d444f0bba05a9a3b662713a": {
          "model_module": "@jupyter-widgets/controls",
          "model_module_version": "1.5.0",
          "model_name": "DescriptionStyleModel",
          "state": {
            "_model_module": "@jupyter-widgets/controls",
            "_model_module_version": "1.5.0",
            "_model_name": "DescriptionStyleModel",
            "_view_count": null,
            "_view_module": "@jupyter-widgets/base",
            "_view_module_version": "1.2.0",
            "_view_name": "StyleView",
            "description_width": ""
          }
        },
        "ce60d533095a488991a8b783a4a11115": {
          "model_module": "@jupyter-widgets/controls",
          "model_module_version": "1.5.0",
          "model_name": "CheckboxModel",
          "state": {
            "_dom_classes": [],
            "_model_module": "@jupyter-widgets/controls",
            "_model_module_version": "1.5.0",
            "_model_name": "CheckboxModel",
            "_view_count": null,
            "_view_module": "@jupyter-widgets/controls",
            "_view_module_version": "1.5.0",
            "_view_name": "CheckboxView",
            "description": "Esri.WorldImagery",
            "description_tooltip": null,
            "disabled": false,
            "indent": false,
            "layout": "IPY_MODEL_a8ee95a145f04abb8f18c2e9b7745651",
            "style": "IPY_MODEL_2a71cc5ef29c4a918f49194cafdb639e",
            "value": true
          }
        },
        "cfac1182b9134bfda9650fece599f5f6": {
          "model_module": "@jupyter-widgets/base",
          "model_module_version": "1.2.0",
          "model_name": "LayoutModel",
          "state": {
            "_model_module": "@jupyter-widgets/base",
            "_model_module_version": "1.2.0",
            "_model_name": "LayoutModel",
            "_view_count": null,
            "_view_module": "@jupyter-widgets/base",
            "_view_module_version": "1.2.0",
            "_view_name": "LayoutView",
            "align_content": null,
            "align_items": null,
            "align_self": null,
            "border": null,
            "bottom": null,
            "display": null,
            "flex": null,
            "flex_flow": null,
            "grid_area": null,
            "grid_auto_columns": null,
            "grid_auto_flow": null,
            "grid_auto_rows": null,
            "grid_column": null,
            "grid_gap": null,
            "grid_row": null,
            "grid_template_areas": null,
            "grid_template_columns": null,
            "grid_template_rows": null,
            "height": "25px",
            "justify_content": null,
            "justify_items": null,
            "left": null,
            "margin": null,
            "max_height": null,
            "max_width": null,
            "min_height": null,
            "min_width": null,
            "object_fit": null,
            "object_position": null,
            "order": null,
            "overflow": null,
            "overflow_x": null,
            "overflow_y": null,
            "padding": "0px",
            "right": null,
            "top": null,
            "visibility": null,
            "width": "25px"
          }
        },
        "d03279c5217c41b3a60e45b8c9d53684": {
          "model_module": "@jupyter-widgets/controls",
          "model_module_version": "1.5.0",
          "model_name": "DescriptionStyleModel",
          "state": {
            "_model_module": "@jupyter-widgets/controls",
            "_model_module_version": "1.5.0",
            "_model_name": "DescriptionStyleModel",
            "_view_count": null,
            "_view_module": "@jupyter-widgets/base",
            "_view_module_version": "1.2.0",
            "_view_name": "StyleView",
            "description_width": ""
          }
        },
        "d1042dd7a9f04d819308cc3d763f6983": {
          "model_module": "@jupyter-widgets/controls",
          "model_module_version": "1.5.0",
          "model_name": "ToggleButtonModel",
          "state": {
            "_dom_classes": [],
            "_model_module": "@jupyter-widgets/controls",
            "_model_module_version": "1.5.0",
            "_model_name": "ToggleButtonModel",
            "_view_count": null,
            "_view_module": "@jupyter-widgets/controls",
            "_view_module_version": "1.5.0",
            "_view_name": "ToggleButtonView",
            "button_style": "",
            "description": "",
            "description_tooltip": null,
            "disabled": false,
            "icon": "server",
            "layout": "IPY_MODEL_556f33adbec641dfa393c7c97a27ccae",
            "style": "IPY_MODEL_6c2723db7b4b4711964c0bf931fed6c0",
            "tooltip": "Layers",
            "value": true
          }
        },
        "d315e929a9bb4812a4dce4a9d6a7f911": {
          "model_module": "@jupyter-widgets/controls",
          "model_module_version": "1.5.0",
          "model_name": "ButtonStyleModel",
          "state": {
            "_model_module": "@jupyter-widgets/controls",
            "_model_module_version": "1.5.0",
            "_model_name": "ButtonStyleModel",
            "_view_count": null,
            "_view_module": "@jupyter-widgets/base",
            "_view_module_version": "1.2.0",
            "_view_name": "StyleView",
            "button_color": null,
            "font_weight": ""
          }
        },
        "d4514804f7894487b0dba1775afe1652": {
          "model_module": "@jupyter-widgets/controls",
          "model_module_version": "1.5.0",
          "model_name": "HBoxModel",
          "state": {
            "_dom_classes": [],
            "_model_module": "@jupyter-widgets/controls",
            "_model_module_version": "1.5.0",
            "_model_name": "HBoxModel",
            "_view_count": null,
            "_view_module": "@jupyter-widgets/controls",
            "_view_module_version": "1.5.0",
            "_view_name": "HBoxView",
            "box_style": "",
            "children": [
              "IPY_MODEL_e3072a0c7af84809b4b70ee1f1b182f7",
              "IPY_MODEL_13b3449ae45245eda48a825d317ea5ea",
              "IPY_MODEL_a68d9d6e0a624178ba523e846af4f806",
              "IPY_MODEL_6bd6ca046d3b444b8416522a8a4e6fd6"
            ],
            "layout": "IPY_MODEL_ed1ab0d9431240209cd3b97186aca408"
          }
        },
        "d5a0c0228695413f85d179d04e8547cb": {
          "model_module": "@jupyter-widgets/controls",
          "model_module_version": "1.5.0",
          "model_name": "ButtonStyleModel",
          "state": {
            "_model_module": "@jupyter-widgets/controls",
            "_model_module_version": "1.5.0",
            "_model_name": "ButtonStyleModel",
            "_view_count": null,
            "_view_module": "@jupyter-widgets/base",
            "_view_module_version": "1.2.0",
            "_view_name": "StyleView",
            "button_color": null,
            "font_weight": ""
          }
        },
        "d7803f51c12c456489be28f0feb23604": {
          "model_module": "@jupyter-widgets/controls",
          "model_module_version": "1.5.0",
          "model_name": "ButtonStyleModel",
          "state": {
            "_model_module": "@jupyter-widgets/controls",
            "_model_module_version": "1.5.0",
            "_model_name": "ButtonStyleModel",
            "_view_count": null,
            "_view_module": "@jupyter-widgets/base",
            "_view_module_version": "1.2.0",
            "_view_name": "StyleView",
            "button_color": null,
            "font_weight": ""
          }
        },
        "d7c5ce737c3b4e6da0f6e50c946f355a": {
          "model_module": "@jupyter-widgets/base",
          "model_module_version": "1.2.0",
          "model_name": "LayoutModel",
          "state": {
            "_model_module": "@jupyter-widgets/base",
            "_model_module_version": "1.2.0",
            "_model_name": "LayoutModel",
            "_view_count": null,
            "_view_module": "@jupyter-widgets/base",
            "_view_module_version": "1.2.0",
            "_view_name": "LayoutView",
            "align_content": null,
            "align_items": null,
            "align_self": null,
            "border": null,
            "bottom": null,
            "display": null,
            "flex": null,
            "flex_flow": null,
            "grid_area": null,
            "grid_auto_columns": null,
            "grid_auto_flow": null,
            "grid_auto_rows": null,
            "grid_column": null,
            "grid_gap": null,
            "grid_row": null,
            "grid_template_areas": null,
            "grid_template_columns": null,
            "grid_template_rows": null,
            "height": null,
            "justify_content": null,
            "justify_items": null,
            "left": null,
            "margin": null,
            "max_height": null,
            "max_width": null,
            "min_height": null,
            "min_width": null,
            "object_fit": null,
            "object_position": null,
            "order": null,
            "overflow": null,
            "overflow_x": null,
            "overflow_y": null,
            "padding": "0px 4px 0px 4px",
            "right": null,
            "top": null,
            "visibility": null,
            "width": null
          }
        },
        "d8b95c77fc7945439333658b69c8c8ef": {
          "model_module": "@jupyter-widgets/controls",
          "model_module_version": "1.5.0",
          "model_name": "ButtonStyleModel",
          "state": {
            "_model_module": "@jupyter-widgets/controls",
            "_model_module_version": "1.5.0",
            "_model_name": "ButtonStyleModel",
            "_view_count": null,
            "_view_module": "@jupyter-widgets/base",
            "_view_module_version": "1.2.0",
            "_view_name": "StyleView",
            "button_color": null,
            "font_weight": ""
          }
        },
        "d94dc72a4647493c8dda4446d0be1624": {
          "model_module": "jupyter-leaflet",
          "model_module_version": "^0.19",
          "model_name": "LeafletTileLayerModel",
          "state": {
            "_model_module": "jupyter-leaflet",
            "_model_module_version": "^0.19",
            "_model_name": "LeafletTileLayerModel",
            "_view_count": null,
            "_view_module": "jupyter-leaflet",
            "_view_module_version": "^0.19",
            "_view_name": "LeafletTileLayerView",
            "attribution": "&copy; <a href=\"https://www.openstreetmap.org/copyright\">OpenStreetMap</a> contributors",
            "base": true,
            "bottom": true,
            "bounds": null,
            "detect_retina": false,
            "loading": false,
            "max_native_zoom": null,
            "max_zoom": 30,
            "min_native_zoom": null,
            "min_zoom": 1,
            "name": "OpenStreetMap.Mapnik",
            "no_wrap": false,
            "opacity": 1,
            "options": [
              "attribution",
              "bounds",
              "detect_retina",
              "max_native_zoom",
              "max_zoom",
              "min_native_zoom",
              "min_zoom",
              "no_wrap",
              "tile_size",
              "tms",
              "zoom_offset"
            ],
            "pane": "",
            "popup": null,
            "popup_max_height": null,
            "popup_max_width": 300,
            "popup_min_width": 50,
            "show_loading": false,
            "subitems": [],
            "tile_size": 256,
            "tms": false,
            "url": "https://tile.openstreetmap.org/{z}/{x}/{y}.png",
            "visible": true,
            "zoom_offset": 0
          }
        },
        "d969985efd2b4c64ba597743faef1b9b": {
          "model_module": "@jupyter-widgets/controls",
          "model_module_version": "1.5.0",
          "model_name": "ButtonModel",
          "state": {
            "_dom_classes": [],
            "_model_module": "@jupyter-widgets/controls",
            "_model_module_version": "1.5.0",
            "_model_name": "ButtonModel",
            "_view_count": null,
            "_view_module": "@jupyter-widgets/controls",
            "_view_module_version": "1.5.0",
            "_view_name": "ButtonView",
            "button_style": "",
            "description": "",
            "disabled": false,
            "icon": "gear",
            "layout": "IPY_MODEL_0b9e5e23e7d44a1c9c862836d21ce6fa",
            "style": "IPY_MODEL_b60e24ab64bb46178b070e29cbf71baf",
            "tooltip": "Sentinel-2 RGB"
          }
        },
        "da338aeb552a452dbe2730d46e56c9f0": {
          "model_module": "jupyter-leaflet",
          "model_module_version": "^0.19",
          "model_name": "LeafletTileLayerModel",
          "state": {
            "_model_module": "jupyter-leaflet",
            "_model_module_version": "^0.19",
            "_model_name": "LeafletTileLayerModel",
            "_view_count": null,
            "_view_module": "jupyter-leaflet",
            "_view_module_version": "^0.19",
            "_view_name": "LeafletTileLayerView",
            "attribution": "Google Earth Engine",
            "base": false,
            "bottom": true,
            "bounds": null,
            "detect_retina": false,
            "loading": false,
            "max_native_zoom": null,
            "max_zoom": 24,
            "min_native_zoom": null,
            "min_zoom": 0,
            "name": "Sentinel-2 RGB",
            "no_wrap": false,
            "opacity": 1,
            "options": [
              "attribution",
              "bounds",
              "detect_retina",
              "max_native_zoom",
              "max_zoom",
              "min_native_zoom",
              "min_zoom",
              "no_wrap",
              "tile_size",
              "tms",
              "zoom_offset"
            ],
            "pane": "",
            "popup": null,
            "popup_max_height": null,
            "popup_max_width": 300,
            "popup_min_width": 50,
            "show_loading": false,
            "subitems": [],
            "tile_size": 256,
            "tms": false,
            "url": "https://earthengine.googleapis.com/v1/projects/ee-lorenava-learning-sar/maps/38f40e97f84dee60440a64359c115a3a-da1d87a8e6fc737aa2d1cd99cbfad05f/tiles/{z}/{x}/{y}",
            "visible": true,
            "zoom_offset": 0
          }
        },
        "da4798e6375441edb0d6eb1108ba7586": {
          "model_module": "@jupyter-widgets/base",
          "model_module_version": "1.2.0",
          "model_name": "LayoutModel",
          "state": {
            "_model_module": "@jupyter-widgets/base",
            "_model_module_version": "1.2.0",
            "_model_name": "LayoutModel",
            "_view_count": null,
            "_view_module": "@jupyter-widgets/base",
            "_view_module_version": "1.2.0",
            "_view_name": "LayoutView",
            "align_content": null,
            "align_items": null,
            "align_self": null,
            "border": null,
            "bottom": null,
            "display": null,
            "flex": null,
            "flex_flow": null,
            "grid_area": null,
            "grid_auto_columns": null,
            "grid_auto_flow": null,
            "grid_auto_rows": null,
            "grid_column": null,
            "grid_gap": null,
            "grid_row": null,
            "grid_template_areas": null,
            "grid_template_columns": null,
            "grid_template_rows": null,
            "height": null,
            "justify_content": null,
            "justify_items": null,
            "left": null,
            "margin": null,
            "max_height": null,
            "max_width": null,
            "min_height": null,
            "min_width": null,
            "object_fit": null,
            "object_position": null,
            "order": null,
            "overflow": null,
            "overflow_x": null,
            "overflow_y": null,
            "padding": "0px 4px 0px 4px",
            "right": null,
            "top": null,
            "visibility": null,
            "width": null
          }
        },
        "da6b92ca4b1346ae9f478d2453b13b92": {
          "model_module": "@jupyter-widgets/base",
          "model_module_version": "1.2.0",
          "model_name": "LayoutModel",
          "state": {
            "_model_module": "@jupyter-widgets/base",
            "_model_module_version": "1.2.0",
            "_model_name": "LayoutModel",
            "_view_count": null,
            "_view_module": "@jupyter-widgets/base",
            "_view_module_version": "1.2.0",
            "_view_name": "LayoutView",
            "align_content": null,
            "align_items": null,
            "align_self": null,
            "border": null,
            "bottom": null,
            "display": null,
            "flex": "2",
            "flex_flow": null,
            "grid_area": null,
            "grid_auto_columns": null,
            "grid_auto_flow": null,
            "grid_auto_rows": null,
            "grid_column": null,
            "grid_gap": null,
            "grid_row": null,
            "grid_template_areas": null,
            "grid_template_columns": null,
            "grid_template_rows": null,
            "height": null,
            "justify_content": null,
            "justify_items": null,
            "left": null,
            "margin": null,
            "max_height": null,
            "max_width": null,
            "min_height": null,
            "min_width": null,
            "object_fit": null,
            "object_position": null,
            "order": null,
            "overflow": null,
            "overflow_x": null,
            "overflow_y": null,
            "padding": null,
            "right": null,
            "top": null,
            "visibility": null,
            "width": null
          }
        },
        "dac34456596145b0a9c69a6e85448ad2": {
          "model_module": "@jupyter-widgets/controls",
          "model_module_version": "1.5.0",
          "model_name": "VBoxModel",
          "state": {
            "_dom_classes": [],
            "_model_module": "@jupyter-widgets/controls",
            "_model_module_version": "1.5.0",
            "_model_name": "VBoxModel",
            "_view_count": null,
            "_view_module": "@jupyter-widgets/controls",
            "_view_module_version": "1.5.0",
            "_view_name": "VBoxView",
            "box_style": "",
            "children": [
              "IPY_MODEL_3f93851231cd48568cbe15fdb30d8909"
            ],
            "layout": "IPY_MODEL_8a86f0b6a98045aeabc40c30e1e794e6"
          }
        },
        "dc77188a11a64bdf915cd7d583fb9876": {
          "model_module": "@jupyter-widgets/base",
          "model_module_version": "1.2.0",
          "model_name": "LayoutModel",
          "state": {
            "_model_module": "@jupyter-widgets/base",
            "_model_module_version": "1.2.0",
            "_model_name": "LayoutModel",
            "_view_count": null,
            "_view_module": "@jupyter-widgets/base",
            "_view_module_version": "1.2.0",
            "_view_name": "LayoutView",
            "align_content": null,
            "align_items": null,
            "align_self": null,
            "border": null,
            "bottom": null,
            "display": null,
            "flex": null,
            "flex_flow": null,
            "grid_area": null,
            "grid_auto_columns": null,
            "grid_auto_flow": null,
            "grid_auto_rows": null,
            "grid_column": null,
            "grid_gap": null,
            "grid_row": null,
            "grid_template_areas": null,
            "grid_template_columns": null,
            "grid_template_rows": null,
            "height": "28px",
            "justify_content": null,
            "justify_items": null,
            "left": null,
            "margin": null,
            "max_height": null,
            "max_width": null,
            "min_height": null,
            "min_width": null,
            "object_fit": null,
            "object_position": null,
            "order": null,
            "overflow": null,
            "overflow_x": null,
            "overflow_y": null,
            "padding": "0px 0px 0px 4px",
            "right": null,
            "top": null,
            "visibility": null,
            "width": "28px"
          }
        },
        "dc96e77493564b64aa322b8954897f0d": {
          "model_module": "jupyter-leaflet",
          "model_module_version": "^0.19",
          "model_name": "LeafletMapStyleModel",
          "state": {
            "_model_module": "jupyter-leaflet",
            "_model_module_version": "^0.19",
            "_model_name": "LeafletMapStyleModel",
            "_view_count": null,
            "_view_module": "@jupyter-widgets/base",
            "_view_module_version": "1.2.0",
            "_view_name": "StyleView",
            "cursor": "grab"
          }
        },
        "ddbe5c2a429946e1aa9c3f4dd14808a3": {
          "model_module": "@jupyter-widgets/base",
          "model_module_version": "1.2.0",
          "model_name": "LayoutModel",
          "state": {
            "_model_module": "@jupyter-widgets/base",
            "_model_module_version": "1.2.0",
            "_model_name": "LayoutModel",
            "_view_count": null,
            "_view_module": "@jupyter-widgets/base",
            "_view_module_version": "1.2.0",
            "_view_name": "LayoutView",
            "align_content": null,
            "align_items": null,
            "align_self": null,
            "border": null,
            "bottom": null,
            "display": null,
            "flex": null,
            "flex_flow": null,
            "grid_area": null,
            "grid_auto_columns": null,
            "grid_auto_flow": null,
            "grid_auto_rows": null,
            "grid_column": null,
            "grid_gap": null,
            "grid_row": null,
            "grid_template_areas": null,
            "grid_template_columns": null,
            "grid_template_rows": null,
            "height": "25px",
            "justify_content": null,
            "justify_items": null,
            "left": null,
            "margin": null,
            "max_height": null,
            "max_width": null,
            "min_height": null,
            "min_width": null,
            "object_fit": null,
            "object_position": null,
            "order": null,
            "overflow": null,
            "overflow_x": null,
            "overflow_y": null,
            "padding": "0px",
            "right": null,
            "top": null,
            "visibility": null,
            "width": "25px"
          }
        },
        "de17895e3fe048169c6763b2411f11a6": {
          "model_module": "@jupyter-widgets/controls",
          "model_module_version": "1.5.0",
          "model_name": "DescriptionStyleModel",
          "state": {
            "_model_module": "@jupyter-widgets/controls",
            "_model_module_version": "1.5.0",
            "_model_name": "DescriptionStyleModel",
            "_view_count": null,
            "_view_module": "@jupyter-widgets/base",
            "_view_module_version": "1.2.0",
            "_view_name": "StyleView",
            "description_width": ""
          }
        },
        "dff5331f3d5043c3915869c405b84c3a": {
          "model_module": "jupyter-leaflet",
          "model_module_version": "^0.19",
          "model_name": "LeafletMeasureControlModel",
          "state": {
            "_custom_units": {},
            "_model_module": "jupyter-leaflet",
            "_model_module_version": "^0.19",
            "_model_name": "LeafletMeasureControlModel",
            "_view_count": null,
            "_view_module": "jupyter-leaflet",
            "_view_module_version": "^0.19",
            "_view_name": "LeafletMeasureControlView",
            "active_color": "orange",
            "capture_z_index": 10000,
            "completed_color": "#C8F2BE",
            "options": [
              "active_color",
              "capture_z_index",
              "completed_color",
              "popup_options",
              "position",
              "primary_area_unit",
              "primary_length_unit",
              "secondary_area_unit",
              "secondary_length_unit"
            ],
            "popup_options": {
              "autoPanPadding": [
                10,
                10
              ],
              "className": "leaflet-measure-resultpopup"
            },
            "position": "bottomleft",
            "primary_area_unit": "acres",
            "primary_length_unit": "kilometers",
            "secondary_area_unit": null,
            "secondary_length_unit": null
          }
        },
        "e27c9b86b47349caaa28f823c8703a3b": {
          "model_module": "@jupyter-widgets/base",
          "model_module_version": "1.2.0",
          "model_name": "LayoutModel",
          "state": {
            "_model_module": "@jupyter-widgets/base",
            "_model_module_version": "1.2.0",
            "_model_name": "LayoutModel",
            "_view_count": null,
            "_view_module": "@jupyter-widgets/base",
            "_view_module_version": "1.2.0",
            "_view_name": "LayoutView",
            "align_content": null,
            "align_items": null,
            "align_self": null,
            "border": null,
            "bottom": null,
            "display": null,
            "flex": null,
            "flex_flow": null,
            "grid_area": null,
            "grid_auto_columns": null,
            "grid_auto_flow": null,
            "grid_auto_rows": null,
            "grid_column": null,
            "grid_gap": null,
            "grid_row": null,
            "grid_template_areas": null,
            "grid_template_columns": null,
            "grid_template_rows": null,
            "height": null,
            "justify_content": null,
            "justify_items": null,
            "left": null,
            "margin": null,
            "max_height": null,
            "max_width": null,
            "min_height": null,
            "min_width": null,
            "object_fit": null,
            "object_position": null,
            "order": null,
            "overflow": null,
            "overflow_x": null,
            "overflow_y": null,
            "padding": "0px 3px 0px 0px",
            "right": null,
            "top": null,
            "visibility": null,
            "width": "70px"
          }
        },
        "e29a233a6e5b49ff86a49da2e2aa56b0": {
          "model_module": "@jupyter-widgets/controls",
          "model_module_version": "1.5.0",
          "model_name": "DescriptionStyleModel",
          "state": {
            "_model_module": "@jupyter-widgets/controls",
            "_model_module_version": "1.5.0",
            "_model_name": "DescriptionStyleModel",
            "_view_count": null,
            "_view_module": "@jupyter-widgets/base",
            "_view_module_version": "1.2.0",
            "_view_name": "StyleView",
            "description_width": ""
          }
        },
        "e3072a0c7af84809b4b70ee1f1b182f7": {
          "model_module": "@jupyter-widgets/controls",
          "model_module_version": "1.5.0",
          "model_name": "CheckboxModel",
          "state": {
            "_dom_classes": [],
            "_model_module": "@jupyter-widgets/controls",
            "_model_module_version": "1.5.0",
            "_model_name": "CheckboxModel",
            "_view_count": null,
            "_view_module": "@jupyter-widgets/controls",
            "_view_module_version": "1.5.0",
            "_view_name": "CheckboxView",
            "description": "OpenStreetMap.Mapnik",
            "description_tooltip": null,
            "disabled": false,
            "indent": false,
            "layout": "IPY_MODEL_b513edf72f11438e8679a225e07b3081",
            "style": "IPY_MODEL_7a87d59c438446799edc37be1156fff7",
            "value": true
          }
        },
        "e31a3f5826854076af2449314ff508f9": {
          "model_module": "@jupyter-widgets/controls",
          "model_module_version": "1.5.0",
          "model_name": "HTMLModel",
          "state": {
            "_dom_classes": [],
            "_model_module": "@jupyter-widgets/controls",
            "_model_module_version": "1.5.0",
            "_model_name": "HTMLModel",
            "_view_count": null,
            "_view_module": "@jupyter-widgets/controls",
            "_view_module_version": "1.5.0",
            "_view_name": "HTMLView",
            "description": "",
            "description_tooltip": null,
            "layout": "IPY_MODEL_f5474df2ba9745c0bfe0fdbb2659bfe6",
            "placeholder": "​",
            "style": "IPY_MODEL_6f0746cfc29f43d9a0442679fcb71c52",
            "value": "VV_VH_DESCENDING__1.tif: "
          }
        },
        "e3bc0fa7487044828217ebf24bd7e25b": {
          "model_module": "@jupyter-widgets/controls",
          "model_module_version": "1.5.0",
          "model_name": "ToggleButtonModel",
          "state": {
            "_dom_classes": [],
            "_model_module": "@jupyter-widgets/controls",
            "_model_module_version": "1.5.0",
            "_model_name": "ToggleButtonModel",
            "_view_count": null,
            "_view_module": "@jupyter-widgets/controls",
            "_view_module_version": "1.5.0",
            "_view_name": "ToggleButtonView",
            "button_style": "",
            "description": "",
            "description_tooltip": null,
            "disabled": false,
            "icon": "times",
            "layout": "IPY_MODEL_5e4e0a2662b5414bbf479db8299d7b44",
            "style": "IPY_MODEL_de17895e3fe048169c6763b2411f11a6",
            "tooltip": "Close the tool",
            "value": false
          }
        },
        "e4a5d48232ec4bf4acf8433a9a63e425": {
          "model_module": "@jupyter-widgets/controls",
          "model_module_version": "1.5.0",
          "model_name": "ButtonStyleModel",
          "state": {
            "_model_module": "@jupyter-widgets/controls",
            "_model_module_version": "1.5.0",
            "_model_name": "ButtonStyleModel",
            "_view_count": null,
            "_view_module": "@jupyter-widgets/base",
            "_view_module_version": "1.2.0",
            "_view_name": "StyleView",
            "button_color": null,
            "font_weight": ""
          }
        },
        "e4eea34f43c34b0d992c73c6f77bed43": {
          "model_module": "jupyter-leaflet",
          "model_module_version": "^0.19",
          "model_name": "LeafletScaleControlModel",
          "state": {
            "_model_module": "jupyter-leaflet",
            "_model_module_version": "^0.19",
            "_model_name": "LeafletScaleControlModel",
            "_view_count": null,
            "_view_module": "jupyter-leaflet",
            "_view_module_version": "^0.19",
            "_view_name": "LeafletScaleControlView",
            "imperial": true,
            "max_width": 100,
            "metric": true,
            "options": [
              "imperial",
              "max_width",
              "metric",
              "position",
              "update_when_idle"
            ],
            "position": "bottomleft",
            "update_when_idle": false
          }
        },
        "e4ffa6432f354569bc53a737e0855817": {
          "model_module": "@jupyter-widgets/base",
          "model_module_version": "1.2.0",
          "model_name": "LayoutModel",
          "state": {
            "_model_module": "@jupyter-widgets/base",
            "_model_module_version": "1.2.0",
            "_model_name": "LayoutModel",
            "_view_count": null,
            "_view_module": "@jupyter-widgets/base",
            "_view_module_version": "1.2.0",
            "_view_name": "LayoutView",
            "align_content": null,
            "align_items": null,
            "align_self": null,
            "border": null,
            "bottom": null,
            "display": null,
            "flex": null,
            "flex_flow": null,
            "grid_area": null,
            "grid_auto_columns": null,
            "grid_auto_flow": null,
            "grid_auto_rows": null,
            "grid_column": null,
            "grid_gap": null,
            "grid_row": null,
            "grid_template_areas": null,
            "grid_template_columns": null,
            "grid_template_rows": null,
            "height": "28px",
            "justify_content": null,
            "justify_items": null,
            "left": null,
            "margin": null,
            "max_height": null,
            "max_width": null,
            "min_height": null,
            "min_width": null,
            "object_fit": null,
            "object_position": null,
            "order": null,
            "overflow": null,
            "overflow_x": null,
            "overflow_y": null,
            "padding": "0px 0px 0px 4px",
            "right": null,
            "top": null,
            "visibility": null,
            "width": "28px"
          }
        },
        "e614a46e2a02447db98c623166760467": {
          "model_module": "@jupyter-widgets/controls",
          "model_module_version": "1.5.0",
          "model_name": "CheckboxModel",
          "state": {
            "_dom_classes": [],
            "_model_module": "@jupyter-widgets/controls",
            "_model_module_version": "1.5.0",
            "_model_name": "CheckboxModel",
            "_view_count": null,
            "_view_module": "@jupyter-widgets/controls",
            "_view_module_version": "1.5.0",
            "_view_name": "CheckboxView",
            "description": "OpenStreetMap.Mapnik",
            "description_tooltip": null,
            "disabled": false,
            "indent": false,
            "layout": "IPY_MODEL_c6b461a4c0e54c9798cea0b75425b889",
            "style": "IPY_MODEL_174782e5be1743d2902a3137959b9fb1",
            "value": true
          }
        },
        "e676f54615d6487993c892ef681e4e35": {
          "model_module": "@jupyter-widgets/base",
          "model_module_version": "1.2.0",
          "model_name": "LayoutModel",
          "state": {
            "_model_module": "@jupyter-widgets/base",
            "_model_module_version": "1.2.0",
            "_model_name": "LayoutModel",
            "_view_count": null,
            "_view_module": "@jupyter-widgets/base",
            "_view_module_version": "1.2.0",
            "_view_name": "LayoutView",
            "align_content": null,
            "align_items": null,
            "align_self": null,
            "border": null,
            "bottom": null,
            "display": null,
            "flex": null,
            "flex_flow": null,
            "grid_area": null,
            "grid_auto_columns": null,
            "grid_auto_flow": null,
            "grid_auto_rows": null,
            "grid_column": null,
            "grid_gap": null,
            "grid_row": null,
            "grid_template_areas": null,
            "grid_template_columns": null,
            "grid_template_rows": null,
            "height": null,
            "justify_content": null,
            "justify_items": null,
            "left": null,
            "margin": null,
            "max_height": null,
            "max_width": null,
            "min_height": null,
            "min_width": null,
            "object_fit": null,
            "object_position": null,
            "order": null,
            "overflow": null,
            "overflow_x": null,
            "overflow_y": null,
            "padding": null,
            "right": null,
            "top": null,
            "visibility": null,
            "width": null
          }
        },
        "e69da780ef4c4106b802e6fcc4878d12": {
          "model_module": "@jupyter-widgets/base",
          "model_module_version": "1.2.0",
          "model_name": "LayoutModel",
          "state": {
            "_model_module": "@jupyter-widgets/base",
            "_model_module_version": "1.2.0",
            "_model_name": "LayoutModel",
            "_view_count": null,
            "_view_module": "@jupyter-widgets/base",
            "_view_module_version": "1.2.0",
            "_view_name": "LayoutView",
            "align_content": null,
            "align_items": null,
            "align_self": null,
            "border": null,
            "bottom": null,
            "display": null,
            "flex": null,
            "flex_flow": null,
            "grid_area": null,
            "grid_auto_columns": null,
            "grid_auto_flow": null,
            "grid_auto_rows": null,
            "grid_column": null,
            "grid_gap": null,
            "grid_row": null,
            "grid_template_areas": null,
            "grid_template_columns": null,
            "grid_template_rows": null,
            "height": null,
            "justify_content": null,
            "justify_items": null,
            "left": null,
            "margin": null,
            "max_height": null,
            "max_width": null,
            "min_height": null,
            "min_width": null,
            "object_fit": null,
            "object_position": null,
            "order": null,
            "overflow": null,
            "overflow_x": null,
            "overflow_y": null,
            "padding": "0px 3px 0px 0px",
            "right": null,
            "top": null,
            "visibility": null,
            "width": "70px"
          }
        },
        "e701e36e8ff143bca4f7c551ba311afb": {
          "model_module": "@jupyter-widgets/controls",
          "model_module_version": "1.5.0",
          "model_name": "SliderStyleModel",
          "state": {
            "_model_module": "@jupyter-widgets/controls",
            "_model_module_version": "1.5.0",
            "_model_name": "SliderStyleModel",
            "_view_count": null,
            "_view_module": "@jupyter-widgets/base",
            "_view_module_version": "1.2.0",
            "_view_name": "StyleView",
            "description_width": "",
            "handle_color": null
          }
        },
        "e7c02cfca66f4594b0379b763663f77c": {
          "model_module": "@jupyter-widgets/controls",
          "model_module_version": "1.5.0",
          "model_name": "HBoxModel",
          "state": {
            "_dom_classes": [],
            "_model_module": "@jupyter-widgets/controls",
            "_model_module_version": "1.5.0",
            "_model_name": "HBoxModel",
            "_view_count": null,
            "_view_module": "@jupyter-widgets/controls",
            "_view_module_version": "1.5.0",
            "_view_name": "HBoxView",
            "box_style": "",
            "children": [
              "IPY_MODEL_a72469a2c94f45779f54a15c1a5edb54",
              "IPY_MODEL_4da9e66833014f95a3d6874a2eaaa113",
              "IPY_MODEL_f203bbd3c2914308a8b49c31792b7872",
              "IPY_MODEL_858b9083bff145bcbaa9c96ccbe0aeed"
            ],
            "layout": "IPY_MODEL_994c547c7caf470793f9df3006a44e3f"
          }
        },
        "e846ae5dbfe44712af04b0fc007919b4": {
          "model_module": "@jupyter-widgets/controls",
          "model_module_version": "1.5.0",
          "model_name": "ButtonModel",
          "state": {
            "_dom_classes": [],
            "_model_module": "@jupyter-widgets/controls",
            "_model_module_version": "1.5.0",
            "_model_name": "ButtonModel",
            "_view_count": null,
            "_view_module": "@jupyter-widgets/controls",
            "_view_module_version": "1.5.0",
            "_view_name": "ButtonView",
            "button_style": "",
            "description": "",
            "disabled": false,
            "icon": "times",
            "layout": "IPY_MODEL_01fc59844ead44f69301894ebdfb6843",
            "style": "IPY_MODEL_37e66666a82744c3b01e02dfbbe5ae24",
            "tooltip": "Loaded"
          }
        },
        "e8a8fc8429b747af883f0291f6d31d1b": {
          "model_module": "@jupyter-widgets/controls",
          "model_module_version": "1.5.0",
          "model_name": "ButtonModel",
          "state": {
            "_dom_classes": [],
            "_model_module": "@jupyter-widgets/controls",
            "_model_module_version": "1.5.0",
            "_model_name": "ButtonModel",
            "_view_count": null,
            "_view_module": "@jupyter-widgets/controls",
            "_view_module_version": "1.5.0",
            "_view_name": "ButtonView",
            "button_style": "",
            "description": "",
            "disabled": false,
            "icon": "times",
            "layout": "IPY_MODEL_b63431ff30b64a478ace63bc7b643e2f",
            "style": "IPY_MODEL_a247801408c54ae0ac6fd1b4be9a5123",
            "tooltip": "Loaded"
          }
        },
        "e9306e025eea422ab425c87d7c771b77": {
          "model_module": "@jupyter-widgets/controls",
          "model_module_version": "1.5.0",
          "model_name": "DescriptionStyleModel",
          "state": {
            "_model_module": "@jupyter-widgets/controls",
            "_model_module_version": "1.5.0",
            "_model_name": "DescriptionStyleModel",
            "_view_count": null,
            "_view_module": "@jupyter-widgets/base",
            "_view_module_version": "1.2.0",
            "_view_name": "StyleView",
            "description_width": ""
          }
        },
        "eb0e5ad1a2f245aeb42eadf2bf21c1bf": {
          "model_module": "jupyter-leaflet",
          "model_module_version": "^0.19",
          "model_name": "LeafletWidgetControlModel",
          "state": {
            "_model_module": "jupyter-leaflet",
            "_model_module_version": "^0.19",
            "_model_name": "LeafletWidgetControlModel",
            "_view_count": null,
            "_view_module": "jupyter-leaflet",
            "_view_module_version": "^0.19",
            "_view_name": "LeafletWidgetControlView",
            "max_height": null,
            "max_width": null,
            "min_height": null,
            "min_width": null,
            "options": [
              "position",
              "transparent_bg"
            ],
            "position": "topright",
            "transparent_bg": false,
            "widget": "IPY_MODEL_2fb0fb42451041ddaf40e033798272c8"
          }
        },
        "ebf61cfde4974b6ba71967b212d4830d": {
          "model_module": "@jupyter-widgets/base",
          "model_module_version": "1.2.0",
          "model_name": "LayoutModel",
          "state": {
            "_model_module": "@jupyter-widgets/base",
            "_model_module_version": "1.2.0",
            "_model_name": "LayoutModel",
            "_view_count": null,
            "_view_module": "@jupyter-widgets/base",
            "_view_module_version": "1.2.0",
            "_view_name": "LayoutView",
            "align_content": null,
            "align_items": null,
            "align_self": null,
            "border": null,
            "bottom": null,
            "display": "inline-flex",
            "flex": null,
            "flex_flow": "row wrap",
            "grid_area": null,
            "grid_auto_columns": null,
            "grid_auto_flow": null,
            "grid_auto_rows": null,
            "grid_column": null,
            "grid_gap": null,
            "grid_row": null,
            "grid_template_areas": null,
            "grid_template_columns": null,
            "grid_template_rows": null,
            "height": null,
            "justify_content": null,
            "justify_items": null,
            "left": null,
            "margin": null,
            "max_height": null,
            "max_width": null,
            "min_height": null,
            "min_width": null,
            "object_fit": null,
            "object_position": null,
            "order": null,
            "overflow": null,
            "overflow_x": null,
            "overflow_y": null,
            "padding": null,
            "right": null,
            "top": null,
            "visibility": null,
            "width": "100%"
          }
        },
        "ec5bc51a77fa49d689ba2dd8c0f2361e": {
          "model_module": "@jupyter-widgets/base",
          "model_module_version": "1.2.0",
          "model_name": "LayoutModel",
          "state": {
            "_model_module": "@jupyter-widgets/base",
            "_model_module_version": "1.2.0",
            "_model_name": "LayoutModel",
            "_view_count": null,
            "_view_module": "@jupyter-widgets/base",
            "_view_module_version": "1.2.0",
            "_view_name": "LayoutView",
            "align_content": null,
            "align_items": null,
            "align_self": null,
            "border": null,
            "bottom": null,
            "display": null,
            "flex": null,
            "flex_flow": null,
            "grid_area": null,
            "grid_auto_columns": null,
            "grid_auto_flow": null,
            "grid_auto_rows": null,
            "grid_column": null,
            "grid_gap": null,
            "grid_row": null,
            "grid_template_areas": null,
            "grid_template_columns": null,
            "grid_template_rows": null,
            "height": null,
            "justify_content": null,
            "justify_items": null,
            "left": null,
            "margin": null,
            "max_height": null,
            "max_width": null,
            "min_height": null,
            "min_width": null,
            "object_fit": null,
            "object_position": null,
            "order": null,
            "overflow": null,
            "overflow_x": null,
            "overflow_y": null,
            "padding": "0px 3px 0px 0px",
            "right": null,
            "top": null,
            "visibility": null,
            "width": "70px"
          }
        },
        "ed1ab0d9431240209cd3b97186aca408": {
          "model_module": "@jupyter-widgets/base",
          "model_module_version": "1.2.0",
          "model_name": "LayoutModel",
          "state": {
            "_model_module": "@jupyter-widgets/base",
            "_model_module_version": "1.2.0",
            "_model_name": "LayoutModel",
            "_view_count": null,
            "_view_module": "@jupyter-widgets/base",
            "_view_module_version": "1.2.0",
            "_view_name": "LayoutView",
            "align_content": null,
            "align_items": null,
            "align_self": null,
            "border": null,
            "bottom": null,
            "display": null,
            "flex": null,
            "flex_flow": null,
            "grid_area": null,
            "grid_auto_columns": null,
            "grid_auto_flow": null,
            "grid_auto_rows": null,
            "grid_column": null,
            "grid_gap": null,
            "grid_row": null,
            "grid_template_areas": null,
            "grid_template_columns": null,
            "grid_template_rows": null,
            "height": null,
            "justify_content": null,
            "justify_items": null,
            "left": null,
            "margin": null,
            "max_height": null,
            "max_width": null,
            "min_height": null,
            "min_width": null,
            "object_fit": null,
            "object_position": null,
            "order": null,
            "overflow": null,
            "overflow_x": null,
            "overflow_y": null,
            "padding": "0px 4px 0px 4px",
            "right": null,
            "top": null,
            "visibility": null,
            "width": null
          }
        },
        "ed4206e01d754408804dda6b52591342": {
          "model_module": "@jupyter-widgets/controls",
          "model_module_version": "1.5.0",
          "model_name": "HBoxModel",
          "state": {
            "_dom_classes": [],
            "_model_module": "@jupyter-widgets/controls",
            "_model_module_version": "1.5.0",
            "_model_name": "HBoxModel",
            "_view_count": null,
            "_view_module": "@jupyter-widgets/controls",
            "_view_module_version": "1.5.0",
            "_view_name": "HBoxView",
            "box_style": "",
            "children": [
              "IPY_MODEL_881fdea6c9a24c718c87af5b6889a7f0",
              "IPY_MODEL_56f851cee018458aa96b607212e3237b",
              "IPY_MODEL_8f7edf4978374190b25ad509e0aef572"
            ],
            "layout": "IPY_MODEL_a69ff20532d1494f95617c196569c441"
          }
        },
        "ed4bccd2705042fbb034d1ba45cb907a": {
          "model_module": "@jupyter-widgets/controls",
          "model_module_version": "1.5.0",
          "model_name": "HBoxModel",
          "state": {
            "_dom_classes": [],
            "_model_module": "@jupyter-widgets/controls",
            "_model_module_version": "1.5.0",
            "_model_name": "HBoxModel",
            "_view_count": null,
            "_view_module": "@jupyter-widgets/controls",
            "_view_module_version": "1.5.0",
            "_view_name": "HBoxView",
            "box_style": "",
            "children": [
              "IPY_MODEL_60a7a2039d6147b4be4791b4b8e7604a",
              "IPY_MODEL_37f6b111723742d087e3576ac4d9be8f",
              "IPY_MODEL_be86aa74a5b04886a72542dfe9d2ab37",
              "IPY_MODEL_281bd87818cf41ec915ebacb413be395"
            ],
            "layout": "IPY_MODEL_3987d0d77873483bbf6907de7192c2c3"
          }
        },
        "eee32e0a7b644487af7b549f3e324466": {
          "model_module": "@jupyter-widgets/base",
          "model_module_version": "1.2.0",
          "model_name": "LayoutModel",
          "state": {
            "_model_module": "@jupyter-widgets/base",
            "_model_module_version": "1.2.0",
            "_model_name": "LayoutModel",
            "_view_count": null,
            "_view_module": "@jupyter-widgets/base",
            "_view_module_version": "1.2.0",
            "_view_name": "LayoutView",
            "align_content": null,
            "align_items": null,
            "align_self": null,
            "border": null,
            "bottom": null,
            "display": null,
            "flex": null,
            "flex_flow": null,
            "grid_area": null,
            "grid_auto_columns": null,
            "grid_auto_flow": null,
            "grid_auto_rows": null,
            "grid_column": null,
            "grid_gap": null,
            "grid_row": null,
            "grid_template_areas": null,
            "grid_template_columns": null,
            "grid_template_rows": null,
            "height": null,
            "justify_content": null,
            "justify_items": null,
            "left": null,
            "margin": "0px 10px 0px 10px",
            "max_height": "250px",
            "max_width": "250px",
            "min_height": null,
            "min_width": null,
            "object_fit": null,
            "object_position": null,
            "order": null,
            "overflow": null,
            "overflow_x": null,
            "overflow_y": null,
            "padding": null,
            "right": null,
            "top": null,
            "visibility": null,
            "width": null
          }
        },
        "eef4392f73534aa49d21a508427e13ca": {
          "model_module": "@jupyter-widgets/controls",
          "model_module_version": "1.5.0",
          "model_name": "FloatSliderModel",
          "state": {
            "_dom_classes": [],
            "_model_module": "@jupyter-widgets/controls",
            "_model_module_version": "1.5.0",
            "_model_name": "FloatSliderModel",
            "_view_count": null,
            "_view_module": "@jupyter-widgets/controls",
            "_view_module_version": "1.5.0",
            "_view_name": "FloatSliderView",
            "continuous_update": true,
            "description": "",
            "description_tooltip": null,
            "disabled": false,
            "layout": "IPY_MODEL_9fe135487660472595edd41ca140e3c4",
            "max": 1,
            "min": 0,
            "orientation": "horizontal",
            "readout": false,
            "readout_format": ".2f",
            "step": 0.01,
            "style": "IPY_MODEL_64e98bcc4e224aa1b09fc81df01cda70",
            "value": 1
          }
        },
        "efc8335911fe4d6a83888d88a3b34609": {
          "model_module": "@jupyter-widgets/controls",
          "model_module_version": "1.5.0",
          "model_name": "DescriptionStyleModel",
          "state": {
            "_model_module": "@jupyter-widgets/controls",
            "_model_module_version": "1.5.0",
            "_model_name": "DescriptionStyleModel",
            "_view_count": null,
            "_view_module": "@jupyter-widgets/base",
            "_view_module_version": "1.2.0",
            "_view_name": "StyleView",
            "description_width": ""
          }
        },
        "f0384f4aca904a50bda1a066b935b918": {
          "model_module": "@jupyter-widgets/base",
          "model_module_version": "1.2.0",
          "model_name": "LayoutModel",
          "state": {
            "_model_module": "@jupyter-widgets/base",
            "_model_module_version": "1.2.0",
            "_model_name": "LayoutModel",
            "_view_count": null,
            "_view_module": "@jupyter-widgets/base",
            "_view_module_version": "1.2.0",
            "_view_name": "LayoutView",
            "align_content": null,
            "align_items": null,
            "align_self": null,
            "border": null,
            "bottom": null,
            "display": null,
            "flex": null,
            "flex_flow": null,
            "grid_area": null,
            "grid_auto_columns": null,
            "grid_auto_flow": null,
            "grid_auto_rows": null,
            "grid_column": null,
            "grid_gap": null,
            "grid_row": null,
            "grid_template_areas": null,
            "grid_template_columns": null,
            "grid_template_rows": null,
            "height": "18px",
            "justify_content": null,
            "justify_items": null,
            "left": null,
            "margin": null,
            "max_height": null,
            "max_width": null,
            "min_height": null,
            "min_width": null,
            "object_fit": null,
            "object_position": null,
            "order": null,
            "overflow": null,
            "overflow_x": null,
            "overflow_y": null,
            "padding": "0px 4px 25px 4px",
            "right": null,
            "top": null,
            "visibility": null,
            "width": "30ex"
          }
        },
        "f04d44f0f41442f7ad8785d8c6c7feee": {
          "model_module": "@jupyter-widgets/base",
          "model_module_version": "1.2.0",
          "model_name": "LayoutModel",
          "state": {
            "_model_module": "@jupyter-widgets/base",
            "_model_module_version": "1.2.0",
            "_model_name": "LayoutModel",
            "_view_count": null,
            "_view_module": "@jupyter-widgets/base",
            "_view_module_version": "1.2.0",
            "_view_name": "LayoutView",
            "align_content": null,
            "align_items": null,
            "align_self": null,
            "border": null,
            "bottom": null,
            "display": null,
            "flex": null,
            "flex_flow": null,
            "grid_area": null,
            "grid_auto_columns": null,
            "grid_auto_flow": null,
            "grid_auto_rows": null,
            "grid_column": null,
            "grid_gap": null,
            "grid_row": null,
            "grid_template_areas": null,
            "grid_template_columns": null,
            "grid_template_rows": null,
            "height": null,
            "justify_content": null,
            "justify_items": null,
            "left": null,
            "margin": null,
            "max_height": null,
            "max_width": null,
            "min_height": null,
            "min_width": null,
            "object_fit": null,
            "object_position": null,
            "order": null,
            "overflow": null,
            "overflow_x": null,
            "overflow_y": null,
            "padding": null,
            "right": null,
            "top": null,
            "visibility": null,
            "width": null
          }
        },
        "f0d1a1c6228d432992f7c9f5cb881761": {
          "model_module": "@jupyter-widgets/controls",
          "model_module_version": "1.5.0",
          "model_name": "CheckboxModel",
          "state": {
            "_dom_classes": [],
            "_model_module": "@jupyter-widgets/controls",
            "_model_module_version": "1.5.0",
            "_model_name": "CheckboxModel",
            "_view_count": null,
            "_view_module": "@jupyter-widgets/controls",
            "_view_module_version": "1.5.0",
            "_view_name": "CheckboxView",
            "description": "diffVH",
            "description_tooltip": null,
            "disabled": false,
            "indent": false,
            "layout": "IPY_MODEL_0c357b3449234baebb5c4971af50458a",
            "style": "IPY_MODEL_f9aa667dcec64b839f0e8f052860b887",
            "value": false
          }
        },
        "f1f0792f443149339782d6846fcc6604": {
          "model_module": "jupyter-leaflet",
          "model_module_version": "^0.19",
          "model_name": "LeafletDrawControlModel",
          "state": {
            "_model_module": "jupyter-leaflet",
            "_model_module_version": "^0.19",
            "_model_name": "LeafletDrawControlModel",
            "_view_count": null,
            "_view_module": "jupyter-leaflet",
            "_view_module_version": "^0.19",
            "_view_name": "LeafletDrawControlView",
            "circle": {},
            "circlemarker": {},
            "data": [],
            "edit": true,
            "marker": {
              "shapeOptions": {
                "color": "#3388ff"
              }
            },
            "options": [
              "position"
            ],
            "polygon": {
              "shapeOptions": {}
            },
            "polyline": {
              "shapeOptions": {}
            },
            "position": "topleft",
            "rectangle": {
              "shapeOptions": {
                "color": "#3388ff"
              }
            },
            "remove": true
          }
        },
        "f1f7ddcdf88044edb6fc434c676069d2": {
          "model_module": "@jupyter-widgets/controls",
          "model_module_version": "1.5.0",
          "model_name": "ToggleButtonModel",
          "state": {
            "_dom_classes": [],
            "_model_module": "@jupyter-widgets/controls",
            "_model_module_version": "1.5.0",
            "_model_name": "ToggleButtonModel",
            "_view_count": null,
            "_view_module": "@jupyter-widgets/controls",
            "_view_module_version": "1.5.0",
            "_view_name": "ToggleButtonView",
            "button_style": "",
            "description": "",
            "description_tooltip": null,
            "disabled": false,
            "icon": "info",
            "layout": "IPY_MODEL_8d9e40c84fc340339377e96d7ee29c30",
            "style": "IPY_MODEL_ac76de9c19674c739033386ab8734806",
            "tooltip": "Toolbar",
            "value": true
          }
        },
        "f203bbd3c2914308a8b49c31792b7872": {
          "model_module": "@jupyter-widgets/controls",
          "model_module_version": "1.5.0",
          "model_name": "ButtonModel",
          "state": {
            "_dom_classes": [],
            "_model_module": "@jupyter-widgets/controls",
            "_model_module_version": "1.5.0",
            "_model_name": "ButtonModel",
            "_view_count": null,
            "_view_module": "@jupyter-widgets/controls",
            "_view_module_version": "1.5.0",
            "_view_name": "ButtonView",
            "button_style": "",
            "description": "",
            "disabled": false,
            "icon": "gear",
            "layout": "IPY_MODEL_fd74dad69a414161827170dab97e3c6c",
            "style": "IPY_MODEL_d315e929a9bb4812a4dce4a9d6a7f911",
            "tooltip": "OpenStreetMap.Mapnik"
          }
        },
        "f2521f912c21410f963bcc69505a9339": {
          "model_module": "@jupyter-widgets/base",
          "model_module_version": "1.2.0",
          "model_name": "LayoutModel",
          "state": {
            "_model_module": "@jupyter-widgets/base",
            "_model_module_version": "1.2.0",
            "_model_name": "LayoutModel",
            "_view_count": null,
            "_view_module": "@jupyter-widgets/base",
            "_view_module_version": "1.2.0",
            "_view_name": "LayoutView",
            "align_content": null,
            "align_items": null,
            "align_self": null,
            "border": null,
            "bottom": null,
            "display": null,
            "flex": null,
            "flex_flow": null,
            "grid_area": null,
            "grid_auto_columns": null,
            "grid_auto_flow": null,
            "grid_auto_rows": null,
            "grid_column": null,
            "grid_gap": null,
            "grid_row": null,
            "grid_template_areas": null,
            "grid_template_columns": null,
            "grid_template_rows": null,
            "height": "18px",
            "justify_content": null,
            "justify_items": null,
            "left": null,
            "margin": null,
            "max_height": null,
            "max_width": null,
            "min_height": null,
            "min_width": null,
            "object_fit": null,
            "object_position": null,
            "order": null,
            "overflow": null,
            "overflow_x": null,
            "overflow_y": null,
            "padding": null,
            "right": null,
            "top": null,
            "visibility": null,
            "width": "140px"
          }
        },
        "f2673c0949924f5b8423bfaa14f2141a": {
          "model_module": "jupyter-leaflet",
          "model_module_version": "^0.19",
          "model_name": "LeafletMapStyleModel",
          "state": {
            "_model_module": "jupyter-leaflet",
            "_model_module_version": "^0.19",
            "_model_name": "LeafletMapStyleModel",
            "_view_count": null,
            "_view_module": "@jupyter-widgets/base",
            "_view_module_version": "1.2.0",
            "_view_name": "StyleView",
            "cursor": "move"
          }
        },
        "f30674bf528c4ad4b35c1750fc24e6cc": {
          "model_module": "@jupyter-widgets/controls",
          "model_module_version": "1.5.0",
          "model_name": "ButtonStyleModel",
          "state": {
            "_model_module": "@jupyter-widgets/controls",
            "_model_module_version": "1.5.0",
            "_model_name": "ButtonStyleModel",
            "_view_count": null,
            "_view_module": "@jupyter-widgets/base",
            "_view_module_version": "1.2.0",
            "_view_name": "StyleView",
            "button_color": null,
            "font_weight": ""
          }
        },
        "f35049bfb8a44a41a70cfa778ac5123c": {
          "model_module": "@jupyter-widgets/controls",
          "model_module_version": "1.5.0",
          "model_name": "ButtonModel",
          "state": {
            "_dom_classes": [],
            "_model_module": "@jupyter-widgets/controls",
            "_model_module_version": "1.5.0",
            "_model_name": "ButtonModel",
            "_view_count": null,
            "_view_module": "@jupyter-widgets/controls",
            "_view_module_version": "1.5.0",
            "_view_name": "ButtonView",
            "button_style": "",
            "description": "",
            "disabled": false,
            "icon": "gear",
            "layout": "IPY_MODEL_892c0709f4d840b9ad761c8b49863229",
            "style": "IPY_MODEL_0d44192c23874ee3b12707e659f7c9e5",
            "tooltip": "postVV"
          }
        },
        "f37cccc4ce68402ca088e0934adfa9a0": {
          "model_module": "@jupyter-widgets/controls",
          "model_module_version": "1.5.0",
          "model_name": "ButtonModel",
          "state": {
            "_dom_classes": [],
            "_model_module": "@jupyter-widgets/controls",
            "_model_module_version": "1.5.0",
            "_model_name": "ButtonModel",
            "_view_count": null,
            "_view_module": "@jupyter-widgets/controls",
            "_view_module_version": "1.5.0",
            "_view_name": "ButtonView",
            "button_style": "",
            "description": "",
            "disabled": false,
            "icon": "gear",
            "layout": "IPY_MODEL_24b654bd86504c0da6cf828b102719a2",
            "style": "IPY_MODEL_2f0bf7b2d5d84e1c8d76eaa125c5877d",
            "tooltip": "postVH"
          }
        },
        "f495277852f8442992a00f108a999f9c": {
          "model_module": "jupyter-leaflet",
          "model_module_version": "^0.19",
          "model_name": "LeafletTileLayerModel",
          "state": {
            "_model_module": "jupyter-leaflet",
            "_model_module_version": "^0.19",
            "_model_name": "LeafletTileLayerModel",
            "_view_count": null,
            "_view_module": "jupyter-leaflet",
            "_view_module_version": "^0.19",
            "_view_name": "LeafletTileLayerView",
            "attribution": "Google Earth Engine",
            "base": false,
            "bottom": true,
            "bounds": null,
            "detect_retina": false,
            "loading": false,
            "max_native_zoom": null,
            "max_zoom": 24,
            "min_native_zoom": null,
            "min_zoom": 0,
            "name": "Drawn Features",
            "no_wrap": false,
            "opacity": 0.5,
            "options": [
              "attribution",
              "bounds",
              "detect_retina",
              "max_native_zoom",
              "max_zoom",
              "min_native_zoom",
              "min_zoom",
              "no_wrap",
              "tile_size",
              "tms",
              "zoom_offset"
            ],
            "pane": "",
            "popup": null,
            "popup_max_height": null,
            "popup_max_width": 300,
            "popup_min_width": 50,
            "show_loading": false,
            "subitems": [],
            "tile_size": 256,
            "tms": false,
            "url": "https://earthengine.googleapis.com/v1/projects/ee-lorenava-learning-sar/maps/3c2a7f1b0f1eb6441e8e8497c163dd7c-a629545a0b575da3ee2d04eb98cd5de8/tiles/{z}/{x}/{y}",
            "visible": false,
            "zoom_offset": 0
          }
        },
        "f4bbbaded63847d3a6829ce7cd71f932": {
          "model_module": "@jupyter-widgets/base",
          "model_module_version": "1.2.0",
          "model_name": "LayoutModel",
          "state": {
            "_model_module": "@jupyter-widgets/base",
            "_model_module_version": "1.2.0",
            "_model_name": "LayoutModel",
            "_view_count": null,
            "_view_module": "@jupyter-widgets/base",
            "_view_module_version": "1.2.0",
            "_view_name": "LayoutView",
            "align_content": null,
            "align_items": null,
            "align_self": null,
            "border": null,
            "bottom": null,
            "display": null,
            "flex": null,
            "flex_flow": null,
            "grid_area": null,
            "grid_auto_columns": null,
            "grid_auto_flow": null,
            "grid_auto_rows": null,
            "grid_column": null,
            "grid_gap": null,
            "grid_row": null,
            "grid_template_areas": null,
            "grid_template_columns": null,
            "grid_template_rows": null,
            "height": null,
            "justify_content": null,
            "justify_items": null,
            "left": null,
            "margin": null,
            "max_height": null,
            "max_width": null,
            "min_height": null,
            "min_width": null,
            "object_fit": null,
            "object_position": null,
            "order": null,
            "overflow": null,
            "overflow_x": null,
            "overflow_y": null,
            "padding": "0px 4px 0px 4px",
            "right": null,
            "top": null,
            "visibility": null,
            "width": null
          }
        },
        "f5474df2ba9745c0bfe0fdbb2659bfe6": {
          "model_module": "@jupyter-widgets/base",
          "model_module_version": "1.2.0",
          "model_name": "LayoutModel",
          "state": {
            "_model_module": "@jupyter-widgets/base",
            "_model_module_version": "1.2.0",
            "_model_name": "LayoutModel",
            "_view_count": null,
            "_view_module": "@jupyter-widgets/base",
            "_view_module_version": "1.2.0",
            "_view_name": "LayoutView",
            "align_content": null,
            "align_items": null,
            "align_self": null,
            "border": null,
            "bottom": null,
            "display": null,
            "flex": null,
            "flex_flow": null,
            "grid_area": null,
            "grid_auto_columns": null,
            "grid_auto_flow": null,
            "grid_auto_rows": null,
            "grid_column": null,
            "grid_gap": null,
            "grid_row": null,
            "grid_template_areas": null,
            "grid_template_columns": null,
            "grid_template_rows": null,
            "height": null,
            "justify_content": null,
            "justify_items": null,
            "left": null,
            "margin": null,
            "max_height": null,
            "max_width": null,
            "min_height": null,
            "min_width": null,
            "object_fit": null,
            "object_position": null,
            "order": null,
            "overflow": null,
            "overflow_x": null,
            "overflow_y": null,
            "padding": null,
            "right": null,
            "top": null,
            "visibility": null,
            "width": null
          }
        },
        "f6e2cb0f6c76497295a631a0ccf6a4a2": {
          "model_module": "@jupyter-widgets/controls",
          "model_module_version": "1.5.0",
          "model_name": "CheckboxModel",
          "state": {
            "_dom_classes": [],
            "_model_module": "@jupyter-widgets/controls",
            "_model_module_version": "1.5.0",
            "_model_name": "CheckboxModel",
            "_view_count": null,
            "_view_module": "@jupyter-widgets/controls",
            "_view_module_version": "1.5.0",
            "_view_name": "CheckboxView",
            "description": "Sentinel-2 RGB",
            "description_tooltip": null,
            "disabled": false,
            "indent": false,
            "layout": "IPY_MODEL_76101f6008214e5cbdcf30e6e301e5e0",
            "style": "IPY_MODEL_4e2189a636394f3a8ffb88b65952dcfa",
            "value": true
          }
        },
        "f88aa2c4164743d3b7927ec0d90e4c50": {
          "model_module": "@jupyter-widgets/base",
          "model_module_version": "1.2.0",
          "model_name": "LayoutModel",
          "state": {
            "_model_module": "@jupyter-widgets/base",
            "_model_module_version": "1.2.0",
            "_model_name": "LayoutModel",
            "_view_count": null,
            "_view_module": "@jupyter-widgets/base",
            "_view_module_version": "1.2.0",
            "_view_name": "LayoutView",
            "align_content": null,
            "align_items": null,
            "align_self": null,
            "border": null,
            "bottom": null,
            "display": null,
            "flex": null,
            "flex_flow": null,
            "grid_area": null,
            "grid_auto_columns": null,
            "grid_auto_flow": null,
            "grid_auto_rows": null,
            "grid_column": null,
            "grid_gap": null,
            "grid_row": null,
            "grid_template_areas": null,
            "grid_template_columns": null,
            "grid_template_rows": null,
            "height": null,
            "justify_content": null,
            "justify_items": null,
            "left": null,
            "margin": null,
            "max_height": null,
            "max_width": null,
            "min_height": null,
            "min_width": null,
            "object_fit": null,
            "object_position": null,
            "order": null,
            "overflow": null,
            "overflow_x": null,
            "overflow_y": null,
            "padding": "0px 4px 0px 4px",
            "right": null,
            "top": null,
            "visibility": null,
            "width": null
          }
        },
        "f8db916c898c4eab9a8964148cc559b6": {
          "model_module": "@jupyter-widgets/base",
          "model_module_version": "1.2.0",
          "model_name": "LayoutModel",
          "state": {
            "_model_module": "@jupyter-widgets/base",
            "_model_module_version": "1.2.0",
            "_model_name": "LayoutModel",
            "_view_count": null,
            "_view_module": "@jupyter-widgets/base",
            "_view_module_version": "1.2.0",
            "_view_name": "LayoutView",
            "align_content": null,
            "align_items": null,
            "align_self": null,
            "border": null,
            "bottom": null,
            "display": null,
            "flex": null,
            "flex_flow": null,
            "grid_area": null,
            "grid_auto_columns": null,
            "grid_auto_flow": null,
            "grid_auto_rows": null,
            "grid_column": null,
            "grid_gap": null,
            "grid_row": null,
            "grid_template_areas": null,
            "grid_template_columns": null,
            "grid_template_rows": null,
            "height": null,
            "justify_content": null,
            "justify_items": null,
            "left": null,
            "margin": null,
            "max_height": null,
            "max_width": null,
            "min_height": null,
            "min_width": null,
            "object_fit": null,
            "object_position": null,
            "order": null,
            "overflow": null,
            "overflow_x": null,
            "overflow_y": null,
            "padding": "0px 4px 0px 4px",
            "right": null,
            "top": null,
            "visibility": null,
            "width": null
          }
        },
        "f9aa667dcec64b839f0e8f052860b887": {
          "model_module": "@jupyter-widgets/controls",
          "model_module_version": "1.5.0",
          "model_name": "DescriptionStyleModel",
          "state": {
            "_model_module": "@jupyter-widgets/controls",
            "_model_module_version": "1.5.0",
            "_model_name": "DescriptionStyleModel",
            "_view_count": null,
            "_view_module": "@jupyter-widgets/base",
            "_view_module_version": "1.2.0",
            "_view_name": "StyleView",
            "description_width": ""
          }
        },
        "fa757535b9594a3db55268e8e2ceb381": {
          "model_module": "@jupyter-widgets/base",
          "model_module_version": "1.2.0",
          "model_name": "LayoutModel",
          "state": {
            "_model_module": "@jupyter-widgets/base",
            "_model_module_version": "1.2.0",
            "_model_name": "LayoutModel",
            "_view_count": null,
            "_view_module": "@jupyter-widgets/base",
            "_view_module_version": "1.2.0",
            "_view_name": "LayoutView",
            "align_content": null,
            "align_items": null,
            "align_self": null,
            "border": null,
            "bottom": null,
            "display": null,
            "flex": null,
            "flex_flow": null,
            "grid_area": null,
            "grid_auto_columns": null,
            "grid_auto_flow": null,
            "grid_auto_rows": null,
            "grid_column": null,
            "grid_gap": null,
            "grid_row": null,
            "grid_template_areas": null,
            "grid_template_columns": null,
            "grid_template_rows": null,
            "height": "28px",
            "justify_content": null,
            "justify_items": null,
            "left": null,
            "margin": null,
            "max_height": null,
            "max_width": null,
            "min_height": null,
            "min_width": null,
            "object_fit": null,
            "object_position": null,
            "order": null,
            "overflow": null,
            "overflow_x": null,
            "overflow_y": null,
            "padding": "0px",
            "right": null,
            "top": null,
            "visibility": null,
            "width": "28px"
          }
        },
        "fb470a73abea4053b20d881d63f4d493": {
          "model_module": "jupyter-leaflet",
          "model_module_version": "^0.19",
          "model_name": "LeafletGeoJSONModel",
          "state": {
            "_model_module": "jupyter-leaflet",
            "_model_module_version": "^0.19",
            "_model_name": "LeafletGeoJSONModel",
            "_view_count": null,
            "_view_module": "jupyter-leaflet",
            "_view_module_version": "^0.19",
            "_view_name": "LeafletGeoJSONView",
            "base": false,
            "bottom": false,
            "data": {
              "bbox": [
                121.52570860320029,
                24.094253224540154,
                121.68390192473373,
                24.235198892618506
              ],
              "features": [
                {
                  "bbox": [
                    121.67806287538696,
                    24.22935984327173,
                    121.68390192473373,
                    24.235198892618506
                  ],
                  "geometry": {
                    "coordinates": [
                      [
                        [
                          121.67806287538696,
                          24.235198892618506
                        ],
                        [
                          121.67806287538696,
                          24.22935984327173
                        ],
                        [
                          121.68390192473373,
                          24.22935984327173
                        ],
                        [
                          121.68390192473373,
                          24.235198892618506
                        ],
                        [
                          121.67806287538696,
                          24.235198892618506
                        ]
                      ],
                      [
                        [
                          121.67815270691537,
                          24.235109061090096
                        ],
                        [
                          121.68381209320532,
                          24.235109061090096
                        ],
                        [
                          121.68381209320532,
                          24.229449674800144
                        ],
                        [
                          121.67815270691537,
                          24.229449674800144
                        ],
                        [
                          121.67815270691537,
                          24.235109061090096
                        ]
                      ]
                    ],
                    "type": "Polygon"
                  },
                  "id": "0",
                  "properties": {
                    "style": {
                      "color": "black",
                      "fillColor": "black"
                    }
                  },
                  "type": "Feature"
                },
                {
                  "bbox": [
                    121.62919452393085,
                    24.217861407635002,
                    121.63503357327762,
                    24.223700456981778
                  ],
                  "geometry": {
                    "coordinates": [
                      [
                        [
                          121.62919452393085,
                          24.223700456981778
                        ],
                        [
                          121.62919452393085,
                          24.217861407635002
                        ],
                        [
                          121.63503357327762,
                          24.217861407635002
                        ],
                        [
                          121.63503357327762,
                          24.223700456981778
                        ],
                        [
                          121.62919452393085,
                          24.223700456981778
                        ]
                      ],
                      [
                        [
                          121.62928435545926,
                          24.223610625453365
                        ],
                        [
                          121.63494374174923,
                          24.223610625453365
                        ],
                        [
                          121.63494374174923,
                          24.217951239163412
                        ],
                        [
                          121.62928435545926,
                          24.217951239163412
                        ],
                        [
                          121.62928435545926,
                          24.223610625453365
                        ]
                      ]
                    ],
                    "type": "Polygon"
                  },
                  "id": "1",
                  "properties": {
                    "style": {
                      "color": "black",
                      "fillColor": "black"
                    }
                  },
                  "type": "Feature"
                },
                {
                  "bbox": [
                    121.65794061302267,
                    24.214986798725818,
                    121.66377966236945,
                    24.220825848072597
                  ],
                  "geometry": {
                    "coordinates": [
                      [
                        [
                          121.65794061302267,
                          24.220825848072597
                        ],
                        [
                          121.65794061302267,
                          24.214986798725818
                        ],
                        [
                          121.66377966236945,
                          24.214986798725818
                        ],
                        [
                          121.66377966236945,
                          24.220825848072597
                        ],
                        [
                          121.65794061302267,
                          24.220825848072597
                        ]
                      ],
                      [
                        [
                          121.65803044455109,
                          24.220736016544183
                        ],
                        [
                          121.66368983084104,
                          24.220736016544183
                        ],
                        [
                          121.66368983084104,
                          24.21507663025423
                        ],
                        [
                          121.65803044455109,
                          24.21507663025423
                        ],
                        [
                          121.65803044455109,
                          24.220736016544183
                        ]
                      ]
                    ],
                    "type": "Polygon"
                  },
                  "id": "2",
                  "properties": {
                    "style": {
                      "color": "black",
                      "fillColor": "black"
                    }
                  },
                  "type": "Feature"
                },
                {
                  "bbox": [
                    121.6723136575686,
                    24.212112189816636,
                    121.67815270691537,
                    24.217951239163412
                  ],
                  "geometry": {
                    "coordinates": [
                      [
                        [
                          121.6723136575686,
                          24.217951239163412
                        ],
                        [
                          121.6723136575686,
                          24.212112189816636
                        ],
                        [
                          121.67815270691537,
                          24.212112189816636
                        ],
                        [
                          121.67815270691537,
                          24.217951239163412
                        ],
                        [
                          121.6723136575686,
                          24.217951239163412
                        ]
                      ],
                      [
                        [
                          121.67240348909701,
                          24.217861407635002
                        ],
                        [
                          121.67806287538696,
                          24.217861407635002
                        ],
                        [
                          121.67806287538696,
                          24.212202021345046
                        ],
                        [
                          121.67240348909701,
                          24.212202021345046
                        ],
                        [
                          121.67240348909701,
                          24.217861407635002
                        ]
                      ]
                    ],
                    "type": "Polygon"
                  },
                  "id": "3",
                  "properties": {
                    "style": {
                      "color": "black",
                      "fillColor": "black"
                    }
                  },
                  "type": "Feature"
                },
                {
                  "bbox": [
                    121.55732930120129,
                    24.20636297199827,
                    121.56316835054807,
                    24.212202021345046
                  ],
                  "geometry": {
                    "coordinates": [
                      [
                        [
                          121.55732930120129,
                          24.212202021345046
                        ],
                        [
                          121.55732930120129,
                          24.20636297199827
                        ],
                        [
                          121.56316835054807,
                          24.20636297199827
                        ],
                        [
                          121.56316835054807,
                          24.212202021345046
                        ],
                        [
                          121.55732930120129,
                          24.212202021345046
                        ]
                      ],
                      [
                        [
                          121.5574191327297,
                          24.212112189816636
                        ],
                        [
                          121.56307851901965,
                          24.212112189816636
                        ],
                        [
                          121.56307851901965,
                          24.206452803526684
                        ],
                        [
                          121.5574191327297,
                          24.206452803526684
                        ],
                        [
                          121.5574191327297,
                          24.212112189816636
                        ]
                      ]
                    ],
                    "type": "Polygon"
                  },
                  "id": "4",
                  "properties": {
                    "style": {
                      "color": "black",
                      "fillColor": "black"
                    }
                  },
                  "type": "Feature"
                },
                {
                  "bbox": [
                    121.56882773683802,
                    24.191989927452358,
                    121.58616522182153,
                    24.200703585708318
                  ],
                  "geometry": {
                    "coordinates": [
                      [
                        [
                          121.56882773683802,
                          24.200703585708318
                        ],
                        [
                          121.56882773683802,
                          24.194864536361543
                        ],
                        [
                          121.58032617247476,
                          24.194864536361543
                        ],
                        [
                          121.58032617247476,
                          24.191989927452358
                        ],
                        [
                          121.58616522182153,
                          24.191989927452358
                        ],
                        [
                          121.58616522182153,
                          24.197828976799137
                        ],
                        [
                          121.58041600400317,
                          24.197828976799137
                        ],
                        [
                          121.58041600400317,
                          24.200703585708318
                        ],
                        [
                          121.56882773683802,
                          24.200703585708318
                        ]
                      ],
                      [
                        [
                          121.56891756836643,
                          24.200613754179905
                        ],
                        [
                          121.57457695465638,
                          24.200613754179905
                        ],
                        [
                          121.57457695465638,
                          24.194954367889952
                        ],
                        [
                          121.56891756836643,
                          24.194954367889952
                        ],
                        [
                          121.56891756836643,
                          24.200613754179905
                        ]
                      ],
                      [
                        [
                          121.57466678618479,
                          24.200613754179905
                        ],
                        [
                          121.58032617247476,
                          24.200613754179905
                        ],
                        [
                          121.58032617247476,
                          24.194954367889952
                        ],
                        [
                          121.57466678618479,
                          24.194954367889952
                        ],
                        [
                          121.57466678618479,
                          24.200613754179905
                        ]
                      ],
                      [
                        [
                          121.58041600400317,
                          24.197739145270724
                        ],
                        [
                          121.58607539029312,
                          24.197739145270724
                        ],
                        [
                          121.58607539029312,
                          24.19207975898077
                        ],
                        [
                          121.58041600400317,
                          24.19207975898077
                        ],
                        [
                          121.58041600400317,
                          24.197739145270724
                        ]
                      ]
                    ],
                    "type": "Polygon"
                  },
                  "id": "5",
                  "properties": {
                    "style": {
                      "color": "black",
                      "fillColor": "black"
                    }
                  },
                  "type": "Feature"
                },
                {
                  "bbox": [
                    121.53433242992783,
                    24.191989927452358,
                    121.5401714792746,
                    24.197828976799137
                  ],
                  "geometry": {
                    "coordinates": [
                      [
                        [
                          121.53433242992783,
                          24.197828976799137
                        ],
                        [
                          121.53433242992783,
                          24.191989927452358
                        ],
                        [
                          121.5401714792746,
                          24.191989927452358
                        ],
                        [
                          121.5401714792746,
                          24.197828976799137
                        ],
                        [
                          121.53433242992783,
                          24.197828976799137
                        ]
                      ],
                      [
                        [
                          121.53442226145624,
                          24.197739145270724
                        ],
                        [
                          121.54008164774619,
                          24.197739145270724
                        ],
                        [
                          121.54008164774619,
                          24.19207975898077
                        ],
                        [
                          121.53442226145624,
                          24.19207975898077
                        ],
                        [
                          121.53442226145624,
                          24.197739145270724
                        ]
                      ]
                    ],
                    "type": "Polygon"
                  },
                  "id": "6",
                  "properties": {
                    "style": {
                      "color": "black",
                      "fillColor": "black"
                    }
                  },
                  "type": "Feature"
                },
                {
                  "bbox": [
                    121.59469921702066,
                    24.186240709633992,
                    121.60053826636744,
                    24.19207975898077
                  ],
                  "geometry": {
                    "coordinates": [
                      [
                        [
                          121.59469921702066,
                          24.19207975898077
                        ],
                        [
                          121.59469921702066,
                          24.186240709633992
                        ],
                        [
                          121.60053826636744,
                          24.186240709633992
                        ],
                        [
                          121.60053826636744,
                          24.19207975898077
                        ],
                        [
                          121.59469921702066,
                          24.19207975898077
                        ]
                      ],
                      [
                        [
                          121.59478904854907,
                          24.191989927452358
                        ],
                        [
                          121.60044843483902,
                          24.191989927452358
                        ],
                        [
                          121.60044843483902,
                          24.186330541162405
                        ],
                        [
                          121.59478904854907,
                          24.186330541162405
                        ],
                        [
                          121.59478904854907,
                          24.191989927452358
                        ]
                      ]
                    ],
                    "type": "Polygon"
                  },
                  "id": "7",
                  "properties": {
                    "style": {
                      "color": "black",
                      "fillColor": "black"
                    }
                  },
                  "type": "Feature"
                },
                {
                  "bbox": [
                    121.64356756847677,
                    24.18049149181563,
                    121.64940661782354,
                    24.186330541162405
                  ],
                  "geometry": {
                    "coordinates": [
                      [
                        [
                          121.64356756847677,
                          24.186330541162405
                        ],
                        [
                          121.64356756847677,
                          24.18049149181563
                        ],
                        [
                          121.64940661782354,
                          24.18049149181563
                        ],
                        [
                          121.64940661782354,
                          24.186330541162405
                        ],
                        [
                          121.64356756847677,
                          24.186330541162405
                        ]
                      ],
                      [
                        [
                          121.64365740000518,
                          24.186240709633992
                        ],
                        [
                          121.64931678629513,
                          24.186240709633992
                        ],
                        [
                          121.64931678629513,
                          24.18058132334404
                        ],
                        [
                          121.64365740000518,
                          24.18058132334404
                        ],
                        [
                          121.64365740000518,
                          24.186240709633992
                        ]
                      ]
                    ],
                    "type": "Polygon"
                  },
                  "id": "8",
                  "properties": {
                    "style": {
                      "color": "black",
                      "fillColor": "black"
                    }
                  },
                  "type": "Feature"
                },
                {
                  "bbox": [
                    121.54583086556457,
                    24.174742273997264,
                    121.55166991491134,
                    24.18058132334404
                  ],
                  "geometry": {
                    "coordinates": [
                      [
                        [
                          121.54583086556457,
                          24.18058132334404
                        ],
                        [
                          121.54583086556457,
                          24.174742273997264
                        ],
                        [
                          121.55166991491134,
                          24.174742273997264
                        ],
                        [
                          121.55166991491134,
                          24.18058132334404
                        ],
                        [
                          121.54583086556457,
                          24.18058132334404
                        ]
                      ],
                      [
                        [
                          121.54592069709297,
                          24.18049149181563
                        ],
                        [
                          121.55158008338293,
                          24.18049149181563
                        ],
                        [
                          121.55158008338293,
                          24.174832105525674
                        ],
                        [
                          121.54592069709297,
                          24.174832105525674
                        ],
                        [
                          121.54592069709297,
                          24.18049149181563
                        ]
                      ]
                    ],
                    "type": "Polygon"
                  },
                  "id": "9",
                  "properties": {
                    "style": {
                      "color": "black",
                      "fillColor": "black"
                    }
                  },
                  "type": "Feature"
                },
                {
                  "bbox": [
                    121.5717023457472,
                    24.174742273997264,
                    121.57754139509397,
                    24.18058132334404
                  ],
                  "geometry": {
                    "coordinates": [
                      [
                        [
                          121.5717023457472,
                          24.18058132334404
                        ],
                        [
                          121.5717023457472,
                          24.174742273997264
                        ],
                        [
                          121.57754139509397,
                          24.174742273997264
                        ],
                        [
                          121.57754139509397,
                          24.18058132334404
                        ],
                        [
                          121.5717023457472,
                          24.18058132334404
                        ]
                      ],
                      [
                        [
                          121.57179217727561,
                          24.18049149181563
                        ],
                        [
                          121.57745156356557,
                          24.18049149181563
                        ],
                        [
                          121.57745156356557,
                          24.174832105525674
                        ],
                        [
                          121.57179217727561,
                          24.174832105525674
                        ],
                        [
                          121.57179217727561,
                          24.18049149181563
                        ]
                      ]
                    ],
                    "type": "Polygon"
                  },
                  "id": "10",
                  "properties": {
                    "style": {
                      "color": "black",
                      "fillColor": "black"
                    }
                  },
                  "type": "Feature"
                },
                {
                  "bbox": [
                    121.52570860320029,
                    24.1689930561789,
                    121.53154765254706,
                    24.174832105525674
                  ],
                  "geometry": {
                    "coordinates": [
                      [
                        [
                          121.52570860320029,
                          24.174832105525674
                        ],
                        [
                          121.52570860320029,
                          24.1689930561789
                        ],
                        [
                          121.53154765254706,
                          24.1689930561789
                        ],
                        [
                          121.53154765254706,
                          24.174832105525674
                        ],
                        [
                          121.52570860320029,
                          24.174832105525674
                        ]
                      ],
                      [
                        [
                          121.5257984347287,
                          24.174742273997264
                        ],
                        [
                          121.53145782101865,
                          24.174742273997264
                        ],
                        [
                          121.53145782101865,
                          24.16908288770731
                        ],
                        [
                          121.5257984347287,
                          24.16908288770731
                        ],
                        [
                          121.5257984347287,
                          24.174742273997264
                        ]
                      ]
                    ],
                    "type": "Polygon"
                  },
                  "id": "11",
                  "properties": {
                    "style": {
                      "color": "black",
                      "fillColor": "black"
                    }
                  },
                  "type": "Feature"
                },
                {
                  "bbox": [
                    121.61482147938494,
                    24.163243838360533,
                    121.62640974655008,
                    24.174832105525674
                  ],
                  "geometry": {
                    "coordinates": [
                      [
                        [
                          121.6205706972033,
                          24.174832105525674
                        ],
                        [
                          121.6205706972033,
                          24.16908288770731
                        ],
                        [
                          121.61482147938494,
                          24.16908288770731
                        ],
                        [
                          121.61482147938494,
                          24.163243838360533
                        ],
                        [
                          121.62066052873172,
                          24.163243838360533
                        ],
                        [
                          121.62066052873172,
                          24.1689930561789
                        ],
                        [
                          121.62640974655008,
                          24.1689930561789
                        ],
                        [
                          121.62640974655008,
                          24.174832105525674
                        ],
                        [
                          121.6205706972033,
                          24.174832105525674
                        ]
                      ],
                      [
                        [
                          121.62066052873172,
                          24.174742273997264
                        ],
                        [
                          121.62631991502167,
                          24.174742273997264
                        ],
                        [
                          121.62631991502167,
                          24.16908288770731
                        ],
                        [
                          121.62066052873172,
                          24.16908288770731
                        ],
                        [
                          121.62066052873172,
                          24.174742273997264
                        ]
                      ],
                      [
                        [
                          121.61491131091336,
                          24.1689930561789
                        ],
                        [
                          121.6205706972033,
                          24.1689930561789
                        ],
                        [
                          121.6205706972033,
                          24.163333669888946
                        ],
                        [
                          121.61491131091336,
                          24.163333669888946
                        ],
                        [
                          121.61491131091336,
                          24.1689930561789
                        ]
                      ]
                    ],
                    "type": "Polygon"
                  },
                  "id": "12",
                  "properties": {
                    "style": {
                      "color": "black",
                      "fillColor": "black"
                    }
                  },
                  "type": "Feature"
                },
                {
                  "bbox": [
                    121.55445469229211,
                    24.16036922945135,
                    121.56029374163889,
                    24.166208278798127
                  ],
                  "geometry": {
                    "coordinates": [
                      [
                        [
                          121.55445469229211,
                          24.166208278798127
                        ],
                        [
                          121.55445469229211,
                          24.16036922945135
                        ],
                        [
                          121.56029374163889,
                          24.16036922945135
                        ],
                        [
                          121.56029374163889,
                          24.166208278798127
                        ],
                        [
                          121.55445469229211,
                          24.166208278798127
                        ]
                      ],
                      [
                        [
                          121.55454452382052,
                          24.166118447269717
                        ],
                        [
                          121.56020391011047,
                          24.166118447269717
                        ],
                        [
                          121.56020391011047,
                          24.160459060979765
                        ],
                        [
                          121.55454452382052,
                          24.160459060979765
                        ],
                        [
                          121.55454452382052,
                          24.166118447269717
                        ]
                      ]
                    ],
                    "type": "Polygon"
                  },
                  "id": "13",
                  "properties": {
                    "style": {
                      "color": "black",
                      "fillColor": "black"
                    }
                  },
                  "type": "Feature"
                },
                {
                  "bbox": [
                    121.63494374174923,
                    24.15749462054217,
                    121.640782791096,
                    24.163333669888946
                  ],
                  "geometry": {
                    "coordinates": [
                      [
                        [
                          121.63494374174923,
                          24.163333669888946
                        ],
                        [
                          121.63494374174923,
                          24.15749462054217
                        ],
                        [
                          121.640782791096,
                          24.15749462054217
                        ],
                        [
                          121.640782791096,
                          24.163333669888946
                        ],
                        [
                          121.63494374174923,
                          24.163333669888946
                        ]
                      ],
                      [
                        [
                          121.63503357327762,
                          24.163243838360533
                        ],
                        [
                          121.64069295956759,
                          24.163243838360533
                        ],
                        [
                          121.64069295956759,
                          24.15758445207058
                        ],
                        [
                          121.63503357327762,
                          24.15758445207058
                        ],
                        [
                          121.63503357327762,
                          24.163243838360533
                        ]
                      ]
                    ],
                    "type": "Polygon"
                  },
                  "id": "14",
                  "properties": {
                    "style": {
                      "color": "black",
                      "fillColor": "black"
                    }
                  },
                  "type": "Feature"
                },
                {
                  "bbox": [
                    121.52858321210947,
                    24.151745402723805,
                    121.53442226145624,
                    24.15758445207058
                  ],
                  "geometry": {
                    "coordinates": [
                      [
                        [
                          121.52858321210947,
                          24.15758445207058
                        ],
                        [
                          121.52858321210947,
                          24.151745402723805
                        ],
                        [
                          121.53442226145624,
                          24.151745402723805
                        ],
                        [
                          121.53442226145624,
                          24.15758445207058
                        ],
                        [
                          121.52858321210947,
                          24.15758445207058
                        ]
                      ],
                      [
                        [
                          121.52867304363788,
                          24.15749462054217
                        ],
                        [
                          121.53433242992783,
                          24.15749462054217
                        ],
                        [
                          121.53433242992783,
                          24.151835234252214
                        ],
                        [
                          121.52867304363788,
                          24.151835234252214
                        ],
                        [
                          121.52867304363788,
                          24.15749462054217
                        ]
                      ]
                    ],
                    "type": "Polygon"
                  },
                  "id": "15",
                  "properties": {
                    "style": {
                      "color": "black",
                      "fillColor": "black"
                    }
                  },
                  "type": "Feature"
                },
                {
                  "bbox": [
                    121.6033230437482,
                    24.12299931363198,
                    121.61491131091336,
                    24.13171297188794
                  ],
                  "geometry": {
                    "coordinates": [
                      [
                        [
                          121.6033230437482,
                          24.13171297188794
                        ],
                        [
                          121.6033230437482,
                          24.12587392254116
                        ],
                        [
                          121.60907226156658,
                          24.12587392254116
                        ],
                        [
                          121.60907226156658,
                          24.12299931363198
                        ],
                        [
                          121.61491131091336,
                          24.12299931363198
                        ],
                        [
                          121.61491131091336,
                          24.128838362978755
                        ],
                        [
                          121.609162093095,
                          24.128838362978755
                        ],
                        [
                          121.609162093095,
                          24.13171297188794
                        ],
                        [
                          121.6033230437482,
                          24.13171297188794
                        ]
                      ],
                      [
                        [
                          121.60341287527662,
                          24.131623140359526
                        ],
                        [
                          121.60907226156658,
                          24.131623140359526
                        ],
                        [
                          121.60907226156658,
                          24.125963754069573
                        ],
                        [
                          121.60341287527662,
                          24.125963754069573
                        ],
                        [
                          121.60341287527662,
                          24.131623140359526
                        ]
                      ],
                      [
                        [
                          121.609162093095,
                          24.128748531450345
                        ],
                        [
                          121.61482147938494,
                          24.128748531450345
                        ],
                        [
                          121.61482147938494,
                          24.123089145160392
                        ],
                        [
                          121.609162093095,
                          24.123089145160392
                        ],
                        [
                          121.609162093095,
                          24.128748531450345
                        ]
                      ]
                    ],
                    "type": "Polygon"
                  },
                  "id": "16",
                  "properties": {
                    "style": {
                      "color": "black",
                      "fillColor": "black"
                    }
                  },
                  "type": "Feature"
                },
                {
                  "bbox": [
                    121.64356756847677,
                    24.12299931363198,
                    121.64940661782354,
                    24.128838362978755
                  ],
                  "geometry": {
                    "coordinates": [
                      [
                        [
                          121.64356756847677,
                          24.128838362978755
                        ],
                        [
                          121.64356756847677,
                          24.12299931363198
                        ],
                        [
                          121.64940661782354,
                          24.12299931363198
                        ],
                        [
                          121.64940661782354,
                          24.128838362978755
                        ],
                        [
                          121.64356756847677,
                          24.128838362978755
                        ]
                      ],
                      [
                        [
                          121.64365740000518,
                          24.128748531450345
                        ],
                        [
                          121.64931678629513,
                          24.128748531450345
                        ],
                        [
                          121.64931678629513,
                          24.123089145160392
                        ],
                        [
                          121.64365740000518,
                          24.123089145160392
                        ],
                        [
                          121.64365740000518,
                          24.128748531450345
                        ]
                      ]
                    ],
                    "type": "Polygon"
                  },
                  "id": "17",
                  "properties": {
                    "style": {
                      "color": "black",
                      "fillColor": "black"
                    }
                  },
                  "type": "Feature"
                },
                {
                  "bbox": [
                    121.58320078138394,
                    24.111500877995248,
                    121.60053826636744,
                    24.123089145160392
                  ],
                  "geometry": {
                    "coordinates": [
                      [
                        [
                          121.58320078138394,
                          24.123089145160392
                        ],
                        [
                          121.58320078138394,
                          24.117250095813613
                        ],
                        [
                          121.5889499992023,
                          24.117250095813613
                        ],
                        [
                          121.5889499992023,
                          24.111500877995248
                        ],
                        [
                          121.60053826636744,
                          24.111500877995248
                        ],
                        [
                          121.60053826636744,
                          24.117339927342027
                        ],
                        [
                          121.58903983073071,
                          24.117339927342027
                        ],
                        [
                          121.58903983073071,
                          24.123089145160392
                        ],
                        [
                          121.58320078138394,
                          24.123089145160392
                        ]
                      ],
                      [
                        [
                          121.58329061291235,
                          24.12299931363198
                        ],
                        [
                          121.5889499992023,
                          24.12299931363198
                        ],
                        [
                          121.5889499992023,
                          24.117339927342027
                        ],
                        [
                          121.58329061291235,
                          24.117339927342027
                        ],
                        [
                          121.58329061291235,
                          24.12299931363198
                        ]
                      ],
                      [
                        [
                          121.58903983073071,
                          24.117250095813613
                        ],
                        [
                          121.59469921702066,
                          24.117250095813613
                        ],
                        [
                          121.59469921702066,
                          24.11159070952366
                        ],
                        [
                          121.58903983073071,
                          24.11159070952366
                        ],
                        [
                          121.58903983073071,
                          24.117250095813613
                        ]
                      ],
                      [
                        [
                          121.59478904854907,
                          24.117250095813613
                        ],
                        [
                          121.60044843483902,
                          24.117250095813613
                        ],
                        [
                          121.60044843483902,
                          24.11159070952366
                        ],
                        [
                          121.59478904854907,
                          24.11159070952366
                        ],
                        [
                          121.59478904854907,
                          24.117250095813613
                        ]
                      ]
                    ],
                    "type": "Polygon"
                  },
                  "id": "18",
                  "properties": {
                    "style": {
                      "color": "black",
                      "fillColor": "black"
                    }
                  },
                  "type": "Feature"
                },
                {
                  "bbox": [
                    121.6205706972033,
                    24.108626269086066,
                    121.62640974655008,
                    24.114465318432842
                  ],
                  "geometry": {
                    "coordinates": [
                      [
                        [
                          121.6205706972033,
                          24.114465318432842
                        ],
                        [
                          121.6205706972033,
                          24.108626269086066
                        ],
                        [
                          121.62640974655008,
                          24.108626269086066
                        ],
                        [
                          121.62640974655008,
                          24.114465318432842
                        ],
                        [
                          121.6205706972033,
                          24.114465318432842
                        ]
                      ],
                      [
                        [
                          121.62066052873172,
                          24.114375486904432
                        ],
                        [
                          121.62631991502167,
                          24.114375486904432
                        ],
                        [
                          121.62631991502167,
                          24.10871610061448
                        ],
                        [
                          121.62066052873172,
                          24.10871610061448
                        ],
                        [
                          121.62066052873172,
                          24.114375486904432
                        ]
                      ]
                    ],
                    "type": "Polygon"
                  },
                  "id": "19",
                  "properties": {
                    "style": {
                      "color": "black",
                      "fillColor": "black"
                    }
                  },
                  "type": "Feature"
                },
                {
                  "bbox": [
                    121.53433242992783,
                    24.094253224540154,
                    121.5401714792746,
                    24.10009227388693
                  ],
                  "geometry": {
                    "coordinates": [
                      [
                        [
                          121.53433242992783,
                          24.10009227388693
                        ],
                        [
                          121.53433242992783,
                          24.094253224540154
                        ],
                        [
                          121.5401714792746,
                          24.094253224540154
                        ],
                        [
                          121.5401714792746,
                          24.10009227388693
                        ],
                        [
                          121.53433242992783,
                          24.10009227388693
                        ]
                      ],
                      [
                        [
                          121.53442226145624,
                          24.10000244235852
                        ],
                        [
                          121.54008164774619,
                          24.10000244235852
                        ],
                        [
                          121.54008164774619,
                          24.094343056068567
                        ],
                        [
                          121.53442226145624,
                          24.094343056068567
                        ],
                        [
                          121.53442226145624,
                          24.10000244235852
                        ]
                      ]
                    ],
                    "type": "Polygon"
                  },
                  "id": "20",
                  "properties": {
                    "style": {
                      "color": "black",
                      "fillColor": "black"
                    }
                  },
                  "type": "Feature"
                }
              ],
              "type": "FeatureCollection"
            },
            "hover_style": {
              "fillOpacity": 1
            },
            "layers": [],
            "name": "ASCENDING predictions",
            "options": [],
            "pane": "",
            "point_style": {},
            "popup": null,
            "popup_max_height": null,
            "popup_max_width": 300,
            "popup_min_width": 50,
            "style": {
              "color": "red",
              "fill": true,
              "fillColor": "red",
              "fillOpacity": 1,
              "opacity": 1,
              "stroke": true,
              "weight": 2
            },
            "subitems": [],
            "visible": true
          }
        },
        "fb6adfa55b744448848e9ca8525b65aa": {
          "model_module": "@jupyter-widgets/controls",
          "model_module_version": "1.5.0",
          "model_name": "ButtonStyleModel",
          "state": {
            "_model_module": "@jupyter-widgets/controls",
            "_model_module_version": "1.5.0",
            "_model_name": "ButtonStyleModel",
            "_view_count": null,
            "_view_module": "@jupyter-widgets/base",
            "_view_module_version": "1.2.0",
            "_view_name": "StyleView",
            "button_color": null,
            "font_weight": ""
          }
        },
        "fcf5b72ace524f728f94920148a9cd25": {
          "model_module": "@jupyter-widgets/base",
          "model_module_version": "1.2.0",
          "model_name": "LayoutModel",
          "state": {
            "_model_module": "@jupyter-widgets/base",
            "_model_module_version": "1.2.0",
            "_model_name": "LayoutModel",
            "_view_count": null,
            "_view_module": "@jupyter-widgets/base",
            "_view_module_version": "1.2.0",
            "_view_name": "LayoutView",
            "align_content": null,
            "align_items": null,
            "align_self": null,
            "border": null,
            "bottom": null,
            "display": null,
            "flex": null,
            "flex_flow": null,
            "grid_area": null,
            "grid_auto_columns": null,
            "grid_auto_flow": null,
            "grid_auto_rows": null,
            "grid_column": null,
            "grid_gap": null,
            "grid_row": null,
            "grid_template_areas": null,
            "grid_template_columns": null,
            "grid_template_rows": null,
            "height": "25px",
            "justify_content": null,
            "justify_items": null,
            "left": null,
            "margin": null,
            "max_height": null,
            "max_width": null,
            "min_height": null,
            "min_width": null,
            "object_fit": null,
            "object_position": null,
            "order": null,
            "overflow": null,
            "overflow_x": null,
            "overflow_y": null,
            "padding": "0px",
            "right": null,
            "top": null,
            "visibility": null,
            "width": "25px"
          }
        },
        "fd6312a8ad1b4ca39a795003c873a991": {
          "model_module": "@jupyter-widgets/controls",
          "model_module_version": "1.5.0",
          "model_name": "SliderStyleModel",
          "state": {
            "_model_module": "@jupyter-widgets/controls",
            "_model_module_version": "1.5.0",
            "_model_name": "SliderStyleModel",
            "_view_count": null,
            "_view_module": "@jupyter-widgets/base",
            "_view_module_version": "1.2.0",
            "_view_name": "StyleView",
            "description_width": "",
            "handle_color": null
          }
        },
        "fd74dad69a414161827170dab97e3c6c": {
          "model_module": "@jupyter-widgets/base",
          "model_module_version": "1.2.0",
          "model_name": "LayoutModel",
          "state": {
            "_model_module": "@jupyter-widgets/base",
            "_model_module_version": "1.2.0",
            "_model_name": "LayoutModel",
            "_view_count": null,
            "_view_module": "@jupyter-widgets/base",
            "_view_module_version": "1.2.0",
            "_view_name": "LayoutView",
            "align_content": null,
            "align_items": null,
            "align_self": null,
            "border": null,
            "bottom": null,
            "display": null,
            "flex": null,
            "flex_flow": null,
            "grid_area": null,
            "grid_auto_columns": null,
            "grid_auto_flow": null,
            "grid_auto_rows": null,
            "grid_column": null,
            "grid_gap": null,
            "grid_row": null,
            "grid_template_areas": null,
            "grid_template_columns": null,
            "grid_template_rows": null,
            "height": "25px",
            "justify_content": null,
            "justify_items": null,
            "left": null,
            "margin": null,
            "max_height": null,
            "max_width": null,
            "min_height": null,
            "min_width": null,
            "object_fit": null,
            "object_position": null,
            "order": null,
            "overflow": null,
            "overflow_x": null,
            "overflow_y": null,
            "padding": "0px",
            "right": null,
            "top": null,
            "visibility": null,
            "width": "25px"
          }
        }
      }
    }
  },
  "nbformat": 4,
  "nbformat_minor": 0
}
