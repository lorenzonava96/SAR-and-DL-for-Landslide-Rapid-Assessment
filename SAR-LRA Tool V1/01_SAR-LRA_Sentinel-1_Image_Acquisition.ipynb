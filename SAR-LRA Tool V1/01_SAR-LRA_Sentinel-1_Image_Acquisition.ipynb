{
 "cells": [
  {
   "cell_type": "markdown",
   "metadata": {},
   "source": [
    "# SAR-LRA VV_VH Sentinel-1 Image Acquisition\n",
    "\n",
    "This notebook facilitates the acquisition of Sentinel-1 SAR composite imagery for the VV_VH combination, encompassing both ascending and descending orbits, which can then be utilized to deploy the models."
   ]
  },
  {
   "cell_type": "code",
   "execution_count": null,
   "metadata": {},
   "outputs": [],
   "source": [
    "from datetime import timedelta\n",
    "import datetime\n",
    "import leafmap          # Version 0.22.0\n",
    "import geemap           # Version 0.24.1\n",
    "import ee               # Version 0.1.358\n",
    "from glob import glob\n",
    "import numpy as np      # Version 1.25.0\n",
    "import pandas as pd     # Version 2.0.3\n",
    "import os\n",
    "\n",
    "# Print versions\n",
    "print(\"leafmap:\", leafmap.__version__)\n",
    "print(\"geemap:\", geemap.__version__)\n",
    "print(\"Earth Engine API:\", ee.__version__)\n",
    "print(\"numpy:\", np.__version__)\n",
    "print(\"pandas:\", pd.__version__)"
   ]
  },
  {
   "cell_type": "markdown",
   "metadata": {},
   "source": [
    "## 2. Autenticate and initialize the Google Earth Engine"
   ]
  },
  {
   "cell_type": "code",
   "execution_count": null,
   "metadata": {},
   "outputs": [],
   "source": [
    "ee.Authenticate()\n",
    "ee.Initialize()"
   ]
  },
  {
   "cell_type": "markdown",
   "metadata": {},
   "source": [
    "## 3. Define the Area of Interest"
   ]
  },
  {
   "cell_type": "code",
   "execution_count": null,
   "metadata": {
    "scrolled": true
   },
   "outputs": [],
   "source": [
    "Map = geemap.Map()\n",
    "Map"
   ]
  },
  {
   "cell_type": "code",
   "execution_count": null,
   "metadata": {},
   "outputs": [],
   "source": [
    "# Convert the drawn geometry to an Earth Engine Geometry object\n",
    "geometry = ee.FeatureCollection(Map.draw_features)"
   ]
  },
  {
   "cell_type": "markdown",
   "metadata": {},
   "source": [
    "## 4. Define temporal buffers and temporal stacks\n",
    "The following dates are for the Sumatra earthquake on the 25th of February 2022. Change the dates according to the MLE you want to deploy the model for.\n",
    "IMPORTANT: The landslide MUST be occurred in between the pre_end and post_start dates."
   ]
  },
  {
   "cell_type": "code",
   "execution_count": null,
   "metadata": {},
   "outputs": [],
   "source": [
    "pre_end = '2022-02-24'\n",
    "post_start = '2022-02-26'"
   ]
  },
  {
   "cell_type": "code",
   "execution_count": null,
   "metadata": {},
   "outputs": [],
   "source": [
    "### UNCOMMENT THIS TO DEFINE GEOMETRY FOR THE SUMATRA EVENT\n",
    "\n",
    "# box_coordinates = [[[99.94266597516373, 0.030462907217759412],\n",
    "#   [100.06812893845004, 0.030462907217759412],\n",
    "#   [100.06812893845004, 0.14389902329445198],\n",
    "#   [99.94266597516373, 0.14389902329445198],\n",
    "#   [99.94266597516373, 0.030462907217759412]]]\n",
    "\n",
    "# geometry = ee.Geometry.Polygon(box_coordinates)"
   ]
  },
  {
   "cell_type": "markdown",
   "metadata": {},
   "source": [
    "## 5. Process and Download Sentinel-1 SAR composite images\n",
    "In certain areas where VH polarization data is unavailable, the notebook may encounter errors as it is designed to download both VV and VH data. The same applies to the ascending and descending orbits."
   ]
  },
  {
   "cell_type": "code",
   "execution_count": null,
   "metadata": {
    "scrolled": true
   },
   "outputs": [],
   "source": [
    "print('SENTINEL 1 SAR IMAGE PROCESSING AND ACQUISITION !')\n",
    "print('_____________________________________________________________________________________')\n",
    "\n",
    "orbits = ['ASCENDING', 'DESCENDING'] # Orbits to download\n",
    "pre_days = 60 # pre event stack dimensions \n",
    "post_days = 12 # pre event stack dimensions \n",
    "\n",
    "# Define date ranges\n",
    "pre_end = datetime.datetime.strptime(pre_end, \"%Y-%m-%d\")\n",
    "pre_start = pre_end - datetime.timedelta(days=pre_days)\n",
    "print('Pre stack start:', pre_start)\n",
    "print('Pre stack end:',pre_end)\n",
    "pre_end = ee.Date(pre_end)\n",
    "pre_start = ee.Date(pre_start)\n",
    "\n",
    "post_start = datetime.datetime.strptime(post_start, \"%Y-%m-%d\")\n",
    "post_end = post_start + datetime.timedelta(days=post_days)\n",
    "print('Post stack start:',post_start)\n",
    "print('Post stack end:',post_end)\n",
    "post_start = ee.Date(post_start)\n",
    "post_end = ee.Date(post_end)\n",
    "\n",
    "for orbit in orbits:\n",
    "    print('Orbit: ', orbit)\n",
    "    project_path = ''\n",
    "    inputs_path = os.path.join(*[project_path, f'deploy/VV_VH/60_{post_days}'])\n",
    "    outputs_path = os.path.join(*[project_path, 'outputs'])\n",
    "    print('project_path: ', project_path); print('training_path: ', inputs_path); print('outputs_path: ', outputs_path)\n",
    "    \n",
    "    print('_____________________________________________________________________________________')\n",
    "\n",
    "    # Make Image Collections\n",
    "    pre_data = ee.ImageCollection('COPERNICUS/S1_GRD') \\\n",
    "        .filterBounds(geometry) \\\n",
    "        .filter(ee.Filter.listContains('transmitterReceiverPolarisation', 'VV')) \\\n",
    "        .filter(ee.Filter.eq('instrumentMode', 'IW')) \\\n",
    "        .filter(ee.Filter.eq('orbitProperties_pass', orbit)) \\\n",
    "        .filterDate(pre_start, pre_end)\n",
    "\n",
    "    pre_count = pre_data.size().getInfo()\n",
    "    print('Pre image count:', pre_count)\n",
    "\n",
    "    # Get a list of images in the collection\n",
    "    pre_list = pre_data.toList(pre_count)\n",
    "\n",
    "    # Iterate through each image in the collection\n",
    "    for i in range(pre_count):\n",
    "        image = ee.Image(pre_list.get(i))\n",
    "        image_id = image.id().getInfo()\n",
    "        date = ee.Date(image.get('system:time_start')).format('YYYY-MM-dd').getInfo()\n",
    "        print('Image ID:', image_id, ' Date:', date)\n",
    "\n",
    "    post_data = ee.ImageCollection('COPERNICUS/S1_GRD') \\\n",
    "        .filterBounds(geometry) \\\n",
    "        .filter(ee.Filter.listContains('transmitterReceiverPolarisation', 'VV')) \\\n",
    "        .filter(ee.Filter.eq('instrumentMode', 'IW')) \\\n",
    "        .filter(ee.Filter.eq('orbitProperties_pass', orbit)) \\\n",
    "        .filterDate(post_start, post_end)\n",
    "\n",
    "    post_count = post_data.size().getInfo()\n",
    "    print('Post image count:', post_count)\n",
    "\n",
    "    # Get a list of images in the collection\n",
    "    post_list = post_data.toList(post_count)\n",
    "\n",
    "    # Iterate through each image in the collection\n",
    "    for i in range(post_count):\n",
    "        image = ee.Image(post_list.get(i))\n",
    "        image_id = image.id().getInfo()\n",
    "        date = ee.Date(image.get('system:time_start')).format('YYYY-MM-dd').getInfo()\n",
    "        print('Image ID:', image_id, ' Date:', date)\n",
    "\n",
    "    ### VV ###\n",
    "    pre_corrected_masked_VV = pre_data.select('VV') # Select VV polarization\n",
    "    pre_median_VV = pre_corrected_masked_VV.reduce(ee.Reducer.median())  # Calculate median\n",
    "    pre_median_VV = pre_median_VV.select(0).rename('preVV')  # Rename bands\n",
    "\n",
    "\n",
    "    post_corrected_masked_VV = post_data.select('VV')  # Select VV polarization\n",
    "    post_median_VV = post_corrected_masked_VV.reduce(ee.Reducer.median())  # Calculate median\n",
    "    post_median_VV = post_median_VV.select(0).rename('postVV')  # Rename bands\n",
    "\n",
    "    diff_VV = post_median_VV.subtract(pre_median_VV).rename('diffVV') # Change detection (post event - pre event)\n",
    "\n",
    "     ### VH ###\n",
    "    pre_corrected_masked_VH = pre_data.select('VH')   # Select VV polarization\n",
    "    pre_median_VH = pre_corrected_masked_VH.reduce(ee.Reducer.median())  # Calculate median\n",
    "    pre_median_VH = pre_median_VH.select(0).rename('preVH')  # Rename bands\n",
    "\n",
    "\n",
    "    post_corrected_masked_VH = post_data.select('VH')  # Select VV polarization\n",
    "    post_median_VH = post_corrected_masked_VH.reduce(ee.Reducer.median())  # Calculate median\n",
    "    post_median_VH = post_median_VH.select(0).rename('postVH')  # Rename bands\n",
    "\n",
    "    diff_VH = post_median_VH.subtract(pre_median_VH).rename('diffVH') # Change detection (post event - pre event)\n",
    "\n",
    "    DS = post_median_VV.addBands(post_median_VH).addBands(diff_VV).addBands(diff_VH) # Create composite SAR image\n",
    "    DS = DS.clip(geometry) # Clip composite SAR image to Area of Interest\n",
    "    \n",
    "    ### GEE does not allow big downloads - therefore we dowload grid by grid, and re-merge afterwards.\n",
    "\n",
    "    # create fishnet (sample grid)\n",
    "    fishnet = geemap.fishnet(geometry, h_interval=0.5, v_interval=0.5, delta=1)\n",
    "\n",
    "    # download composite tiles\n",
    "    geemap.download_ee_image_tiles(DS, fishnet, inputs_path+'/'+'/VV_VH_'+orbit+'/', prefix=\"VV_VH_\"+orbit+'_'+'_', scale=10, crs=ee.Projection('EPSG:4326'))\n",
    "\n",
    "    # merge tiles and save\n",
    "    leafmap.merge_rasters(inputs_path+'/'+'/VV_VH_'+orbit, output=inputs_path+'/'+'/SAR_'+orbit+'_'+'.tif', input_pattern='*.tif')\n",
    "\n",
    "    # delete useless rasters inside folders\n",
    "    s2s = glob(inputs_path+'/'+'/VV_VH_'+orbit+'/*.tif')\n",
    "\n",
    "    for s2_file in s2s:\n",
    "        os.remove(s2_file)\n",
    "    os.rmdir(inputs_path+'/'+'/VV_VH_'+orbit)\n",
    "\n",
    "print('DONE !!!')"
   ]
  },
  {
   "cell_type": "markdown",
   "metadata": {},
   "source": [
    "### 6. Display the last downloaded Sentinel-1 Composite Image\n"
   ]
  },
  {
   "cell_type": "code",
   "execution_count": null,
   "metadata": {},
   "outputs": [],
   "source": [
    "Map.close()\n",
    "Map = geemap.Map()\n",
    "Map.addLayer(DS, {'bands': ['postVV'], 'min': [-28], 'max': [4], 'gamma': 0.65}, 'postVV', False)\n",
    "Map.addLayer(DS, {'bands': ['postVH'], 'min': [-28], 'max': [4], 'gamma': 0.65}, 'postVH', False)\n",
    "Map.addLayer(DS, {'bands': ['diffVV'], 'min': [-28], 'max': [4], 'gamma': 0.65}, 'diffVV', True)\n",
    "Map.addLayer(DS, {'bands': ['diffVH'], 'min': [-28], 'max': [4], 'gamma': 0.65}, 'diffVH', False)\n",
    "\n",
    "Map.centerObject(geometry)\n",
    "\n",
    "Map"
   ]
  }
 ],
 "metadata": {
  "kernelspec": {
   "display_name": "Python 3 (ipykernel)",
   "language": "python",
   "name": "python3"
  },
  "language_info": {
   "codemirror_mode": {
    "name": "ipython",
    "version": 3
   },
   "file_extension": ".py",
   "mimetype": "text/x-python",
   "name": "python",
   "nbconvert_exporter": "python",
   "pygments_lexer": "ipython3",
   "version": "3.9.16"
  }
 },
 "nbformat": 4,
 "nbformat_minor": 4
}
